{
 "cells": [
  {
   "cell_type": "code",
   "execution_count": null,
   "id": "dbd0dc7d-1dfb-4026-9a13-52933cb41e9f",
   "metadata": {
    "scrolled": true
   },
   "outputs": [],
   "source": [
    "%pip install accelerate"
   ]
  },
  {
   "cell_type": "code",
   "execution_count": null,
   "id": "fdb042dc-61f3-446e-8a9d-a29c31c870e4",
   "metadata": {
    "scrolled": true
   },
   "outputs": [],
   "source": [
    "%pip install transformers"
   ]
  },
  {
   "cell_type": "code",
   "execution_count": null,
   "id": "ccef15d3-808b-48bd-b772-ab14c3cdfe41",
   "metadata": {},
   "outputs": [],
   "source": [
    "%pip install pandas"
   ]
  },
  {
   "cell_type": "code",
   "execution_count": null,
   "id": "edd3a231-a3f0-4ce1-99d8-852f8246f762",
   "metadata": {},
   "outputs": [],
   "source": [
    "%pip install matplotlib.pyplot"
   ]
  },
  {
   "cell_type": "code",
   "execution_count": null,
   "id": "66c75b64-da41-4b12-8b73-2021c24ace54",
   "metadata": {},
   "outputs": [],
   "source": [
    "%pip install numpy"
   ]
  },
  {
   "cell_type": "code",
   "execution_count": null,
   "id": "0be384bf-41df-4e57-a535-debc7a7ca799",
   "metadata": {},
   "outputs": [],
   "source": [
    "%pip install torch"
   ]
  },
  {
   "cell_type": "code",
   "execution_count": null,
   "id": "2401a0c6-7aeb-41b1-b7dd-52c33ef4f217",
   "metadata": {},
   "outputs": [],
   "source": [
    "%pip install numpy scipy scikit-learn"
   ]
  },
  {
   "cell_type": "code",
   "execution_count": 76,
   "id": "80760f30-92a9-413a-bbe1-f82de12a97ef",
   "metadata": {},
   "outputs": [],
   "source": [
    "from sklearn.metrics import f1_score"
   ]
  },
  {
   "cell_type": "code",
   "execution_count": 8,
   "id": "4fdc74af-9ed9-495f-bab0-0da7cecf6e22",
   "metadata": {},
   "outputs": [
    {
     "name": "stdout",
     "output_type": "stream",
     "text": [
      "Note: you may need to restart the kernel to use updated packages.\n"
     ]
    }
   ],
   "source": [
    "%pip install -q evaluate"
   ]
  },
  {
   "cell_type": "code",
   "execution_count": 9,
   "id": "c7ab98f1-0094-4b12-bda3-5f3ebc8e0ae7",
   "metadata": {},
   "outputs": [],
   "source": [
    "import torch\n",
    "import torch.nn as nn\n",
    "import torch.optim as optim\n",
    "import accelerate\n",
    "import transformers as trfm\n",
    "from transformers import AutoModelForSequenceClassification, AutoTokenizer\n",
    "from transformers import Trainer, TrainingArguments\n",
    "from torch.utils.data import Dataset, DataLoader\n",
    "from sklearn.model_selection import train_test_split\n",
    "import matplotlib.pyplot as plt\n",
    "import pandas as pd"
   ]
  },
  {
   "cell_type": "code",
   "execution_count": 10,
   "id": "2f10df11-670b-4d3e-a4a2-cc7f26b1778d",
   "metadata": {},
   "outputs": [
    {
     "name": "stderr",
     "output_type": "stream",
     "text": [
      "Some weights of RobertaForSequenceClassification were not initialized from the model checkpoint at distilroberta-base and are newly initialized: ['classifier.dense.bias', 'classifier.out_proj.bias', 'classifier.dense.weight', 'classifier.out_proj.weight']\n",
      "You should probably TRAIN this model on a down-stream task to be able to use it for predictions and inference.\n"
     ]
    }
   ],
   "source": [
    "tokenizer = AutoTokenizer.from_pretrained('distilroberta-base')\n",
    "model = AutoModelForSequenceClassification.from_pretrained('distilroberta-base')"
   ]
  },
  {
   "cell_type": "code",
   "execution_count": 11,
   "id": "1a9a9d56-bdf5-48be-831a-07a3a7611ef6",
   "metadata": {},
   "outputs": [],
   "source": [
    "from datasets import Dataset"
   ]
  },
  {
   "cell_type": "code",
   "execution_count": 12,
   "id": "a0b83c5f-2c44-44e8-8467-3c17f8216b62",
   "metadata": {},
   "outputs": [],
   "source": [
    "dfa = pd.read_csv('NLP3/dfa.csv')"
   ]
  },
  {
   "cell_type": "code",
   "execution_count": 13,
   "id": "fc78eac2-a8be-40b0-a1bf-0e69ca966073",
   "metadata": {},
   "outputs": [
    {
     "data": {
      "text/plain": [
       "10042"
      ]
     },
     "execution_count": 13,
     "metadata": {},
     "output_type": "execute_result"
    }
   ],
   "source": [
    "dfa.size"
   ]
  },
  {
   "cell_type": "code",
   "execution_count": 14,
   "id": "37dbdd8e-f0ef-49c4-a959-1e0feca26369",
   "metadata": {},
   "outputs": [],
   "source": [
    "train, test = train_test_split(dfa, shuffle=True,  random_state=34)"
   ]
  },
  {
   "cell_type": "code",
   "execution_count": 15,
   "id": "23a18e7c-747c-4aca-a2fa-e9ee0364cc30",
   "metadata": {},
   "outputs": [],
   "source": [
    "data_dict = train.to_dict(orient='list')\n",
    "datatrain = Dataset.from_dict(data_dict)"
   ]
  },
  {
   "cell_type": "code",
   "execution_count": 16,
   "id": "6922aaf4-923a-4e77-8f82-fe7aa4a9a7d6",
   "metadata": {},
   "outputs": [
    {
     "name": "stdout",
     "output_type": "stream",
     "text": [
      "{'label': [1, 0, 0, 0, 0, 1, 0, 0, 0, 0], 'sms': ['Bored housewives! Old world chat n date immediately! 0871750. 77. 11! BT - internal rate 10p / fukkianese just from land line!', 'Moji i love you more than words. Have a rich day\\n', \"Sorry, I'll call later In meeting.\\n\", 'Oh... Lk tt den we take e one tt ends at cine lor... Dun wan yogasana oso can... \\n', 'Gettin rdy to ship comp\\n', 'URGENT! We are trying to contact U. Todays draw shows that you have won a £2000 prize GUARANTEED. Call 09066358361 from land line. Claim Y87. Valid 12hrs only\\n', 'I am in bus on the way to calicut\\n', 'S da..al r above  &lt;#&gt;\\n', \"I'll text carlos and let you know, hang on\\n\", 'Only just got this message, not ignoring you. Yes, i was. Shopping that is\\n']}\n"
     ]
    }
   ],
   "source": [
    "d_dict = test.to_dict(orient='list')\n",
    "datatest = Dataset.from_dict(d_dict)\n",
    "print(datatest[:10])"
   ]
  },
  {
   "cell_type": "code",
   "execution_count": 41,
   "id": "15a6e2bb-f2e2-485a-861e-64cc6e89427a",
   "metadata": {},
   "outputs": [
    {
     "data": {
      "application/vnd.jupyter.widget-view+json": {
       "model_id": "289a775c3e9a4124964c591293e43439",
       "version_major": 2,
       "version_minor": 0
      },
      "text/plain": [
       "Map:   0%|          | 0/3765 [00:00<?, ? examples/s]"
      ]
     },
     "metadata": {},
     "output_type": "display_data"
    },
    {
     "data": {
      "application/vnd.jupyter.widget-view+json": {
       "model_id": "29c5a84dbc3c46d88fd25bcef0483309",
       "version_major": 2,
       "version_minor": 0
      },
      "text/plain": [
       "Map:   0%|          | 0/1256 [00:00<?, ? examples/s]"
      ]
     },
     "metadata": {},
     "output_type": "display_data"
    },
    {
     "data": {
      "text/plain": [
       "Dataset({\n",
       "    features: ['label', 'sms', 'input_ids', 'attention_mask'],\n",
       "    num_rows: 1256\n",
       "})"
      ]
     },
     "execution_count": 41,
     "metadata": {},
     "output_type": "execute_result"
    }
   ],
   "source": [
    "def tokenize_function(examples):\n",
    "    return tokenizer(examples['sms'], padding='max_length', truncation=True, max_length = 512)\n",
    "train = datatrain.map(tokenize_function, batched=True)\n",
    "train\n",
    "test = datatest.map(tokenize_function, batched=True)\n",
    "test"
   ]
  },
  {
   "cell_type": "code",
   "execution_count": 42,
   "id": "5c8701d0-b7dd-4070-82d1-d7f2e5ebe02a",
   "metadata": {},
   "outputs": [],
   "source": [
    "train = train.rename_column('label', 'labels')"
   ]
  },
  {
   "cell_type": "code",
   "execution_count": 43,
   "id": "2d8949ec-a207-4a27-83b2-a157dcfec3f2",
   "metadata": {},
   "outputs": [
    {
     "data": {
      "text/plain": [
       "tensor([0, 1, 0,  ..., 0, 0, 1])"
      ]
     },
     "execution_count": 43,
     "metadata": {},
     "output_type": "execute_result"
    }
   ],
   "source": [
    "torch.tensor(train['labels'])"
   ]
  },
  {
   "cell_type": "code",
   "execution_count": 44,
   "id": "1b8b2a6c-8b65-41e5-873a-b90d1f832b4f",
   "metadata": {},
   "outputs": [],
   "source": [
    "test = test.rename_column('label', 'labels')"
   ]
  },
  {
   "cell_type": "code",
   "execution_count": 45,
   "id": "46046d01-8b9f-4e58-bb80-74928de81cf3",
   "metadata": {},
   "outputs": [
    {
     "data": {
      "text/plain": [
       "tensor([1, 0, 0,  ..., 0, 0, 0])"
      ]
     },
     "execution_count": 45,
     "metadata": {},
     "output_type": "execute_result"
    }
   ],
   "source": [
    "torch.tensor(test['labels'])"
   ]
  },
  {
   "cell_type": "code",
   "execution_count": 46,
   "id": "99e3810f-e015-4023-a2ae-e511fb13da3d",
   "metadata": {},
   "outputs": [
    {
     "data": {
      "text/plain": [
       "tensor([0.2976, 0.7024])"
      ]
     },
     "execution_count": 46,
     "metadata": {},
     "output_type": "execute_result"
    }
   ],
   "source": [
    "class_weights = torch.tensor(1 - (dfa[\"label\"].value_counts().sort_index() / len(dfa))).float()\n",
    "class_weights"
   ]
  },
  {
   "cell_type": "code",
   "execution_count": 47,
   "id": "d35fb97c-8edc-4e82-9939-e45d4b042e69",
   "metadata": {},
   "outputs": [
    {
     "data": {
      "text/plain": [
       "Dataset({\n",
       "    features: ['labels', 'sms', 'input_ids', 'attention_mask'],\n",
       "    num_rows: 3765\n",
       "})"
      ]
     },
     "execution_count": 47,
     "metadata": {},
     "output_type": "execute_result"
    }
   ],
   "source": [
    "train"
   ]
  },
  {
   "cell_type": "code",
   "execution_count": 48,
   "id": "b48543e8-b479-4539-967b-fc87711b2d6a",
   "metadata": {},
   "outputs": [],
   "source": [
    "test_outputs = test['labels']\n",
    "test_inputs = test.data.drop(columns=['labels'])"
   ]
  },
  {
   "cell_type": "code",
   "execution_count": 22,
   "id": "91111d4e-e205-42d3-8c14-72704e5019d1",
   "metadata": {},
   "outputs": [],
   "source": [
    "class Trainer(Trainer):\n",
    "  def compute_loss(self, model, inputs, return_outputs=False):\n",
    "    outputs = model(**inputs)\n",
    "    logits = outputs.get(\"logits\")\n",
    "    labels = inputs.get (\"labels\")\n",
    "    loss_func = nn.CrossEntropyLoss(class_weights)\n",
    "    loss = loss_func(logits, labels)\n",
    "    return (loss, outputs) if return_outputs else loss"
   ]
  },
  {
   "cell_type": "code",
   "execution_count": 79,
   "id": "3311bb1c-f773-46f0-b19e-a199de7045ac",
   "metadata": {},
   "outputs": [],
   "source": [
    "# from skilearn.metrix import f1_score\n",
    "import numpy as np\n",
    "# metric = evaluate.load(\"f1\")\n",
    "\n",
    "def compute_metrics(pred):\n",
    "    labels = pred.label_ids\n",
    "    preds = pred.predictions.argmax(-1)\n",
    "    f1 = f1_score(labels, preds)\n",
    "    return {'f1': f1}"
   ]
  },
  {
   "cell_type": "code",
   "execution_count": 24,
   "id": "74c2652d-a710-4288-9518-8a0811f7c9ca",
   "metadata": {},
   "outputs": [],
   "source": [
    "output_dir = \"outputs\"\n",
    "training_args = TrainingArguments(output_dir=output_dir\n",
    ")"
   ]
  },
  {
   "cell_type": "code",
   "execution_count": 25,
   "id": "d421580f-7d0a-4191-a50e-4e63cda11f21",
   "metadata": {},
   "outputs": [],
   "source": [
    "trainer = Trainer(\n",
    "    model=model,\n",
    "    args=training_args,\n",
    "    train_dataset=train,\n",
    "    # eval_dataset=test\n",
    ")"
   ]
  },
  {
   "cell_type": "code",
   "execution_count": 26,
   "id": "c11bff57-44a3-417b-b8b3-cd166d1950af",
   "metadata": {},
   "outputs": [
    {
     "data": {
      "text/html": [
       "\n",
       "    <div>\n",
       "      \n",
       "      <progress value='1413' max='1413' style='width:300px; height:20px; vertical-align: middle;'></progress>\n",
       "      [1413/1413 8:19:28, Epoch 3/3]\n",
       "    </div>\n",
       "    <table border=\"1\" class=\"dataframe\">\n",
       "  <thead>\n",
       " <tr style=\"text-align: left;\">\n",
       "      <th>Step</th>\n",
       "      <th>Training Loss</th>\n",
       "    </tr>\n",
       "  </thead>\n",
       "  <tbody>\n",
       "    <tr>\n",
       "      <td>500</td>\n",
       "      <td>0.131100</td>\n",
       "    </tr>\n",
       "    <tr>\n",
       "      <td>1000</td>\n",
       "      <td>0.031900</td>\n",
       "    </tr>\n",
       "  </tbody>\n",
       "</table><p>"
      ],
      "text/plain": [
       "<IPython.core.display.HTML object>"
      ]
     },
     "metadata": {},
     "output_type": "display_data"
    },
    {
     "data": {
      "text/plain": [
       "TrainOutput(global_step=1413, training_loss=0.0585005429309054, metrics={'train_runtime': 29997.6364, 'train_samples_per_second': 0.377, 'train_steps_per_second': 0.047, 'total_flos': 1496219267819520.0, 'train_loss': 0.0585005429309054, 'epoch': 3.0})"
      ]
     },
     "execution_count": 26,
     "metadata": {},
     "output_type": "execute_result"
    }
   ],
   "source": [
    "trainer.train()"
   ]
  },
  {
   "cell_type": "code",
   "execution_count": 116,
   "id": "f1fae0bc-aec5-4bcb-87df-ab425b859690",
   "metadata": {},
   "outputs": [
    {
     "data": {
      "text/html": [],
      "text/plain": [
       "<IPython.core.display.HTML object>"
      ]
     },
     "metadata": {},
     "output_type": "display_data"
    }
   ],
   "source": [
    "pred = trainer.predict(test)"
   ]
  },
  {
   "cell_type": "code",
   "execution_count": 117,
   "id": "032fdf50-8cb3-4d6c-a69d-69cdeb97de43",
   "metadata": {},
   "outputs": [
    {
     "data": {
      "text/plain": [
       "PredictionOutput(predictions=array([[-5.1329694,  5.4082756],\n",
       "       [ 5.149126 , -5.178597 ],\n",
       "       [ 5.1462445, -5.1613593],\n",
       "       ...,\n",
       "       [ 5.147734 , -5.1762652],\n",
       "       [ 5.15749  , -5.1746306],\n",
       "       [ 5.1480155, -5.160688 ]], dtype=float32), label_ids=array([1, 0, 0, ..., 0, 0, 0]), metrics={'test_loss': 0.0443299300968647, 'test_runtime': 1007.6626, 'test_samples_per_second': 1.246, 'test_steps_per_second': 0.156})"
      ]
     },
     "execution_count": 117,
     "metadata": {},
     "output_type": "execute_result"
    }
   ],
   "source": [
    "pred"
   ]
  },
  {
   "cell_type": "code",
   "execution_count": 83,
   "id": "01b93eff-4084-42f3-91fc-1906756fe69e",
   "metadata": {},
   "outputs": [],
   "source": [
    "from sklearn.metrics import classification_report"
   ]
  },
  {
   "cell_type": "code",
   "execution_count": 118,
   "id": "73a59050-41b0-45c9-bed0-dfacd9043cdb",
   "metadata": {},
   "outputs": [],
   "source": [
    "classification_report_trans = classification_report(test['labels'], np.argmax(pred.predictions, axis=-1))"
   ]
  },
  {
   "cell_type": "code",
   "execution_count": 119,
   "id": "93d2e2c5-b5e0-41a5-afd5-79dbd52bebc0",
   "metadata": {},
   "outputs": [
    {
     "name": "stdout",
     "output_type": "stream",
     "text": [
      "              precision    recall  f1-score   support\n",
      "\n",
      "           0       1.00      0.99      0.99       879\n",
      "           1       0.99      0.99      0.99       377\n",
      "\n",
      "    accuracy                           0.99      1256\n",
      "   macro avg       0.99      0.99      0.99      1256\n",
      "weighted avg       0.99      0.99      0.99      1256\n",
      "\n"
     ]
    }
   ],
   "source": [
    "print(classification_report_trans)"
   ]
  },
  {
   "cell_type": "code",
   "execution_count": 120,
   "id": "df116e7c-59b4-419a-b2ed-d4c65283ab53",
   "metadata": {},
   "outputs": [
    {
     "data": {
      "text/plain": [
       "{'f1': 0.9880794701986755}"
      ]
     },
     "execution_count": 120,
     "metadata": {},
     "output_type": "execute_result"
    }
   ],
   "source": [
    "compute_metrics(pred)"
   ]
  },
  {
   "cell_type": "code",
   "execution_count": 152,
   "id": "28b703e5-7940-4620-b973-b3f135ed411c",
   "metadata": {},
   "outputs": [
    {
     "data": {
      "text/plain": [
       "[{'label': 'LABEL_1', 'score': 0.9999212026596069}]"
      ]
     },
     "execution_count": 152,
     "metadata": {},
     "output_type": "execute_result"
    }
   ],
   "source": [
    "# pipeline = Pipeline(model=trainer, )\n",
    "# sample = \"thanks for all your answers guys i know i should have checked the rsync manual but i would rather ge...\"\n",
    "# sample = 'You’ve been selected to receive a free gift!'\n",
    "# sample = \"Congratulations! You've been selected for a free vacation. Click here to claim your prize and enjoy a luxury getaway to a tropical paradise. Don't miss out!\"\n",
    "# sample = \"Hello [Your Name], we're excited to inform you that you've won a complimentary vacation package to a beautiful destination. Click the link to redeem your prize and start planning your dream getaway. We can't wait for you to experience the luxury and relaxation of this amazing trip!\"\n",
    "# pipe(\"You’ve been selected to receive a free gift!\")\n",
    "# a = \"You’ve been selected to receive a free gift!\"\n",
    "from transformers import TextClassificationPipeline\n",
    "pipe = TextClassificationPipeline(model=model, tokenizer=tokenizer)\n",
    "input_text = 'You’ve been selected to receive a free gift!'\n",
    "pipe(input_text)"
   ]
  },
  {
   "cell_type": "code",
   "execution_count": null,
   "id": "dea936e0-bee3-4864-a116-6eac08f70b72",
   "metadata": {},
   "outputs": [],
   "source": []
  }
 ],
 "metadata": {
  "kernelspec": {
   "display_name": "Python 3 (ipykernel)",
   "language": "python",
   "name": "python3"
  },
  "language_info": {
   "codemirror_mode": {
    "name": "ipython",
    "version": 3
   },
   "file_extension": ".py",
   "mimetype": "text/x-python",
   "name": "python",
   "nbconvert_exporter": "python",
   "pygments_lexer": "ipython3",
   "version": "3.10.12"
  }
 },
 "nbformat": 4,
 "nbformat_minor": 5
}
