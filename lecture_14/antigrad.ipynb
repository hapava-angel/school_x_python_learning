{
 "cells": [
  {
   "cell_type": "code",
   "execution_count": 1,
   "metadata": {},
   "outputs": [
    {
     "name": "stdout",
     "output_type": "stream",
     "text": [
      "Collecting sympy\n",
      "  Downloading sympy-1.12-py3-none-any.whl (5.7 MB)\n",
      "     ---------------------------------------- 0.0/5.7 MB ? eta -:--:--\n",
      "     ---------------------------------------- 0.0/5.7 MB ? eta -:--:--\n",
      "     ---------------------------------------- 0.0/5.7 MB 325.1 kB/s eta 0:00:18\n",
      "     ---------------------------------------- 0.0/5.7 MB 325.1 kB/s eta 0:00:18\n",
      "     ---------------------------------------- 0.0/5.7 MB 325.1 kB/s eta 0:00:18\n",
      "     ---------------------------------------- 0.1/5.7 MB 280.5 kB/s eta 0:00:21\n",
      "     ---------------------------------------- 0.1/5.7 MB 280.5 kB/s eta 0:00:21\n",
      "     ---------------------------------------- 0.1/5.7 MB 280.5 kB/s eta 0:00:21\n",
      "     ---------------------------------------- 0.1/5.7 MB 280.5 kB/s eta 0:00:21\n",
      "     ---------------------------------------- 0.1/5.7 MB 280.5 kB/s eta 0:00:21\n",
      "     - -------------------------------------- 0.2/5.7 MB 436.8 kB/s eta 0:00:13\n",
      "     - -------------------------------------- 0.2/5.7 MB 450.6 kB/s eta 0:00:13\n",
      "     -- ------------------------------------- 0.3/5.7 MB 542.9 kB/s eta 0:00:11\n",
      "     -- ------------------------------------- 0.4/5.7 MB 689.6 kB/s eta 0:00:08\n",
      "     --- ------------------------------------ 0.5/5.7 MB 814.7 kB/s eta 0:00:07\n",
      "     ---- ----------------------------------- 0.7/5.7 MB 937.7 kB/s eta 0:00:06\n",
      "     ----- ---------------------------------- 0.7/5.7 MB 1.0 MB/s eta 0:00:05\n",
      "     ------ --------------------------------- 0.9/5.7 MB 1.1 MB/s eta 0:00:05\n",
      "     ------- -------------------------------- 1.0/5.7 MB 1.2 MB/s eta 0:00:04\n",
      "     -------- ------------------------------- 1.2/5.7 MB 1.4 MB/s eta 0:00:04\n",
      "     --------- ------------------------------ 1.4/5.7 MB 1.5 MB/s eta 0:00:03\n",
      "     ---------- ----------------------------- 1.5/5.7 MB 1.6 MB/s eta 0:00:03\n",
      "     ----------- ---------------------------- 1.7/5.7 MB 1.7 MB/s eta 0:00:03\n",
      "     ------------- -------------------------- 1.9/5.7 MB 1.8 MB/s eta 0:00:03\n",
      "     -------------- ------------------------- 2.1/5.7 MB 1.9 MB/s eta 0:00:02\n",
      "     --------------- ------------------------ 2.3/5.7 MB 1.9 MB/s eta 0:00:02\n",
      "     ----------------- ---------------------- 2.5/5.7 MB 2.1 MB/s eta 0:00:02\n",
      "     ------------------ --------------------- 2.7/5.7 MB 2.1 MB/s eta 0:00:02\n",
      "     -------------------- ------------------- 2.9/5.7 MB 2.3 MB/s eta 0:00:02\n",
      "     --------------------- ------------------ 3.1/5.7 MB 2.3 MB/s eta 0:00:02\n",
      "     ----------------------- ---------------- 3.4/5.7 MB 2.4 MB/s eta 0:00:01\n",
      "     ------------------------- -------------- 3.6/5.7 MB 2.5 MB/s eta 0:00:01\n",
      "     ------------------------- -------------- 3.6/5.7 MB 2.5 MB/s eta 0:00:01\n",
      "     --------------------------- ------------ 4.0/5.7 MB 2.6 MB/s eta 0:00:01\n",
      "     ---------------------------- ----------- 4.1/5.7 MB 2.6 MB/s eta 0:00:01\n",
      "     ------------------------------ --------- 4.3/5.7 MB 2.7 MB/s eta 0:00:01\n",
      "     ------------------------------- -------- 4.5/5.7 MB 2.7 MB/s eta 0:00:01\n",
      "     -------------------------------- ------- 4.7/5.7 MB 2.7 MB/s eta 0:00:01\n",
      "     ---------------------------------- ----- 4.9/5.7 MB 2.8 MB/s eta 0:00:01\n",
      "     ----------------------------------- ---- 5.1/5.7 MB 2.8 MB/s eta 0:00:01\n",
      "     ------------------------------------ --- 5.3/5.7 MB 2.8 MB/s eta 0:00:01\n",
      "     ------------------------------------- -- 5.4/5.7 MB 2.9 MB/s eta 0:00:01\n",
      "     ---------------------------------------  5.7/5.7 MB 2.9 MB/s eta 0:00:01\n",
      "     ---------------------------------------  5.7/5.7 MB 2.9 MB/s eta 0:00:01\n",
      "     ---------------------------------------- 5.7/5.7 MB 2.8 MB/s eta 0:00:00\n",
      "Collecting mpmath>=0.19 (from sympy)\n",
      "  Downloading mpmath-1.3.0-py3-none-any.whl (536 kB)\n",
      "     ---------------------------------------- 0.0/536.2 kB ? eta -:--:--\n",
      "     --------------- ---------------------- 225.3/536.2 kB 6.9 MB/s eta 0:00:01\n",
      "     ------------------------------- ------ 440.3/536.2 kB 5.5 MB/s eta 0:00:01\n",
      "     -------------------------------------- 536.2/536.2 kB 4.2 MB/s eta 0:00:00\n",
      "Installing collected packages: mpmath, sympy\n",
      "Successfully installed mpmath-1.3.0 sympy-1.12\n",
      "Note: you may need to restart the kernel to use updated packages.\n"
     ]
    }
   ],
   "source": [
    "%pip install sympy"
   ]
  },
  {
   "cell_type": "code",
   "execution_count": 2,
   "metadata": {},
   "outputs": [],
   "source": [
    "import sympy as sp"
   ]
  },
  {
   "cell_type": "code",
   "execution_count": 3,
   "metadata": {},
   "outputs": [],
   "source": [
    "x = sp.symbols('x')"
   ]
  },
  {
   "cell_type": "code",
   "execution_count": 4,
   "metadata": {},
   "outputs": [
    {
     "data": {
      "text/latex": [
       "$\\displaystyle \\left(x - 10\\right)^{2}$"
      ],
      "text/plain": [
       "(x - 10)**2"
      ]
     },
     "execution_count": 4,
     "metadata": {},
     "output_type": "execute_result"
    }
   ],
   "source": [
    "equation = (x - 10)**2\n",
    "equation"
   ]
  },
  {
   "cell_type": "code",
   "execution_count": 5,
   "metadata": {},
   "outputs": [
    {
     "data": {
      "text/latex": [
       "$\\displaystyle 2 x - 20$"
      ],
      "text/plain": [
       "2*x - 20"
      ]
     },
     "execution_count": 5,
     "metadata": {},
     "output_type": "execute_result"
    }
   ],
   "source": [
    "sp.diff(equation)"
   ]
  },
  {
   "cell_type": "code",
   "execution_count": 2,
   "metadata": {},
   "outputs": [],
   "source": [
    "def antigrad(x):\n",
    "    return 2 * x - 20"
   ]
  },
  {
   "cell_type": "code",
   "execution_count": 3,
   "metadata": {},
   "outputs": [
    {
     "name": "stdout",
     "output_type": "stream",
     "text": [
      "x0 = 4.0\n",
      "x1 = 6.4\n",
      "x2 = 7.84\n",
      "x3 = 8.704\n",
      "x4 = 9.2224\n",
      "x5 = 9.53344\n",
      "x6 = 9.720064\n",
      "x7 = 9.8320384\n",
      "x8 = 9.89922304\n",
      "x9 = 9.939533824\n"
     ]
    },
    {
     "data": {
      "text/plain": [
       "9.939533824"
      ]
     },
     "execution_count": 3,
     "metadata": {},
     "output_type": "execute_result"
    }
   ],
   "source": [
    "x = 0\n",
    "lr = 0.2\n",
    "\n",
    "for i in range(10):\n",
    "    x = x - lr*antigrad(x)\n",
    "    print(f'x{i} = {x}')\n",
    "\n",
    "x"
   ]
  },
  {
   "cell_type": "code",
   "execution_count": 7,
   "metadata": {},
   "outputs": [],
   "source": [
    "\n",
    "def antigrad(x, lr):\n",
    "    for i in range(6):\n",
    "        y = 2*(x-10)\n",
    "        x = x - lr * y\n",
    "    return x\n"
   ]
  },
  {
   "cell_type": "code",
   "execution_count": 8,
   "metadata": {},
   "outputs": [
    {
     "data": {
      "text/plain": [
       "9.95904"
      ]
     },
     "execution_count": 8,
     "metadata": {},
     "output_type": "execute_result"
    }
   ],
   "source": [
    "antigrad(0,0.7)"
   ]
  }
 ],
 "metadata": {
  "kernelspec": {
   "display_name": "Python 3",
   "language": "python",
   "name": "python3"
  },
  "language_info": {
   "codemirror_mode": {
    "name": "ipython",
    "version": 3
   },
   "file_extension": ".py",
   "mimetype": "text/x-python",
   "name": "python",
   "nbconvert_exporter": "python",
   "pygments_lexer": "ipython3",
   "version": "3.11.6"
  }
 },
 "nbformat": 4,
 "nbformat_minor": 2
}
