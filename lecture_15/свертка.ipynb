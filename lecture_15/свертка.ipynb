{
 "cells": [
  {
   "cell_type": "code",
   "execution_count": 23,
   "metadata": {},
   "outputs": [],
   "source": [
    "import torch"
   ]
  },
  {
   "cell_type": "code",
   "execution_count": 22,
   "metadata": {},
   "outputs": [],
   "source": [
    "import pathlib\n",
    "from torch.utils.data import Dataset\n",
    "import torchvision\n",
    "import torchvision.transforms as transforms"
   ]
  },
  {
   "cell_type": "code",
   "execution_count": 25,
   "metadata": {},
   "outputs": [],
   "source": [
    "class LatinDataset(Dataset):                                #как и откуд а выгружать объект #DataLoader работает с группировкой\n",
    "    def __init__(self, path_dataset: pathlib.Path):\n",
    "        self.path_dataset = path_dataset\n",
    "        self.data_list = [x for x in self.path_dataset.glob(\"**/*\") if x.is_file()]   #все файлов\n",
    "        self.data_class = set(x.parent for x in self.data_list)   #папка, где храняться все буквы a\n",
    "        self.transform_func = transforms.Compose([\n",
    "        transforms. ToPILImage(),\n",
    "        transforms.Grayscale(),\n",
    "        transforms. Resize ((124, 124)), \n",
    "        transforms.PILToTenson()\n",
    "        ])\n",
    "        \n",
    "\n",
    "    def __len__(self):           #макисммальное кол-во объектов в dataset - кол-во файлов в итогне\n",
    "        return len(self.data_list)\n",
    "    \n",
    "    def __getitem(self, index):\n",
    "        img_path = self.data_list[index]\n",
    "        img_label = torch.zeros(len(self.data_class)) #zeros - тензор с нулевыми значениями\n",
    "        img_label[self.data_class.index(img_path.parent)] = 1.0  #класу - названию папки соответсвует единица - обращаемся к папке, находим индекс - он, например, 2, тогда в качесвте лейбла будет вектор [0, 0, 1]\n",
    "        img_tensor = read_image(img_path)\n",
    "        return self.transform_func(img_tensor), img_label\n",
    "        "
   ]
  },
  {
   "cell_type": "code",
   "execution_count": 3,
   "metadata": {},
   "outputs": [
    {
     "ename": "FileNotFoundError",
     "evalue": "[WinError 3] Системе не удается найти указанный путь: 'content\\\\test'",
     "output_type": "error",
     "traceback": [
      "\u001b[1;31m---------------------------------------------------------------------------\u001b[0m",
      "\u001b[1;31mFileNotFoundError\u001b[0m                         Traceback (most recent call last)",
      "\u001b[1;32mUntitled-1.ipynb Cell 3\u001b[0m line \u001b[0;36m3\n\u001b[0;32m      <a href='vscode-notebook-cell:Untitled-1.ipynb?jupyter-notebook#W2sdW50aXRsZWQ%3D?line=0'>1</a>\u001b[0m path_dataset \u001b[39m=\u001b[39m pathlib\u001b[39m.\u001b[39mPath(\u001b[39m\"\u001b[39m\u001b[39mcontent/test\u001b[39m\u001b[39m\"\u001b[39m)   \u001b[39m#папка, где лежит сет\u001b[39;00m\n\u001b[0;32m      <a href='vscode-notebook-cell:Untitled-1.ipynb?jupyter-notebook#W2sdW50aXRsZWQ%3D?line=1'>2</a>\u001b[0m \u001b[39mlen\u001b[39m([x \u001b[39mfor\u001b[39;00m x \u001b[39min\u001b[39;00m path_dataset\u001b[39m.\u001b[39mglob(\u001b[39m\"\u001b[39m\u001b[39m**/*\u001b[39m\u001b[39m\"\u001b[39m) \u001b[39mif\u001b[39;00m x\u001b[39m.\u001b[39mis_file()])\n\u001b[1;32m----> <a href='vscode-notebook-cell:Untitled-1.ipynb?jupyter-notebook#W2sdW50aXRsZWQ%3D?line=2'>3</a>\u001b[0m [a \u001b[39mfor\u001b[39;49;00m a \u001b[39min\u001b[39;49;00m path_dataset\u001b[39m.\u001b[39;49miterdir()]\n",
      "\u001b[1;32mUntitled-1.ipynb Cell 3\u001b[0m line \u001b[0;36m3\n\u001b[0;32m      <a href='vscode-notebook-cell:Untitled-1.ipynb?jupyter-notebook#W2sdW50aXRsZWQ%3D?line=0'>1</a>\u001b[0m path_dataset \u001b[39m=\u001b[39m pathlib\u001b[39m.\u001b[39mPath(\u001b[39m\"\u001b[39m\u001b[39mcontent/test\u001b[39m\u001b[39m\"\u001b[39m)   \u001b[39m#папка, где лежит сет\u001b[39;00m\n\u001b[0;32m      <a href='vscode-notebook-cell:Untitled-1.ipynb?jupyter-notebook#W2sdW50aXRsZWQ%3D?line=1'>2</a>\u001b[0m \u001b[39mlen\u001b[39m([x \u001b[39mfor\u001b[39;00m x \u001b[39min\u001b[39;00m path_dataset\u001b[39m.\u001b[39mglob(\u001b[39m\"\u001b[39m\u001b[39m**/*\u001b[39m\u001b[39m\"\u001b[39m) \u001b[39mif\u001b[39;00m x\u001b[39m.\u001b[39mis_file()])\n\u001b[1;32m----> <a href='vscode-notebook-cell:Untitled-1.ipynb?jupyter-notebook#W2sdW50aXRsZWQ%3D?line=2'>3</a>\u001b[0m [a \u001b[39mfor\u001b[39;00m a \u001b[39min\u001b[39;00m path_dataset\u001b[39m.\u001b[39miterdir()]\n",
      "File \u001b[1;32mC:\\Program Files\\WindowsApps\\PythonSoftwareFoundation.Python.3.11_3.11.1776.0_x64__qbz5n2kfra8p0\\Lib\\pathlib.py:931\u001b[0m, in \u001b[0;36mPath.iterdir\u001b[1;34m(self)\u001b[0m\n\u001b[0;32m    927\u001b[0m \u001b[39mdef\u001b[39;00m \u001b[39miterdir\u001b[39m(\u001b[39mself\u001b[39m):\n\u001b[0;32m    928\u001b[0m \u001b[39m    \u001b[39m\u001b[39m\"\"\"Iterate over the files in this directory.  Does not yield any\u001b[39;00m\n\u001b[0;32m    929\u001b[0m \u001b[39m    result for the special paths '.' and '..'.\u001b[39;00m\n\u001b[0;32m    930\u001b[0m \u001b[39m    \"\"\"\u001b[39;00m\n\u001b[1;32m--> 931\u001b[0m     \u001b[39mfor\u001b[39;00m name \u001b[39min\u001b[39;00m os\u001b[39m.\u001b[39;49mlistdir(\u001b[39mself\u001b[39;49m):\n\u001b[0;32m    932\u001b[0m         \u001b[39myield\u001b[39;00m \u001b[39mself\u001b[39m\u001b[39m.\u001b[39m_make_child_relpath(name)\n",
      "\u001b[1;31mFileNotFoundError\u001b[0m: [WinError 3] Системе не удается найти указанный путь: 'content\\\\test'"
     ]
    }
   ],
   "source": [
    "path_dataset = pathlib.Path(\"content/test\")   #папка, где лежит сет\n",
    "len([x for x in path_dataset.glob(\"**/*\") if x.is_file()])\n",
    "[a for a in path_dataset.iterdir()]"
   ]
  },
  {
   "cell_type": "code",
   "execution_count": null,
   "metadata": {},
   "outputs": [],
   "source": []
  }
 ],
 "metadata": {
  "kernelspec": {
   "display_name": "Python 3",
   "language": "python",
   "name": "python3"
  },
  "language_info": {
   "codemirror_mode": {
    "name": "ipython",
    "version": 3
   },
   "file_extension": ".py",
   "mimetype": "text/x-python",
   "name": "python",
   "nbconvert_exporter": "python",
   "pygments_lexer": "ipython3",
   "version": "3.11.6"
  }
 },
 "nbformat": 4,
 "nbformat_minor": 2
}
