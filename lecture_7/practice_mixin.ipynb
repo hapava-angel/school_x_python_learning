{
 "cells": [
  {
   "cell_type": "code",
   "execution_count": 1,
   "id": "0eac5a83-cf52-46f7-a2b4-80fccf048430",
   "metadata": {},
   "outputs": [],
   "source": [
    "class MixinMagicAbility:\n",
    "\n",
    "    def magic(self):\n",
    "        print('Я могу колдовать')\n",
    "\n",
    "class MixinStudy:\n",
    "\n",
    "    def study(self):\n",
    "            print('Я учусь')\n",
    "\n",
    "class MixinApparations:\n",
    "\n",
    "    def apparition(self):\n",
    "        print('Я умею трансгрессировать!')\n",
    "\n",
    "class MixinSport:\n",
    "\n",
    "    def sport(self):\n",
    "            print('Я играю в квиддич')\n",
    "\n",
    "class MixinFall:\n",
    "\n",
    "    def fall(self):\n",
    "        print('Я могу упасть')\n",
    "\n",
    "class MixinSmell:\n",
    "\n",
    "    def smell(self):\n",
    "        print('Я пахну')\n",
    "\n",
    "class MixinStay:\n",
    "\n",
    "    def stay(self):\n",
    "        print('я стою')\n",
    "\n",
    "class MixinBroken:\n",
    "    \n",
    "    def broken(self):\n",
    "        print('Cломан(((')"
   ]
  },
  {
   "cell_type": "code",
   "execution_count": 2,
   "id": "90702a51-04ef-4538-ae4b-c05aa7a7e8cc",
   "metadata": {},
   "outputs": [],
   "source": [
    "class Character:\n",
    "\n",
    "    def __init__(\n",
    "            \n",
    "        self,\n",
    "        conjure: str = 'Я волшебник',\n",
    "        Hogwarts: str = 'Учился в Хогвартсе',\n",
    "    ):\n",
    "        self.conjure = conjure,\n",
    "        self.Hogwarts = Hogwarts\n",
    "\n",
    "    def who(self):\n",
    "        print('Персонаж из вселенной Гарри Поттера')\n",
    "\n",
    "\n"
   ]
  },
  {
   "cell_type": "code",
   "execution_count": 3,
   "id": "dd0c90f7",
   "metadata": {},
   "outputs": [],
   "source": [
    "class FuncoPop(\n",
    "    MixinFall, \n",
    "    MixinSmell, \n",
    "    MixinStay, \n",
    "    MixinBroken\n",
    "):\n",
    "    pass\n",
    "\n",
    "class Playable(\n",
    "    MixinMagicAbility, \n",
    "    MixinStudy, \n",
    "    MixinApparations, \n",
    "    MixinSport, \n",
    "    MixinFall, \n",
    "    MixinStay, \n",
    "    MixinBroken\n",
    "):\n",
    "    pass"
   ]
  },
  {
   "cell_type": "code",
   "execution_count": 4,
   "id": "d9960477",
   "metadata": {},
   "outputs": [],
   "source": [
    "class Harry_Potter(Character):\n",
    "\n",
    "    name = 'Гарри Поттер'\n",
    "    faculty = 'Гриффиндор'\n",
    "    eyes = 'зеленые'\n",
    "    hairs = 'Брюнет'\n",
    "    height_cm = 166\n",
    "    weight_kg = 66\n",
    "    specific_atributs = 'Шрам в виде молнии'\n",
    "    favorite_clothes = 'Мантия невидимка'\n",
    "    pets = 'Сова Букля'\n",
    "\n",
    "\n",
    "class Neville_Longbottom(Character):\n",
    "    \n",
    "    name = 'Невилл Долгопупс'\n",
    "    faculty = 'Гриффиндор'\n",
    "    eyes = 'карие'\n",
    "    hairs = 'темные'\n",
    "    height_cm = 180\n",
    "    weight_kg = 73\n",
    "    specific_atributs = 'Кривые зубы'\n",
    "    favorite_clothes = 'Кардиган, надетый в битве за Хогвартс'\n",
    "    pets = 'жаба Тревор'\n",
    "    \n",
    "\n",
    "class Severus_Snape(Character):\n",
    "\n",
    "    name = 'Северус Снейп'\n",
    "    faculty = 'Слизерин'\n",
    "    eyes = 'очень темные'\n",
    "    hairs = 'черные'\n",
    "    height_cm = 185\n",
    "    weight_kg = 75\n",
    "    specific_atributs = 'Крючковатый нос, длинные сальные волосы'\n",
    "    favorite_clothes = 'Широкополая черная мантия'\n",
    "    pets = 'Нет'\n",
    "    \n",
    "\n"
   ]
  },
  {
   "cell_type": "code",
   "execution_count": 5,
   "id": "b07186a3",
   "metadata": {},
   "outputs": [],
   "source": [
    "class Harry_Potter_Playable(\n",
    "    Playable,\n",
    "    Harry_Potter\n",
    "):\n",
    "    def speel_my_name(self):\n",
    "        print(self.name, ' - мальчик, который вижил')\n",
    "\n",
    "    def act(self):\n",
    "        print('Экспелиармус!')\n",
    "\n",
    "class Neville_Longbottom_Playable(\n",
    "    Playable,\n",
    "    Neville_Longbottom\n",
    "):\n",
    "    def speel_my_name(self):\n",
    "        print(self.name, ' - втопрй потенциальный участник пророчества')\n",
    "    \n",
    "    def act(self):\n",
    "        print('Экспекто Патронус!')\n",
    "\n",
    "\n",
    "class Severus_Snape_Playable(\n",
    "    Playable,\n",
    "    Severus_Snape\n",
    "):\n",
    "    def speel_my_name(self):\n",
    "        print(self.name, ' - храбрейший человек, которо я знал')\n",
    "\n",
    "    def act(self):\n",
    "        print('Сектусемпра!')\n",
    "\n",
    "\n",
    "class Harry_Potter_FancoPop(\n",
    "    FuncoPop,\n",
    "    Harry_Potter\n",
    "    \n",
    "):\n",
    "    def speel_my_name(self):\n",
    "        print(self.name)\n",
    "\n",
    "\n",
    "class Neville_Longbottom_FancoPop(\n",
    "    FuncoPop,\n",
    "    Neville_Longbottom\n",
    "):\n",
    "    def speel_my_name(self):\n",
    "        print(self.name)\n",
    "\n",
    "class Severus_Snape_FancoPop( \n",
    "    FuncoPop,\n",
    "    Severus_Snape\n",
    "):\n",
    "   def speel_my_name(self):\n",
    "        print(self.name)\n",
    "\n",
    "\n",
    "\n",
    "\n",
    "\n"
   ]
  },
  {
   "cell_type": "code",
   "execution_count": 6,
   "id": "9e94452f-b072-4ddb-8e1b-4dda4c221342",
   "metadata": {},
   "outputs": [],
   "source": [
    "hero1 = Character()\n"
   ]
  },
  {
   "cell_type": "code",
   "execution_count": 7,
   "id": "3a6900b0",
   "metadata": {},
   "outputs": [
    {
     "name": "stdout",
     "output_type": "stream",
     "text": [
      "Персонаж из вселенной Гарри Поттера\n"
     ]
    }
   ],
   "source": [
    "hero1.who()\n"
   ]
  },
  {
   "cell_type": "code",
   "execution_count": 8,
   "id": "d16f1c2a",
   "metadata": {},
   "outputs": [
    {
     "data": {
      "text/plain": [
       "'Учился в Хогвартсе'"
      ]
     },
     "execution_count": 8,
     "metadata": {},
     "output_type": "execute_result"
    }
   ],
   "source": [
    "hero1.Hogwarts"
   ]
  },
  {
   "cell_type": "code",
   "execution_count": 9,
   "id": "e4dd5c72-fc44-412e-9a92-bd599c6baa62",
   "metadata": {},
   "outputs": [
    {
     "data": {
      "text/plain": [
       "('Я волшебник',)"
      ]
     },
     "execution_count": 9,
     "metadata": {},
     "output_type": "execute_result"
    }
   ],
   "source": [
    "hero1.conjure"
   ]
  },
  {
   "cell_type": "code",
   "execution_count": 10,
   "id": "3338c07b-a526-4457-9956-bb44203f9c41",
   "metadata": {},
   "outputs": [],
   "source": [
    "hero2 = Harry_Potter_Playable()"
   ]
  },
  {
   "cell_type": "code",
   "execution_count": 11,
   "id": "20d691a4-7ccf-4bb0-908e-5defa9742112",
   "metadata": {},
   "outputs": [
    {
     "name": "stdout",
     "output_type": "stream",
     "text": [
      "Персонаж из вселенной Гарри Поттера\n",
      "Гарри Поттер  - мальчик, который вижил\n",
      "Я могу колдовать\n",
      "Я учусь\n",
      "Я умею трансгрессировать!\n",
      "Я играю в квиддич\n",
      "Я могу упасть\n",
      "я стою\n",
      "Cломан(((\n",
      "Экспелиармус!\n"
     ]
    }
   ],
   "source": [
    "hero2.who()\n",
    "hero2.speel_my_name()\n",
    "hero2.magic()\n",
    "hero2.study()\n",
    "hero2.apparition()\n",
    "hero2.sport()\n",
    "hero2.fall()\n",
    "hero2.stay()\n",
    "hero2.broken()\n",
    "hero2.act()"
   ]
  },
  {
   "cell_type": "code",
   "execution_count": 21,
   "id": "78f37142-fc28-465d-b825-46d1732bd768",
   "metadata": {},
   "outputs": [],
   "source": [
    "hero3 = Neville_Longbottom_FancoPop()"
   ]
  },
  {
   "cell_type": "code",
   "execution_count": 23,
   "id": "9adbf4cd-b611-45cb-a234-45d81cbc5112",
   "metadata": {},
   "outputs": [
    {
     "name": "stdout",
     "output_type": "stream",
     "text": [
      "Персонаж из вселенной Гарри Поттера\n",
      "Невилл Долгопупс\n",
      "Я могу упасть\n",
      "я стою\n",
      "Я пахну\n",
      "Cломан(((\n"
     ]
    }
   ],
   "source": [
    "hero3.who()\n",
    "hero3.speel_my_name()\n",
    "hero3.fall()\n",
    "hero3.stay()\n",
    "hero3.smell()\n",
    "hero3.broken()"
   ]
  },
  {
   "cell_type": "code",
   "execution_count": null,
   "id": "a292c6ce-1cfa-42d5-9aa2-6051b56199c3",
   "metadata": {},
   "outputs": [],
   "source": []
  }
 ],
 "metadata": {
  "kernelspec": {
   "display_name": "Python 3 (ipykernel)",
   "language": "python",
   "name": "python3"
  },
  "language_info": {
   "codemirror_mode": {
    "name": "ipython",
    "version": 3
   },
   "file_extension": ".py",
   "mimetype": "text/x-python",
   "name": "python",
   "nbconvert_exporter": "python",
   "pygments_lexer": "ipython3",
   "version": "3.11.5"
  }
 },
 "nbformat": 4,
 "nbformat_minor": 5
}
