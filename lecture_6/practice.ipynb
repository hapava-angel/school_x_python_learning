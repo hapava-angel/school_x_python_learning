{
 "cells": [
  {
   "cell_type": "code",
   "execution_count": 1,
   "id": "0c6f5b5f-1fde-4b65-a46f-08e301df27ea",
   "metadata": {},
   "outputs": [],
   "source": [
    "class Character:\n",
    "    \n",
    "    def __init__(\n",
    "        self,\n",
    "        power: float | int = 30,\n",
    "        iq: float | int = 130,\n",
    "        dexterity: float | int = 51,\n",
    "        name: str = 'Biba'\n",
    "    ):\n",
    "        self.power = power\n",
    "        self.iq = iq\n",
    "        self.dexterity = dexterity\n",
    "        self.name = name\n",
    "        \n",
    "    def speed(self, speed_ch: float | int = None):\n",
    "        if self.dexterity > 50:\n",
    "            speed_ch = self.dexterity / (4/5)\n",
    "        else:\n",
    "            speed_ch =  self.dexterity * (4/5)\n",
    "        print('Скорость персонажа - ', speed_ch)\n",
    "        \n",
    "    def damage(self, Idamage: int = 5.0):\n",
    "        damage_ch = Idamage + self.power // 10 \n",
    "        print('Урон от персонажа -', damage_ch)\n",
    "\n",
    "    def trade(self, Itrade: float | int = 30.0):\n",
    "        if self.iq  + self.dexterity > 170:\n",
    "            print('Я хороший торговец')\n",
    "        else:\n",
    "            print('Не умею торговать и торговаться, подайте на пропитание')\n",
    "\n",
    "    def wait(self, Iwait_sec: str = 15):\n",
    "        print('Я нетерпеливый, жду', Iwait_sec, 'секунд и стреляю')\n",
    "    \n",
    "    def think(self, Ithink: float | int = None):\n",
    "        if 100 < self.iq < 135:\n",
    "            print('Я умею мыслить, этот навык поможет мне выжить')\n",
    "        if self.iq > 135:\n",
    "            print('Я гений, за которым пойдут цивилизации')\n",
    "\n",
    "    def move(self):\n",
    "        print('Двигаюсь всегда, когда не сплю')\n",
    "            "
   ]
  },
  {
   "cell_type": "code",
   "execution_count": 2,
   "id": "539152ff-8eac-439b-8a04-d27cb02809e0",
   "metadata": {},
   "outputs": [],
   "source": [
    "class Hero(Character):\n",
    "    nobility = 89\n",
    "    kidness = 56\n",
    "        \n",
    "    def like(self):\n",
    "        like = self.like\n",
    "        print('Я люблю спасать принцесс')\n",
    "        \n",
    "    def can(self):\n",
    "        print('Я умею очень пафоссно стоять, после того, как победил злодея')\n",
    "        \n",
    "    def hate(self):\n",
    "        print('Я не выношу несправедливость')"
   ]
  },
  {
   "cell_type": "code",
   "execution_count": 3,
   "id": "46d454d3-e32e-4233-a081-ad66422d5417",
   "metadata": {},
   "outputs": [],
   "source": [
    "class Villain(Character):\n",
    "    cunning = 56,\n",
    "    cruelty = 90,\n",
    "\n",
    "    def like(self):\n",
    "        print('Я люблю причинять боль)))')\n",
    "        \n",
    "    def can(self):\n",
    "        print('Я отлично умею рассказывать свой злодеский план герою прямо перед своей же смертью')\n",
    "\n",
    "    def hate(self):\n",
    "        print('Ненавижу сладкоголосых утренних пташек!!!')\n",
    "        \n"
   ]
  },
  {
   "cell_type": "code",
   "execution_count": 4,
   "id": "1b70e0d6-5e9a-4b94-b2e3-3199eb5ebff6",
   "metadata": {},
   "outputs": [],
   "source": [
    "class Fighter(Villain): \n",
    "\n",
    "    archer = 'лучник'\n",
    "    sword = 'сражается на мечах'\n",
    "    magic = 'срадается с помощью магии'\n",
    "\n",
    "    def speel_my_name(self):\n",
    "        print(self.name, '- воин')\n",
    "\n",
    "    def arrow(self, archer: str = None):\n",
    "        if archer is None:\n",
    "            archer = self.archer\n",
    "            print('Персонаж опасен на дальних растояниях')\n",
    "\n",
    "    def close_fight(self, sword: str = None):\n",
    "        if sword is None:\n",
    "            sword = self.sword\n",
    "            print('Опасен в ближнем бою')\n",
    "            \n",
    "    def wizardry(self, magic: str = None):\n",
    "        if magic is None:\n",
    "            magic = self.magic\n",
    "            print('Предугадать мощь персонажа невозможно')"
   ]
  },
  {
   "cell_type": "code",
   "execution_count": 5,
   "id": "a23a72ed-6a0a-4a68-8beb-a36ca33c8e63",
   "metadata": {},
   "outputs": [],
   "source": [
    "class Hiller(Hero):\n",
    "    \n",
    "    hilling = 'лекарь-умелец'\n",
    "    potions = 'лечит с помощью магических отваров'\n",
    "\n",
    "    def speel_my_name(self):\n",
    "        print(self.name, '- лекарь')\n",
    "\n",
    "    def skill(self, hilling: str = None):\n",
    "        if hilling is None:\n",
    "            hilling = self.hilling\n",
    "            print('Персонаж может лечить других персонажей благодаря своим навыкам')\n",
    "\n",
    "    def additive(self, potions: str = None):\n",
    "        if potions is None:\n",
    "            potions = self.potions\n",
    "            print('Персонаж пользуется зельями, чтобы лечить других персонажей')\n",
    "        "
   ]
  },
  {
   "cell_type": "code",
   "execution_count": 6,
   "id": "11645952-30dd-4063-8ca8-90ed89de094f",
   "metadata": {
    "scrolled": true
   },
   "outputs": [],
   "source": [
    "Fighter1 = Fighter(power = 47, iq = 80, dexterity = 65, name = 'Poll')\n",
    "Fighter2 = Fighter(power = 98, iq = 80, dexterity = 34, name = 'Boba')\n",
    "\n",
    "Hiller1 = Hiller( power = 90, iq = 120, dexterity = 51, name = 'Nil')\n",
    "Hiller2 = Hiller(power = 50, iq = 70, dexterity = 130, name = 'Biba')"
   ]
  },
  {
   "cell_type": "code",
   "execution_count": 7,
   "id": "b61e4210-068e-4737-8e1e-ac1f71bd621b",
   "metadata": {},
   "outputs": [
    {
     "name": "stdout",
     "output_type": "stream",
     "text": [
      "Персонаж 1\n",
      "Урон от персонажа - 9.0\n",
      "Скорость персонажа -  81.25\n",
      "Я люблю причинять боль)))\n",
      "Предугадать мощь персонажа невозможно\n",
      "--------------------------------------------------\n",
      "Персонаж 2\n",
      "Урон от персонажа - 14.0\n",
      "Скорость персонажа -  27.200000000000003\n",
      "Я люблю причинять боль)))\n",
      "Предугадать мощь персонажа невозможно\n",
      "--------------------------------------------------\n"
     ]
    }
   ],
   "source": [
    "for index_Fighter, local_Fighter in enumerate([Fighter1, Fighter2]):\n",
    "    index_Fighter += 1\n",
    "    print('Персонаж', index_Fighter)\n",
    "    local_Fighter.damage()\n",
    "    local_Fighter.speed()\n",
    "    local_Fighter.like()\n",
    "    local_Fighter.wizardry()\n",
    "    print('-' * 50)"
   ]
  },
  {
   "cell_type": "code",
   "execution_count": 8,
   "id": "dee515b3-066e-4f10-b8ba-46a5739e9acc",
   "metadata": {},
   "outputs": [
    {
     "name": "stdout",
     "output_type": "stream",
     "text": [
      "Персонаж 1\n",
      "Скорость персонажа -  63.75\n",
      "Урон от персонажа - 14.0\n",
      "Я умею очень пафоссно стоять, после того, как победил злодея\n",
      "Персонаж может лечить других персонажей благодаря своим навыкам\n",
      "--------------------------------------------------\n",
      "Персонаж 2\n",
      "Скорость персонажа -  162.5\n",
      "Урон от персонажа - 10.0\n",
      "Я умею очень пафоссно стоять, после того, как победил злодея\n",
      "Персонаж может лечить других персонажей благодаря своим навыкам\n",
      "--------------------------------------------------\n"
     ]
    }
   ],
   "source": [
    "for index_Hiller, local_Hiller in enumerate([Hiller1, Hiller2]):\n",
    "    index_Hiller += 1\n",
    "    print('Персонаж', index_Hiller)\n",
    "    local_Hiller.speed()\n",
    "    local_Hiller.damage()\n",
    "    local_Hiller.can()\n",
    "    local_Hiller.skill()\n",
    "    print('-' * 50)"
   ]
  },
  {
   "cell_type": "code",
   "execution_count": 9,
   "id": "825101cb-d587-4fca-88b0-30a5f7bc446f",
   "metadata": {},
   "outputs": [
    {
     "name": "stdout",
     "output_type": "stream",
     "text": [
      "Я не выношу несправедливость\n"
     ]
    }
   ],
   "source": [
    "Hiller2.hate()"
   ]
  },
  {
   "cell_type": "code",
   "execution_count": 10,
   "id": "222a1408-a108-47b3-ae6d-88ab902af07b",
   "metadata": {},
   "outputs": [
    {
     "name": "stdout",
     "output_type": "stream",
     "text": [
      "Скорость персонажа -  81.25\n"
     ]
    }
   ],
   "source": [
    "Fighter1.speed()"
   ]
  },
  {
   "cell_type": "code",
   "execution_count": 11,
   "id": "44681db0-d838-42ff-9221-31e0880b13ad",
   "metadata": {},
   "outputs": [],
   "source": [
    "class A:\n",
    "    def add_f(self, a, b):\n",
    "        return a + b\n",
    "\n",
    "class B:\n",
    "    def sum_f(self, a, b, c):\n",
    "        return A().add_f(a, b) + c"
   ]
  },
  {
   "cell_type": "code",
   "execution_count": null,
   "id": "1de30ff5-1e00-4596-bace-b07713820138",
   "metadata": {},
   "outputs": [],
   "source": []
  }
 ],
 "metadata": {
  "kernelspec": {
   "display_name": "Python 3 (ipykernel)",
   "language": "python",
   "name": "python3"
  },
  "language_info": {
   "codemirror_mode": {
    "name": "ipython",
    "version": 3
   },
   "file_extension": ".py",
   "mimetype": "text/x-python",
   "name": "python",
   "nbconvert_exporter": "python",
   "pygments_lexer": "ipython3",
   "version": "3.11.5"
  }
 },
 "nbformat": 4,
 "nbformat_minor": 5
}
