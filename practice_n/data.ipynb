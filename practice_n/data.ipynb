{
 "cells": [
  {
   "cell_type": "code",
   "execution_count": 14,
   "metadata": {},
   "outputs": [],
   "source": [
    "import math\n",
    "\n",
    "from rich import print\n",
    "import numpy as np\n",
    "from scipy import stats as st"
   ]
  },
  {
   "cell_type": "markdown",
   "metadata": {},
   "source": [
    "1 Задание: <br>\n",
    "Приведены два датасета: время использования одними и теми же пользователями личного кабинета сайта до редизайна и после. Проверьте гипотезу, что после редизайна время использования личного кабинета на сайте изменилось (увеличилось или уменьшилось). Установите уровень статистической значимости 0.05. <br>\n",
    "2 Задание:<br>\n",
    "В онлайн-игре произошли изменения: ввели новую игровую логику, которая стимулирует пользователей к стрельбе очередями. У вас есть два датасета: в них количество патронов, которые покупают постоянные игроки в онлайн-игре, до и после изменения. Проверьте гипотезу о том, что после нововведений количество используемых патронов изменилось.<br>"
   ]
  },
  {
   "cell_type": "code",
   "execution_count": 16,
   "metadata": {},
   "outputs": [],
   "source": [
    "time_before = np.array([1732, 1301, 1540, 2247, 1632, 1550, 754, 1946, 1889,\n",
    "          2748, 1349, 1648, 1665, 2416, 1470, 1681, 1868, 1629,\n",
    "          1271, 1633, 2131, 942, 1599, 1127, 2200, 661, 1207,\n",
    "          1737, 2410, 1486])\n",
    "\n",
    "time_after = np.array([955, 2577, 360, 139, 1618, 990, 644, 1796, 1487, 949, 472,\n",
    "         1906, 1758, 1258, 2554, 612, 309, 1864, 1294, 1487, 1164, 1559,\n",
    "         491, 2286, 1270, 2069, 1553, 1629, 1704, 1623])"
   ]
  },
  {
   "cell_type": "markdown",
   "metadata": {},
   "source": [
    "$H_0$: После редизайна время использования личного кабинета на сайте не изменилось (`time_after` = `time_before`) <br>\n",
    "$H_1$: После редизайна время использования личного кабинета на сайте изменилось (`time_after` != `time_before`) "
   ]
  },
  {
   "cell_type": "code",
   "execution_count": 17,
   "metadata": {},
   "outputs": [
    {
     "data": {
      "text/html": [
       "<pre style=\"white-space:pre;overflow-x:auto;line-height:normal;font-family:Menlo,'DejaVu Sans Mono',consolas,'Courier New',monospace\"><span style=\"color: #008080; text-decoration-color: #008080; font-weight: bold\">0.0751397944405015</span>\n",
       "</pre>\n"
      ],
      "text/plain": [
       "\u001b[1;36m0.0751397944405015\u001b[0m\n"
      ]
     },
     "metadata": {},
     "output_type": "display_data"
    },
    {
     "data": {
      "text/html": [
       "<pre style=\"white-space:pre;overflow-x:auto;line-height:normal;font-family:Menlo,'DejaVu Sans Mono',consolas,'Courier New',monospace\">Не удалось отвергнуть нулевую гипотезу\n",
       "</pre>\n"
      ],
      "text/plain": [
       "Не удалось отвергнуть нулевую гипотезу\n"
      ]
     },
     "metadata": {},
     "output_type": "display_data"
    }
   ],
   "source": [
    "results = st.ttest_rel(time_before,\n",
    "                        time_after,\n",
    "                       alternative = 'two-sided')\n",
    "\n",
    "alpha = .05\n",
    "\n",
    "print(results.pvalue)\n",
    "\n",
    "if results.pvalue < alpha:\n",
    "    print('Отвергаем нулевую гипотезу')\n",
    "else:\n",
    "    print('Не удалось отвергнуть нулевую гипотезу')"
   ]
  },
  {
   "cell_type": "markdown",
   "metadata": {},
   "source": [
    "Делаем вывод, что гипотеза $H_0$ подтвердилась, то есть после редизайна время использования личного кабинета на сайте не изменилось "
   ]
  },
  {
   "cell_type": "code",
   "execution_count": 18,
   "metadata": {},
   "outputs": [
    {
     "data": {
      "text/html": [
       "<pre style=\"white-space:pre;overflow-x:auto;line-height:normal;font-family:Menlo,'DejaVu Sans Mono',consolas,'Courier New',monospace\"><span style=\"color: #008080; text-decoration-color: #008080; font-weight: bold\">1648.9666666666667</span>\n",
       "<span style=\"color: #008080; text-decoration-color: #008080; font-weight: bold\">1345.9</span>\n",
       "</pre>\n"
      ],
      "text/plain": [
       "\u001b[1;36m1648.9666666666667\u001b[0m\n",
       "\u001b[1;36m1345.9\u001b[0m\n"
      ]
     },
     "metadata": {},
     "output_type": "display_data"
    }
   ],
   "source": [
    "print(f'{time_before.mean()}\\n{time_after.mean()}')\n"
   ]
  },
  {
   "cell_type": "code",
   "execution_count": 19,
   "metadata": {},
   "outputs": [],
   "source": [
    "bullets_before = np.array([821, 1164, 598, 854, 455, 1220, 161, 1400, 479, 215,\n",
    "          564, 159, 920, 173, 276, 444, 273, 711, 291, 880,\n",
    "          892, 712, 16, 476, 498, 9, 1251, 938, 389, 513])\n",
    "\n",
    "bullets_after = np.array([904, 220, 676, 459, 299, 659, 1698, 1120, 514, 1086, 1499,\n",
    "         1262, 829, 476, 1149, 996, 1247, 1117, 1324, 532, 1458, 898,\n",
    "         1837, 455, 1667, 898, 474, 558, 639, 1012])"
   ]
  },
  {
   "cell_type": "markdown",
   "metadata": {},
   "source": [
    "$H_0$: после нововведений количество используемых патронов НЕ изменилось (`bullets_before` = `bullets_after`). <br>\n",
    "$H_0$: после нововведений количество используемых патронов изменилось (`bullets_before` != `bullets_after`).\n"
   ]
  },
  {
   "cell_type": "code",
   "execution_count": 20,
   "metadata": {},
   "outputs": [
    {
     "data": {
      "text/html": [
       "<pre style=\"white-space:pre;overflow-x:auto;line-height:normal;font-family:Menlo,'DejaVu Sans Mono',consolas,'Courier New',monospace\"><span style=\"color: #008080; text-decoration-color: #008080; font-weight: bold\">0.010789503820811123</span>\n",
       "</pre>\n"
      ],
      "text/plain": [
       "\u001b[1;36m0.010789503820811123\u001b[0m\n"
      ]
     },
     "metadata": {},
     "output_type": "display_data"
    },
    {
     "data": {
      "text/html": [
       "<pre style=\"white-space:pre;overflow-x:auto;line-height:normal;font-family:Menlo,'DejaVu Sans Mono',consolas,'Courier New',monospace\">Отвергаем нулевую гипотезу\n",
       "</pre>\n"
      ],
      "text/plain": [
       "Отвергаем нулевую гипотезу\n"
      ]
     },
     "metadata": {},
     "output_type": "display_data"
    }
   ],
   "source": [
    "alpha = .05\n",
    "\n",
    "result = st.ttest_rel(bullets_before, \n",
    "                        bullets_after,\n",
    "                        alternative = 'two-sided')\n",
    "\n",
    "\n",
    "print(result.pvalue)\n",
    "\n",
    "if result.pvalue < alpha:\n",
    "    print('Отвергаем нулевую гипотезу')\n",
    "else:\n",
    "    print('Не удалось отвергнуть нулевую гипотезу')"
   ]
  },
  {
   "cell_type": "markdown",
   "metadata": {},
   "source": [
    "$H_0$ опровергнута, значит после нововведений количество используемых патронов изменилось. Ответ на гипотезу из вопроса утвердительный"
   ]
  },
  {
   "cell_type": "code",
   "execution_count": 21,
   "metadata": {},
   "outputs": [
    {
     "data": {
      "text/html": [
       "<pre style=\"white-space:pre;overflow-x:auto;line-height:normal;font-family:Menlo,'DejaVu Sans Mono',consolas,'Courier New',monospace\"><span style=\"color: #008080; text-decoration-color: #008080; font-weight: bold\">591.7333333333333</span>\n",
       "<span style=\"color: #008080; text-decoration-color: #008080; font-weight: bold\">932.0666666666667</span>\n",
       "</pre>\n"
      ],
      "text/plain": [
       "\u001b[1;36m591.7333333333333\u001b[0m\n",
       "\u001b[1;36m932.0666666666667\u001b[0m\n"
      ]
     },
     "metadata": {},
     "output_type": "display_data"
    }
   ],
   "source": [
    "print(f'{bullets_before.mean()}\\n{bullets_after.mean()}')"
   ]
  }
 ],
 "metadata": {
  "kernelspec": {
   "display_name": "Python 3",
   "language": "python",
   "name": "python3"
  },
  "language_info": {
   "codemirror_mode": {
    "name": "ipython",
    "version": 3
   },
   "file_extension": ".py",
   "mimetype": "text/x-python",
   "name": "python",
   "nbconvert_exporter": "python",
   "pygments_lexer": "ipython3",
   "version": "3.11.6"
  }
 },
 "nbformat": 4,
 "nbformat_minor": 2
}
