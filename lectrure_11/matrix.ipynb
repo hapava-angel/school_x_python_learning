{
 "cells": [
  {
   "cell_type": "code",
   "execution_count": 9,
   "metadata": {},
   "outputs": [],
   "source": [
    "class Matrix:\n",
    "    def __init__(\n",
    "    self,\n",
    "    matrix\n",
    "):\n",
    "        self.matrix = matrix\n",
    "\n",
    "\n",
    "    def mul_vectors(self, vector1, vector2):\n",
    "        mult = sum(vector1[i] * vector2[i] for i in range(len(vector1)))\n",
    "        return mult\n",
    "    \n",
    "\n",
    "    def sub_vectors(self, vector1, vector2):\n",
    "        minus = [vector1[i] - vector2[i] for i in range(len(vector1))]\n",
    "        return minus\n",
    "\n",
    "\n",
    "    def vector_norm(self, vector):\n",
    "        norm = (sum(el ** 2 for el in vector) ** 0.5)\n",
    "        unit_vector = [el / norm for el in vector]\n",
    "        return unit_vector\n",
    "    \n",
    "    #Единичный вид: для этого надо весь вектор разделить на его норму:||f1|| = корень от суммы квадратов ее координат\n",
    "\n",
    "    def ortagonalisation(self):\n",
    "        basis = []\n",
    "        transposed = [[self.matrix[j][i] for j in range(len(self.matrix))] for i in range(len(self.matrix[0]))]\n",
    "        for i in range(len(self.matrix)):\n",
    "            vector = transposed[i]\n",
    "            print(vector)\n",
    "            for j in range(len(basis)):\n",
    "                scalar = self.mul_vectors(transposed[i], basis[j]) / self.mul_vectors(basis[j], basis[j])\n",
    "                vector = self.sub_vectors(vector, [scalar * basis[j][k] for k in range(len(basis[j]))])\n",
    "            if any(val != 0 for val in vector):\n",
    "                basis.append(self.vector_norm(vector))\n",
    "        return basis\n",
    "    \n",
    "    \n",
    "        #транспориурирую, чтобы идти по столбцам, а не по строкам линейно оболочки\n",
    "        #scalsr - это a, d, c\n",
    "        #vector - f`, f2, f3, f4\n",
    "        \n",
    "\n",
    "        # v1 = ([row[0] for row in self.matrix])\n",
    "        # v2 = ([row[1] for row in self.matrix])\n",
    "        # v3 = ([row[2] for row in self.matrix])\n",
    "        # v4 = ([row[3] for row in self.matrix])\n",
    "\n",
    "        # f1 = v1\n",
    "        # a = (v1 * v2) / (f1*f1)\n",
    "        # f2 = v2 - a * f1\n",
    "        # b = (v3 * f2) / (f2 * f2)\n",
    "        # f3 = v3 - (a * f1) - (b * f2)\n",
    "        # c = (v4 * f3) / (f3 * f3)\n",
    "        # f4 = v4 - (a * f1) - (b * f2) - (c *f3)\n"
   ]
  },
  {
   "cell_type": "code",
   "execution_count": 10,
   "metadata": {},
   "outputs": [
    {
     "name": "stdout",
     "output_type": "stream",
     "text": [
      "[0, 0, 0, 0]\n",
      "[1, 0, 1, 3]\n",
      "[1, 1, 0, 2]\n",
      "[9, 3, 2, 1]\n"
     ]
    },
    {
     "data": {
      "text/plain": [
       "[[0.30151134457776363, 0.0, 0.30151134457776363, 0.9045340337332909],\n",
       " [0.29250896965085227,\n",
       "  0.8043996665398437,\n",
       "  -0.5118906968889915,\n",
       "  0.073127242412713],\n",
       " [0.840065784206164,\n",
       "  -0.03784080109036778,\n",
       "  0.36327169046753033,\n",
       "  -0.40111249155789813]]"
      ]
     },
     "execution_count": 10,
     "metadata": {},
     "output_type": "execute_result"
    }
   ],
   "source": [
    "m = Matrix([ \n",
    "    [0, 1, 1, 9], \n",
    "    [0, 0, 1, 3], \n",
    "    [0, 1, 0, 2], \n",
    "    [0, 3, 2, 1]\n",
    "])\n",
    "\n",
    "m.ortagonalisation()\n",
    "\n"
   ]
  },
  {
   "cell_type": "code",
   "execution_count": 11,
   "metadata": {},
   "outputs": [
    {
     "name": "stdout",
     "output_type": "stream",
     "text": [
      "[2, 1, 3, -1]\n",
      "[7, 4, 3, -3]\n",
      "[1, 1, -6, 0]\n",
      "[4, -3, 0, 4]\n"
     ]
    },
    {
     "data": {
      "text/plain": [
       "[[0.5163977794943222,\n",
       "  0.2581988897471611,\n",
       "  0.7745966692414834,\n",
       "  -0.2581988897471611],\n",
       " [0.6255432421712244,\n",
       "  0.4170288281141495,\n",
       "  -0.6255432421712243,\n",
       "  -0.2085144140570748],\n",
       " [0.0, 0.6963106238227914, -0.6963106238227914, 0.17407765595569785],\n",
       " [0.5825670018705729,\n",
       "  -0.36689289843032713,\n",
       "  -0.1468337905182407,\n",
       "  0.7102430058613539]]"
      ]
     },
     "execution_count": 11,
     "metadata": {},
     "output_type": "execute_result"
    }
   ],
   "source": [
    "a = Matrix([\n",
    "    [2,7,1,4],\n",
    "    [1,4,1,-3],\n",
    "    [3,3,-6,0],\n",
    "    [-1,-3,0,4]\n",
    "])\n",
    "\n",
    "a.ortagonalisation()\n",
    "\n"
   ]
  },
  {
   "cell_type": "code",
   "execution_count": 12,
   "metadata": {},
   "outputs": [
    {
     "name": "stdout",
     "output_type": "stream",
     "text": [
      "[1, 2, 3, 4]\n",
      "[2, 0, 1, 3]\n",
      "[3, 1, 0, 2]\n",
      "[5, 3, 2, 1]\n"
     ]
    },
    {
     "data": {
      "text/plain": [
       "[[0.18257418583505536,\n",
       "  0.3651483716701107,\n",
       "  0.5477225575051661,\n",
       "  0.7302967433402214],\n",
       " [0.6859179692643985,\n",
       "  -0.542353743139292,\n",
       "  -0.33498319429191575,\n",
       "  0.3509347749724828],\n",
       " [0.5630094726413236,\n",
       "  0.719172684030888,\n",
       "  -0.29999774819574176,\n",
       "  -0.2753403990289684],\n",
       " [0.42332439077261863,\n",
       "  -0.23518021709590017,\n",
       "  0.7055406512876978,\n",
       "  -0.5173964776109783]]"
      ]
     },
     "execution_count": 12,
     "metadata": {},
     "output_type": "execute_result"
    }
   ],
   "source": [
    "b = Matrix([\n",
    "    [1, 2, 3, 5], \n",
    "    [2, 0, 1, 3], \n",
    "    [3, 1, 0, 2], \n",
    "    [4, 3, 2, 1]\n",
    "])\n",
    "b.ortagonalisation()"
   ]
  },
  {
   "cell_type": "code",
   "execution_count": 13,
   "metadata": {},
   "outputs": [
    {
     "name": "stdout",
     "output_type": "stream",
     "text": [
      "[1, 1]\n",
      "[1, 0]\n"
     ]
    },
    {
     "data": {
      "text/plain": [
       "[[0.7071067811865475, 0.7071067811865475],\n",
       " [0.7071067811865475, -0.7071067811865475]]"
      ]
     },
     "execution_count": 13,
     "metadata": {},
     "output_type": "execute_result"
    }
   ],
   "source": [
    "s = Matrix([\n",
    "    [1, 1],\n",
    "    [1, 0]\n",
    "])\n",
    "s.ortagonalisation()\n",
    "\n",
    "#работает и с линейными оболочками другой размерности"
   ]
  }
 ],
 "metadata": {
  "kernelspec": {
   "display_name": "Python 3",
   "language": "python",
   "name": "python3"
  },
  "language_info": {
   "codemirror_mode": {
    "name": "ipython",
    "version": 3
   },
   "file_extension": ".py",
   "mimetype": "text/x-python",
   "name": "python",
   "nbconvert_exporter": "python",
   "pygments_lexer": "ipython3",
   "version": "3.11.6"
  },
  "orig_nbformat": 4
 },
 "nbformat": 4,
 "nbformat_minor": 2
}
