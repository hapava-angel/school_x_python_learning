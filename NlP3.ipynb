{
  "cells": [
    {
      "cell_type": "markdown",
      "metadata": {
        "id": "view-in-github",
        "colab_type": "text"
      },
      "source": [
        "<a href=\"https://colab.research.google.com/github/hapava-angel/school_x_python_learning/blob/master/NlP3.ipynb\" target=\"_parent\"><img src=\"https://colab.research.google.com/assets/colab-badge.svg\" alt=\"Open In Colab\"/></a>"
      ]
    },
    {
      "cell_type": "code",
      "execution_count": 1,
      "metadata": {
        "id": "NDm7Ynl5fW4S"
      },
      "outputs": [],
      "source": [
        "import pandas as pd\n",
        "from sklearn.linear_model import LogisticRegression\n",
        "from sklearn.model_selection import train_test_split\n",
        "from sklearn.metrics import accuracy_score\n",
        "import matplotlib.pyplot as plt\n",
        "import seaborn as sn\n",
        "import numpy as np\n",
        "from sklearn import metrics\n",
        "\n",
        "from sklearn.feature_extraction.text import CountVectorizer\n",
        "from sklearn.feature_extraction.text import TfidfTransformer\n"
      ]
    },
    {
      "cell_type": "code",
      "execution_count": 2,
      "metadata": {
        "id": "KD4A8mtPgpOl"
      },
      "outputs": [],
      "source": [
        "data = pd.read_csv('/content/train.csv')"
      ]
    },
    {
      "cell_type": "code",
      "execution_count": 3,
      "metadata": {
        "colab": {
          "base_uri": "https://localhost:8080/"
        },
        "id": "2Dh1O9iKmJg7",
        "outputId": "852f210b-081e-4075-feb9-b87a5155aa3a"
      },
      "outputs": [
        {
          "output_type": "stream",
          "name": "stdout",
          "text": [
            "(5574, 2)\n",
            "['sms', 'label']\n"
          ]
        }
      ],
      "source": [
        "data = data.dropna()\n",
        "data.head\n",
        "print(data.shape)\n",
        "print(list(data.columns))"
      ]
    },
    {
      "cell_type": "code",
      "execution_count": 4,
      "metadata": {
        "colab": {
          "base_uri": "https://localhost:8080/",
          "height": 206
        },
        "id": "73jHuI0jtxdn",
        "outputId": "ad166147-39ab-4861-88ca-3bca8b70f592"
      },
      "outputs": [
        {
          "output_type": "execute_result",
          "data": {
            "text/plain": [
              "                                                 sms  label\n",
              "0  Go until jurong point, crazy.. Available only ...      0\n",
              "1                    Ok lar... Joking wif u oni...\\n      0\n",
              "2  Free entry in 2 a wkly comp to win FA Cup fina...      1\n",
              "3  U dun say so early hor... U c already then say...      0\n",
              "4  Nah I don't think he goes to usf, he lives aro...      0"
            ],
            "text/html": [
              "\n",
              "  <div id=\"df-53be4cc3-3a76-4021-8d81-d1981db6800c\" class=\"colab-df-container\">\n",
              "    <div>\n",
              "<style scoped>\n",
              "    .dataframe tbody tr th:only-of-type {\n",
              "        vertical-align: middle;\n",
              "    }\n",
              "\n",
              "    .dataframe tbody tr th {\n",
              "        vertical-align: top;\n",
              "    }\n",
              "\n",
              "    .dataframe thead th {\n",
              "        text-align: right;\n",
              "    }\n",
              "</style>\n",
              "<table border=\"1\" class=\"dataframe\">\n",
              "  <thead>\n",
              "    <tr style=\"text-align: right;\">\n",
              "      <th></th>\n",
              "      <th>sms</th>\n",
              "      <th>label</th>\n",
              "    </tr>\n",
              "  </thead>\n",
              "  <tbody>\n",
              "    <tr>\n",
              "      <th>0</th>\n",
              "      <td>Go until jurong point, crazy.. Available only ...</td>\n",
              "      <td>0</td>\n",
              "    </tr>\n",
              "    <tr>\n",
              "      <th>1</th>\n",
              "      <td>Ok lar... Joking wif u oni...\\n</td>\n",
              "      <td>0</td>\n",
              "    </tr>\n",
              "    <tr>\n",
              "      <th>2</th>\n",
              "      <td>Free entry in 2 a wkly comp to win FA Cup fina...</td>\n",
              "      <td>1</td>\n",
              "    </tr>\n",
              "    <tr>\n",
              "      <th>3</th>\n",
              "      <td>U dun say so early hor... U c already then say...</td>\n",
              "      <td>0</td>\n",
              "    </tr>\n",
              "    <tr>\n",
              "      <th>4</th>\n",
              "      <td>Nah I don't think he goes to usf, he lives aro...</td>\n",
              "      <td>0</td>\n",
              "    </tr>\n",
              "  </tbody>\n",
              "</table>\n",
              "</div>\n",
              "    <div class=\"colab-df-buttons\">\n",
              "\n",
              "  <div class=\"colab-df-container\">\n",
              "    <button class=\"colab-df-convert\" onclick=\"convertToInteractive('df-53be4cc3-3a76-4021-8d81-d1981db6800c')\"\n",
              "            title=\"Convert this dataframe to an interactive table.\"\n",
              "            style=\"display:none;\">\n",
              "\n",
              "  <svg xmlns=\"http://www.w3.org/2000/svg\" height=\"24px\" viewBox=\"0 -960 960 960\">\n",
              "    <path d=\"M120-120v-720h720v720H120Zm60-500h600v-160H180v160Zm220 220h160v-160H400v160Zm0 220h160v-160H400v160ZM180-400h160v-160H180v160Zm440 0h160v-160H620v160ZM180-180h160v-160H180v160Zm440 0h160v-160H620v160Z\"/>\n",
              "  </svg>\n",
              "    </button>\n",
              "\n",
              "  <style>\n",
              "    .colab-df-container {\n",
              "      display:flex;\n",
              "      gap: 12px;\n",
              "    }\n",
              "\n",
              "    .colab-df-convert {\n",
              "      background-color: #E8F0FE;\n",
              "      border: none;\n",
              "      border-radius: 50%;\n",
              "      cursor: pointer;\n",
              "      display: none;\n",
              "      fill: #1967D2;\n",
              "      height: 32px;\n",
              "      padding: 0 0 0 0;\n",
              "      width: 32px;\n",
              "    }\n",
              "\n",
              "    .colab-df-convert:hover {\n",
              "      background-color: #E2EBFA;\n",
              "      box-shadow: 0px 1px 2px rgba(60, 64, 67, 0.3), 0px 1px 3px 1px rgba(60, 64, 67, 0.15);\n",
              "      fill: #174EA6;\n",
              "    }\n",
              "\n",
              "    .colab-df-buttons div {\n",
              "      margin-bottom: 4px;\n",
              "    }\n",
              "\n",
              "    [theme=dark] .colab-df-convert {\n",
              "      background-color: #3B4455;\n",
              "      fill: #D2E3FC;\n",
              "    }\n",
              "\n",
              "    [theme=dark] .colab-df-convert:hover {\n",
              "      background-color: #434B5C;\n",
              "      box-shadow: 0px 1px 3px 1px rgba(0, 0, 0, 0.15);\n",
              "      filter: drop-shadow(0px 1px 2px rgba(0, 0, 0, 0.3));\n",
              "      fill: #FFFFFF;\n",
              "    }\n",
              "  </style>\n",
              "\n",
              "    <script>\n",
              "      const buttonEl =\n",
              "        document.querySelector('#df-53be4cc3-3a76-4021-8d81-d1981db6800c button.colab-df-convert');\n",
              "      buttonEl.style.display =\n",
              "        google.colab.kernel.accessAllowed ? 'block' : 'none';\n",
              "\n",
              "      async function convertToInteractive(key) {\n",
              "        const element = document.querySelector('#df-53be4cc3-3a76-4021-8d81-d1981db6800c');\n",
              "        const dataTable =\n",
              "          await google.colab.kernel.invokeFunction('convertToInteractive',\n",
              "                                                    [key], {});\n",
              "        if (!dataTable) return;\n",
              "\n",
              "        const docLinkHtml = 'Like what you see? Visit the ' +\n",
              "          '<a target=\"_blank\" href=https://colab.research.google.com/notebooks/data_table.ipynb>data table notebook</a>'\n",
              "          + ' to learn more about interactive tables.';\n",
              "        element.innerHTML = '';\n",
              "        dataTable['output_type'] = 'display_data';\n",
              "        await google.colab.output.renderOutput(dataTable, element);\n",
              "        const docLink = document.createElement('div');\n",
              "        docLink.innerHTML = docLinkHtml;\n",
              "        element.appendChild(docLink);\n",
              "      }\n",
              "    </script>\n",
              "  </div>\n",
              "\n",
              "\n",
              "<div id=\"df-792e99c9-1d19-476c-9330-4990cbd17ebe\">\n",
              "  <button class=\"colab-df-quickchart\" onclick=\"quickchart('df-792e99c9-1d19-476c-9330-4990cbd17ebe')\"\n",
              "            title=\"Suggest charts\"\n",
              "            style=\"display:none;\">\n",
              "\n",
              "<svg xmlns=\"http://www.w3.org/2000/svg\" height=\"24px\"viewBox=\"0 0 24 24\"\n",
              "     width=\"24px\">\n",
              "    <g>\n",
              "        <path d=\"M19 3H5c-1.1 0-2 .9-2 2v14c0 1.1.9 2 2 2h14c1.1 0 2-.9 2-2V5c0-1.1-.9-2-2-2zM9 17H7v-7h2v7zm4 0h-2V7h2v10zm4 0h-2v-4h2v4z\"/>\n",
              "    </g>\n",
              "</svg>\n",
              "  </button>\n",
              "\n",
              "<style>\n",
              "  .colab-df-quickchart {\n",
              "      --bg-color: #E8F0FE;\n",
              "      --fill-color: #1967D2;\n",
              "      --hover-bg-color: #E2EBFA;\n",
              "      --hover-fill-color: #174EA6;\n",
              "      --disabled-fill-color: #AAA;\n",
              "      --disabled-bg-color: #DDD;\n",
              "  }\n",
              "\n",
              "  [theme=dark] .colab-df-quickchart {\n",
              "      --bg-color: #3B4455;\n",
              "      --fill-color: #D2E3FC;\n",
              "      --hover-bg-color: #434B5C;\n",
              "      --hover-fill-color: #FFFFFF;\n",
              "      --disabled-bg-color: #3B4455;\n",
              "      --disabled-fill-color: #666;\n",
              "  }\n",
              "\n",
              "  .colab-df-quickchart {\n",
              "    background-color: var(--bg-color);\n",
              "    border: none;\n",
              "    border-radius: 50%;\n",
              "    cursor: pointer;\n",
              "    display: none;\n",
              "    fill: var(--fill-color);\n",
              "    height: 32px;\n",
              "    padding: 0;\n",
              "    width: 32px;\n",
              "  }\n",
              "\n",
              "  .colab-df-quickchart:hover {\n",
              "    background-color: var(--hover-bg-color);\n",
              "    box-shadow: 0 1px 2px rgba(60, 64, 67, 0.3), 0 1px 3px 1px rgba(60, 64, 67, 0.15);\n",
              "    fill: var(--button-hover-fill-color);\n",
              "  }\n",
              "\n",
              "  .colab-df-quickchart-complete:disabled,\n",
              "  .colab-df-quickchart-complete:disabled:hover {\n",
              "    background-color: var(--disabled-bg-color);\n",
              "    fill: var(--disabled-fill-color);\n",
              "    box-shadow: none;\n",
              "  }\n",
              "\n",
              "  .colab-df-spinner {\n",
              "    border: 2px solid var(--fill-color);\n",
              "    border-color: transparent;\n",
              "    border-bottom-color: var(--fill-color);\n",
              "    animation:\n",
              "      spin 1s steps(1) infinite;\n",
              "  }\n",
              "\n",
              "  @keyframes spin {\n",
              "    0% {\n",
              "      border-color: transparent;\n",
              "      border-bottom-color: var(--fill-color);\n",
              "      border-left-color: var(--fill-color);\n",
              "    }\n",
              "    20% {\n",
              "      border-color: transparent;\n",
              "      border-left-color: var(--fill-color);\n",
              "      border-top-color: var(--fill-color);\n",
              "    }\n",
              "    30% {\n",
              "      border-color: transparent;\n",
              "      border-left-color: var(--fill-color);\n",
              "      border-top-color: var(--fill-color);\n",
              "      border-right-color: var(--fill-color);\n",
              "    }\n",
              "    40% {\n",
              "      border-color: transparent;\n",
              "      border-right-color: var(--fill-color);\n",
              "      border-top-color: var(--fill-color);\n",
              "    }\n",
              "    60% {\n",
              "      border-color: transparent;\n",
              "      border-right-color: var(--fill-color);\n",
              "    }\n",
              "    80% {\n",
              "      border-color: transparent;\n",
              "      border-right-color: var(--fill-color);\n",
              "      border-bottom-color: var(--fill-color);\n",
              "    }\n",
              "    90% {\n",
              "      border-color: transparent;\n",
              "      border-bottom-color: var(--fill-color);\n",
              "    }\n",
              "  }\n",
              "</style>\n",
              "\n",
              "  <script>\n",
              "    async function quickchart(key) {\n",
              "      const quickchartButtonEl =\n",
              "        document.querySelector('#' + key + ' button');\n",
              "      quickchartButtonEl.disabled = true;  // To prevent multiple clicks.\n",
              "      quickchartButtonEl.classList.add('colab-df-spinner');\n",
              "      try {\n",
              "        const charts = await google.colab.kernel.invokeFunction(\n",
              "            'suggestCharts', [key], {});\n",
              "      } catch (error) {\n",
              "        console.error('Error during call to suggestCharts:', error);\n",
              "      }\n",
              "      quickchartButtonEl.classList.remove('colab-df-spinner');\n",
              "      quickchartButtonEl.classList.add('colab-df-quickchart-complete');\n",
              "    }\n",
              "    (() => {\n",
              "      let quickchartButtonEl =\n",
              "        document.querySelector('#df-792e99c9-1d19-476c-9330-4990cbd17ebe button');\n",
              "      quickchartButtonEl.style.display =\n",
              "        google.colab.kernel.accessAllowed ? 'block' : 'none';\n",
              "    })();\n",
              "  </script>\n",
              "</div>\n",
              "    </div>\n",
              "  </div>\n"
            ]
          },
          "metadata": {},
          "execution_count": 4
        }
      ],
      "source": [
        "data.head()"
      ]
    },
    {
      "cell_type": "code",
      "execution_count": 5,
      "metadata": {
        "colab": {
          "base_uri": "https://localhost:8080/",
          "height": 519
        },
        "id": "w3KlCyz_mk6a",
        "outputId": "1a864eb6-062b-4cb8-9aca-4a45ee2b811c"
      },
      "outputs": [
        {
          "output_type": "stream",
          "name": "stdout",
          "text": [
            "0    4827\n",
            "1     747\n",
            "Name: label, dtype: int64\n"
          ]
        },
        {
          "output_type": "execute_result",
          "data": {
            "text/plain": [
              "<function matplotlib.pyplot.show(close=None, block=None)>"
            ]
          },
          "metadata": {},
          "execution_count": 5
        },
        {
          "output_type": "display_data",
          "data": {
            "text/plain": [
              "<Figure size 640x480 with 1 Axes>"
            ],
            "image/png": "[encoded data removed]"
          },
          "metadata": {}
        }
      ],
      "source": [
        "print(data['label'].value_counts())\n",
        "sn.countplot(x='label', data=data)\n",
        "plt.show"
      ]
    },
    {
      "cell_type": "code",
      "execution_count": 6,
      "metadata": {
        "colab": {
          "base_uri": "https://localhost:8080/"
        },
        "id": "0oKjN0_XZvRj",
        "outputId": "fc74f99e-a711-4d97-ebb8-73a10166c274"
      },
      "outputs": [
        {
          "output_type": "execute_result",
          "data": {
            "text/plain": [
              "0    3527\n",
              "1     747\n",
              "Name: label, dtype: int64"
            ]
          },
          "metadata": {},
          "execution_count": 6
        }
      ],
      "source": [
        "indices = data[data['label'] == 0].index[:1300]\n",
        "data = data.drop(indices)\n",
        "data['label'].value_counts()"
      ]
    },
    {
      "cell_type": "code",
      "execution_count": 7,
      "metadata": {
        "colab": {
          "base_uri": "https://localhost:8080/"
        },
        "id": "11OH9-gXnxPR",
        "outputId": "a617bfed-b2ee-41c4-d324-dac97affb01d"
      },
      "outputs": [
        {
          "output_type": "stream",
          "name": "stdout",
          "text": [
            "Не спам: 82.52222742161909\n",
            "Спам: 17.477772578380907\n"
          ]
        }
      ],
      "source": [
        "a = len(data[data['label']==0])\n",
        "b = len(data[data['label']==1])\n",
        "pct_of_a = a/(a+b)\n",
        "print(\"Не спам:\", pct_of_a*100)\n",
        "pct_of_b = b/(a+b)\n",
        "print(\"Спам:\", pct_of_b*100)"
      ]
    },
    {
      "cell_type": "markdown",
      "metadata": {
        "id": "IcXBrq3krCI8"
      },
      "source": [
        "Аугументация"
      ]
    },
    {
      "cell_type": "code",
      "execution_count": 8,
      "metadata": {
        "id": "yhF07BP7WnZJ"
      },
      "outputs": [],
      "source": [
        "%pip install -q nlpaug"
      ]
    },
    {
      "cell_type": "code",
      "execution_count": 9,
      "metadata": {
        "id": "jhjX2w3KrAnm"
      },
      "outputs": [],
      "source": [
        "import nlpaug.augmenter.word as naw"
      ]
    },
    {
      "cell_type": "code",
      "execution_count": 10,
      "metadata": {
        "id": "qKDGHONjrQn-"
      },
      "outputs": [],
      "source": [
        "aug = naw.SynonymAug(aug_src='wordnet')\n",
        "aug_data = []\n",
        "for i, row in data.iterrows():\n",
        "    if row['label'] == 1:\n",
        "        sentence = row['sms']\n",
        "        augmented_sentence = aug.augment(sentence)\n",
        "        augmented_sentence = ' '.join(augmented_sentence)\n",
        "        aug_data.append({'label': row['label'], 'sms': augmented_sentence})\n",
        "\n",
        "augmented_dataset = pd.DataFrame(aug_data)\n",
        "augmented_dataset.to_csv('augmented.csv', index=False)"
      ]
    },
    {
      "cell_type": "code",
      "execution_count": 11,
      "metadata": {
        "id": "ktFxKCqc9dS7"
      },
      "outputs": [],
      "source": [
        "new_data = pd.read_csv('/content/augmented.csv')"
      ]
    },
    {
      "cell_type": "code",
      "execution_count": 12,
      "metadata": {
        "colab": {
          "base_uri": "https://localhost:8080/",
          "height": 206
        },
        "id": "aSKYeoWq-JS0",
        "outputId": "9373bc06-266f-42c5-9b37-cacf42e4bdbd"
      },
      "outputs": [
        {
          "output_type": "execute_result",
          "data": {
            "text/plain": [
              "   label                                                sms\n",
              "0      1  Free entry in 2 a wkly comprehensive to win FA...\n",
              "1      1  FreeMsg Hey there darling it ' s been 3 workwe...\n",
              "2      1  WINNER! ! As a respect network customer you ha...\n",
              "3      1  Had your mobile xi calendar month surgery more...\n",
              "4      1  SIX chances to advance CASH! From 100 to 20, 0..."
            ],
            "text/html": [
              "\n",
              "  <div id=\"df-7ecd5877-fe38-41e2-9ee5-7d5c1574110e\" class=\"colab-df-container\">\n",
              "    <div>\n",
              "<style scoped>\n",
              "    .dataframe tbody tr th:only-of-type {\n",
              "        vertical-align: middle;\n",
              "    }\n",
              "\n",
              "    .dataframe tbody tr th {\n",
              "        vertical-align: top;\n",
              "    }\n",
              "\n",
              "    .dataframe thead th {\n",
              "        text-align: right;\n",
              "    }\n",
              "</style>\n",
              "<table border=\"1\" class=\"dataframe\">\n",
              "  <thead>\n",
              "    <tr style=\"text-align: right;\">\n",
              "      <th></th>\n",
              "      <th>label</th>\n",
              "      <th>sms</th>\n",
              "    </tr>\n",
              "  </thead>\n",
              "  <tbody>\n",
              "    <tr>\n",
              "      <th>0</th>\n",
              "      <td>1</td>\n",
              "      <td>Free entry in 2 a wkly comprehensive to win FA...</td>\n",
              "    </tr>\n",
              "    <tr>\n",
              "      <th>1</th>\n",
              "      <td>1</td>\n",
              "      <td>FreeMsg Hey there darling it ' s been 3 workwe...</td>\n",
              "    </tr>\n",
              "    <tr>\n",
              "      <th>2</th>\n",
              "      <td>1</td>\n",
              "      <td>WINNER! ! As a respect network customer you ha...</td>\n",
              "    </tr>\n",
              "    <tr>\n",
              "      <th>3</th>\n",
              "      <td>1</td>\n",
              "      <td>Had your mobile xi calendar month surgery more...</td>\n",
              "    </tr>\n",
              "    <tr>\n",
              "      <th>4</th>\n",
              "      <td>1</td>\n",
              "      <td>SIX chances to advance CASH! From 100 to 20, 0...</td>\n",
              "    </tr>\n",
              "  </tbody>\n",
              "</table>\n",
              "</div>\n",
              "    <div class=\"colab-df-buttons\">\n",
              "\n",
              "  <div class=\"colab-df-container\">\n",
              "    <button class=\"colab-df-convert\" onclick=\"convertToInteractive('df-7ecd5877-fe38-41e2-9ee5-7d5c1574110e')\"\n",
              "            title=\"Convert this dataframe to an interactive table.\"\n",
              "            style=\"display:none;\">\n",
              "\n",
              "  <svg xmlns=\"http://www.w3.org/2000/svg\" height=\"24px\" viewBox=\"0 -960 960 960\">\n",
              "    <path d=\"M120-120v-720h720v720H120Zm60-500h600v-160H180v160Zm220 220h160v-160H400v160Zm0 220h160v-160H400v160ZM180-400h160v-160H180v160Zm440 0h160v-160H620v160ZM180-180h160v-160H180v160Zm440 0h160v-160H620v160Z\"/>\n",
              "  </svg>\n",
              "    </button>\n",
              "\n",
              "  <style>\n",
              "    .colab-df-container {\n",
              "      display:flex;\n",
              "      gap: 12px;\n",
              "    }\n",
              "\n",
              "    .colab-df-convert {\n",
              "      background-color: #E8F0FE;\n",
              "      border: none;\n",
              "      border-radius: 50%;\n",
              "      cursor: pointer;\n",
              "      display: none;\n",
              "      fill: #1967D2;\n",
              "      height: 32px;\n",
              "      padding: 0 0 0 0;\n",
              "      width: 32px;\n",
              "    }\n",
              "\n",
              "    .colab-df-convert:hover {\n",
              "      background-color: #E2EBFA;\n",
              "      box-shadow: 0px 1px 2px rgba(60, 64, 67, 0.3), 0px 1px 3px 1px rgba(60, 64, 67, 0.15);\n",
              "      fill: #174EA6;\n",
              "    }\n",
              "\n",
              "    .colab-df-buttons div {\n",
              "      margin-bottom: 4px;\n",
              "    }\n",
              "\n",
              "    [theme=dark] .colab-df-convert {\n",
              "      background-color: #3B4455;\n",
              "      fill: #D2E3FC;\n",
              "    }\n",
              "\n",
              "    [theme=dark] .colab-df-convert:hover {\n",
              "      background-color: #434B5C;\n",
              "      box-shadow: 0px 1px 3px 1px rgba(0, 0, 0, 0.15);\n",
              "      filter: drop-shadow(0px 1px 2px rgba(0, 0, 0, 0.3));\n",
              "      fill: #FFFFFF;\n",
              "    }\n",
              "  </style>\n",
              "\n",
              "    <script>\n",
              "      const buttonEl =\n",
              "        document.querySelector('#df-7ecd5877-fe38-41e2-9ee5-7d5c1574110e button.colab-df-convert');\n",
              "      buttonEl.style.display =\n",
              "        google.colab.kernel.accessAllowed ? 'block' : 'none';\n",
              "\n",
              "      async function convertToInteractive(key) {\n",
              "        const element = document.querySelector('#df-7ecd5877-fe38-41e2-9ee5-7d5c1574110e');\n",
              "        const dataTable =\n",
              "          await google.colab.kernel.invokeFunction('convertToInteractive',\n",
              "                                                    [key], {});\n",
              "        if (!dataTable) return;\n",
              "\n",
              "        const docLinkHtml = 'Like what you see? Visit the ' +\n",
              "          '<a target=\"_blank\" href=https://colab.research.google.com/notebooks/data_table.ipynb>data table notebook</a>'\n",
              "          + ' to learn more about interactive tables.';\n",
              "        element.innerHTML = '';\n",
              "        dataTable['output_type'] = 'display_data';\n",
              "        await google.colab.output.renderOutput(dataTable, element);\n",
              "        const docLink = document.createElement('div');\n",
              "        docLink.innerHTML = docLinkHtml;\n",
              "        element.appendChild(docLink);\n",
              "      }\n",
              "    </script>\n",
              "  </div>\n",
              "\n",
              "\n",
              "<div id=\"df-f8a6f1be-f997-47a3-aaff-6b2d2fd4b1f3\">\n",
              "  <button class=\"colab-df-quickchart\" onclick=\"quickchart('df-f8a6f1be-f997-47a3-aaff-6b2d2fd4b1f3')\"\n",
              "            title=\"Suggest charts\"\n",
              "            style=\"display:none;\">\n",
              "\n",
              "<svg xmlns=\"http://www.w3.org/2000/svg\" height=\"24px\"viewBox=\"0 0 24 24\"\n",
              "     width=\"24px\">\n",
              "    <g>\n",
              "        <path d=\"M19 3H5c-1.1 0-2 .9-2 2v14c0 1.1.9 2 2 2h14c1.1 0 2-.9 2-2V5c0-1.1-.9-2-2-2zM9 17H7v-7h2v7zm4 0h-2V7h2v10zm4 0h-2v-4h2v4z\"/>\n",
              "    </g>\n",
              "</svg>\n",
              "  </button>\n",
              "\n",
              "<style>\n",
              "  .colab-df-quickchart {\n",
              "      --bg-color: #E8F0FE;\n",
              "      --fill-color: #1967D2;\n",
              "      --hover-bg-color: #E2EBFA;\n",
              "      --hover-fill-color: #174EA6;\n",
              "      --disabled-fill-color: #AAA;\n",
              "      --disabled-bg-color: #DDD;\n",
              "  }\n",
              "\n",
              "  [theme=dark] .colab-df-quickchart {\n",
              "      --bg-color: #3B4455;\n",
              "      --fill-color: #D2E3FC;\n",
              "      --hover-bg-color: #434B5C;\n",
              "      --hover-fill-color: #FFFFFF;\n",
              "      --disabled-bg-color: #3B4455;\n",
              "      --disabled-fill-color: #666;\n",
              "  }\n",
              "\n",
              "  .colab-df-quickchart {\n",
              "    background-color: var(--bg-color);\n",
              "    border: none;\n",
              "    border-radius: 50%;\n",
              "    cursor: pointer;\n",
              "    display: none;\n",
              "    fill: var(--fill-color);\n",
              "    height: 32px;\n",
              "    padding: 0;\n",
              "    width: 32px;\n",
              "  }\n",
              "\n",
              "  .colab-df-quickchart:hover {\n",
              "    background-color: var(--hover-bg-color);\n",
              "    box-shadow: 0 1px 2px rgba(60, 64, 67, 0.3), 0 1px 3px 1px rgba(60, 64, 67, 0.15);\n",
              "    fill: var(--button-hover-fill-color);\n",
              "  }\n",
              "\n",
              "  .colab-df-quickchart-complete:disabled,\n",
              "  .colab-df-quickchart-complete:disabled:hover {\n",
              "    background-color: var(--disabled-bg-color);\n",
              "    fill: var(--disabled-fill-color);\n",
              "    box-shadow: none;\n",
              "  }\n",
              "\n",
              "  .colab-df-spinner {\n",
              "    border: 2px solid var(--fill-color);\n",
              "    border-color: transparent;\n",
              "    border-bottom-color: var(--fill-color);\n",
              "    animation:\n",
              "      spin 1s steps(1) infinite;\n",
              "  }\n",
              "\n",
              "  @keyframes spin {\n",
              "    0% {\n",
              "      border-color: transparent;\n",
              "      border-bottom-color: var(--fill-color);\n",
              "      border-left-color: var(--fill-color);\n",
              "    }\n",
              "    20% {\n",
              "      border-color: transparent;\n",
              "      border-left-color: var(--fill-color);\n",
              "      border-top-color: var(--fill-color);\n",
              "    }\n",
              "    30% {\n",
              "      border-color: transparent;\n",
              "      border-left-color: var(--fill-color);\n",
              "      border-top-color: var(--fill-color);\n",
              "      border-right-color: var(--fill-color);\n",
              "    }\n",
              "    40% {\n",
              "      border-color: transparent;\n",
              "      border-right-color: var(--fill-color);\n",
              "      border-top-color: var(--fill-color);\n",
              "    }\n",
              "    60% {\n",
              "      border-color: transparent;\n",
              "      border-right-color: var(--fill-color);\n",
              "    }\n",
              "    80% {\n",
              "      border-color: transparent;\n",
              "      border-right-color: var(--fill-color);\n",
              "      border-bottom-color: var(--fill-color);\n",
              "    }\n",
              "    90% {\n",
              "      border-color: transparent;\n",
              "      border-bottom-color: var(--fill-color);\n",
              "    }\n",
              "  }\n",
              "</style>\n",
              "\n",
              "  <script>\n",
              "    async function quickchart(key) {\n",
              "      const quickchartButtonEl =\n",
              "        document.querySelector('#' + key + ' button');\n",
              "      quickchartButtonEl.disabled = true;  // To prevent multiple clicks.\n",
              "      quickchartButtonEl.classList.add('colab-df-spinner');\n",
              "      try {\n",
              "        const charts = await google.colab.kernel.invokeFunction(\n",
              "            'suggestCharts', [key], {});\n",
              "      } catch (error) {\n",
              "        console.error('Error during call to suggestCharts:', error);\n",
              "      }\n",
              "      quickchartButtonEl.classList.remove('colab-df-spinner');\n",
              "      quickchartButtonEl.classList.add('colab-df-quickchart-complete');\n",
              "    }\n",
              "    (() => {\n",
              "      let quickchartButtonEl =\n",
              "        document.querySelector('#df-f8a6f1be-f997-47a3-aaff-6b2d2fd4b1f3 button');\n",
              "      quickchartButtonEl.style.display =\n",
              "        google.colab.kernel.accessAllowed ? 'block' : 'none';\n",
              "    })();\n",
              "  </script>\n",
              "</div>\n",
              "    </div>\n",
              "  </div>\n"
            ]
          },
          "metadata": {},
          "execution_count": 12
        }
      ],
      "source": [
        "new_data.head()"
      ]
    },
    {
      "cell_type": "code",
      "execution_count": 13,
      "metadata": {
        "colab": {
          "base_uri": "https://localhost:8080/",
          "height": 423
        },
        "id": "iVJuSoxzZhYl",
        "outputId": "f1f43c9c-2666-4301-ae74-6202967ec2a5"
      },
      "outputs": [
        {
          "output_type": "execute_result",
          "data": {
            "text/plain": [
              "                                                    sms  label\n",
              "2     Free entry in 2 a wkly comp to win FA Cup fina...      1\n",
              "5     FreeMsg Hey there darling it's been 3 week's n...      1\n",
              "8     WINNER!! As a valued network customer you have...      1\n",
              "9     Had your mobile 11 months or more? U R entitle...      1\n",
              "11    SIX chances to win CASH! From 100 to 20,000 po...      1\n",
              "...                                                 ...    ...\n",
              "5559  No. I meant the calculation is the same. That ...      0\n",
              "5560                           Sorry, I'll call later\\n      0\n",
              "5561  if you aren't here in the next  &lt;#&gt;  hou...      0\n",
              "5562                Anything lor. Juz both of us lor.\\n      0\n",
              "5563  Get me out of this dump heap. My mom decided t...      0\n",
              "\n",
              "[4264 rows x 2 columns]"
            ],
            "text/html": [
              "\n",
              "  <div id=\"df-7bdad889-c4e1-47cc-a230-970487a128bc\" class=\"colab-df-container\">\n",
              "    <div>\n",
              "<style scoped>\n",
              "    .dataframe tbody tr th:only-of-type {\n",
              "        vertical-align: middle;\n",
              "    }\n",
              "\n",
              "    .dataframe tbody tr th {\n",
              "        vertical-align: top;\n",
              "    }\n",
              "\n",
              "    .dataframe thead th {\n",
              "        text-align: right;\n",
              "    }\n",
              "</style>\n",
              "<table border=\"1\" class=\"dataframe\">\n",
              "  <thead>\n",
              "    <tr style=\"text-align: right;\">\n",
              "      <th></th>\n",
              "      <th>sms</th>\n",
              "      <th>label</th>\n",
              "    </tr>\n",
              "  </thead>\n",
              "  <tbody>\n",
              "    <tr>\n",
              "      <th>2</th>\n",
              "      <td>Free entry in 2 a wkly comp to win FA Cup fina...</td>\n",
              "      <td>1</td>\n",
              "    </tr>\n",
              "    <tr>\n",
              "      <th>5</th>\n",
              "      <td>FreeMsg Hey there darling it's been 3 week's n...</td>\n",
              "      <td>1</td>\n",
              "    </tr>\n",
              "    <tr>\n",
              "      <th>8</th>\n",
              "      <td>WINNER!! As a valued network customer you have...</td>\n",
              "      <td>1</td>\n",
              "    </tr>\n",
              "    <tr>\n",
              "      <th>9</th>\n",
              "      <td>Had your mobile 11 months or more? U R entitle...</td>\n",
              "      <td>1</td>\n",
              "    </tr>\n",
              "    <tr>\n",
              "      <th>11</th>\n",
              "      <td>SIX chances to win CASH! From 100 to 20,000 po...</td>\n",
              "      <td>1</td>\n",
              "    </tr>\n",
              "    <tr>\n",
              "      <th>...</th>\n",
              "      <td>...</td>\n",
              "      <td>...</td>\n",
              "    </tr>\n",
              "    <tr>\n",
              "      <th>5559</th>\n",
              "      <td>No. I meant the calculation is the same. That ...</td>\n",
              "      <td>0</td>\n",
              "    </tr>\n",
              "    <tr>\n",
              "      <th>5560</th>\n",
              "      <td>Sorry, I'll call later\\n</td>\n",
              "      <td>0</td>\n",
              "    </tr>\n",
              "    <tr>\n",
              "      <th>5561</th>\n",
              "      <td>if you aren't here in the next  &amp;lt;#&amp;gt;  hou...</td>\n",
              "      <td>0</td>\n",
              "    </tr>\n",
              "    <tr>\n",
              "      <th>5562</th>\n",
              "      <td>Anything lor. Juz both of us lor.\\n</td>\n",
              "      <td>0</td>\n",
              "    </tr>\n",
              "    <tr>\n",
              "      <th>5563</th>\n",
              "      <td>Get me out of this dump heap. My mom decided t...</td>\n",
              "      <td>0</td>\n",
              "    </tr>\n",
              "  </tbody>\n",
              "</table>\n",
              "<p>4264 rows × 2 columns</p>\n",
              "</div>\n",
              "    <div class=\"colab-df-buttons\">\n",
              "\n",
              "  <div class=\"colab-df-container\">\n",
              "    <button class=\"colab-df-convert\" onclick=\"convertToInteractive('df-7bdad889-c4e1-47cc-a230-970487a128bc')\"\n",
              "            title=\"Convert this dataframe to an interactive table.\"\n",
              "            style=\"display:none;\">\n",
              "\n",
              "  <svg xmlns=\"http://www.w3.org/2000/svg\" height=\"24px\" viewBox=\"0 -960 960 960\">\n",
              "    <path d=\"M120-120v-720h720v720H120Zm60-500h600v-160H180v160Zm220 220h160v-160H400v160Zm0 220h160v-160H400v160ZM180-400h160v-160H180v160Zm440 0h160v-160H620v160ZM180-180h160v-160H180v160Zm440 0h160v-160H620v160Z\"/>\n",
              "  </svg>\n",
              "    </button>\n",
              "\n",
              "  <style>\n",
              "    .colab-df-container {\n",
              "      display:flex;\n",
              "      gap: 12px;\n",
              "    }\n",
              "\n",
              "    .colab-df-convert {\n",
              "      background-color: #E8F0FE;\n",
              "      border: none;\n",
              "      border-radius: 50%;\n",
              "      cursor: pointer;\n",
              "      display: none;\n",
              "      fill: #1967D2;\n",
              "      height: 32px;\n",
              "      padding: 0 0 0 0;\n",
              "      width: 32px;\n",
              "    }\n",
              "\n",
              "    .colab-df-convert:hover {\n",
              "      background-color: #E2EBFA;\n",
              "      box-shadow: 0px 1px 2px rgba(60, 64, 67, 0.3), 0px 1px 3px 1px rgba(60, 64, 67, 0.15);\n",
              "      fill: #174EA6;\n",
              "    }\n",
              "\n",
              "    .colab-df-buttons div {\n",
              "      margin-bottom: 4px;\n",
              "    }\n",
              "\n",
              "    [theme=dark] .colab-df-convert {\n",
              "      background-color: #3B4455;\n",
              "      fill: #D2E3FC;\n",
              "    }\n",
              "\n",
              "    [theme=dark] .colab-df-convert:hover {\n",
              "      background-color: #434B5C;\n",
              "      box-shadow: 0px 1px 3px 1px rgba(0, 0, 0, 0.15);\n",
              "      filter: drop-shadow(0px 1px 2px rgba(0, 0, 0, 0.3));\n",
              "      fill: #FFFFFF;\n",
              "    }\n",
              "  </style>\n",
              "\n",
              "    <script>\n",
              "      const buttonEl =\n",
              "        document.querySelector('#df-7bdad889-c4e1-47cc-a230-970487a128bc button.colab-df-convert');\n",
              "      buttonEl.style.display =\n",
              "        google.colab.kernel.accessAllowed ? 'block' : 'none';\n",
              "\n",
              "      async function convertToInteractive(key) {\n",
              "        const element = document.querySelector('#df-7bdad889-c4e1-47cc-a230-970487a128bc');\n",
              "        const dataTable =\n",
              "          await google.colab.kernel.invokeFunction('convertToInteractive',\n",
              "                                                    [key], {});\n",
              "        if (!dataTable) return;\n",
              "\n",
              "        const docLinkHtml = 'Like what you see? Visit the ' +\n",
              "          '<a target=\"_blank\" href=https://colab.research.google.com/notebooks/data_table.ipynb>data table notebook</a>'\n",
              "          + ' to learn more about interactive tables.';\n",
              "        element.innerHTML = '';\n",
              "        dataTable['output_type'] = 'display_data';\n",
              "        await google.colab.output.renderOutput(dataTable, element);\n",
              "        const docLink = document.createElement('div');\n",
              "        docLink.innerHTML = docLinkHtml;\n",
              "        element.appendChild(docLink);\n",
              "      }\n",
              "    </script>\n",
              "  </div>\n",
              "\n",
              "\n",
              "<div id=\"df-7b4b6cd7-d6bc-4837-a7b0-27542cfaf144\">\n",
              "  <button class=\"colab-df-quickchart\" onclick=\"quickchart('df-7b4b6cd7-d6bc-4837-a7b0-27542cfaf144')\"\n",
              "            title=\"Suggest charts\"\n",
              "            style=\"display:none;\">\n",
              "\n",
              "<svg xmlns=\"http://www.w3.org/2000/svg\" height=\"24px\"viewBox=\"0 0 24 24\"\n",
              "     width=\"24px\">\n",
              "    <g>\n",
              "        <path d=\"M19 3H5c-1.1 0-2 .9-2 2v14c0 1.1.9 2 2 2h14c1.1 0 2-.9 2-2V5c0-1.1-.9-2-2-2zM9 17H7v-7h2v7zm4 0h-2V7h2v10zm4 0h-2v-4h2v4z\"/>\n",
              "    </g>\n",
              "</svg>\n",
              "  </button>\n",
              "\n",
              "<style>\n",
              "  .colab-df-quickchart {\n",
              "      --bg-color: #E8F0FE;\n",
              "      --fill-color: #1967D2;\n",
              "      --hover-bg-color: #E2EBFA;\n",
              "      --hover-fill-color: #174EA6;\n",
              "      --disabled-fill-color: #AAA;\n",
              "      --disabled-bg-color: #DDD;\n",
              "  }\n",
              "\n",
              "  [theme=dark] .colab-df-quickchart {\n",
              "      --bg-color: #3B4455;\n",
              "      --fill-color: #D2E3FC;\n",
              "      --hover-bg-color: #434B5C;\n",
              "      --hover-fill-color: #FFFFFF;\n",
              "      --disabled-bg-color: #3B4455;\n",
              "      --disabled-fill-color: #666;\n",
              "  }\n",
              "\n",
              "  .colab-df-quickchart {\n",
              "    background-color: var(--bg-color);\n",
              "    border: none;\n",
              "    border-radius: 50%;\n",
              "    cursor: pointer;\n",
              "    display: none;\n",
              "    fill: var(--fill-color);\n",
              "    height: 32px;\n",
              "    padding: 0;\n",
              "    width: 32px;\n",
              "  }\n",
              "\n",
              "  .colab-df-quickchart:hover {\n",
              "    background-color: var(--hover-bg-color);\n",
              "    box-shadow: 0 1px 2px rgba(60, 64, 67, 0.3), 0 1px 3px 1px rgba(60, 64, 67, 0.15);\n",
              "    fill: var(--button-hover-fill-color);\n",
              "  }\n",
              "\n",
              "  .colab-df-quickchart-complete:disabled,\n",
              "  .colab-df-quickchart-complete:disabled:hover {\n",
              "    background-color: var(--disabled-bg-color);\n",
              "    fill: var(--disabled-fill-color);\n",
              "    box-shadow: none;\n",
              "  }\n",
              "\n",
              "  .colab-df-spinner {\n",
              "    border: 2px solid var(--fill-color);\n",
              "    border-color: transparent;\n",
              "    border-bottom-color: var(--fill-color);\n",
              "    animation:\n",
              "      spin 1s steps(1) infinite;\n",
              "  }\n",
              "\n",
              "  @keyframes spin {\n",
              "    0% {\n",
              "      border-color: transparent;\n",
              "      border-bottom-color: var(--fill-color);\n",
              "      border-left-color: var(--fill-color);\n",
              "    }\n",
              "    20% {\n",
              "      border-color: transparent;\n",
              "      border-left-color: var(--fill-color);\n",
              "      border-top-color: var(--fill-color);\n",
              "    }\n",
              "    30% {\n",
              "      border-color: transparent;\n",
              "      border-left-color: var(--fill-color);\n",
              "      border-top-color: var(--fill-color);\n",
              "      border-right-color: var(--fill-color);\n",
              "    }\n",
              "    40% {\n",
              "      border-color: transparent;\n",
              "      border-right-color: var(--fill-color);\n",
              "      border-top-color: var(--fill-color);\n",
              "    }\n",
              "    60% {\n",
              "      border-color: transparent;\n",
              "      border-right-color: var(--fill-color);\n",
              "    }\n",
              "    80% {\n",
              "      border-color: transparent;\n",
              "      border-right-color: var(--fill-color);\n",
              "      border-bottom-color: var(--fill-color);\n",
              "    }\n",
              "    90% {\n",
              "      border-color: transparent;\n",
              "      border-bottom-color: var(--fill-color);\n",
              "    }\n",
              "  }\n",
              "</style>\n",
              "\n",
              "  <script>\n",
              "    async function quickchart(key) {\n",
              "      const quickchartButtonEl =\n",
              "        document.querySelector('#' + key + ' button');\n",
              "      quickchartButtonEl.disabled = true;  // To prevent multiple clicks.\n",
              "      quickchartButtonEl.classList.add('colab-df-spinner');\n",
              "      try {\n",
              "        const charts = await google.colab.kernel.invokeFunction(\n",
              "            'suggestCharts', [key], {});\n",
              "      } catch (error) {\n",
              "        console.error('Error during call to suggestCharts:', error);\n",
              "      }\n",
              "      quickchartButtonEl.classList.remove('colab-df-spinner');\n",
              "      quickchartButtonEl.classList.add('colab-df-quickchart-complete');\n",
              "    }\n",
              "    (() => {\n",
              "      let quickchartButtonEl =\n",
              "        document.querySelector('#df-7b4b6cd7-d6bc-4837-a7b0-27542cfaf144 button');\n",
              "      quickchartButtonEl.style.display =\n",
              "        google.colab.kernel.accessAllowed ? 'block' : 'none';\n",
              "    })();\n",
              "  </script>\n",
              "</div>\n",
              "    </div>\n",
              "  </div>\n"
            ]
          },
          "metadata": {},
          "execution_count": 13
        }
      ],
      "source": [
        "data.head(-10)"
      ]
    },
    {
      "cell_type": "code",
      "execution_count": 14,
      "metadata": {
        "colab": {
          "base_uri": "https://localhost:8080/"
        },
        "id": "lrykw7xsJjYC",
        "outputId": "0dad27ec-ccb3-4fde-cd34-df1f6137e644"
      },
      "outputs": [
        {
          "output_type": "stream",
          "name": "stderr",
          "text": [
            "<ipython-input-14-7e27933fba0a>:1: FutureWarning: The frame.append method is deprecated and will be removed from pandas in a future version. Use pandas.concat instead.\n",
            "  dfa = new_data.append(data, ignore_index = True )\n"
          ]
        }
      ],
      "source": [
        "dfa = new_data.append(data, ignore_index = True )\n"
      ]
    },
    {
      "cell_type": "code",
      "execution_count": 15,
      "metadata": {
        "colab": {
          "base_uri": "https://localhost:8080/",
          "height": 423
        },
        "id": "Ou7pgtKZKkKc",
        "outputId": "d1d7f6b7-f1b6-48c4-a6de-15121689b009"
      },
      "outputs": [
        {
          "output_type": "execute_result",
          "data": {
            "text/plain": [
              "      label                                                sms\n",
              "0         1  Free entry in 2 a wkly comprehensive to win FA...\n",
              "1         1  FreeMsg Hey there darling it ' s been 3 workwe...\n",
              "2         1  WINNER! ! As a respect network customer you ha...\n",
              "3         1  Had your mobile xi calendar month surgery more...\n",
              "4         1  SIX chances to advance CASH! From 100 to 20, 0...\n",
              "...     ...                                                ...\n",
              "5006      0  No. I meant the calculation is the same. That ...\n",
              "5007      0                           Sorry, I'll call later\\n\n",
              "5008      0  if you aren't here in the next  &lt;#&gt;  hou...\n",
              "5009      0                Anything lor. Juz both of us lor.\\n\n",
              "5010      0  Get me out of this dump heap. My mom decided t...\n",
              "\n",
              "[5011 rows x 2 columns]"
            ],
            "text/html": [
              "\n",
              "  <div id=\"df-1d01c2ac-0523-4ec3-9274-b3e52a855e2a\" class=\"colab-df-container\">\n",
              "    <div>\n",
              "<style scoped>\n",
              "    .dataframe tbody tr th:only-of-type {\n",
              "        vertical-align: middle;\n",
              "    }\n",
              "\n",
              "    .dataframe tbody tr th {\n",
              "        vertical-align: top;\n",
              "    }\n",
              "\n",
              "    .dataframe thead th {\n",
              "        text-align: right;\n",
              "    }\n",
              "</style>\n",
              "<table border=\"1\" class=\"dataframe\">\n",
              "  <thead>\n",
              "    <tr style=\"text-align: right;\">\n",
              "      <th></th>\n",
              "      <th>label</th>\n",
              "      <th>sms</th>\n",
              "    </tr>\n",
              "  </thead>\n",
              "  <tbody>\n",
              "    <tr>\n",
              "      <th>0</th>\n",
              "      <td>1</td>\n",
              "      <td>Free entry in 2 a wkly comprehensive to win FA...</td>\n",
              "    </tr>\n",
              "    <tr>\n",
              "      <th>1</th>\n",
              "      <td>1</td>\n",
              "      <td>FreeMsg Hey there darling it ' s been 3 workwe...</td>\n",
              "    </tr>\n",
              "    <tr>\n",
              "      <th>2</th>\n",
              "      <td>1</td>\n",
              "      <td>WINNER! ! As a respect network customer you ha...</td>\n",
              "    </tr>\n",
              "    <tr>\n",
              "      <th>3</th>\n",
              "      <td>1</td>\n",
              "      <td>Had your mobile xi calendar month surgery more...</td>\n",
              "    </tr>\n",
              "    <tr>\n",
              "      <th>4</th>\n",
              "      <td>1</td>\n",
              "      <td>SIX chances to advance CASH! From 100 to 20, 0...</td>\n",
              "    </tr>\n",
              "    <tr>\n",
              "      <th>...</th>\n",
              "      <td>...</td>\n",
              "      <td>...</td>\n",
              "    </tr>\n",
              "    <tr>\n",
              "      <th>5006</th>\n",
              "      <td>0</td>\n",
              "      <td>No. I meant the calculation is the same. That ...</td>\n",
              "    </tr>\n",
              "    <tr>\n",
              "      <th>5007</th>\n",
              "      <td>0</td>\n",
              "      <td>Sorry, I'll call later\\n</td>\n",
              "    </tr>\n",
              "    <tr>\n",
              "      <th>5008</th>\n",
              "      <td>0</td>\n",
              "      <td>if you aren't here in the next  &amp;lt;#&amp;gt;  hou...</td>\n",
              "    </tr>\n",
              "    <tr>\n",
              "      <th>5009</th>\n",
              "      <td>0</td>\n",
              "      <td>Anything lor. Juz both of us lor.\\n</td>\n",
              "    </tr>\n",
              "    <tr>\n",
              "      <th>5010</th>\n",
              "      <td>0</td>\n",
              "      <td>Get me out of this dump heap. My mom decided t...</td>\n",
              "    </tr>\n",
              "  </tbody>\n",
              "</table>\n",
              "<p>5011 rows × 2 columns</p>\n",
              "</div>\n",
              "    <div class=\"colab-df-buttons\">\n",
              "\n",
              "  <div class=\"colab-df-container\">\n",
              "    <button class=\"colab-df-convert\" onclick=\"convertToInteractive('df-1d01c2ac-0523-4ec3-9274-b3e52a855e2a')\"\n",
              "            title=\"Convert this dataframe to an interactive table.\"\n",
              "            style=\"display:none;\">\n",
              "\n",
              "  <svg xmlns=\"http://www.w3.org/2000/svg\" height=\"24px\" viewBox=\"0 -960 960 960\">\n",
              "    <path d=\"M120-120v-720h720v720H120Zm60-500h600v-160H180v160Zm220 220h160v-160H400v160Zm0 220h160v-160H400v160ZM180-400h160v-160H180v160Zm440 0h160v-160H620v160ZM180-180h160v-160H180v160Zm440 0h160v-160H620v160Z\"/>\n",
              "  </svg>\n",
              "    </button>\n",
              "\n",
              "  <style>\n",
              "    .colab-df-container {\n",
              "      display:flex;\n",
              "      gap: 12px;\n",
              "    }\n",
              "\n",
              "    .colab-df-convert {\n",
              "      background-color: #E8F0FE;\n",
              "      border: none;\n",
              "      border-radius: 50%;\n",
              "      cursor: pointer;\n",
              "      display: none;\n",
              "      fill: #1967D2;\n",
              "      height: 32px;\n",
              "      padding: 0 0 0 0;\n",
              "      width: 32px;\n",
              "    }\n",
              "\n",
              "    .colab-df-convert:hover {\n",
              "      background-color: #E2EBFA;\n",
              "      box-shadow: 0px 1px 2px rgba(60, 64, 67, 0.3), 0px 1px 3px 1px rgba(60, 64, 67, 0.15);\n",
              "      fill: #174EA6;\n",
              "    }\n",
              "\n",
              "    .colab-df-buttons div {\n",
              "      margin-bottom: 4px;\n",
              "    }\n",
              "\n",
              "    [theme=dark] .colab-df-convert {\n",
              "      background-color: #3B4455;\n",
              "      fill: #D2E3FC;\n",
              "    }\n",
              "\n",
              "    [theme=dark] .colab-df-convert:hover {\n",
              "      background-color: #434B5C;\n",
              "      box-shadow: 0px 1px 3px 1px rgba(0, 0, 0, 0.15);\n",
              "      filter: drop-shadow(0px 1px 2px rgba(0, 0, 0, 0.3));\n",
              "      fill: #FFFFFF;\n",
              "    }\n",
              "  </style>\n",
              "\n",
              "    <script>\n",
              "      const buttonEl =\n",
              "        document.querySelector('#df-1d01c2ac-0523-4ec3-9274-b3e52a855e2a button.colab-df-convert');\n",
              "      buttonEl.style.display =\n",
              "        google.colab.kernel.accessAllowed ? 'block' : 'none';\n",
              "\n",
              "      async function convertToInteractive(key) {\n",
              "        const element = document.querySelector('#df-1d01c2ac-0523-4ec3-9274-b3e52a855e2a');\n",
              "        const dataTable =\n",
              "          await google.colab.kernel.invokeFunction('convertToInteractive',\n",
              "                                                    [key], {});\n",
              "        if (!dataTable) return;\n",
              "\n",
              "        const docLinkHtml = 'Like what you see? Visit the ' +\n",
              "          '<a target=\"_blank\" href=https://colab.research.google.com/notebooks/data_table.ipynb>data table notebook</a>'\n",
              "          + ' to learn more about interactive tables.';\n",
              "        element.innerHTML = '';\n",
              "        dataTable['output_type'] = 'display_data';\n",
              "        await google.colab.output.renderOutput(dataTable, element);\n",
              "        const docLink = document.createElement('div');\n",
              "        docLink.innerHTML = docLinkHtml;\n",
              "        element.appendChild(docLink);\n",
              "      }\n",
              "    </script>\n",
              "  </div>\n",
              "\n",
              "\n",
              "<div id=\"df-81635a37-1ed5-4a7e-99ea-e0cb2e69ca68\">\n",
              "  <button class=\"colab-df-quickchart\" onclick=\"quickchart('df-81635a37-1ed5-4a7e-99ea-e0cb2e69ca68')\"\n",
              "            title=\"Suggest charts\"\n",
              "            style=\"display:none;\">\n",
              "\n",
              "<svg xmlns=\"http://www.w3.org/2000/svg\" height=\"24px\"viewBox=\"0 0 24 24\"\n",
              "     width=\"24px\">\n",
              "    <g>\n",
              "        <path d=\"M19 3H5c-1.1 0-2 .9-2 2v14c0 1.1.9 2 2 2h14c1.1 0 2-.9 2-2V5c0-1.1-.9-2-2-2zM9 17H7v-7h2v7zm4 0h-2V7h2v10zm4 0h-2v-4h2v4z\"/>\n",
              "    </g>\n",
              "</svg>\n",
              "  </button>\n",
              "\n",
              "<style>\n",
              "  .colab-df-quickchart {\n",
              "      --bg-color: #E8F0FE;\n",
              "      --fill-color: #1967D2;\n",
              "      --hover-bg-color: #E2EBFA;\n",
              "      --hover-fill-color: #174EA6;\n",
              "      --disabled-fill-color: #AAA;\n",
              "      --disabled-bg-color: #DDD;\n",
              "  }\n",
              "\n",
              "  [theme=dark] .colab-df-quickchart {\n",
              "      --bg-color: #3B4455;\n",
              "      --fill-color: #D2E3FC;\n",
              "      --hover-bg-color: #434B5C;\n",
              "      --hover-fill-color: #FFFFFF;\n",
              "      --disabled-bg-color: #3B4455;\n",
              "      --disabled-fill-color: #666;\n",
              "  }\n",
              "\n",
              "  .colab-df-quickchart {\n",
              "    background-color: var(--bg-color);\n",
              "    border: none;\n",
              "    border-radius: 50%;\n",
              "    cursor: pointer;\n",
              "    display: none;\n",
              "    fill: var(--fill-color);\n",
              "    height: 32px;\n",
              "    padding: 0;\n",
              "    width: 32px;\n",
              "  }\n",
              "\n",
              "  .colab-df-quickchart:hover {\n",
              "    background-color: var(--hover-bg-color);\n",
              "    box-shadow: 0 1px 2px rgba(60, 64, 67, 0.3), 0 1px 3px 1px rgba(60, 64, 67, 0.15);\n",
              "    fill: var(--button-hover-fill-color);\n",
              "  }\n",
              "\n",
              "  .colab-df-quickchart-complete:disabled,\n",
              "  .colab-df-quickchart-complete:disabled:hover {\n",
              "    background-color: var(--disabled-bg-color);\n",
              "    fill: var(--disabled-fill-color);\n",
              "    box-shadow: none;\n",
              "  }\n",
              "\n",
              "  .colab-df-spinner {\n",
              "    border: 2px solid var(--fill-color);\n",
              "    border-color: transparent;\n",
              "    border-bottom-color: var(--fill-color);\n",
              "    animation:\n",
              "      spin 1s steps(1) infinite;\n",
              "  }\n",
              "\n",
              "  @keyframes spin {\n",
              "    0% {\n",
              "      border-color: transparent;\n",
              "      border-bottom-color: var(--fill-color);\n",
              "      border-left-color: var(--fill-color);\n",
              "    }\n",
              "    20% {\n",
              "      border-color: transparent;\n",
              "      border-left-color: var(--fill-color);\n",
              "      border-top-color: var(--fill-color);\n",
              "    }\n",
              "    30% {\n",
              "      border-color: transparent;\n",
              "      border-left-color: var(--fill-color);\n",
              "      border-top-color: var(--fill-color);\n",
              "      border-right-color: var(--fill-color);\n",
              "    }\n",
              "    40% {\n",
              "      border-color: transparent;\n",
              "      border-right-color: var(--fill-color);\n",
              "      border-top-color: var(--fill-color);\n",
              "    }\n",
              "    60% {\n",
              "      border-color: transparent;\n",
              "      border-right-color: var(--fill-color);\n",
              "    }\n",
              "    80% {\n",
              "      border-color: transparent;\n",
              "      border-right-color: var(--fill-color);\n",
              "      border-bottom-color: var(--fill-color);\n",
              "    }\n",
              "    90% {\n",
              "      border-color: transparent;\n",
              "      border-bottom-color: var(--fill-color);\n",
              "    }\n",
              "  }\n",
              "</style>\n",
              "\n",
              "  <script>\n",
              "    async function quickchart(key) {\n",
              "      const quickchartButtonEl =\n",
              "        document.querySelector('#' + key + ' button');\n",
              "      quickchartButtonEl.disabled = true;  // To prevent multiple clicks.\n",
              "      quickchartButtonEl.classList.add('colab-df-spinner');\n",
              "      try {\n",
              "        const charts = await google.colab.kernel.invokeFunction(\n",
              "            'suggestCharts', [key], {});\n",
              "      } catch (error) {\n",
              "        console.error('Error during call to suggestCharts:', error);\n",
              "      }\n",
              "      quickchartButtonEl.classList.remove('colab-df-spinner');\n",
              "      quickchartButtonEl.classList.add('colab-df-quickchart-complete');\n",
              "    }\n",
              "    (() => {\n",
              "      let quickchartButtonEl =\n",
              "        document.querySelector('#df-81635a37-1ed5-4a7e-99ea-e0cb2e69ca68 button');\n",
              "      quickchartButtonEl.style.display =\n",
              "        google.colab.kernel.accessAllowed ? 'block' : 'none';\n",
              "    })();\n",
              "  </script>\n",
              "</div>\n",
              "    </div>\n",
              "  </div>\n"
            ]
          },
          "metadata": {},
          "execution_count": 15
        }
      ],
      "source": [
        "dfa.head(-10)"
      ]
    },
    {
      "cell_type": "code",
      "execution_count": 16,
      "metadata": {
        "colab": {
          "base_uri": "https://localhost:8080/"
        },
        "id": "8b8svdsRM5fn",
        "outputId": "23f390b8-ba0b-4e31-c171-6a351f853d46"
      },
      "outputs": [
        {
          "output_type": "stream",
          "name": "stdout",
          "text": [
            "Не спам: 70.24497112129058\n",
            "Спам: 29.75502887870942\n"
          ]
        }
      ],
      "source": [
        "a = len(dfa[dfa['label']==0])\n",
        "b = len(dfa[dfa['label']==1])\n",
        "pct_of_a = a/(a+b)\n",
        "print(\"Не спам:\", pct_of_a*100)\n",
        "pct_of_b = b/(a+b)\n",
        "print(\"Спам:\", pct_of_b*100)"
      ]
    },
    {
      "cell_type": "markdown",
      "metadata": {
        "id": "DaFlB60qqBko"
      },
      "source": [
        "Предобработка текста"
      ]
    },
    {
      "cell_type": "code",
      "execution_count": 17,
      "metadata": {
        "colab": {
          "base_uri": "https://localhost:8080/",
          "height": 518
        },
        "id": "WRnsJq9Guk5D",
        "outputId": "91e16323-84cb-4139-9e5d-ea052c760df2"
      },
      "outputs": [
        {
          "output_type": "stream",
          "name": "stdout",
          "text": [
            "0    3527\n",
            "1    1494\n",
            "Name: label, dtype: int64\n"
          ]
        },
        {
          "output_type": "execute_result",
          "data": {
            "text/plain": [
              "<function matplotlib.pyplot.show(close=None, block=None)>"
            ]
          },
          "metadata": {},
          "execution_count": 17
        },
        {
          "output_type": "display_data",
          "data": {
            "text/plain": [
              "<Figure size 640x480 with 1 Axes>"
            ],
            "image/png": "[encoded data removed]"
          },
          "metadata": {}
        }
      ],
      "source": [
        "print(dfa['label'].value_counts())\n",
        "sn.countplot(x='label', data=dfa)\n",
        "plt.show"
      ]
    },
    {
      "cell_type": "code",
      "execution_count": 18,
      "metadata": {
        "id": "RCWYBC9hnxTv"
      },
      "outputs": [],
      "source": [
        "import nltk\n",
        "import re\n",
        "from nltk import WordNetLemmatizer\n",
        "from nltk.corpus import stopwords\n",
        "from nltk import word_tokenize"
      ]
    },
    {
      "cell_type": "code",
      "execution_count": 19,
      "metadata": {
        "colab": {
          "base_uri": "https://localhost:8080/"
        },
        "id": "R5atdMpIk8Hk",
        "outputId": "ce475d59-0b5a-476e-eeae-432c311876a5"
      },
      "outputs": [
        {
          "output_type": "stream",
          "name": "stderr",
          "text": [
            "[nltk_data] Downloading package punkt to /root/nltk_data...\n",
            "[nltk_data]   Package punkt is already up-to-date!\n"
          ]
        },
        {
          "output_type": "execute_result",
          "data": {
            "text/plain": [
              "True"
            ]
          },
          "metadata": {},
          "execution_count": 19
        }
      ],
      "source": [
        "nltk.download('punkt')"
      ]
    },
    {
      "cell_type": "code",
      "execution_count": 20,
      "metadata": {
        "colab": {
          "base_uri": "https://localhost:8080/"
        },
        "id": "japmME7klBHe",
        "outputId": "f8c15b8b-c65e-4373-b28d-b51af0d90923"
      },
      "outputs": [
        {
          "output_type": "stream",
          "name": "stderr",
          "text": [
            "[nltk_data] Downloading package stopwords to /root/nltk_data...\n",
            "[nltk_data]   Package stopwords is already up-to-date!\n"
          ]
        },
        {
          "output_type": "execute_result",
          "data": {
            "text/plain": [
              "True"
            ]
          },
          "metadata": {},
          "execution_count": 20
        }
      ],
      "source": [
        "nltk.download('stopwords')"
      ]
    },
    {
      "cell_type": "code",
      "execution_count": 21,
      "metadata": {
        "colab": {
          "base_uri": "https://localhost:8080/"
        },
        "id": "Md5x5hgL1CrO",
        "outputId": "979c4ea3-2c69-4842-8d18-3b14f181cd69"
      },
      "outputs": [
        {
          "output_type": "stream",
          "name": "stdout",
          "text": [
            "['free entry wkly comprehensive win fa loving cup final tkts twenty first may text fa entry question std txt pace c mho apply', 'freemsg hey darling workweek word back vitamin comparable sport information technology still tb ok std chgs mail rcv', 'winner respect network customer selected receivea prize reward take song title code kl valid hours solely', 'mobile xi calendar month surgery uracil r entitled update late colour mobiles camera free call mobile update co free', 'six chances advance cash pounds txt csh post price p hour interval days sixteen tsandcs apply reply hl information', 'urgent advance hebdomad free membership award jackpot txt word title tetraiodothyronine c www dbuk net lccltd pobox ldnw rw', 'xxxmobilemovieclub use cite get wap liaison adjacent txt substance click hypertext transfer protocol wap xxxmobilemovieclub com n qjkgighjjgcbl', 'england v makedonija dont omit goals team news show txt ur national squad eg england try welt scotland txt poboxox w wq xvi', 'thanks subscription ringtone uk mobile river charged month please confirm answer yes respond charged', 'rodger nathan birnbaum msg stress call reply sms free nokia roving free camcorder delight call nowadays livery tomorrow', 'ms alternating current sptv new garden state devils detroit loss offstage play ice ice hockey correct incorrect end response end sptv', 'congrats single class special cinema fling deuce call century suprman v matrix starwars etc free bx ip pm dont miss', 'valued client proud suggest following late review mob atomic number awarded bonus prize call', 'pressing ur present gratis misstep eurodisinc trav aco entry surgery claim txt dis fifty morefrmmob shracomorsglsuplt tenner ls aj', 'hear fresh divorcement barbie comes sight stuff nonsense', 'delight prognosticate client service representative pm win guaranteed chiliad cash prize', 'free ringtone wait take simply text word mix verify convey usher britney fml po river box mk h ppw', 'gent trying contact final weekends draw show prize guaranteed hollo title code k valid hrs ppm', 'winner u specially choose receive holiday flights iraqi national congress speak bouncy operator two call p min xviii', 'secret account statement appearance damned fillip points claim call identifier code expires', 'urgent mobile atomic number awarded bonus caller prize constitute final effort get uranium call landline box wr c ppm', 'todays voda telephone number ending comprise selected receive award match please send quote claim code standard rates app', 'sunlight quiz wkly q win top sony videodisc musician uranium know commonwealth algarve txt ansr fifty sp tyrone', 'require get position tonight want substantial dogging locations sent unmediated ur mob join uk largest dogging network bt txting crushed rock nt ec p monosodium glutamate p', 'non rcv msgs chat svc free hardcore service text tour u convey zilch u must age verify yr network effort', 'freemsg harbor tonne replied text one randy sexy female live local luv take heed u netcollex ltd p per msg response stop end', 'customer service annoncement new year delivery waiting please call like shot arrange delivery', 'winner u got specially selected receive one thousand cash oregon iv vacation flight inc speak live operator two claim', 'pls stop bootydelious f ask round equal friend reply yes atomic number see www sms ac u bootydelious stop send stop frnd', 'bangbabes ur order way atomic number receive service monosodium glutamate two download ur depicted object uranium goto wap bangb television receiver ur mobile internet service menu', 'urgent trying contact net weekends draw shows acquire pillage guaranteed call claim code valid hrs', 'delight call client service representative freephone one hundred forty five pm make win guaranteed k cash prize', 'ar unique plenty discover th august web areyouunique carbon monoxide uk', 'new mobile mustiness go txt nokia collect today web tc biz optout gbp mtmsg', 'volition u meet ur dream partner soon ur career two flyng start find knocked barren txt horo followed ur genius sign e gibibyte horo aries ram', 'text gather someone sexy today u displace discover engagement beaver state even flirt improving u join simply p reply name age eg sam eighteen msg recd thirtyeight pence', 'u accept mystical admirer cost looking make tangency u find prohibited r reveal thinks ur special call', 'extolment ur award compact disk vouchers oregon gift guaranteed free entry wkly draw txt euphony tncs web ldew com win ppmx age', 'try get reply offer television french telephone anytime networks mins unlimited text camcorder reply operating room call', 'hey iodine genuinely horny want claver see pine tree state naked text hot text charged pm unsubscribe text stop', 'ur ringtone service changed twenty five free mention pass club mobiles com choose subject directly stop txt club stop p wk club po box mk wt', 'ringtone club bring united kingdom bingle chart mobile week choose top calibre ringtone message embody free accusation', 'hmv incentive special pound genuine hmv vouchers answer quadruplet easy questions flirt send hmv info www percent tangible com', 'metric ton mobile customer may claim free television camera phone advance earnings operate sim card loyalty call put ends thfeb thyroxin c apply', 'sm actinium blind engagement u rodds make chiliad aberdeen united kingdom check http img sms ac w icmb cktz r quadruplet blind date send hide', 'themob check young selection content games tones chin wagging infant sport retain mobile fit foul smelling text wap', 'think ur smart profits hebdomad hebdomadal quiz text play thymine degree celsius winnersclub po box eighty four uz xvi gbp l week', 'december alone nomadic mths gentle update latest color camera mobile devoid call mobile update co free', 'call germany simply pence per minute claim set crease via access turn eighty five prepayment direct access', 'valentine day special win complete quiz take cooperator stumble lifespan send go p msg rcvd custcare', 'fancy piece ass interested sextextuk com txt xxuk suzy txts cost per msg tncs website cristal', 'congratulation ur grant cd vouchers oregon gift assure free entry hundred wkly hooking txt euphony tncs web ldew com win ppmx age', 'ur cash balance live presently hammering maximize ur cash immediately send hard cash p msg cc hydrargyrum suite lands row w j hl', 'update xmas offer latest motorola sonyericsson nokia free people bluetooth double mins thou txt orange river birdsong mobileupd call optout f q', 'discount code rp stop message respond bar web regalportfolio co uk customer service', 'thanks ringtone lodge mention charged gbp per week unsubscribe anytime calling customer services', 'doubled mins txts months free bluetooth orangeness available sony nokia motorola sound call mobileupd operating theater call optout n dx', 'mths half price orange pipeline rental latest camera phone free earphone mths call mobilesdirect free update present stoptxt', 'free ringtone textual matter showtime poly text get true feeling help st free tones x pw e nd txt stop', 'date service cal l box sk ch', 'gratuitous entry weekly challenger scarcely text word god winnings speed light world wide web txttowin co uk', 'send logo ii ur fan name joined heart txt love name name mobno eg dear adam eventide hayseed pobox w wq txtno ads p', 'mortal get contacted see servicing enter phone fancy find make call landline pobox n tf p', 'urgent mobile number live awarded booty guaranteed call demesne line claim valid hrs', 'congrats nokia video camera phone call call cost ppm ave call mins vary mobile xvi nigh post bcm ldn wc n xx', 'loan purpose seventy five homeowners tenant welcome previously deny nonetheless avail call gratis oregon text back help', 'upgrdcentre orange customer whitethorn take free camera phone acclivity loyalty call offer terminate th july mt c sulphur apply opt available', 'okmail dear dave net notice collect tenerife holiday cash prize anticipate landline atomic number sae box cw wx ppm', 'require two get laid night want real dogging location sent direct ur gang join uk reciprocal ohm enceinte dogging network txting moan nyt ec p msg p', 'free message activate free text messages replying subject matter son free full term shape visit world wide web com', 'congrats year special cinema pass deuce call c suprman v matrix starwars etc free people bx ip pm dont omit kayoed', 'congratulations workweek competition draw uranium make prize claim scarcely squall b caesium stop sms ppm', 'guaranteed vogue nokia telephone set gb ipod mp player oregon loot txt word collect ibhltd ldnw h p mtmsgrcvd', 'boltblue tones p reply poly glandular fever eg poly one cha cha slide yeah slow jamz toxic come stop tones txt', 'credit get top http www bubbletext com reclamation pin tgxxrz', 'urgent mobile river nobelium make award bonus caller prize nd attempt contact shout box qu', 'today sulfur offer claim ur worth discount vouchers schoolbook yes savamob member offer mobile cs troika sub unsub response x', 'recieve tone within next hrs footing conditions please reckon channel uracil teletext pg', 'private news report statement shows un redeem reciprocal ohm grand points call identifier code expires eighteen', 'world wide web applausestore com monthlysubscription p msg max calendar month csc web age stop txt stop', 'cuss try adjoin last weekends draw shows prize guaranteed call title computer code k valid hrs ppm', 'immediate payment ii plunder claim call', 'roving number receive claim call us back border claims hot line', 'taste contact answer go mins textand new video phone outcry reply detached delivery tomorrow', 'ur probability win wkly shopping spree txt shop snow www txt two shop com custcare x p wk', 'experience specially selected receive dog pound award call line close cost ppm xvi tetraiodothyronine cs apply atomic number promo', 'private chronicle statement shows un redeemed ane point call identifier codification conk xxiv', 'important customer service proclamation predict freephone', 'xclusive clubsaisai morow v soiree speciale zouk nichols city light free roses ii ladies information', 'days kick euro u celebrate upwards engagement latest word results daily represent removed send get txt stop', 'new textbuddy confab horny guy ur area p free receive search postal code gaytextbuddy com txt public figure', 'today vodafone phone number terminate live take receive award number matches call welcome award', 'dear voucher bearer two claim weeks offer pc go http world wide web vitamin e tlp conscientious objector uk expressoffer mt nose candy practice stop texts txt stop', 'secret explanation command show un redeem points call identifier code expires thirty one', 'win john cash swag claim call mt coke rstm sw ss ppm', 'live premium phone serve call', 'sms ac sun posts hello seem coolheaded wanted say hi howdy stoppage send occlusive', 'get ur st ringtone free reply monosodium glutamate timbre gr top tone phone every hebdomad per wk opt send full stop', 'hi single sue twenty years old work lapdancer love sex text live single ace sleeping room text eugene sue textoperator g da ppmsg xviii', 'forward please birdcall immediately location urgent message waiting', 'review sustain fantastical nokia newton skunk game deck cards club nokia go www cnupdates com newssheet unsubscribe alerts reply countersign', 'mths half price orangeness line rental latest camera phones four free phone mths bid mobilesdirect free update stoptxt cs', 'pm price p', 'urgent second endeavour contact atomic number u north korean call b csbcm wc n xx callcost ppm mobilesvary max heptad', 'guaranteed cash booty claim yr prize call client service voice pm', 'email alertfrom jeri stewartsize kbsubject cost prescripiton drvgsto listen e mail call', 'hi customer dedication offer new nokia mobile river txtauction txt word start stimulate right away ctxt technetium p mtmsg', 'u subscribed roving capacity serving uk ternary per days send stop helpline', 'gain twoscore years receive thousand one time ladies run around tattoos', 'significant client service annunciation premier', 'romantic paris nights flights script quaternity next twelvemonth visit ts cs apply', 'urgent ur five hundred guaranteed award still unclaimed promise closingdate claimcode pmmorefrommobile bremoved mobypobox ls yf', 'ur award city good luck could advance summertime shopping fling every wk txt store skilgme tscs winawk age perwksub', 'make authoritative client help announcement premier call freephone', 'ever call survive good sprightliness perfect partner txt back gens age get together mobile community interests p ms', 'fivesome free top polyphonic tone shout subject pace get toppoly tune commit every workweek merely text subpoly per pole unsub', 'orange customer may claim free people photographic camera phone upgrade commitment call directly offer ends thmarch thymine c apply opt availa', 'last chance claim ur cl worth bank discount verifier today schoolbook shop savamob offers mobile mt cs savamob pobox uz ternion sub', 'free st calendar week nokia tone quaternion ur mobile every calendar week txt nokia get txting tell ur mates www getzed co uk pobox w wq norm p pure tone', 'deliver succeed guaranteed honor even cashto claim ur award call option free stop getstop php rg jx', 'congratulations ur awarded either compact disk gift vouchers free entrance one c hebdomadary draw txt euphony tncs web ldew com win ppmx age', 'u outbid simonwatson shinco dvd plyr two bid visit sms ac smsrewards ii remnant bid notifications answer end', 'smsservices yourinclusive text recognition pls goto www comuk last login qxj unsubscribe stop supernumerary charge assist comuk cm ae', 'p quaternion alfie moon child penury song ur mob tell ur txt tone polemonium van bruntiae nokias poly charity polys zed profit charity', 'uracil secret admirer reveal thinks u r exceptional call choose reply reveal stop one l per monosodium glutamate recd cust caution', 'beloved voucher holder take weeks offer pc delight go http www e tlp co uk expressoffer ts cs apply stop text txt stop', 'need anytime net mins textbook new video phone five pounds per calendar week shout respond pitch tomorrow', 'tried contact whirl new tv telephone set anytime network mins half price rental camcorder call reply speech wed', 'lowest chance claim ur one hundred fifty worth deduction vouchers text edition yes savamob extremity pass mobile thymine cs troika sub remove txt x stop', 'urgent call landline complimentary little joe ibiza holiday operating room hard currency await collection sae cs po loge sk wp cl ppm eighteen', 'today offer claim ur cl charles frederick worth discount vouchers text yes nowadays savamob phallus fling mobile metric ton c sub unsub reply x', 'public lecture sexy make modern friends surgery nightfall love worlds near discreet text geological dating military service text vip discover could gather', 'congratulations ur grant either yrs supply cds virgin records enigma gift guaranteed call ts cs world wide web smsco net pm approx mins', 'secret account statement xxxxxx show un redeemed second points call identifier code expires xi', 'hello need posh hiss chaps user trial run prods champneys put need address dob asap tantalum r', 'practise u want xmas detached text message newfangled picture phone half price short letter renting call free find', 'shop cashbox u drop follow either k k cash operating room hundred travel voucher claim ntt po corner cr bt fixedline cost ppm mobile vary', 'fair weather quiz wkly q win top sony dvd player u roll hay state liverpool played mid calendar week txt ansr sp tyrone', 'u secret supporter world health organization looking two make contact u find come closet world health organization r reveal world health organization thinks ur special call', 'u mystical admirer world health organization looking make contact atomic number ascertain tabu r reveal thinks ur thence special call stopsms', 'reminder hold download subject matter already give goto hypertext transfer protocol doit mymoby tv take message', 'free ringtone waiting collect simply text password mixture verify get james ussher britney fml po river box mk h ppw', 'lastest stereophonics bob marley dizzee racal libertines strokes win nookii game coquetry chink themob wap bookmark text wap', 'jan male sale hot homophile chat tatty call national charge per unit p min cheap p min peak stop texts call p min dialect', 'money r lucky succeeder claim prize text money million give aside ppt x normal schoolbook rate box w jy', 'dear matthew delight call land line complimentary lx tenerife vacation thousand cash await aggregation ppm sae cs box sk xh', 'urgent phone land line free iv tenerife holiday cash await collection sae cs loge hp yf ppm', 'astir getting tactual sensation family line waiting company txt back name age opt enjoy residential area p sms', 'ur cash equilibrium currently pounds maximise ur johnny cash straight send ecstasy p msg cc po corner tcr w', 'filthy stories girl wait', 'urgent trying adjoin atomic number todays draw shows trophy guaranteed call soil seam claim valid hrs', 'congrats mobile g videophones universal gas constant call videochat wid partner play java games dload polyph music noline rentl', 'please call customer service representative freephone cxlv pm ensure cash prize', 'panasonic bluetoothhdset free nokia free people motorola free doublemins doubletxt orange contract bridge call mobileupd call optout', 'free st week nokia tone quatern ur mob every week txt nokia get txting tell ur mates www getzed co uk pobox w wq norm p tone', 'guess soul know secretly fancies wan na find give us margin call landline datebox essexcm xn p min xviii', 'know someone world health organization know fancies hollo find pobox ls hb p', 'yard flirting txt miss operating theatre bloke ur name eld eg young lady zoe link get chatting', 'eighteen days euro kickoff uranium kept informed totally latest tidings resolution day day unsubscribe send get euro stop', 'eastenders tv quiz efflorescence dot compare reddish blue e tulip f lily txt calciferol e f fortune ii win cash wkent p', 'new local dates area sight new people register area reply particular date start exclusively www flirtparty us replys', 'someone atomic number know asked dating service ii contact cant guess world health organization shout volition revealed po box wu', 'urgent try contact uracil today attraction shows bear prize guaranteed call land descent claim c valid hrs', 'dear uranium ask round xchat final try contact u txt chat', 'awarded sipix digital camera call landline livery within days cs box bp yr warranty ppm sixteen p atomic number', 'profits urgent nomadic number personify grant prize guaranteed foretell land seam claim valid hrs ppm', 'darling subscriber ur hook gift voucher volition b entered receipt correct ans elvis presleys natal day txt answer', 'message important information exploiter today favourable day find wherefore logarithm onto http www urawinner com fantastical surprise awaiting', 'ingest deliver goods mary leontyne price claim call', 'bored speed date try speedchat txt speedchat get like em txt swap get fresh chatter chat pobox w wq p monosodium glutamate rcd', 'want anytime electronic network mins text edition new television phone five pounds per calendar week margin call reply delivery tomorrow', 'taking part nomadic survey yesterday five hundred texts ii use still wish get txts send txt thyroxin c www txt com ace p', 'ur hmv quiz cash balance exist currently maximize ur cash send hmv p monosodium glutamate', 'dont forget put place many free requests stchoice co great britain bid data call', 'wear jazz u u know send chat allow find former p msg rcvd hg suite lands dustup w j hl ldn twelvemonth', 'thank winner notified atomic number honorable luck future marketing reply check customer help', 'missy many local u r virgins ii r ready fil ur every intimate pauperization fire u fil text cute p', 'free entry wkly comp win fa loving cup last tkts twenty first may text fa receive entry question std txt pace ampere second apply', 'got takes take constituent wrc rally oz uracil lucozade vigor text mass meeting le p see packs lucozade co uk wrc itcould u', 'sex ur mobile river free sexy pic jordan river text babe every wk catch sexy celeb pocketbabe co uk pics sixteen trio wk', 'novel voice mail please call', 'gain ground year supplying candela quadruplet store ur selection worth enter weekly draw txt euphony tonne cytosine www ldew com subs win ppmx', 'sim ratifier selected receive incentive get delivered room access txt holy writ ok claim p msg exp apr', 'unity new voicemail please call', 'one nokia tincture ur family every week txt nok first timbre free get txtin tell ur friends p tone reply hectoliter info', 'victor u specially choose receive thousand cash iv holiday flights inc speak alive hustler title', 'reply name address receive military post weeks completely spare accommodation assorted global locations www phb com ph p', 'free entry weekly comp send holy scripture enter triiodothyronine hundred web textcomp com cust upkeep', 'please call immediately urgent substance waiting', 'hungry gay guy wire feel hungry upwards quaternion information technology call exactly p min break texts call p fukkianese', 'u get telephone wan na chat localize sports meeting call pine tree state uracil cum moro luv jane xx yell minmoremobsemspobox po wa', 'electronic network operator servicing destitute mt c visit game', 'enjoy jamster videosound au club credits modern videosounds logos musicnews get fun jamster conscientious objector uk help call', 'get lion england note reply lionm tetrad mono lionp poly go web ringtones co britain original newton best inflect gbp meshwork operator rate apply', 'win newest harry thrower order capital arizona book answer harry answer fivesome head fortune st among readers', 'ur balance make ur next doubtfulness sang uptown girl solution txt ur answer destiny', 'free day sexy st george day pic jordan txt pic dont miss forbidden every wk saucy celeb moving picture c pocketbabe co uk wk', 'hot live fantasies call today p per min ntt ltd petty officer box croydon cr wb k', 'bears pic ding tom turkey pete dick fact types try gay chat picture upload song p hokkianese two stop text edition call', 'new mobiles must go txt nokia cod today www tc biz optout gbp mtmsg txtauction', 'double amoy two baser txt toll linerental latest orange tree bluetooth mobile call mobileupd recent offering operating theatre call optout lf', 'nokia tone ur family every week txt nok st smell free get txtin tell ur friends p timber reply hl info', 'urgent important data exploiter today lucky day find logarithm onto http www urawinner com fantastic surprise awaiting', 'dear u invited xchat cost final endeavor get u txt new world chat p msgrcvdhg suite lands row w j hl ldn yrs', 'praise ur awarded either cd gift vouchers free entry one hundred hebdomadal draw txt music tncs web ldew com win ppmx age', 'sale arsenal dart board good condition doubles beaver state treble', 'free first workweek entry ii textpod chance advance gb ipod cash every wk txt pod liothyronine cs www textpod nett custcare', 'registered optin subscriber ur draw iv talent coupon entered reception right ans whats bbc charts', 'summers ultimately fondness chat flirt sexy singles yr field get matched answer summer forthwith free two junction optout txt stop help', 'claire havin borin time entirely u wan na cum nite chat right away bob hope two atomic number uranium luv claire calls minmoremobsemspobox po wa', 'bought one ringtone begin texts cost trine pound offering tone etc', 'pressing mobile xxxxxxxxx succeed ii fillip caller prize nd attempt reach foretell asap', 'guaranteed latests nokia phone gb ipod mp player operating theater prize txt word collect atomic number llc new york state america p mt msgrcvd', 'hi lucy hubby meetins clarence day fri iodin b solo hotel u fancy cuminum cyminum pls leave behind msg day lucy x vociferation minmobsmorelkpobox hp fl', 'account constitute credited free people text content activate precisely txt word credit thymine cesium www game', 'sms alternating electric current jsco department energy high u may non know channel day ur leaders skills r strong psychic reply ans w dubiousness oddment reply end jsco', 'hot live fantasies call option scarce p per min dialect ntt ltd po river box croydon cr wb national rate call', 'thanks vote tattle along stars karaoke mobile river free tie simply respond sing', 'brand young mobile medicine servicing live free euphony histrion get shortly put phone browse content top artists', 'urgent mobile present incentive caller loot exist nd attempt contact call box qu bt national rate', 'nokia exist get win free auction direct part post nokia immediately hg suite lands row w jhl', 'hello orange month free access game news sport positive free text exposure messages respond yes terms apply www orange co uk ow', 'ur cash balance currently five hundred pound maximise ur cash send offer p monosodium glutamate ml hg suite lands row w j hl', 'samarium auction sword new nokia upward auction today auction barren deuce join take part txt nokia hg suite lands row w j hl', 'private news report command show un redeem points call identifier code run', 'registered subscriber yr line talent voucher b entered reception correct ans next olympics txt ans', 'urgent mobile number grant prize guaranteed holler land line call valid hrs ppm', 'rt king pro telecasting club pauperism assistant info ringtoneking co great britain oregon call must club credits redeemable world wide web ringtoneking co uk enjoy', 'u experience secret admirer comprise looking deuce make contact u find world health organization r reveal thinks ur special call', 'destitute text edition monosodium glutamate text ok credit score', 'choose stay unity top british hotel zilch holiday worth claim call john griffith chaney bx sw ss', 'eerie nokia tones u rply tone title eg tone genus dracula deed shade addamsfa munsters exorciser gloam www getzed co uk pobox w wq p', 'net appropriate companies bill sm responsible suppliers shop experience give guarantee sell atomic number g', 'freemsg feelin kinda lnly hope uranium like preserve maine company jst go cam moby wan na c pic txt surgery answer date msg p rcv hlp stop', 'ur chance pull ahead cash every wk txt action tetraiodothyronine south c entropy web movietrivia tv custcare x p wk', 'rgent follow nd attempt reach uranium uracil call b thymine csbcm wc n xx callcost ppm mobilesvary easy lay l', 'hi ur lookin saucy daytime fun wiv busty splice adult female free next workweek chat ii sort time janinexx calls minmobsmorelkpobox hp fl', 'urgent try contact uracil today draw shows accept prize guaranteed foretell land line call valid hrs', 'monthly password wap mobsi com employ wap speech sound non pc', 'todays vodafone numbers ending last four finger take receive award number mates please telephone claim award', 'free pinnacle ringtone sub weekly ringtone get st week free send subpoly troika per calendar week halt samarium', 'sunshine quiz wkly q win top sony videodisc player atomic number state algarve txt ansr sp tyrone', 'detached msg sorry help ordinate could non delivered non sufficient credit please top receive service', 'hard live schmooze p min opt girl connect live shout instantly cheap new world chat uk gravid live service vu bcm wc n xx', 'wow boys r back return uk circuit profits high ticket pre holy scripture vip club txt club trackmarque ltd info vipclub u', 'hi mandy sullivan call hotmix frequency modulation select encounter easter prize tie please telephone claim prize transferred someone else', 'ur departure bahamas callfreefone speak resilient hustler claim either bahamas sail hard currency solely opt txt x', 'person conacted date service entered phone project find information technology call landline pobox n tf', 'aloha state ibh customer loyalty offer new nokia mobile txtauction txt word scratch line get', 'sms auction sale nokia get win free auction withdraw component part send nokia hg suite lands row w jhl sixteen', 'ring freephone nowadays', 'bargain space invader chance deuce win orig arcade game console pressure cypher game arcade std wap accusation see co uk games term settings purchase', 'loanword purpose homeowners tenants welcome antecedently refused still help call free operating theatre text backward help', 'big sidekick alert calculator accept selected u k cash oregon voucher call ntt po box seat cro xviii bt land line monetary value ppm mobile river vary', 'win winner mr foley gain ipod greater extent exciting prizes soon keep center ur mobile river sojourn www succeed co great britain', 'todays voda figure ending selected experience award match please call quoting claim code standard rate app', 'hottest pics straight headphone construe getting wet wanting xx text pics txt costs p textoperator g ga eighteen', 'hack chat get backdoor entree chat room fraction cost reply neo beaver state call take p promethium dps bcm box ldn wc n xx', 'spare nokia motorola upto mths price linerental free x net income mins txt mth free people b tooth yell mobileupd oregon shout optout wv', 'second time try contact atomic number u win pound prize claim easy call exclusively p per hokkianese bt national rate', 'receive deliver goods insure johnny cash prize claim yr prize call client service instance', 'would like see xxx pics thus hot banned united kingdom', 'hmv bonus special pounds genuine hmv voucher answer four easy questions play send hmv information web percent real com', 'u secret friend looking make contact atomic number find r reveal thinks ur particular outcry', 'good xxxxxxx atomic number cost ask xchat represent final attempt contact u txt chat p msgrcvdhg suite lands row w j hl ldn yrs', 'urgent please call land line abta complimentary little joe tenerife vacation operating theatre cash await collection sae cs box cw wx ppm', 'call listen extreme dirty live confab going office rightfulness total privacy one knows sic listening p fukkianese twenty four mp', 'freemsg hey atomic number iodine got video photograph fones reply wild txt ill send u pic hurry upward im hence bored work xxx p rcvd stop stop', 'free entry hebdomadary comp probability come ipod txt fuel pod get entree std txt rate c mho apply detail', 'new textbuddy chat horny guys ur area p gratuitous deuce receive search postal code beaver state gaytextbuddy com txt one name rpl stop deuce cnl', 'call tell u birdsong claim prize u let enter ur mobile personal details prompts careful', 'liberal st week entering textpod chance ii win gb ipod operating theater cash every wk txt vpod ts world wide web textpod net custcare', 'people dogging area forthwith call union like mind guys non arrange place entropy evening minapn ls bb', 'well done rib del sol holiday await collection anticipate present toclaim sae technetium pobox stockport sk xh cost l pm max mins', 'guess soul know secretly fancies wan na find stunned world health organization yield us call landline datebox essexcm xn p min', 'spare text messages valid thirty one december', 'pull ahead guaranteed cc award yet thousand cashto claim ur award call free stop getstop php', 'reply win weekly fifa world cupful personify held send stop end inspection repair', 'urgent please call landline abta free tenerife vacation cash await ingathering sae cs corner cw wx ppm', 'free pure tone hope enjoyed new content text stop unsubscribe help p provided tones colorado uk', 'themob yo yo yo comes novel selection red hot downloads members generate free click open next link send ur fone', 'bad news call freefone take guaranteed cash operating room endowment speak alive operator', 'u crapper acquire medicine gift vouchers every week start txt word god draw tscs www ldew com skillgame winaweek age ppermesssubscription', 'mths half leontyne price orange line rental late tv camera telephone free phone mths bid mobilesdirect free update stoptxt', 'send use ur mins calls cast p fukkianese mob vary help provide aom gbp month aom box er u halt ages', 'urgent fluid bonus caller prize attempt hit call asap box n qp ppm', 'eerie nokia tones u rply note title eg tone genus dracula title ghost addamsfa munsters exorcist twilight www getzed co uk pobox w wq p', 'sexy singles waiting text age followed sex shrivel f vitamin e gravitational constant f gay man text age followed chiliad e g g', 'freemsg call ur sms substance text okey use web mobile ur mates etc join txt com p wk thyroxine ampere second box la wu remove txtx stop', 'free people ringtone answer real number', 'considerably done england get official poly ringtone operating room colour flag yer mobile text tone flag opt ko txt eng stop box w wx one fifty', 'final chance claim ur cl charles frederick worth rebate vouchers today text edition yes savamob member offers mobile cs savamob pobox uz subs', 'private write statement show unredeemed bonus points claim shout identifier codification expires', 'sm religious service inclusive text credits pls goto web comuk net login unsubscribe halt extra flush assistant po box ip', 'free day sexy st george solar day pic jordan txt pic dont miss extinct every wk saucy celeb pics c pocketbabe co uk tercet wk', 'winner make specially selected receive cash operating theater honour speak live operator claim call pm cost p', 'sunshine hols claim ur med holiday send stamped self name address gasbag drinks us uk us post office loge bray wicklow eire quiz head start sat unsub stop', 'uracil force gain ground medicine gift vouchers every week starting txt parole draw tscs www idew com skillgame winaweek age ppermesssubscription', 'praise week rivalry draw uracil prize claim prognosticate b ampere second break sms ppm', 'b u verifier watt c embody marsms log onto www b utele com deduction deferred payment opt prohibited reply stop client care phone call', 'freemsg hey buffy love fulfil workforce home solo feeling randy reply deuce c pix qlynnbv help p msg send stop cease txts', 'sunshine hols claim ur med holiday send stamped self address gasbag drinks us uk po box bray wicklow eire quiz starts sat unsub stop', 'free st week nokia modulate ur mob every week txt nokia get txting tell ur mate zed pobox w wq norm p flavour sixteen', 'shop boulder clay u pearl either k k cash hundred travel voucher call forthwith ntt po box cr bt fixedline cost ppm mobile vary', 'spare photographic camera phones linerental month cross ntwk mins two price txt bundle deals likewise avble call call optout j medium frequency', 'urgent mobile xxxxxxxxx bonus caller prize nd attack reach call asap box n qp ppm', 'urgent four rib del colloidal solution holiday await accumulation call toclaim sae technetium pobox stockport sk xh cost fifty pm max mins', 'advance guaranteed hard cash swag claim yr prize call customer service representative pm monetary value p', 'thanks ringtone order ref number k mobile river make charged tone non arrive please call client services', 'howdy ya babe disco biscuit u goten bout swindler getting smart though regular vodafone answer pay farther prem rate msg subscription former used also beware', 'back piece work morro half condition displace u c pine tree state nite quaternary sexy passion b deuce go backward chat luv dena calls minmobsmorelkpobox hp fl', 'thanks ringtone order ref number r mobile river represent charged tone arrive please visit customer service', 'splashmobile choose gr tone wk subscrition serving hebdomadal shade costing p uracil nonpareil credit kick back enjoy', 'heard u piece scream rude old world chat individual line merchandise cum wan c pics gettin shagged text pix end send stop consonant sam xxx', 'forwarded free first appearance weekly comp hardly send word enter eighteen ascorbic acid web textcomp com', 'doomed pound help', 'mobile mths update free people orange latest semblance camera mobiles unlimited weekend calls promise mobile upd freefone stoptx', 'new message please call', 'forwarded hi letter box messaging atomic number alert quadruplet messages make equal please predict back recall messages match', 'congrats yr special cinema pass hollo vitamin c suprman v matrix starwars etc quaternary free bx ip pm dont miss', 'win year supply cds store ur choice worth enter weekly standoff txt euphony ts light speed www ldew com subs win ppmx', 'moby saloon quiz win senior high street prize u know world health organization new duchess cornwall follow txt world class name unsub stop l sp arrow', 'succeed nokia pay win free auction bridge shoot share send nokia quicksilver suite lands row w jhl', 'congratulations thanks good friend uranium xmas prize two claim easy forebode p per minute bt home pace', 'tddnewsletter emc co uk games thedailydraw dear helen troy slews free people plot great prizeswith', 'urgent mobile bit gain bonus caller prize follow attack reach send asap box n qp ppm', 'double min txts orangeness price linerental motorola sonyericsson b vitamin tooth free nokia free people telephone call mobileupd optout hv', 'download many ringtones u like restrictions choose u yet send yr brother txt sir iii', 'delight yell immediately urgent subject matter waiting', 'spook upward syndicate halloween collection logo photograph message summation loose eerie tone txt card specter zed p per logo picture show', 'fantasy football back television receiver go sky gamestar sky active voice play k aspiration team scoring starts saturday register directly sky opt', 'shade club subs pass away two sub reply monoc mono beaver state polyc polys hebdomadary p per week txt plosive speech sound stop msg free stream', 'christmas day prize draws try get u todays draw show gain plunder guaranteed call land line valid hrs', 'yes lonesome position town meet exciting grownup one uk txt chat directly p monosodium glutamate', 'somebody contacted dating service entered phone becausethey fancy find verboten world health organization information technology call landline pobox w rg p', 'babe u desire dont u baby im nasty matter filthyguys fancy ill mannered time sexy squawk go slo n hard txt xxx slo msgs', 'get triiodothyronine know u u know send chat lease find alone p monosodium glutamate rcvd hectogram suite lands row w j hl ldn yr er', 'samarium serve inclusive text credit pls gotto www comuk net login qxj unsubscribe stop supernumerary charge help comuk cm ae', 'valentines day special win quiz deal cooperator trip lifetime send go p monosodium glutamate rcvd custcare', 'guess first time created web page www asjesus com scan compose single waiting thought iodin need supporter', 'ur opportunity come cash every wk txt period play thyroxin sec deoxycytidine monophosphate www music trivia net custcare x p wk', 'final hazard title ur worth discount verifier today text yes like shot savamob appendage offer mobile tonne cs savamob pobox uz sub', 'sppok upwards ur mob halloween collection nokia logotype flick message plus free people eerie note txt card specter', 'urgent call landline complementary tenerife vacation ten cash await aggregation sae vitamin c po box wa px ppm eighteen sender hol offer', 'winner treasure meshwork customer hvae choose receive reward collect call option valid twenty four hours acl pm', 'uranium feature gain nokia plus free digital camera u get atomic number win free auction take part send nokia present pobox tcr w', 'free entry hebdomadal comp send word win deoxythymidine monophosphate c web txttowin co u k', 'text get ringtones logos game www txt com interrogative sentence information txt co uk', 'freemsg grant free mini digital camera reply snap compile prize quizclub opt cease p wk sp rwm ph', 'message embody make gmw ltd non connected', 'congrats mobile g videophones radius call like shot videochat wid ur mates play java games dload polyph music noline rentl bx ip p', 'next awful picsfree video sent enjoy one vid non enough day text back keyword picsfree get next television', 'u subscribe good peregrine message service united kingdom great britain northern ireland per mean solar day send blockage helpline', 'free tarot school text find astir love life forthwith try free text chance xvi triad free msgs fifty', 'fall uk horniest dogging service u get sex nite precisely sign surveil instructions txt entryway nyt ec lp msg p', 'sunshine quiz wkly q profits top sony dvd player u screw land liverpool represent mid week txt ansr sp tyrone', 'bash knock txt whose come r weekly draw gift voucher store yr selection cs www tkls com age stoptxtstop l week', 'forward hi mailbox messaging sm alert xl mate please shout back think messages equal cc p fukien', 'free ring step text polys every workweek get raw timbre yrs wk', 'urgent peregrine xxx bonus company prize nd endeavour reach call asap box n qp ppm', 'guaranteed latest nokia phone gb ipod mp player oregon five hundred prize txt word collect ibhltd ldnw h p mtmsgrcvd', 'hello darling today would love consume chat dont severalize look comparable sexy', 'free st week nokia tone ur mob every week exactly txt nokia get txting tell ur mates www getzed co uk pobox w wq norm p tonicity xvi', 'wan na get laid nite want real dogging location send unmediated ur mobile join uk due south declamatory dogging network txt common straightaway nyt ec lp one msg', 'try get response offer new nokia fone camcorder hit response call delivery', 'new tones workweek include one mcfly ab sara jorge shock testament kate smith switch order follow instructions next message', 'urgent trying contact u todays draw designate throw come prize guaranteed call land short letter title c valid hrs', 'sports buff catch latest sports news program str ur mobile wk free people plus free people feeling txt sport www getzed co uk norm txt p', 'urgent urgent bear free flight eu give away anticipate b tenth phratry take friend free call claim ba nnfwfly ppm', 'lost help', 'freemsg phantasy flirt answer day month right away conjoin uks fast growing mobile dating service msgs rcvd p optout txt stop reply date', 'great new offer double mins double txt best orange duty latest tv camera phone four free call mobileupd free stoptxt cs', 'leslie townes hope enjoy new contentedness text stop unsubscribe help p provided tones conscientious objector uk', 'eighteen days euro commencement atomic number represent kept inform entirely modish news results daily unsubscribe send get euro stop', 'urgent please predict land line hard currency lavishness sneak islands vacation await collection triiodothyronine cs sae accolade aq ppm sixteen', 'urgent please call landline gratis lx costa del holiday hard cash await collection ppm sae thymine one c st james apostle twenty eight eh rr', 'bed u u triiodothyronine know maine send new world chat let find former p msg rcvd hg suite lands row w j hl ldn years surgery er', 'married local women looking discreet action quint real matches instantly speech sound text edition friction match msg cost p two stop txt full stop bcmsfwc n xx', 'beefburger king wan na play footy top stadium fetch warren e burger king first family line pop large super coca cola walk winner', 'come takes little fourth dimension child exist afraid dark get teenager world health organization want stay nox', 'ur probability win cash every wk txt action atomic number c randomness www movietrivia television custcare x p wk', 'u bin awarded l bet tetrad instant johnny cash promise claim every ninth player profits min fifty optout', 'freemsg fav christmas tones reply real', 'december stimulate mobile mths entitle update late colour camera mobile river destitute call mobile update co free', 'gr poly tone quaternity mobs manoeuver u rply poly form address eg poly breathe titles crazyin sleepingwith finest ymca getzed co uk pobox w wq p', 'interflora late order interflora flowers noel birdsong pose order midnight tomorrow', 'romcapspam everyone around responding well presence since warm outgoing bringing veridical intimation sunshine', 'congratulations thanks good protagonist u xmas prize deuce claim well address p per minute bt national pace', 'send logotype ur devotee two epithet joined nerve txt love name name mobno eg love adam evening yahoo pobox w wq txtno ads p', 'tkts euro loving cup final operating room hard cash hoard call b pobox ppm', 'free substance jamster cause crazy frog sound poly text mad real text mad crazy sounds gbp week sixteen carbon apply', 'chance glucinium reality fantasy show call nowadays p per min ntt ltd po boxful croydon cr wb interior rate call', 'adult content video constitute shortly', 'chance glucinium vitamin reality fantasy display outcry p per fukien ntt ltd po box croydon cr wb national rate call', 'hey boys need hot xxx pics send direct ur phone txt porn hrs costless p per clarence day arrest text stopbcm sf wc n xx', 'last opportunity claim ur cl charles frederick worth discount vouchers today text shop savamob offer mobile c savamob pobox uz sub sixteen', 'pdate three fold mins txts orange river tariffs latest motorola sonyericsson nokia bluetooth free call mobileupd call optout yhl', 'ur cash balance currently pounds maximise ur cash post johnny cash p monosodium glutamate cc po boxful tcr w', 'urgent wandering number feature awarded prize guaranteed address country line call valid hrs', 'sorry atomic number put unsubscribe yet family offer package get min term weeks pls resubmit request expiry reply themob help quatern information', 'novel message please call', 'currently content awaiting solicitation collect content call', 'urgent mobile river awarded unity bonus company prize captain hicks final attempt ii liaison u claim', 'u receive private admirer reveal think uracil universal gas constant special holler opt reply reveal full stop per msg recd cust care', 'ever notice drive anyone going slower idiot everyone driving faster madman', 'xmas pass latest motorola sonyericsson nokia free bluetooth oregon dvd double min txt orange call mobileupd operating theatre call optout qf', 'answer pull ahead weekly professional sport answer tiger woods gaming send stop end armed service', 'polyphonic spirit ur mob every week txt pt st tone free indeed let txtin narrate ur friends p whole tone sixteen reply hl info', 'hot live fantasy cry barely p per min ntt ltd post office loge croydon cr wb cost national rate call', 'message complimentary receive novel improved sex dogging club unsubscribe service reply stop msgs p', 'tkts euro cup final examination oregon cash collect birdsong b pobox ppm', 'loanword purpose householder tenants welcome previously refused give sack still avail call free text backwards assistant', 'update mths half price orange line rental mins foretell mobileupd surgery call optout j q', 'free unlimited hardcore pornography unmediated wandering txt pornography get free access twenty four hrs chrgd p per day txt layover exit msg free', 'eastenders tv quiz flower manage dot compare reddish blue e tulip f lily txt e operating theater f chance deuce win one hundred john cash wkent p', 'make unsubscribed services get tons aphrodisiac baby hunks straight phone go http gotbabes co great britain subscriptions', 'hi babe hashemite kingdom jordan r u im dwelling abroad lonely text back u wan na new world chat xxsp visionsms com text stop stopcost p', 'bring forth brand new mobile telephone agent family addition loads goodies info text mat', 'maker rings return king store response lotr june chance deuce win lotr soundtrack cds stdtxtrate reply full point terminate txts', 'good hazard draw takes place twenty eighth february good luck removal send stopover client service', 'gratuitous debut ii weekly comp chance get ahead ipod txt pod get entry std txt rate c hold details', 'st wk free gr feeling str u wk txt nokia classic nokia step smash polys nokia p poly p sixteen', 'lookatme thanks purchase television clip lookatme make charged p recall suffice better send video mmsto', 'sexy sexy semen text im moisture warm ready porn u play msg free recd msgs p iraqi national congress vat natural text occlusion', 'hard live chat p min prefer girl connect live forebode cheap chat uk biggest hot overhaul vu bcm wc n xx', 'non heard u call rude old world chat private line cum wan c movie maine gettin shagged text pix end send stop sam thirty', 'second metre hold tried reach u u gain prize claim simply call b cs stop sm ppm', 'hot live fantasies call nowadays p per min ntt ltd po box croydon cr wb k', 'dear voucher bearer claim weeks offer pc delight decease http world wide web due east tlp co uk reward tonne c apply', 'ur leaving bahamas callfreefone speak resilient operator exact either bahamas sail cash choose stunned txt x', 'comprise nd time assay contact uranium uracil pound prize claim easy visit p per min bt national rate', 'ur awarded metropolis break could win two hundred summer shopping spree every wk txt shop skilgme tscs winawk age perwksub', 'urgent seek contact atomic number today draw shows get ahead prize guaranteed call land line descent title valid hrs', 'thanks ringtone parliamentary procedure reference telephone number x mobile river shoot iv tone arrive please call client services', 'sise chance win cash one c pound txt csh send cost p day days tsandcs apply response hectoliter quaternary info', 'ur hard currency balance make currently five hundred pounds maximize ur cash send collect p monosodium glutamate cc po boxwood tcr w', 'felicitation thanks beneficial supporter uranium xmas prize claim easy exactly call p per minute bt national rate', 'want new nokia colour phone deliveredtomorrow devoid second mobile devoid texts complimentary camcorder reply oregon call', 'accept novel voicemail please call', 'someone u know enquire date service two contact cant shot world health organization call revealed pobox hexad ls hb p', 'camera award sipix digital camera birdsong fromm land line delivery within xxviii days', 'todays voda numbers ending follow pick receive award hava couple please visit quoting call codification standard rates app', 'message live free receive raw improved gender dogging club unsubscribe service reply stop msgs p', 'rct thnq adrian uranium school text rgds vatian', 'free message activate free text messages answer substance word free terms conditions sojourn world wide web com', 'contact go divine service someone roll hay find equal call demesne line pobox w tg p', 'sorry one missed call let talk make time', 'gratis star ibiza vacation ten cash needs urgent collection landline non mislay taboo box sk wp ppm', 'barren monosodium glutamate placard mobile number error shortcode please call sustain charges refunded song innocent bt landline', 'delight call immediately pressing message look', 'urgent fluid number present incentive caller loot visit land argumentation valid hrs', 'esteem client pleased advise following late inspection mob awarded bonus prize call', 'want new nokia colour phone deliveredtomorrow free second wandering free texts free camcorder reply oregon call', 'life never much fun great come made information technology unfeignedly exceptional pine tree state bring home bacon forget enjoy one gbp sms', 'get along want fresh video recording phone anytime network mins inclusive tv calls download per calendar week free deltomorrow call reply', 'appreciate client pleased apprise following recent review rabble nobelium awarded bonus booty call', 'welcome please reply age gender begin tocopherol g', 'freemsg calendar month unlimited loose calls activate smartcall txt call subscriptn gbp wk unlimited claim assistant period txt stop landlineonly', 'fluid mths update latest orange river camera video speech sound free save free texts weekend predict text yes callback orno choose kayoed', 'amplitude modulation new club dont fink met yet b gr c atomic number please go forth msg day wiv ur surface area response promise carlie disco biscuit calls minmobsmore lkpobox hp fl', 'camera awarded sipix digital photographic camera call fromm landline bringing within days', 'get free mobile river telecasting thespian free people movie collect text go information technology free excess photographic film put tetraiodothyronine c apply yrs', 'save money wedding intimate apparel world wide web espousal petticoatdreams co uk choose brilliant choice national delivery brought weddingfriend', 'get wind u call maine hither night pants make beg like u last time twenty luv nikiyu net', 'bloomberg message center hold apply succeeding http careers bloomberg com', 'urgent trying touch uracil todays tie picture dirty money guaranteed call kingdom line call valid hrs', 'desire new telecasting phone anytime network mins text fin pounds per week call immediately operating room respond manner speaking tomorrow', 'constitute contacted dating service someone know find world health organization shout land line pobox w tg p', 'wan win meet greet westlife quartet u operating theater presently tour ane unbreakable untamed unkempt text price p dose text edition', 'dorothy kiefer com bank granite outlet strong buy explosive pickax members nasdaq symbol cdgt exist quintuplet per', 'thousand winner operating theater guaranteed caller loot final effort contact claim claim ppmpobox bhamb xe', 'xmas new years eventide tag constitute sale club day till pm thurs fri sat night week selling fast', 'rock yr chik get sulfur nasty pic xxx motion picture year telephone set forthwith rply filth saristar ltd e yt p per days stop cancel', 'next calendar month arrive upto l calls ur criterion network charge deuce activate call c wire net st terms pobox uz price min mobcudb', 'urgent seek meet u today draw shows prize guaranteed call estate line claim j po box c pm', 'textbook banneduk see price p textoperator g ga xxx', 'auction round high bid fifty four following maximum bid adjure transport bids e gram bid good fortune', 'garner valentine due south weekend paris iraqi national congress flight hotel cc prize guaranteed text paris www rtf sphosting com', 'client loyalty crack new nokia mobile river txtauction txt word start get ctxt trusteeship council p mtmsg', 'consider true incredible txts response g ascertain truly astonishing things muff mind fwd p txt', 'hi ibh client commitment offer new nokia mobile txtauction txt word showtime get forthwith', 'one live n horny willing live local text reply get line strt back p per msg netcollex ltdhelpdesk answer diaphragm end', 'want new nokia colour earphone delivered tomorrow destitute minute mobile c free people text free camcorder response call', 'congratulations north korean achiever august prize draw promise prize code', 'p alfie sun myung moon children need song ur mob tell ur txt spirit jacob ladder nokias poly polemonium caeruleum polys zed profit charity', 'official england poly ringtone operating room color flag yer mobile tonights secret plan school text tone oregon flag optout txt eng stop box w wx', 'client service announcement late tried make manner speaking ineffectual thence please scream schedule ref', 'send away stop club tone replying stopover mix see tone com enjoy html terms club tones price gbp hebdomad mfl po boxful mk wt two', 'wamma get laid want real doggin locations transport lineal mobile join uks largest dogging network txt heel straight nyt ec lp msg', 'accept nokia get acquire free auction rent part send nokia quicksilver suite lands course w jhl', 'promotion number ur awarded city severance could win summertime shopping fling every wk txt computer memory skilgme tscs winawk age perwksub', 'winner specially selected experience cash honour speak live operator take call pm price p', 'free top ringtone bomber weekly ringtone get st week free send subpoly terzetto per workweek stop consonant master science', 'thanks ringtone order cite number x mobile charged iv quality arrive please hollo customer service colour red text colour txtstar', 'hi nights ur favourable night uve invited xchat uks wildest confab txt chat p msgrcvdhg suite lands row w j hl ldn yrs', 'deuce tf p', 'dear verifier holder claim st class aerodrome waiting area pass apply holiday voucher call booking quote first class x deuce', 'bloomberg message center wherefore postponement apply succeeding hypertext transfer protocol careers bloomberg com', 'yes office townspeople take exciting grownup uk txt chat p monosodium glutamate', 'free st calendar week nokia tone foursome ur crime syndicate every week txt nokia get txting tell ur mate www getzed co uk pobox w wq norm p tone', 'someone u know take dating armed service tangency cant guess call revealed pobox xy p', 'mila age blond new uk look sexual activity uk guys u like sport pine tree state text mtalk pp txt st free increments help', 'claim two hundred shopping spree predict deliver win mobstorequiz ppm', 'deprivation flinch ur fone hebdomadal fresh tone reply tones u text world wide web ringtones co united kingdom great britain northern ireland original n best inflect gbp network hustler rates apply', 'twinks bears scallies skins jock calling pretermit weekend fun call p taiwanese ii stop text edition margin call nat rate', 'tried contact reply pass telecasting handset anytime network fukien unlimited text camcorder answer operating theater call', 'urgent trying contact last weekend draw shows win prize guaranteed call claim codification k valid hours', 'christmas day iscoming ur awarded either candela gift vouchers costless entry two r hebdomadal draw txt music tnc', 'felicitation u fanny claim high muckamuck row group tickets c blu concert november operating room blu gift guaranteed call claim cs www smsco nett cost triad max', 'fantasy football back tv snuff sky gamestar sky active voice play k dream squad scoring start saturday register sky opt', 'free msg single find collaborator expanse real people waiting chat send chat cncl send stopcs one per msg', 'win newest harry potter order genus phoenix rule book answer harry enquiry fortune first among reader', 'free monosodium glutamate ringtone http tms widelive com index finger wml id b ecef ff foremost true jul', 'ohio immortal found turn mb happy text back xafter msgs cst doctor sacred theology ntwk chg one fifty', 'link picture institutionalise tin well use hypertext transfer protocol alto co uk moving ridge wave asp', 'double fukien txts orange duty latest motorola sonyericsson nokia bluetooth free people call option mobileupd operating room call optout hf', 'urgent nd try contact u prize yesterday notwithstanding awaiting collection arrogate cry acl pm', 'lamb dave final notice collect foursome tenerife vacation cash honour ring land line tcs sae box cw wx ppm', 'william tell u ii call claim prize uracil make deuce enter ur mobile personal details prompts heedful', 'account statement xxxxxxxxx show unredeemed points claim call identifier code xxxxx expire', 'want new video handset anytime net mins one half toll crinkle rental camcorder reply call legal transfer tomorrow', 'take important customer service announcement name freephone', 'free ringtone response real poly eg real pushbutton dontcha babygoodbye little joe golddigger five webeburnin st tone free u junction wk', 'detached msg get gnarl barkleys nutcase ringtone totally free reply fail message right', 'refused loan secured operating room unsecured mt nonplus citation call free directly operating room text back help', 'comprise especially choose receive award call line close cost ppm xvi tonne cs apply atomic number promo', 'appraise vodafone client computing device picked win one hundred fifty swag collect easy call', 'free telecasting tv camera earphone one half price line lease twelve mths cross ntwk mins txts shout mobileupd operating theater call optout', 'great new offer double mins two bagger txt upright orange river tariffs catch latest camera phones quaternity free call mobileupd free stoptxt c', 'ringtoneking', 'ringtone club gr new polys direct mobile every workweek', 'bank granite issue strong bargain explosive pick fellow member national association securities dealers automated quotations symbol cdgt phoebe per', 'bored housewives chat n date seventy seven bt internal charge per unit p min landlines', 'adjudicate promise reply master science video mobile mins unlimited textbook free camcorder reply holler del thurs', 'time sustain tried contact u uranium advance swag claim easy call p per minute bt national pace', 'wan acquire sports meeting greet westlife u currently term enlistment single unbreakable untamed trinity unkempt text operating theatre cost p std schoolbook', 'please cry customer table service example freephone pm win secure cash plunder', 'testament exist receiving week triple replication ringtone brief delight', 'u selected stay top british hotel nothing holiday valued dial claim national rate call bx sw ss', 'equal elect receive award pls call claim number collect award selected receive valued mobile customer', 'delight call client service representative freephone pm gain guaranteed cash prize', 'win k cash prize prize worth', 'thanks ringtone order quotation phone number x mobile charged fifty tone non arrive please call customer services', 'moby public house quiz win one c high street prize u know modern duchess cornwall volition exist txt first figure unsub stop sp', 'weeks savamob member go comprise like shot accessible prognosticate item savamob pobox la wu simply week savamob offers mobile', 'contacted dating service someone know encounter come closet world health organization call mobile landline pobox ldns', 'tb persolvo chase us since family line definitely paying right away thanks information volition ignore kath manchester', 'loan purpose yet bad credit tenants welcome shout noworriesloans com', 'kicking new season wks free finish word ur mobile txt ur club name eg villa', 'orange tree bring ringtones clip chart heroes free hit calendar week go ringtones pics wap stop get peak reply stop', 'private account statement shows un redeem entropy points call identifier code expire', 'tried promise reply atomic number tv fluid min dialect unlimited text free camcorder reply call', 'gsoh honorable spam ladies u could b male gigolo ii juncture u k firm growing workforce club respond oncall mjzgroup stop reply stop msg rcvd', 'u secret adorer exist looking make contact lens uracil find world health organization r reveal thinks ur thence special call', 'hot live fantasies call simply p per fukien ntt ltd po corner croydon cr wb constitute interior pace call', 'urgent fluid number give birth awarded ukp prize guaranteed call landline title valid hrs simply ppm', 'spjanuary male sales event hot gay chat cheaper cry national rate p min cheap seven p min peak stop textbook claim p fukkianese', 'freemsg today second day ready mebibyte horny live town ane enjoy sexuality fun games netcollex ltd p per monosodium glutamate response stop end', 'simpsons movie released july name band died beginning picture show green clarence shepard day jr b amobarbital sodium day c ruddy day institutionalize vitamin b complex atomic number', 'delight promise amanda regard renewing surgery raise current mobile river handset free bursting charge offer ends today tel subject triiodothyronine nose candy', 'urgent rib del sol vacation await collecting call toclaim sae tc second pobox stockport sk xh toll pm max mins', 'need new video telephone anytime meshwork mins one half price line rental free text three calendar month reply operating theatre call free pitch', 'nomadic xi months uranium r entitled update late gloss mobiles camera destitute call mobile update co free', 'dear voucher holder lay claim weeks offer personal computer please go http web wtlp co uk text metric ton cs apply', 'congrats nokia video camera phone call calls cost ppm ave call mins vary mobiles nigh mail bcm ldn wc n xx', 'urgent please call abta complimentary little joe spanish holiday tenner cash await collection sae cs boxwood xlvii po ez ppm xviii', 'double mins txts months free people bluetooth orange tree available sony nokia motorola phones call mobileupd oregon call optout n dx', 'free st week nokia tone little joe ur mob every week txt nokia get txting order ur mates www getzed co uk pobox w wq norm p tone', 'lack funk astir ur fone weekly modern tone response tones u deuce school text www ringtones co uk original n best tone gbp network manipulator rates apply', 'cmon babe make horny turn txt phantasy present babe im hot sticky need response two cancel send period', 'important information orange user xxxxxx today ur lucky day two find logarithm onto http web urawinner com fantastic prizeawaiting', 'missed cry alert identification number called left substance', 'freemsg records indicate may constitute entitled pounds accident claim free reply yes monosodium glutamate choose text stop', 'atomic number pull ahead hundred music gift voucher every week starting txt word draw poker tscs www idew com skillgame winaweek age ppermesssubscription', 'show ur colours euro ace fling catch england flag lions tone ur phone click following serving message info', 'text pass collect contrapuntal ringtones normal gprs boot apply merely enjoy quality', 'accordingly one reduplicate text word ok mobile phone send', 'stop breaker immediately come deluxe data format new features great graphics mobile buy replying get bbdeluxe take challenge', 'important information orangeness drug user today lucky day find forbidden wherefore log onto http web urawinner com fantastic surprisal awaiting', 'natalja f pay live acquaintance reply yes see web sms actinium u nat stop send stop frnd', 'urgent important information user today favourable solar day find wherefore log onto http www urawinner com fantastic surprise awaiting', 'succeeder esteem network customer get selected receivea prize reward claim call call computer code kl valid minute', 'outfit strip experience bill p netcollex ltd po box ig oja', 'hmv bonus special pound genuine hmv vouchers answer prosperous questions play send hmv information www percent real com', 'please call immediately urgent content hold back', 'thesmszone com lets send liberal anon disguised messages im sending substance see potential abuse', 'advantageously done iv rib del colloidal suspension holiday await collection ring toclaim sae tcs pobox stockport sk xh cost ace pm max mins', 'someone u know need date serving link cant guess world health organization call embody revealed po box wu', 'congrats ii mobile g videophones radius call nowadays videochat wid ur mates play java games dload polyh music noline rentl bx ip pm', 'u confidential admirer looking make touch atomic number find world health organization r reveal world health organization think ur special call', 'important entropy four orangeness user xxxxxxx today live lucky day find log onto http web urawinner com fantastic surprise awaiting', 'see service live inquire contact u someone shy call volition revealed pobox uz p', 'want fresh video recording handset time meshing mins unlimited text camcorder reply beaver state holler del sat', 'ur residuum adjacent motion complete landmark big bob b complex barry beaver state c ben text b c good luck', 'ur tonexs subscription consume renewed hold charged iv tooshie choose polys month world wide web clubzed co uk billing msg', 'prize go another customer carbon www thymine c biz xviii p fukkianese polo ltd cortege london w j hl please call back busy', 'want new nokia colour phone delivered tomorrow cc innocent minutes mobile one c free people text free camcorder answer operating theatre call', 'recpt one tierce ordered ringtone monastic order exist work', 'one registered contributor u tin enter haulage universal gravitational constant barn gift voucher replying enter unsubscribe school text stop', 'chance win free bluetooth headset simply reply backward adenosine diphosphate', 'river b floppy b rattling felicitous merely gay chat service exposure upload birdcall p amoy deuce stop texts call', 'pressing ur awarded complimentary head trip eurodisinc trav aco entry one thousand arrogate txt dis xviii morefrmmob shracomorsglsuplt ls aj', 'welcome uk mobile engagement monosodium glutamate free giving free call succeeding mg bill p daily cancel air go stop', 'received mobile subject matter delight', 'want explicit sexual activity secs band cost p taiwanese', 'latest nokia mobile operating room ipod mp player cd proze guaranteed reply winnings norcorp ltd mtmsgrcvd', 'master science services inclusive text credits pls goto web comuk net login qxj unsubscribe stop excess charge help comuk cm ae', 'nomadic golf club choose top quality items mobile cfca', 'money bear wining turn wot next', 'congrats mobile g videophones r call present videochat wid ur mates play java games dload polyh medicine noline rentl bx ip pm', 'want peter hubby away need existent man two satisfy txt wife strings action txt block final stage txt rec ea otbox la ws', 'gr young overhaul live sex picture chew fat family visualise aphrodisiacal dirty girls live ur phone details text horny cancel ship stop', 'freemsg aloha state child wow got young cam river moby wan na c red hot pic operating theatre fancy chat im w utxt rply new world chat hlp msg p rcv', 'wan na jest try chit confabulation mobile right away logon txting word chat send curium po box london w zf xvi p msg rcvd', 'urgent represent second attempt contact u uracil sustain call b csbcm wc n xx callcost ppmmobilesvary max seven', 'congratulations ur awarded cd voucher operating theater gift guaranteed free people entry wkly draw txt music', 'contract mobile mnths latest motorola nokia etc free double mins text orangeness tariffs textual matter yes callback remove record', 'urgent squall landline complimentary four ibiza holiday johnny cash await collection sae degree celsius po box seat sk wp ppm', 'ur chance win wkly shopping spree txt shop c www txt shop com custcare x p wk', 'uracil stimulate secret protagonist see ii make liaison atomic number find r reveal thinks ur special call stopsms ppm', 'mila age blonde new uk expect sex uk guys u like fun pine tree state text mtalk pp txt first free increments help', 'well come england get official poly ringtone color flag yer mobile river text tone flag opt txt eng diaphragm box w wx', 'freemsg txt birdcall exact reward trinity hours talk town time use phone subscribe gbp mnth inc hrs stop txtstop', 'cheerfulness quiz win super sony videodisk recorder canname capital australia text mquiz b', 'please call customer service voice pm secure cash surgery prize', 'today voda numbers ending selected receive wages catch please predict quoting call computer code standard rates apply', 'personify ripped polish get roving content www clubmoby com call poly key pix chest ringtones games six downloads', 'tried meet response offer video headphone anytime network mins half mary leontyne price transmission line renting camcorder reply call', 'xmas reward waiting computer random picked loyal mobile customers receive four hundred wages call', 'private account affirmation appearance un save iodin meter points call identifier code go xxi', 'customer religious service announcement recently tried make delivery merely ineffective act please call agenda ref', 'hi babe chloe r u smashed saturday night constitute great weekend uracil missing sp visionsms com text edition blockage contain p text', 'urgent mobile awarded bonus telephoner prize nd attempt reach promise box qu', 'profits winner mr foley ipod greater extent exciting dirty money soon maintain center ur mobile surgery sojourn world wide web win co united kingdom great britain northern ireland', 'complimentary game get rayman golf free games arcade first get ur games settings response mail save activ printing press keystone colonnade termsapply', 'mobile tenner mths update latest camera video phones free keep ur number get extra free taiwanese school text textbook yes song', 'buy space invaders chance two winnings orig colonnade game cabinet closet games colonnade std wap charge see co uk game terms background purchase', 'photographic camera awarded sipix digital camera call fromm landline delivery within twenty eight days', 'weekly sang froid mob tone quick download workweek new tones include weirdo frog axel f akon lonely black eyed dont atomic number thomas info n', 'cashbin carbon monoxide gas uk get destiny hard cash weekend web cashbin co uk dear welcome weekend suffer got biggest best ever hard cash give away', 'urgent wandering number awarded prize guaranteed call edwin herbert land transmission line claim valid hrs entirely ppm', 'thanks quaternary continued support question week enter u draw cash name new us president txt ans', 'unique user gem state removal post stop customer service', 'urgent call option land line gratis iv ibiza vacation decade cash await collection sae cs po box sk wp ppm', 'urgent attack contact u prize yesterday expect collecting exact call option', 'santa calling would short ones like call santa xmas eve visit koran clock time calls ppm last mins thirty mt c www santacalling com', 'individual account assertion show doomed bonus spot lay claim call identifier code expires', 'check come closet choose babe video sm shsex netun fgkslpopw fgkslpo', 'u radius victor u ave specially selected receive cash holiday flight inc speak unrecorded operator ii call p taiwanese eighteen', 'new mobiles must go txt nokia collect today single www quadruplet tc biz optout gbp mtmsg txtauction', 'secret history financial statement shows un redeemed one point call identifier codification expires xxix nought', 'sustain win valued vodafone client computer sustain picked win prize collect loose call', 'free substance thanks using auction sale subscription serve p msgrcvd ii skip auction bridge txt unsubscribe txt stop customercare', 'bored housewives chat n day month bt home pace p fukkianese entirely landlines', 'lyricalladie xxi farad inviting booster reply yes nobelium date www sms ac u hmmross plosive send stop frnd', 'polyphonic tone four ur mob every week txt pt st tone free people get txtin tell ur friends p tone xvi reply hl info', 'today vodafone numbers ending selected receive honor number matches call receive award', 'want late video french telephone anytime network min dialect half price wrinkle rental response call delivery tomorrow', 'ou guaranteed previous nokia earpiece gb ipod mp player oregon loot txt word collect ibhltd ldnw h p mtmsgrcvd', 'free people polyphonic ringtone text super get free poly timber calendar week sn pobox nr zs subscription pw', 'warner settlement coke colin farrell swat wkend warner village get free med zea mays everta appearance msg ticket kiosk valid c mt c cubicle reply sony quaternary mre moving picture whirl', 'destination arsenal iv henry v liverpool joseph henry scores simple stroke yards pass bergkamp give armory two goal margin mins', 'nd prison term make tried contact u u acquire pound prize two claim easy hollo p per min bt national charge per unit', 'got information technology takes return office wrc rally oz u lucozade department energy text rally le p see packs lucozade co uk wrc itcould embody u', 'hi sexychat girl personify waiting text text corking night chatting send arrest stop service', 'large word claim freefone claim guaranteed cash natural endowment speak lively operator', 'hi comprise amy volition send free phone number couple years testament throw access totally grownup company', 'receive select service added benefits lavatory immediately forebode specially trained advisor free people mobile dial', 'love voucher bearer get next repast us use following connectedness pc ii enjoy dining experiencehttp world wide web vouch com etlp dining asp', 'urgent judge contact uracil today draw shows deliver advance prize guaranteed scream land line claim valid hrs solely', 'posterior donate ii united nations children fund asiatic tsunami disaster support fund texting donate deuce l added next bill', 'goldviking comprise inviting constitute friend answer yes nobelium see www sms ac u goldviking stop send stop frnd', 'phony award todays voda numbers ending xxxx selected receive award match please call quoting claim code criterion charge per unit app', 'compact disc u congratulations ur awarded five hundred cd gift voucher gift warrant freeentry century wkly drawing card xt music tncs www ldew com win ppmx age', 'win guaranteed cash beaver state award claim yr respect ring customer avail representative pm cost p', 'dear xxxxxxx u ask xchat final try contact u txt chat p msgrcvdhg suite lands row w j hl ldn yrs', 'ur hard cash balance currently pounds maximise ur cash ship spell exclusively p meg milliliter hg suite lands course w j hl', 'secret report statement shows un redeemed megabyte distributor point call identifier codification xx expires', 'ane viosterol tell rich darkest phantasy call p min dialect arrest texts call nat rate', 'win believe information technology merely true incredible txts reply thou learn truly astonishing things leave blow mind fwd p txt', 'natalie f invite embody friend answer yes one hundred sixty five see world wide web master science ac u natalie k stop send stop frnd', 'jamster develop free wallpaper textual matter heart instantly c use xvi need help call', 'two baser min dialect double txt price linerental latest orange bluetooth mobiles call mobileupd really recent offering call optout lf', 'destitute picture photographic camera phones half leontyne price melodic line rental xii mths cross ntwk mins one hundred txts call mobileupd call optout', 'uk break accommodationvouchers terms consideration utilise two title mustprovide call number', 'p alfie moon children need song ur crime syndicate tell ur txt whole step charity nokias poly charity polys zed profit charity', 'make headway two hundred shopping spree every hebdomad starting play text storage skilgme tscs winawk age perweeksub', 'second attempt contract bridge u acquire week top prize either cash operating theater cc prize call', 'want new nokia colour speech sound deliveredtomorrow three hundred free minute roving gratuitous texts free camcorder answer call', 'themob hit link pay premium garden pink panther game unexampled sugababes crazy zebra animation operating theatre badass hoody wallpaper quatern free', 'msg fluid content order information technology resent former attack give due net error query customersqueries netvision uk com', 'one young message please call', 'december entirely roving mths ennoble update belated colour tv camera mobile free call mobile river update vco free people', 'receive lions england pure tone reply lionm mono lionp quartet poly go www ringtones co u k original n best tone gbp meshing operator rates apply', 'private report statement', 'costa del sol holiday await collection holler toclaim sae technetium randomness pobox stockport sk xh cost ane pm max mins', 'free st week nokia tone ur mobile every week txt nokia get txting tell ur mates www getzed co uk pobox w wq sixteen norm p tint', 'get garden ready summer free selection summertime bulb seeds worth solely scotchman sabbatum stop go notxt conscientious objector uk', 'congrats ii mobile g videophones radius call today videochat wid ur mates play java games dload polyph music noline rentl bx ip p', 'sms auction brand new nokia auction today auction complimentary join admit contribution txt nokia immediately', 'ree ingress hebdomadary comprehensive examination probability win ipod txt pod sire entry std txt rate tetraiodothyronine c apply details xviii', 'criminal record indicate u maybe entitled pounds recompense accident claim free reply claim monosodium glutamate stop txt stop', 'spook astir mob hallowe en solicitation logo pic substance plus liberal eerie tone txt card creep zed p per logo moving picture show', 'birdcall germany simply cent per bit claim fixed lineage via access number prepayment lineal access www telediscount carbon monoxide gas uk', 'south korean costa del colloidal suspension vacation await collection call straight toclaim sae technetium pobox stockport sk xh cost l pm max mins', 'mobile mths update free oranges late color camera mobiles unlimited weekend calls call mobile upd freefone operating theater stoptxt', 'natalja atomic number inviting booster reply yes nobelium see www sms ac u nat stop send diaphragm frnd', 'secret chronicle argument fone shows un redeemed one mib points call identifier code expires', 'elect receive award pls call title number roll award selected receive value wandering client', 'someonone know trying contact via date robert william service find prohibited world health organization could constitute promise mobile oregon landline box sk ch', 'urgent please call land line cash vacation await solicitation cs sae po boxful xy sixteen', 'prize go another client thymine deoxycytidine monophosphate www triiodothyronine c biz p min polo ltd suite london w j hl please call backwards use', 'urgent mobile number awarded booty guaranteed call nation blood line claim valid hrs ppm', 'urgent ace workweek free membership prize pot txt word claim deoxythymidine monophosphate c www dbuk net lccltd pobox ldnw rw', 'urgent please call landline cash operating theatre lavishness canary island vacation expect ingathering cs sae po river boxful xy ppm', 'christmas day iscoming ur awarded either five hundred cd gift vouchers costless entry two universal gas constant c weekly draw txt medicine tnc www ldew com win ppmx age subscription', 'pay back official england poly ringtone colour flag yer mobile tonights biz text tone fleur de lis optout txt eng stop box w wx', 'u r subscribed textcomp wkly comp first wk free question follows subsequent wks charged p monosodium glutamate unsubscribe txt stay custcare', 'call send girls titillating ecstacy scarce p min stop text call nat rate', 'camera make award sipix digital camera claim fromm landline delivery within days', 'xmas reward wait computer randomly picked loyal mobile river customers experience payoff call', 'important substance last contact attempt important message waiting customer title dept expires baker dozen iv call', 'dating ingest two started atomic number sent text talk sport radiocommunication last calendar week connexion suffice think surgery coincidence', 'current leading bid exist pause auction send client guardianship', 'free entry gr prizes wkly comp chance win vogue nokia psp hard currency every wk txt great hypertext transfer protocol world wide web gr prizes com', 'one newfangled message holler', 'santa calling would niggling single like claim santa xmas eve call book fourth dimension', 'guaranteed award maybe still g cash claim ur accolade call free legitimat efreefone number wat behave u call', 'latest news police station toilet steal copper nothing go', 'nigh effervescent shopping breaking forty five per person call confabulate www shortbreaks org uk', 'december nomadic mths personify entitled update former colour camera mobile loose call mobile update atomic number free people', 'txt call lay claim reinforcement hours talk town time use phone subscribe gbp mnth inc hrs stay txtstop web gamb tv', 'hypertext transfer protocol tm widelive com index wml id ad first honest snow ringtone', 'get garden ready summertime costless selection summer bulbs seeds deserving xxxiii l scotsman saturday stop go notxt co uk', 'urgent last weekend draw shows deliver goods hard cash spanish vacation phone call arrogate c rstm sw tierce ppm', 'pressing trying adjoin lowest weekends draw show u g dirty money guaranteed call claim code k valid hrs p pm', 'p per min call deutschland bt line p per min check planettalkinstant com information entropy c text stop opt', 'wonder mobile turn official ultimate spider homo biz tetrad ur mobile right school text wanderer biz send u free ball wallpaper', 'sms services inclusive schoolbook credits pls goto web comuk last login qxj unsubscribe stop spare charge help comuk cm ae', 'private business relationship statement show un redeemed entropy one points call identifier code pass', 'awarded sipix digital photographic camera call landline delivery within days cs box bp yr guarantee ppm p phosphorus', 'secret account statement statement shows un redeemed one points call identifier code expires', 'want explicit sex secs ring costs p amoy gsex pobox wc n xx', 'asked mobile chatlines inclu free people mins republic india cust servs sed yes l er got mega bill trinity dont giv dickhead bailiff due days want', 'contract mobile mnths latest motorola nokia etc gratuitous two base hit taiwanese text orange river tariffs schoolbook yes recall remove records', 'monitor get ii quid free call citation details great offering pls reply textual matter valid name house postcode', 'nd prison term tried two contact u u make pound prize title easy call p per mo bt national rate', 'free entry wkly comp win fa cup final tkts st may text fa receive entry question std txt rate c apply', 'freemsg hey darling week word back like fun still tb ok xxx std chgs send rcv', 'winner valued network customer selected receivea prize reward claim call claim code kl valid hours', 'mobile months u r entitled update latest colour mobiles camera free call mobile update co free', 'six chances win cash pounds txt csh send cost p day days tsandcs apply reply hl info', 'urgent week free membership prize jackpot txt word claim c www dbuk net lccltd pobox ldnw rw', 'xxxmobilemovieclub use credit click wap link next txt message click http wap xxxmobilemovieclub com n qjkgighjjgcbl', 'england v macedonia dont miss goals team news txt ur national team eg england try wales scotland txt poboxox w wq', 'thanks subscription ringtone uk mobile charged month please confirm replying yes reply charged', 'rodger burns msg tried call reply sms free nokia mobile free camcorder please call delivery tomorrow', 'sms ac sptv new jersey devils detroit red wings play ice hockey correct incorrect end reply end sptv', 'congrats year special cinema pass call c suprman v matrix starwars etc free bx ip pm dont miss', 'valued customer pleased advise following recent review mob awarded bonus prize call', 'urgent ur awarded complimentary trip eurodisinc trav aco entry claim txt dis morefrmmob shracomorsglsuplt ls aj', 'hear new divorce barbie comes ken stuff', 'please call customer service representative pm guaranteed cash prize', 'free ringtone waiting collected simply text password mix verify get usher britney fml po box mk h ppw', 'gent trying contact last weekends draw shows prize guaranteed call claim code k valid hrs ppm', 'winner u specially selected receive holiday flights inc speak live operator claim p min', 'private account statement shows unredeemed bonus points claim call identifier code expires', 'urgent mobile awarded bonus caller prize final try contact u call landline box wr c ppm', 'todays voda numbers ending selected receive award match please call quoting claim code standard rates app', 'sunshine quiz wkly q win top sony dvd player u know country algarve txt ansr sp tyrone', 'want get laid tonight want real dogging locations sent direct ur mob join uk largest dogging network bt txting gravel nt ec p msg p', 'rcv msgs chat svc free hardcore services text go u get nothing u must age verify yr network try', 'freemsg replied text randy sexy female live local luv hear u netcollex ltd p per msg reply stop end', 'customer service annoncement new years delivery waiting please call arrange delivery', 'winner u specially selected receive cash holiday flights inc speak live operator claim', 'pls stop bootydelious f inviting friend reply yes see www sms ac u bootydelious stop send stop frnd', 'bangbabes ur order way u receive service msg download ur content u goto wap bangb tv ur mobile internet service menu', 'urgent trying contact last weekends draw shows prize guaranteed call claim code valid hrs', 'please call customer service representative freephone pm guaranteed cash prize', 'unique enough find th august www areyouunique co uk', 'new mobiles must go txt nokia collect today www tc biz optout gbp mtmsg', 'u meet ur dream partner soon ur career flyng start find free txt horo followed ur star sign e g horo aries', 'text meet someone sexy today u find date even flirt u join p reply name age eg sam msg recd thirtyeight pence', 'u secret admirer looking make contact u find r reveal thinks ur special call', 'congratulations ur awarded cd vouchers gift guaranteed free entry wkly draw txt music tncs www ldew com win ppmx age', 'tried contact reply offer video handset anytime networks mins unlimited text camcorder reply call', 'hey really horny want chat see naked text hot text charged pm unsubscribe text stop', 'ur ringtone service changed free credits go club mobiles com choose content stop txt club stop p wk club po box mk wt', 'ringtone club get uk singles chart mobile week choose top quality ringtone message free charge', 'hmv bonus special pounds genuine hmv vouchers answer easy questions play send hmv info www percent real com', 'mobile customer may claim free camera phone upgrade pay go sim card loyalty call offer ends thfeb c apply', 'sms ac blind date u rodds aberdeen united kingdom check http img sms ac w icmb cktz r blind dates send hide', 'themob check newest selection content games tones gossip babes sport keep mobile fit funky text wap', 'think ur smart win week weekly quiz text play cs winnersclub po box uz gbp week', 'december mobile mths entitled update latest colour camera mobile free call mobile update co free', 'call germany pence per minute call fixed line via access number prepayment direct access', 'valentines day special win quiz take partner trip lifetime send go p msg rcvd custcare', 'fancy shag interested sextextuk com txt xxuk suzy txts cost per msg tncs website x', 'congratulations ur awarded cd vouchers gift guaranteed free entry wkly draw txt music tncs www ldew com win ppmx age', 'ur cash balance currently pounds maximize ur cash send cash p msg cc hg suite lands row w j hl', 'update xmas offer latest motorola sonyericsson nokia free bluetooth double mins txt orange call mobileupd call optout f q', 'discount code rp stop messages reply stop www regalportfolio co uk customer services', 'thanks ringtone order reference charged gbp per week unsubscribe anytime calling customer services', 'double mins txts months free bluetooth orange available sony nokia motorola phones call mobileupd call optout n dx', 'mths half price orange line rental latest camera phones free phone mths call mobilesdirect free update stoptxt', 'free ringtone text first poly text get true tone help st free tones x pw e nd txt stop', 'dating service cal l box sk ch', 'free entry weekly competition text word win c www txttowin co uk', 'send logo ur lover names joined heart txt love name name mobno eg love adam eve yahoo pobox w wq txtno ads p', 'someone contacted dating service entered phone fancy find call landline pobox n tf p', 'urgent mobile number awarded prize guaranteed call land line claim valid hrs', 'congrats nokia video camera phone call calls cost ppm ave call mins vary mobiles close post bcm ldn wc n xx', 'loan purpose homeowners tenants welcome previously refused still help call free text back help', 'upgrdcentre orange customer may claim free camera phone upgrade loyalty call offer ends th july c apply opt available', 'okmail dear dave final notice collect tenerife holiday cash award call landline tcs sae box cw wx ppm', 'want get laid tonight want real dogging locations sent direct ur mob join uk largest dogging network txting moan nyt ec p msg p', 'free message activate free text messages replying message word free terms conditions visit www com', 'congrats year special cinema pass call c suprman v matrix starwars etc free bx ip pm dont miss', 'congratulations week competition draw u prize claim call b cs stop sms ppm', 'guaranteed latest nokia phone gb ipod mp player prize txt word collect ibhltd ldnw h p mtmsgrcvd', 'boltblue tones p reply poly mono eg poly cha cha slide yeah slow jamz toxic come stop tones txt', 'credits topped http www bubbletext com renewal pin tgxxrz', 'urgent mobile awarded bonus caller prize nd attempt contact call box qu', 'today offer claim ur worth discount vouchers text yes savamob member offers mobile cs sub unsub reply x', 'recieve tone within next hrs terms conditions please see channel u teletext pg', 'private account statement shows un redeemed points call identifier code expires', 'www applausestore com monthlysubscription p msg max month csc web age stop txt stop', 'gent trying contact last weekends draw shows prize guaranteed call claim code k valid hrs ppm', 'cash prize claim call', 'mobile number claim calls us back ring claims hot line', 'tried contact reply offer mins textand new video phone call reply free delivery tomorrow', 'ur chance win wkly shopping spree txt shop c www txt shop com custcare x p wk', 'specially selected receive pound award call lines close cost ppm cs apply ag promo', 'private account statement shows un redeemed points call identifier code expires', 'important customer service announcement call freephone', 'xclusive clubsaisai morow soiree speciale zouk nichols paris free roses ladies info', 'days kick euro u kept date latest news results daily removed send get txt stop', 'new textbuddy chat horny guys ur area p free receive search postcode gaytextbuddy com txt one name', 'todays vodafone numbers ending selected receive award number matches call receive award', 'dear voucher holder claim weeks offer pc go http www e tlp co uk expressoffer ts cs apply stop texts txt stop', 'private account statement shows un redeemed points call identifier code expires', 'cash prize claim call c rstm sw ss ppm', 'premium phone services call', 'sms ac sun posts hello seem cool wanted say hi hi stop send stop', 'get ur st ringtone free reply msg tone gr top tones phone every week per wk opt send stop', 'hi sue years old work lapdancer love sex text live bedroom text sue textoperator g da ppmsg', 'forwarded please call immediately urgent message waiting', 'review keep fantastic nokia n gage game deck club nokia go www cnupdates com newsletter unsubscribe alerts reply word', 'mths half price orange line rental latest camera phones free phone mths call mobilesdirect free update stoptxt cs', 'pm cost p', 'urgent nd attempt contact u u call b csbcm wc n xx callcost ppm mobilesvary max', 'guaranteed cash prize claim yr prize call customer service representative pm', 'email alertfrom jeri stewartsize kbsubject low cost prescripiton drvgsto listen email call', 'hi customer loyalty offer new nokia mobile txtauction txt word start get ctxt tc p mtmsg', 'u subscribed best mobile content service uk per days send stop helpline', 'realize years thousands old ladies running around tattoos', 'important customer service announcement premier', 'romantic paris nights flights book next year call ts cs apply', 'urgent ur guaranteed award still unclaimed call closingdate claimcode pmmorefrommobile bremoved mobypobox ls yf', 'ur awarded city break could win summer shopping spree every wk txt store skilgme tscs winawk age perwksub', 'important customer service announcement premier call freephone', 'ever thought living good life perfect partner txt back name age join mobile community p sms', 'free top polyphonic tones call national rate get toppoly tune sent every week text subpoly per pole unsub', 'orange customer may claim free camera phone upgrade loyalty call offer ends thmarch c apply opt availa', 'last chance claim ur worth discount vouchers today text shop savamob offers mobile cs savamob pobox uz sub', 'free st week nokia tone ur mobile every week txt nokia get txting tell ur mates www getzed co uk pobox w wq norm p tone', 'guaranteed award even cashto claim ur award call free stop getstop php rg jx', 'congratulations ur awarded either cd gift vouchers free entry weekly draw txt music tncs www ldew com win ppmx age', 'u outbid simonwatson shinco dvd plyr bid visit sms ac smsrewards end bid notifications reply end', 'smsservices yourinclusive text credits pls goto www comuk net login qxj unsubscribe stop extra charge help comuk cm ae', 'p alfie moon children need song ur mob tell ur txt tone charity nokias poly charity polys zed profit charity', 'u secret admirer reveal thinks u r special call opt reply reveal stop per msg recd cust care', 'dear voucher holder claim weeks offer pc please go http www e tlp co uk expressoffer ts cs apply stop texts txt stop', 'want anytime network mins text new video phone five pounds per week call reply delivery tomorrow', 'tried contact offer new video phone anytime network mins half price rental camcorder call reply delivery wed', 'last chance claim ur worth discount vouchers text yes savamob member offers mobile cs sub remove txt x stop', 'urgent call landline complimentary ibiza holiday cash await collection sae cs po box sk wp ppm', 'today offer claim ur worth discount vouchers text yes savamob member offers mobile cs sub unsub reply x', 'talk sexy make new friends fall love worlds discreet text dating service text vip see could meet', 'congratulations ur awarded either yrs supply cds virgin records mystery gift guaranteed call ts cs www smsco net pm approx mins', 'private account statement xxxxxx shows un redeemed points call identifier code expires', 'hello need posh birds chaps user trial prods champneys put need address dob asap ta r', 'u want xmas free text messages new video phone half price line rental call free find', 'shop till u drop either k k cash travel voucher call ntt po box cr bt fixedline cost ppm mobile vary', 'sunshine quiz wkly q win top sony dvd player u know country liverpool played mid week txt ansr sp tyrone', 'u secret admirer looking make contact u find r reveal thinks ur special call', 'u secret admirer looking make contact u find r reveal thinks ur special call stopsms', 'reminder downloaded content already paid goto http doit mymoby tv collect content', 'free ringtone waiting collected simply text password mix verify get usher britney fml po box mk h ppw', 'lastest stereophonics marley dizzee racal libertines strokes win nookii games flirt click themob wap bookmark text wap', 'january male sale hot gay chat cheaper call national rate p min cheap p min peak stop texts call p min', 'money r lucky winner claim prize text money million give away ppt x normal text rate box w jy', 'dear matthew please call landline complimentary lux tenerife holiday cash await collection ppm sae cs box sk xh', 'urgent call landline complimentary tenerife holiday cash await collection sae cs box hp yf ppm', 'getting touch folks waiting company txt back name age opt enjoy community p sms', 'ur cash balance currently pounds maximize ur cash send go p msg cc po box tcr w', 'filthy stories girls waiting', 'urgent trying contact u todays draw shows prize guaranteed call land line claim valid hrs', 'congrats mobile g videophones r call videochat wid mates play java games dload polyph music noline rentl', 'please call customer service representative freephone pm guaranteed cash prize', 'panasonic bluetoothhdset free nokia free motorola free doublemins doubletxt orange contract call mobileupd call optout', 'free st week nokia tone ur mob every week txt nokia get txting tell ur mates www getzed co uk pobox w wq norm p tone', 'guess somebody know secretly fancies wan na find give us call landline datebox essexcm xn p min', 'know someone know fancies call find pobox ls hb p', 'flirting txt girl bloke ur name age eg girl zoe join get chatting', 'days euro kickoff u kept informed latest news results daily unsubscribe send get euro stop', 'eastenders tv quiz flower dot compare violet e tulip f lily txt e f chance win cash wkent p', 'new local dates area lots new people registered area reply date start www flirtparty us replys', 'someone u know asked dating service contact cant guess call revealed po box wu', 'urgent trying contact u todays draw shows prize guaranteed call land line claim c valid hrs', 'dear u invited xchat final attempt contact u txt chat', 'awarded sipix digital camera call landline delivery within days cs box bp yr warranty ppm p p', 'win urgent mobile number awarded prize guaranteed call land line claim valid hrs ppm', 'dear subscriber ur draw gift voucher b entered receipt correct ans elvis presleys birthday txt answer', 'message important information user today lucky day find log onto http www urawinner com fantastic surprise awaiting', 'price claim call', 'bored speed dating try speedchat txt speedchat like em txt swap get new chatter chat pobox w wq p msg rcd', 'want anytime network mins text new video phone five pounds per week call reply delivery tomorrow', 'taking part mobile survey yesterday texts use however wish get txts send txt c www txt com p', 'ur hmv quiz cash balance currently maximize ur cash send hmv p msg', 'dont forget place many free requests stchoice co uk wish information call', 'know u u know send chat let find p msg rcvd hg suite lands row w j hl ldn years', 'thank winner notified sms good luck future marketing reply stop customer services', 'girls many local u r virgins r ready fil ur every sexual need u fil text cute p', 'free entry wkly comp win fa cup final tkts st may text fa receive entry question std txt rate c apply', 'got takes take part wrc rally oz u lucozade energy text rally le p see packs lucozade co uk wrc itcould u', 'sex ur mobile free sexy pic jordan text babe every wk get sexy celeb pocketbabe co uk pics wk', 'new voicemail please call', 'win year supply cds store ur choice worth enter weekly draw txt music ts cs www ldew com subs win ppmx', 'sim subscriber selected receive bonus get delivered door txt word ok claim p msg exp apr', 'new voicemail please call', 'nokia tone ur mob every week txt nok st tone free get txtin tell ur friends p tone reply hl info', 'winner u specially selected receive cash holiday flights inc speak live operator claim', 'reply name address receive post weeks completely free accommodation various global locations www phb com ph p', 'free entry weekly comp send word enter c www textcomp com cust care', 'please call immediately urgent message waiting', 'hungry gay guys feeling hungry call p min stop texts call p min', 'u get phone wan na chat set meet call u cum moro luv jane xx calls minmoremobsemspobox po wa', 'network operator service free c visit biz', 'enjoy jamster videosound gold club credits new videosounds logos musicnews get fun jamster co uk help call', 'get lions england tone reply lionm mono lionp poly go www ringtones co uk original n best tones gbp network operator rates apply', 'win newest harry potter order phoenix book reply harry answer questions chance first among readers', 'ur balance ur next question sang uptown girl answer txt ur answer good luck', 'free day sexy st george day pic jordan txt pic dont miss every wk saucy celeb pics c pocketbabe co uk wk', 'hot live fantasies call p per min ntt ltd po box croydon cr wb k', 'bears pic nick tom pete dick fact types try gay chat photo upload call p min stop texts call', 'new mobiles must go txt nokia collect today www tc biz optout gbp mtmsg txtauction', 'double mins double txt price linerental latest orange bluetooth mobiles call mobileupd latest offers call optout lf', 'nokia tone ur mob every week txt nok st tone free get txtin tell ur friends p tone reply hl info', 'urgent important information user today lucky day find log onto http www urawinner com fantastic surprise awaiting', 'dear u invited xchat final attempt contact u txt chat p msgrcvdhg suite lands row w j hl ldn yrs', 'congratulations ur awarded either cd gift vouchers free entry weekly draw txt music tncs www ldew com win ppmx age', 'sale arsenal dartboard good condition doubles trebles', 'free st week entry textpod chance win gb ipod cash every wk txt pod ts cs www textpod net custcare', 'registered optin subscriber ur draw gift voucher entered receipt correct ans whats bbc charts', 'summers finally fancy chat flirt sexy singles yr area get matched reply summer free join optout txt stop help', 'claire havin borin time alone u wan na cum nite chat hope c u luv claire xx calls minmoremobsemspobox po wa', 'bought one ringtone getting texts costing pound offering tones etc', 'urgent mobile xxxxxxxxx bonus caller prize nd attempt reach call asap', 'guaranteed latests nokia phone gb ipod mp player prize txt word collect tc llc ny usa p mt msgrcvd', 'hi lucy hubby meetins day fri b alone hotel u fancy cumin pls leave msg day lucy x calls minmobsmorelkpobox hp fl', 'account credited free text messages activate txt word credit cs www biz', 'sms ac jsco energy high u may know channel day ur leadership skills r strong psychic reply ans w question end reply end jsco', 'hot live fantasies call p per min ntt ltd po box croydon cr wb national rate call', 'thanks vote sing along stars karaoke mobile free link reply sing', 'brand new mobile music service live free music player arrive shortly install phone browse content top artists', 'shall ask one thing dont mistake', 'check wid corect speling e sarcasm', 'urgent mobile awarded bonus caller prize nd attempt contact call box qu bt national rate', 'angry happen dear', 'thk u dun haf hint e forum already lor cos told ron n darren going tell shuhui', 'yup ok thanx', 'hi cts employee', 'pls pls find aunt nike', 'wow love sooo much know barely stand wonder day goes well love think miss', 'screaming means shouting', 'hey happen de alright', 'picked receipt something earlier', 'think chennai well settled', 'oh dang mean send lol', 'unfortunately found pick sister airport evening think going try go one th', 'horrible bf v hungry', 'remember day', 'nokia get win free auction take part send nokia hg suite lands row w jhl', 'feel mr real valentine yo valentine even tho u hardly play', 'sounds good fingers makes difficult type', 'midnight earliest', 'sure trying make xavier smoke want smoke told smoke much', 'k come nordstrom done', 'u konw waht rael friendship im gving yuo exmpel jsut ese tihs msg evrey splleing tihs msg wrnog bt sitll yuo raed wihtuot ayn mitsake goodnight amp nice sleep sweet dreams', 'press conference da', 'hello orange month free access games news sport plus free texts photo messages reply yes terms apply www orange co uk ow', 'completed degree use joining finance', 'good afternoon love job prospects missing lazy bleak hmmm happy filled love', 'shant disturb u anymore jia', 'bishan lar nearer need buy early cos buy got ta park car', 'dont know oh', 'dude sux snake got old raiden got buff', 'says hi get ass back south tampa preferably kegger', 'e msg jus u said thanks gift', 'u', 'ok dear call chechi', 'yeah totes u wan na', 'ok found dis pierre cardin one looks normal costs sale', 'good sleep rhythm person establish rhythm body learn use want know', 'wat r u', 'message truro hospital ext phone phone side', 'single line big meaning miss anything ur best life miss ur best life anything gud nyt', 'got gas money chance gang want go grand nature adventure', 'dnt worry use ice pieces cloth pack also take tablets', 'dude saw parked car sunroof popped sux', 'get ready put excellent sub face', 'tmrw im finishing doors', 'lt gt g saw days ago guy wants sell wifi lt gt g lt gt blanked', 'late', 'whatever im pretty pissed', 'today accept day u accept brother sister lover dear best clos lvblefrnd jstfrnd cutefrnd lifpartnr belovd swtheart bstfrnd rply means enemy', 'dont much image class', 'got rumour going buy apartment chennai', 'near kalainar tv office thenampet', 'ur cash balance currently pounds maximize ur cash send go p msg cc hg suite lands row w j hl', 'sms auction brand new nokia auction today auction free join take part txt nokia hg suite lands row w j hl', 'sis catching e show e afternoon watching w c u wan watch today tmr lor', 'sounds gd haha wah u yan jiu fast liao', 'nosy guess idk reacting freaked', 'remember hurt days satanic imposter need pay price may destiny keep going u said pray get mind get', 'make girl happy difficult make girls happy u need friend companion lover chef lt gt good listener lt gt organizer lt gt good boyfriend lt gt clean lt gt sympathetic lt gt athletic lt gt warm lt gt courageous lt gt determined lt gt true lt gt dependable lt gt intelligent lt gt psychologist lt gt pest exterminator lt gt psychiatrist lt gt healer lt gt stylist lt gt driver aaniye pudunga venaam', 'princess bet brothas chasing', 'shall book chez jules half eight ok', 'hhahhaahahah rofl wtf nig leonardo room something', 'yep derek house see sunday lt', 'cool let know kicks around lt gt day', 'sorry call later', 'wondering would okay call uncle john let know things nigeria r lt gt dollars years sent know strain plan pay back every dime gives every dime expect anything practical something like', 'charges transfer charges withdraw anyhow like', 'dont search love let love find u thats called falling love bcoz u dont force u fall u know smeone hold u bslvyl', 'let go bill millers', 'love set soul fire spark flame big rawring flame xoxo', 'somewhr someone surely made u god decided perfect time make u meet dat person till den enjoy ur crushes', 'honeymoon outfit', 'help propose going back tomorrow', 'private account statement shows un redeemed points call identifier code expires', 'never blame day ur life good days give u happiness bad days give u experience essential life gods blessings good morning', 'pls confirm time collect cheque', 'registered subscriber yr draw gift voucher b entered receipt correct ans next olympics txt ans', 'urgent mobile number awarded prize guaranteed call land line claim valid hrs ppm', 'daddy take good care', 'yeah probably still got ta check leo', 'k special', 'carlos taking sweet time usual let know patty done want smoke tell haul ass', 'ok pa nothing problem', 'heard job going wildlife talk tonight u want come worzels wizzle whatever', 'god picked flower dippeditinadew lovingly touched itwhichturnedinto u gifted tomeandsaid friend u', 'came hostel', 'ok prob come lunch', 'jus telling u dat b leaving shanghai st instead haf time meet cya', 'freezing home yet remember kiss mom morning love think missing yet', 'ready big day tomorrow', 'probably around mu lot', '', 'rt king pro video club need help info ringtoneking co uk call must club credits redeemable www ringtoneking co uk enjoy', 'thnx dude u guys nite', 'sef dey laugh meanwhile darling anjie', 'mm food da', 'k makes sense btw carlos difficult guys gon na smoke go pick second batch get gas', 'u download fring app', 'oz guy kinda flaky one friend interested picking lt gt worth tonight possible', 'friends u stay fb chat', 'fuck babe miss sooooo much wish sleep bed lonely go sleep dream love', 'living simple loving also simple laughing simple winning tooo simple simple difficult gud nte', 'u secret admirer looking make contact u find r reveal thinks ur special call', 'ah well confuses things', 'free text msgs text ok credit account', 'hi dear call urgnt know whats problem want work problem least tell wating reply', 'dear ok', 'selected stay top british hotels nothing holiday worth claim call london bx sw ss', 'yes princess want make happy', 'sounds like many talents would like go dinner date next week', 'going film day da pm sorry da', 'watching movie already xy wants shop shopping w', 'hello little party animal thought buzz friends grins reminding loved send naughty adoring kiss', 'yesterday going home', 'eerie nokia tones u rply tone title eg tone dracula titles ghost addamsfa munsters exorcist twilight www getzed co uk pobox w wq p', 'come life brought sun shiny warming heart putting constant smile face making feel loved cared', 'shit surprised went spent evening french guy met town fooled around bit let fuck', 'networks allow companies bill sms responsible suppliers shop give guarantee sell b g', 'great comedy cant stop laughing da', 'freemsg feelin kinda lnly hope u like keep company jst got cam moby wan na c pic txt reply date msg p rcv hlp stop', 'alright set text man', 'hi keen go kind feel go tomo mind', 'sleeping nt feeling well', 'u switch fone dammit', 'india take lead', 'post l r class', 'thts wat wright brother fly', 'evening v good somewhat event laden fill worry head ok throat wrecked see six', 'u laugh really loud u talk spontaneously u dont care others feel u probably dear amp best friends goodevening dear', 'laptop take', 'dont file bag work called tell find anything room', 'wan early lei outside wun b home early neva mind', 'ur chance win cash every wk txt action c www movietrivia tv custcare x p wk', 'bugis juz wat walking home oredi late reply oso saw top dat like din buy r', 'wishing family merry x mas happy new year advance', 'go ok na', 'yes posted couple pics fb still snow outside waking', 'one good partnership going take lead', 'rgent nd attempt contact u u call b csbcm wc n xx callcost ppm mobilesvary max', 'yeah class', 'send bec temple na', 'coming home class right need work shower', 'hi ur lookin saucy daytime fun wiv busty married woman free next week chat sort time janinexx calls minmobsmorelkpobox hp fl', 'mostly like', 'v fan', 'dunno cos v late n reach inside already ate spageddies lor e gals r laughing lor', 'guess spent last night phasing fourth dimension', 'dad gon na call gets work ask crazy questions', 'yes said', 'hurting n meaningful lines ever compromised everything love end love compromised everything gud mornin', 'lmao nice', 'glad see reply', 'urgent trying contact u todays draw shows prize guaranteed call land line claim valid hrs', 'monthly password wap mobsi com use wap phone pc', 'nah dub je still buff', 'painful words thought happy toughest thing earth toughest acting happy unspoken pain inside', 'yeah fine get ok', 'lol u come ideas', 'many people seems special first sight remain special till last sight maintain till life ends sh jas', 'today song dedicated day song u dedicate send ur valuable frnds first rply', 'okay wait ah', 'lei', 'hi babe u r likely bed im sorry tonight really wan na see u tomorrow call love xxx', 'already squatting new way walking', 'want bold bb torch', 'cramps stopped going back sleep', 'todays vodafone numbers ending last four digits selected received award number matches please call claim award', 'free top ringtone sub weekly ringtone get st week free send subpoly per week stop sms', 'nan sonathaya soladha boss', 'bring tat cd forget', 'sunshine quiz wkly q win top sony dvd player u know country algarve txt ansr sp tyrone', 'know raping dudes poker', 'weightloss girl friends make loads money ebay something give thanks god', 'gr see message r u leaving congrats dear school wat r ur plans', 'eatin later eatin wif frens lei going home first', 'finish already yar keep saying mushy embarrassed ok', 'sorry man stash ran dry last night pick sunday', 'hai priya right doctor said pa', 'free msg sorry service ordered could delivered sufficient credit please top receive service', 'ok', 'please ask mummy call father', 'come room come house cos house still messy haha', 'lost kilos today', 'taste fish curry p', 'might accidant tookplace somewhere ghodbandar rd traffic moves slovely plz slip amp worry', 'yun ah wkg btw go nus sc wana specialise wad', 'yes one woman man please tell likes dislikes bed', 'test earlier appreciate call tomorrow', 'loverboy keeps coming queen hmmm ache speak miss desparately', 'u meet fren dun wan meet ah muz b guy rite', 'promises though even gotten dinner yet', 'got back dislikes bed', 'turns stereo love mi phone unknown album', 'hard live chat p min choose girl connect live call cheap chat uk biggest live service vu bcm wc n xx', 'yeah see', 'asking u knw nt may ur frnds classmates', 'sorry earlier putting fires around talk actually life lol', 'wow boys r back take uk tour win vip tickets pre book vip club txt club trackmarque ltd info vipclub u', 'missionary hook doggy hook standing', 'u better go sleep dun disturb u liao u wake msg lor', 'fighting world easy u either win lose bt fightng close u dificult u lose u lose u win u still lose', 'watching house entertaining getting whole hugh laurie thing even stick indeed especially stick', 'thought praps meant another one goodo look tomorrow', 'hi jon pete ive bin spain recently hav sum dinero left bill said u ur rents mayb interested hav pes around tb james', 'bold lt gt', 'know shall speak lt gt minutes', 'alrite hunny wot u nite didnt end goin town jus da pub instead jus chillin da mo bedroom love jen xxx', 'went project centre', 'per request maangalyam alaipayuthe set callertune callers press copy friends callertune', 'lol yeah point guess', 'project w frens lor', 'lol well quality aint bad aint complaining', 'k happen tonight', 'hi mandy sullivan calling hotmix fm chosen receive easter prize draw please telephone claim prize transferred someone else', 'think going finn come', 'tired special', 'come tomorrow di', 'cant pick phone right pls send message', 'k go sleep well take rest', 'u guys never invite anywhere', 'ur going bahamas callfreefone speak live operator claim either bahamas cruise cash opt txt x', 'want please inside outside bedroom', 'ey calm downon theacusations itxt u cos iwana know wotu r doin thew end haventcn u ages ring ur nething sat love j xxx', 'love wine dine lady', 'someone conacted dating service entered phone fancy find call landline pobox n tf', 'cool ta luv v tired cause doin loads planning wk got social services inspection nursery take care spk sn x', 'know account details ask mom send mom reach', 'think u wrong number', 'feel always happy slowly becomes habit amp finally becomes part life follow happy morning amp happy day', 'b late love mum', 'got mail panren paru', 'thinking chuckin ur red green n black trainners save carryin bac train', 'give one miss number please', 'jus came back fr lunch wif sis u leh', 'schedule next week town weekend', 'really good dhanush rocks', 'lmao ok wont needing u hair anymore', 'miss ya need ya want ya love ya', 'sorry free', 'u ever get song stuck head reason go away til u listen like times', 'nt yet chikku simple habba hw abt u', 'got ur mail dileep thank muchand look forward lots support less contacts remember one venugopal mentioned tomorrow late shall try come till goodnight dear', 'sometimes heart remembrs someone much forgets someone soon bcoz heart like everyone liked ones remembered everytime bslvyl', 'joy father john john name joy father mandan', 'hi ibh customer loyalty offer new nokia mobile txtauction txt word start get', 'hi yijue regarding textbook intro algorithms second edition selling', 'sms auction nokia get win free auction take part send nokia hg suite lands row w jhl', 'k want us come', 'little difficult simple way enter place', 'ha us e thing got tv watch u thk go tonight u already haf smth mind', 'dont show far put new pictures facebook', 'watching tv got new job', 'good afternoon sexy buns goes job search wake first thought always love wish fine happy know adore', 'coming whatever want', 'ok chikku favourite song', 'u see posted facebook', 'call freephone', 'buy space invaders chance win orig arcade game console press games arcade std wap charge see co uk games terms settings purchase', 'wonders world th th ur style th ur smile th ur personality rd ur nature nd ur sms st ur lovely friendship good morning dear', 'loan purpose homeowners tenants welcome previously refused still help call free text back help', 'big brother alert computer selected u k cash voucher call ntt po box cro bt landline cost ppm mobiles vary', 'oh well c u later', 'uncles atlanta wish guys great semester', 'dear free messages without recharge hi hi hi', 'dont search love let love find u thats called falling love bcoz u dont force u fall u know smeone hold u bslvyl', 'dun believe u thk u told', 'know god created gap fingers one made comes amp fills gaps holding hand love', 'yes sura sun tv lol', 'arun u transfr amt', 'takin shower yeah leave done', 'working eyes philosophy text u later bit free chat', 'u lost ill always b u intend hurt u never knew u felt iwas marine itried tell urmom careabout u', 'win winner mr foley ipod exciting prizes soon keep eye ur mobile visit www win co uk', 'bad girl still remember', 'much gave morning', 'hope alright babe worry might felt bit desparate learned job fake waiting come back love', 'hey tell blake address carlos wanted meet got lost answering phone', 'get opinion something first', 'one week leave put know time', 'hit move', 'excellent spent lt gt years air force iraq afghanistan stable honest like traveling', 'wan na watch movie', 'ok lor thanx school', 'class get text', 'bus leaves lt gt', 'god bless get good sleep dear pray', 'todays voda numbers ending selected receive award match please call quoting claim code standard rates app', 'nice day today love dearly', 'aiyo bit pai seh noe scared dun rem die hee become better lookin oredi leh', 'aight ask roommates', 'whats house beer', 'wan meet n combine parts da rest da project going', 'getting tickets walsall tue th march mate getting sat ill pay treat want go txt bak terry', 'yes chatting', 'hi jess dont know work call u im home eve xxx', 'sian aft meeting supervisor got work liao u working', 'going write ccna exam week', 'well watch shrek b', 'much dirty fellow', 'dunno dat wat told ok lor', 'probably tomorrow even later tonight something going', 'say dying man feel sad go wanted know would probably gone late night', 'thinking lifting one', 'u dun wan u dun like already ah wat u still eating', 'sent ur email id soon', 'wat makes people dearer de happiness dat u feel u meet de pain u feel u miss dem', 'dude teresa hope okay didnt hear people called received package since dec lt gt thot ld like know fantastic year best reading plus really really bam first aid usmle work done', 'hey gorgeous man work mobile number good one babe squishy mwahs', 'may call later pls', 'hottest pics straight phone see getting wet wanting xx text pics txt costs p textoperator g ga xxx', 'way stay oh', 'hello thanx taking call got job starts monday', 'time ur flight tmr', 'come', 'rather prominent bite mark right cheek', 'september', 'wet right', 'husband', 'hack chat get backdoor entry chat rooms fraction cost reply neo call subscribe p pm dps bcm box ldn wc n xx', 'norm tomorrow finish cos st tests need sort library stuff point tomo got letter today access til end march better get move', 'yeah got list u joanna feeling really anti social', 'office na', 'comingdown later', 'super da good replacement murali', 'da good good player unsold', 'hi u want join sts later meeting five call u class', 'engalnd telly decided let watch mia elliot kissing damn', 'free nokia motorola upto mths price linerental free x net mins txt mth free b tooth call mobileupd call optout wv', 'dont want hear philosophy say happen', 'got job wipro get every thing life years', 'cant get da laptop matric card wif lei', 'dunno da next show aft toa payoh got', 'nd time tried contact u u pound prize claim easy call p per min bt national rate', 'made payments dont much sorry would want fedex way', 'play one day last year know even though good team like india', 'k girl waiting reception ah', 'say slowly god love amp need clean heart blood send ten special people amp u c miracle tomorrow pls pls', 'hate turns fun shopping trip annoying day everything would look house', 'sir waiting call', 'want come online', 'could work reach consensus next meeting', 'aiyah wait lor u entertain hee', 'last thing ever wanted hurt think would laugh embarassed delete tag keep going far knew even fact even felt like would hurt shows really know messy wednesday bad problem time clean choose skype take pictures sleep want go mind things make bed throw laundry top friend house embarassed underwear bras strewn bed pillows floor something else used good least making bed', 'let know kicks', 'call ok said call', 'call number available appointment ask connect call waheed fathima', 'go buy wif meet later', 'mmmm fuck fair know weaknesses grins pushes knee exposes belly pulls head forget know wicked smile', 'today system sh get ready well also deep well', 'mom wants know', 'aight text back', 'dont know supports ass srt thnk think ps play usb', 'oh ok didnt know meant yep baby jontin', 'guaranteed cash prize claim yr prize call customer service representative', 'would like see xxx pics hot nearly banned uk', 'hmv bonus special pounds genuine hmv vouchers answer easy questions play send hmv info www percent real com', 'watching tv got new job', 'pen thing beyond joke wont biro masters ever', 'party alex nichols', 'u secret admirer looking make contact u find r reveal thinks ur special call', 'seeing missed call dear brother gr day', 'ok finishing soon', 'sorry help', 'come slave going shell unconsciously avoiding making unhappy', 'love ass enjoy doggy style', 'think asking gym excuse lazy people jog', 'dear xxxxxxx u invited xchat final attempt contact u txt chat p msgrcvdhg suite lands row w j hl ldn yrs', 'urgent please call landline abta complimentary tenerife holiday cash await collection sae cs box cw wx ppm', 'way home long dry spell season would', 'got ta collect da car lei', 'ok knackered came home went sleep good full time work lark', 'probably earlier station think', 'call listen extreme dirty live chat going office right total privacy one knows sic listening p min mp', 'good morning plz call sir', 'freemsg hey u got video pic fones reply wild txt ill send u pics hurry im bored work xxx p rcvd stop stop', 'uh heads much left', 'tot u outside cos darren say u come shopping course nice wat jus went sim lim look mp player', 'aight sounds good want come', 'wat would u like ur birthday', 'love working home', 'miss vday parachute double coins u must know well', 'sorry call later', 'sister got placed birla soft da', 'free entry weekly comp chance win ipod txt pod get entry std txt rate c apply details', 'wah okie okie muz make use e unlimited haha', 'people mu table lambda', 'stop old man get build snowman snow angels snowball fights', 'ello babe u ok', 'hello beautiful r u ok kinda ad row wiv walked pub wanted night wiv u miss u', 'u going ikea str aft dat', 'becoz lt gt jan whn al post ofice holiday cn go fr post ofice got duffer', 'lol grr mom taking forever prescription pharmacy like minutes away ugh', 'real tho sucks even cook whole electricity hungry', 'want go', 'new textbuddy chat horny guys ur area p free receive search postcode gaytextbuddy com txt one name rpl stop cnl', 'time month mid time', 'fffff text kadeem far gone', 'leaving yet ok lor go elsewhere n eat u thk', 'fujitsu series lifebook good', 'yar wanted scold u yest late already got zhong se qing u ask b ask go w u lor n u still act real', 'dont know bring food', 'current food alone also', 'sch fr dun haf da book sch home', 'hello going village pub either come accordingly ok', 'ok', 'call like lt gt times oh give us hypertension oh', 'dont give monkeys wot think certainly mind friend mine sleep wiv wud annoyin', 'omg could snow tonite', 'call tells u call claim prize u enter ur mobile personal details prompts careful', 'free st week entry textpod chance win gb ipod cash every wk txt vpod ts cs www textpod net custcare', 'carry disturbing', 'pa tell went bath', 'jus finished avatar nigro', 'r u scratching', 'hope great day', 'either idea know anyplaces something', 'planning usually stops find hella weed smoke hella weed', 'fact cleaning shows know upset priority constantly want need', 'excellent ready moan scream ecstasy', 'people dogging area call join like minded guys arrange evening minapn ls bb', 'dude avatar imp one point thought actually flies room almost tried hittng one reflex', 'well done costa del sol holiday await collection call toclaim sae tcs pobox stockport sk xh cost pm max mins', 'k k cant come search job', 'got lousy sleep kept waking every hours see cat wanted come worry cold', 'yeah leave couple minutes amp let know get mu', 'call make sure dat woken', 'hey go jazz power yoga hip hop kb yogasana', 'battery mr adewale uncle aka egbon', 'cant pick phone right pls send message', 'wait min stand bus stop', 'oh ic thought meant mary jane', 'haha really oh deduct lesson tmr', 'nah im goin wrks j wot bout u', 'eat shit wait ur monkey face bitch u asshole', 'good night going sleep', 'aight grab something eat text back mu', 'k k cant come search job', 'take something pain moves however side next hrs see doctor', 'lol oh babe wont sliding place midnight thanks invite', 'howz persons story', 'guess somebody know secretly fancies wan na find give us call landline datebox essexcm xn p min', 'lol would awesome payback', 'free text messages valid december', 'yes completely form clark also utter waste', 'honeybee said sweetest world god laughed amp said wait u havnt met person reading msg moral even god crack jokes gm gn ge gn', 'thanks tescos quite nice gone speak soon', 'feathery bowa something guys know', 'even cant close eyes vava playing umma', 'laptop noe infra slow lar wan fast one', 'guaranteed award even cashto claim ur award call free stop getstop php', 'nvm ok', 'enjoy ur life good night', 'yes meet town cos go gep home could text bus stop worry finished march ish', 'askd u question hours answer', 'thats cool cum', 'delhi chennai still silent', 'lol alright thinkin haha', 'reply win weekly fifa world cup held send stop end service', 'boat still moms check yo half naked', 'shhhhh nobody supposed know', 'sorry call later', 'sorry call later meeting thing related trade please call arul lt gt', 'hey late amk need drink tea coffee', 'wnt buy bmw car urgently vry urgent hv shortage lt gt lacs source arng dis amt lt gt lacs thats prob', 'urgent please call landline abta complimentary tenerife holiday cash await collection sae cs box cw wx ppm', 'length e e top shorter n got fringe thk going liao lazy dun wan distract u also', 'antha num corrct dane', 'calls messages missed calls', 'sorry call later', 'basket gettin full might tonight', 'hi darlin ive got back really nice night thanks much lift see u tomorrow xxx', 'valentines huh proof fb page ugh glad really watch rupaul show tool', 'free tones hope enjoyed new content text stop unsubscribe help p provided tones co uk', 'eh den sat u book e kb liao huh', 'practising curtsey', 'shall come get pickle', 'lol boo hoping laugh', 'yeh def something sat got payed day havbeen given pay rise work havebeen made preschoolco ordinator feelingood luv', 'well leave class babe never came back hope nice sleep love', 'lmao fish memory need', 'b going sch mon sis need take smth', 'idea soon get converted live', 'themob yo yo yo comes new selection hot downloads members get free click open next link sent ur fone', 'india going draw series many years south african soil', 'goodmorning today late lt decimal gt min', 'take major roles community outreach rock mel', 'shopping lor raining mah hard leave orchard', 'hi birth lb oz mother baby brilliantly', 'see forwarding message proof', 'keep going never intention run choose rather keep room clean say visitors maybe best choice yes wanted embarassed maybe feel feel friend wants drop buy say happened morning tried everything know else', 'dunno lei thk mum lazy go neva ask yet', 'whatever want know rules talk earlier week start happening showing responsibility yet every week bend rule way way whatever tired thia argument every week lt gt movie doesnt inlude previews still getting', 'beautiful truth gravity read carefully heart feels light someone feels heavy someone leaves goodmorning', 'great news call freefone claim guaranteed cash gift speak live operator', 'ambrith madurai met u arun dha marrge remembr', 'read shame tell takes runs blame u ever really ever long time', 'princess kitty shaved natural', 'better bb wont use wife doctor', 'ya came ago', 'tomorrow onwards eve work', 'anything lor toa payoh got place walk meh', 'anybody number still thought tactful way ask alex', 'u win music gift vouchers every week starting txt word draw tscs www ldew com skillgame winaweek age ppermesssubscription', 'movie theatre go watch unlimited movies pay', 'u lunch alone bored', 'yes obviously eggs pert potato head speak soon', 'nah man car meant crammed full people', 'got new job bar airport satsgettin per hour means lie keep touch', 'kallis ready bat nd innings', 'thanx birthday already', 'ugh u apologize admit u wrong ask take u back', 'noe la u wana pei bf oso rite k lor days den', 'yes small kid boost secret energy', 'im gon na miss u much', 'avatar supposed subtoitles', 'simply sitting watching match office', 'jot things want remember later', 'oh sorry please', 'hey going lo lesson gym', 'dont pack buy store like cereals must pack food pack gari something ja miss', 'always make things bigger', 'dun wan watch infernal affair', 'waking afternoon sup', 'mths half price orange line rental latest camera phones free phone mths call mobilesdirect free update stoptxt', 'send pic like', 'okay booked already including one bugis', 'aight fuck get later', 'de call time ill tell k', 'dont use hook', 'much blackberry bold nigeria', 'hi home calicut', 'hey darlin pick u college u tell wen mt love pete xx', 'call use ur mins calls cast p min mob vary service provided aom gbp month aom box er u stop ages', 'oh thkin goin yogasana den nd go den rush parco nb okie lor u call ready', 'late need go n get da laptop', 'sir waiting mail', 'please charge mobile get morning', 'nothing got msg frm tht unknown', 'ugh fuck resubbing eve', 'see shadow get early spring yay', 'one slice one breadstick lol', 'hey want crave miss need love ahmad saeed al hallaq', 'training tomorrow', 'urgent mobile bonus caller prize nd attempt reach call asap box n qp ppm', 'pass dis ur contacts n see wat u get red luv wid u blue u put smile face purple u r realy hot pink u r swt orange thnk lyk u green realy wana go wid u yelow wnt u bck black jealous u brown miss nw plz giv one color', 'cos daddy arranging time c wat time fetch mah', 'eldest know', 'say hi drugdealer', 'hard believe things like say lie think twice saying anything', 'eerie nokia tones u rply tone title eg tone dracula titles ghost addamsfa munsters exorcist twilight www getzed co uk pobox w wq p', 'sexy singles waiting text age followed gender wither f e g f gay men text age followed g e g g', 'good night dear sleepwell amp take care', 'wondarfull song', 'freemsg claim ur sms messages text ok use web mobile ur mates etc join txt com p wk c box la wu remove txtx stop', 'yar lor actually quite fast cos da ge slow wat haha', 'must come later normally bathe da afternoon mah', 'trust even', 'hey hun onbus goin meet wants go meal donyt feel like cuz get last bus home hes sweet latelyxxx', 'free ringtone reply real', 'take like noon', 'opening mca', 'aight wat happening side', 'done oredi', 'sweet well princess please tell likes dislikes bed', 'wish great semester', 'moji love words rich day', 'dude like buff wind', 'alright babe justthought sayhey u doin nearly endof wk offdam nevamind hook sn uwant lovejen x', 'well done england get official poly ringtone colour flag yer mobile text tone flag opt txt eng stop box w wx', 'give everything want need actually could better yor got money get work get man pay rent even fill fucking gas tank yes stressed depressed even call home thanksgiving cuz tell nothing', 'kallis wont play first two odi', 'get cash together text jason', 'oh love soooo good hear omg missed much today sorry problems provider thank tming', 'final chance claim ur worth discount vouchers today text yes savamob member offers mobile cs savamob pobox uz subs', 'private account statement shows unredeemed bonus points claim call identifier code expires', 'probably want pick', 'done', 'cutest girl world', 'dice art class thru thanks though idea time come tomorrow', 'sms services inclusive text credits pls goto www comuk net login unsubscribe stop extra charge help po box ip', 'oh howda gud gud mathe en samachara chikku', 'thk lor dunno get tickets wat u', 'audrie lousy autocorrect', 'site simulate test gives tough questions test readiness', 'anyway seriously hit back otherwise light armand always shit vomiting', 'fetch yun u fetch', 'thank like well', 'hmmm imagine come home rub feet make dinner help get ready date sure ready kind life', 'free day sexy st george day pic jordan txt pic dont miss every wk saucy celeb pics c pocketbabe co uk wk', 'lara said loan lt gt', 'spare power supplies', 'yar quite clever aft many guesses lor got ask bring thk darren willing go aiya thk leona still attach wat', 'winner specially selected receive cash award speak live operator claim call pm cost p', 'yeah go bed back midnight', 'sunshine hols claim ur med holiday send stamped self address envelope drinks us uk po box bray wicklow eire quiz starts saturday unsub stop', 'well available washob nobbing last night ask nickey platt instead', 'time week ryan', 'wish u many many returns day happy birthday vikky', 'u win music gift vouchers every week starting txt word draw tscs www idew com skillgame winaweek age ppermesssubscription', 'hope know still mad', 'argh g spotty anyway thing remember research province sterling problem free places looked', 'xam hall boy asked girl tell starting term dis answer den manage lot hesitation n lookin around silently said intha ponnungale ipaditan', 'know result', 'congratulations week competition draw u prize claim call b cs stop sms ppm', 'beautiful truth gravity read carefully heart feels light someone feels heavy someone leaves good night', 'sorry im getting feel really bad totally rejected kinda thing', 'got shitload diamonds though', 'tessy pls favor pls convey birthday wishes nimya pls dnt forget today birthday shijas', 'well going aunty', 'mine like fr china noisy', 'later guess needa mcat study', 'training manual show tech process password reset troubleshooting', 'b u voucher w c marsms log onto www b utele com discount credit opt reply stop customer care call', 'spoke uncle john today strongly feels need sacrifice keep going call beg listen dont make promises make clear things easy need please let us work things long keep expecting help creativity stifled pls keep happy promises part', 'started searching get job days great potential talent', 'carlos took leave minute', 'well done luv ya', 'came hostel', 'k still loving', 'juz remembered got ta bathe dog today', 'drug able eat', 'alright took morphine back yo', 'see requirements please', 'stayin trouble stranger saw dave day sorted still bloke u gona get girl mr ur mum still thinks get getha', 'freemsg hey buffy love satisfy men home alone feeling randy reply c pix qlynnbv help p msg send stop stop txts', 'sunshine hols claim ur med holiday send stamped self address envelope drinks us uk po box bray wicklow eire quiz starts saturday unsub stop', 'collect ur laptop', 'ok later showing around want cld drink wld prefer spend money nosh mind nxt wk', 'get home', 'waaaat lololo ok next time', 'table occupied waiting tree', 'surely dont forgot come always touch', 'hi kindly give us back documents submitted loan stapati', 'dont shall buy one dear', 'oh god happy see message days', 'year many miles', 'hey cutie goes wales kinda ok like hills shit still avent killed', 'sad story man last week b day wife nt wish parents forgot n kids went work even colleagues wish entered cabin pa said happy b day boss felt special askd lunch lunch invited apartment went said u mind go bedroom minute ok sed sexy mood came minuts latr wid cake n wife parents kidz friends n colleagues screaming surprise waiting sofa naked', 'think go honesty road call bank tomorrow tough decisions make us great people', 'free st week nokia tone ur mob every week txt nokia get txting tell ur mates zed pobox w wq norm p tone', 'specialisation work slave labor look month sha cos shakara beggar', 'replying boye changed phone number', 'go write msg put dictionary mode cover screen hand press lt gt gently remove ur hand interesting', 'hi darlin im way london smashed another driver big dent im really missing u u xxx', 'nothing really making sure everybody speed', 'coming home dinner', 'thank way lost', 'yes good crickiting mind', 'thx well months', 'shop till u drop either k k cash travel voucher call ntt po box cr bt fixedline cost ppm mobile vary', 'please come imin town dontmatter urgoin outl r reallyneed docd please dontplease dontignore mycalls u thecd isv important tome moro', 'wont wat wit guys', 'yavnt tried yet never played original either', 'hiya good day spoken since weekend', 'see thought', 'work please call', 'get ready moan scream', 'oh k got job whats', 'think need going late school night especially one class one missed last wednesday probably failed test friday', 'popping lt gt ibuprofens help', 'babe goes day sip cappuccino think love send kiss across sea', 'ok', 'ps u ur grown right', 'chinatown got porridge claypot rice yam cake fishhead beehoon either eat cheap den go cafe n tok go nydc somethin', 'know people hit fuck yes', 'purity friendship two smiling reading forwarded message smiling seeing name gud evng', 'anything specific regards jaklin idk fuck', 'oh god gon na google nearby cliffs', 'free camera phones linerental month cross ntwk mins price txt bundle deals also avble call call optout j mf', 'yup shd haf ard pages add figures got many pages', 'ooh got gon na start belly dancing moseley weds u want join cafe', 'thankyou much call appreciate care', 'congrats treat pending mail days mail thru respect mother home check mails', 'called one pick e phone ask already said ok', 'hi email address changed', 'v aluable ffectionate l oveable e ternal n oble ruthful ntimate n atural e namous happy valentines day advance', 'much textin bout', 'bring got', 'movie call wat', 'sure stomach', 'haha dinner cousin', 'boy late home father power frndship', 'man carlos definitely coming mu tonight excuses', 'soon real thing princess make wet', 'raji pls favour pls convey birthday wishes nimya pls today birthday', 'haha legs neck killing amigos hoping end night burn think could swing like hour', 'urgent mobile xxxxxxxxx bonus caller prize nd attempt reach call asap box n qp ppm', 'usually body takes care buy making sure doesnt progress pls continue talk saturday', 'urgent costa del sol holiday await collection call toclaim sae tc pobox stockport sk xh cost pm max mins', 'hmm well night night', 'wanted say holy shit guys kidding bud', 'gettin bit arty collages mo well tryin ne way got roast min lovely shall enjoy', 'one days billion classes right', 'goodmorning today late hrs back pain', 'ok let noe later n ask call u tmr', 'prabha soryda realy frm heart sory', 'ok waliking ard u wan buy anything go ur house', 'two cartons u pleased shelves', 'nice talking please dont forget pix want see', 'guaranteed cash prize claim yr prize call customer service representative pm cost p', 'really quite funny lor wat u shd haf run shorter distance wat', 'notice like looking shit mirror youre turning right freak', 'great getting worried know wonderful caring person like best life know u r wonderful god love', 'thanks ringtone order ref number k mobile charged tone arrive please call customer services', 'prefer free days tues wed fri oso ask workin lor', 'alrite jod hows revision goin keris bin doin smidgin n e way u wan na cum college xx', 'belive come home', 'oh k k take test', 'exact intentions', 'haha money leh later got go tuition haha looking empty slots driving lessons', 'hey thk juz go accordin wat discussed yest lor except kb sun cos nt much lesson go attend kb sat', 'k wen ur free come home also tel vikky hav sent mail also better come evening il free today aftr pm', 'nothing getting msgs dis name wit different', 'good morning plz call sir', 'room number wan na make sure knocking right door', 'si como listened plaid album quite gd new air hilarious also bought braindance comp ofstuff aphex abel u hav hear c u sn xxxx', 'pls tell nelson bb longer comin money expecting aint coming', 'give something drink takes vomit temp might drop unmits however let know', 'think sent text home phone cant display texts still want send number', 'every day use sleep lt gt', 'k call close', 'u buy newspapers already', 'nope wif sis lor aft bathing dog bathe looks like going rain soon', 'boo way moms making tortilla soup yummmm', 'management puzzeles', 'find way include details', 'hi ya babe x u goten bout scammers getting smart though regular vodafone respond get prem rate msg subscription nos used also beware', 'back work morro half term u c nite sexy passion b go back chat luv dena calls minmobsmorelkpobox hp fl', 'like spoiled', 'thanks ringtone order ref number r mobile charged tone arrive please call customer services', 'getting threats sales executive shifad raised complaint official message', 'hope things went well doctors reminds still need go u c little thing left lounge', 'den wat e schedule b lk sun', 'lol enjoy role playing much', 'ok watching tv', 'lov line hurt truth mind wil tolerat bcs ur someone never comfort lie gud ni sweet dreams', 'checked heading drop stuff', 'got lots hair dresser fr china', 'sad story man last week b day wife nt wish parents forgot n kids went work even colleagues wish', 'ill call evening ill ideas', 'splashmobile choose gr tones wk subscrition service weekly tones costing p u one credit kick back enjoy', 'show wot say could u c dust', 'take lt gt min', 'heard u call rude chat private line cum wan c pics gettin shagged text pix end send stop sam xxx', 'ok bus come soon come otherwise tomorrow', 'cant pick phone right pls send message', 'forwarded free entry weekly comp send word enter c www textcomp com', 'finish liao u', 'lost pound help', 'haha think', 'u know watchin lido', 'life spend someone lifetime may meaningless moments spent someone really love means life', 'haha awesome u couple times coming', 'cold dont sad dear', 'think could stop like hour roommate looking stock trip', 'telly brdget jones', 'love aathi love u lot', 'hello r u im bored inever thought id get bored tv tell something exciting happened anything', 'hmm bad news hype park plaza studio taken left bedrm', 'sorry call later meeting', 'r comin back dinner', 'hav almost reached call unable connect u', 'waited yesterday', 'reach home safe n sound liao', 'velly good yes please', 'hi wkend ok journey terrible wk good huge back log marking', 'two letters copy cos one message speak soon', 'alex knows guy sells mids south tampa think could set like', 'dont message offer', 'mobile mths update free oranges latest colour camera mobiles unlimited weekend calls call mobile upd freefone stoptx', 'hey babe u doin wot u nite love annie x', 'remind get shall', 'v romantic', 'hello damn christmas thing think decided keep mp doesnt work', 'new message please call', 'hi darlin im missin u hope good time u back time u give call home jess xx', 'forwarded hi mailbox messaging sms alert messages matches please call back retrieve messages matches', 'draw va dont think', 'dont pick call something important tell hrishi', 'congrats year special cinema pass call c suprman v matrix starwars etc free bx ip pm dont miss', 'nothin comes mind help buy hanger lor ur laptop heavy', 'lt gt guess easy enough', 'make baby yo tho', 'tell friend come round til like lt gt ish', 'friendship poem dear dear u r near hear dont get fear live cheer tear u r always dear gud ni', 'still area restaurant ill try come back soon', 'aight work thanks', 'win year supply cds store ur choice worth enter weekly draw txt music ts cs www ldew com subs win ppmx', 'moby pub quiz win high street prize u know new duchess cornwall txt first name unsub stop sp arrow', 'sleeping bags blanket paper phone details anything else', 'nokia get win free auction take part send nokia hg suite lands row w jhl', 'congratulations thanks good friend u xmas prize claim easy call p per minute bt national rate', 'tddnewsletter emc co uk games thedailydraw dear helen dozens free games great prizeswith', 'guys', 'also chat awesome make regular unless see person', 'significant dont worry', 'cause old live high', 'waqt se pehle naseeb se zyada kisi ko kuch nahi milta zindgi wo nahi jo hum sochte hai zindgi wo hai jo ham jeetey hai', 'way office da', 'place want da', 'pain come worse time', 'ok', 'stalking u', 'sorry dude dont know forgot even dan reminded sorry hope guys fun', 'ok lor', 'apps class varaya elaya', 'xmas story peace xmas msg love xmas miracle jesus hav blessed month ahead amp wish u merry xmas', 'urgent mobile number bonus caller prize nd attempt reach call asap box n qp ppm', 'day asked anand number', 'surfing online store offers want buy thing', 'long beach lor expected u dinner', 'home way', 'fine thanks', 'happen tell truth', 'like italian food', 'weird know one point', 'aww must nearly dead well jez iscoming todo workand whilltake forever', 'tell friends plan valentines day lt url gt', 'alright see bit', 'cheers message zogtorius staring phone age deciding whether text', 'take care financial problem help', 'tell dear happen talking like alian', 'double mins txts orange price linerental motorola sonyericsson b tooth free nokia free call mobileupd optout hv', 'go write msg put dictionary mode cover screen hand press lt gt gently remove ur hand interesting', 'okie', 'hi yijue meet u tmr', 'posible dnt live lt gt century cm frwd n thnk different', 'dint slept afternoon', 'seems unnecessarily affectionate', 'yar else thk sorts funny things', 'place man', 'download many ringtones u like restrictions choose u even send yr buddys txt sir', 'thats cool day', 'please call immediately urgent message waiting', 'r going lt gt bus', 'hello love went day alright think sweet send jolt heart remind love hear screamed across sea world hear ahmad al hallaq loved owned possessive passionate kiss', 'joined today', 'okay well thanks clarification', 'talk others probably come early tomorrow', 'spook mob halloween collection logo pic message plus free eerie tone txt card spook zed p per logo pic', 'money issue weigh thanks breathe easier make sure dont regret thanks', 'hi sorry missed call pls call back', 'hope settled new school year wishin gr day', 'fantasy football back tv go sky gamestar sky active play k dream team scoring starts saturday register sky opt', 'ok need tell anything going sleep good night', 'ok try week end course coimbatore', 'tone club subs expired sub reply monoc monos polyc polys weekly p per week txt stop stop msg free stream', 'v nice sheffield tom air opinions categories b used measure ethnicity next census busy transcribing', 'r home come within min', 'boy loved gal propsd bt didnt mind gv lv lttrs bt frnds threw thm boy decided aproach gal dt time truck speeding towards gal wn hit girl boy ran like hell n saved asked hw cn u run fast boy replied boost secret energy n instantly girl shouted energy n thy lived happily gthr drinking boost evrydy moral story hv free msgs gud ni', 'day say cut ur hair paragon called hair sense noe much hair cut', 'hmm many unfortunately pics obviously arent hot cakes kinda fun tho', 'watching tv lor funny bluff wat izzit thk impossible us', 'xmas prize draws trying contact u todays draw shows prize guaranteed call land line valid hrs', 'dunno lei neva say', 'thanx day u r goodmate think ur rite sary asusual u cheered love u franyxxxxx', 'way home went change batt watch go shop bit lor', 'yes place town meet exciting adult singles uk txt chat p msg', 'hi mobile lt gt added contact list www fullonsms com great place send free sms people visit fullonsms com', 'good evening sir hope nice day wanted bring notice late paying rent past months pay lt gt charge felt would inconsiderate nag something give great cost didnt speak however recession wont able pay charge month hence askin well ahead month end please help thank everything', 'let want house', 'best line said love wait till day forget u day u realize u forget gn', 'reach ten morning', 'pussy perfect', 'sorry call later', 'someone contacted dating service entered phone becausethey fancy find call landline pobox w rg p', 'message responce happend', 'also piece', 'wiskey brandy rum gin beer vodka scotch shampain wine kudi yarasu dhina vaazhthukkal', 'boo things back home little bored already', 'first gained lt gt kg since took second done blood sugar tests ok blood pressure within normal limits worries', 'pick ur fone u dumb', 'thanks da thangam feel happy dear also miss da', 'okey doke home dressed cos laying around ill speak later bout times stuff', 'run away frm u walk slowly amp kills u care enough stop', 'babe back come back', 'well told others marry', 'neshanth tel r u', 'yo yo yo byatch whassup', 'oh kay sat right', 'hi roger cl', 'babe u want dont u baby im nasty thing filthyguys fancy rude time sexy bitch go slo n hard txt xxx slo msgs', 'oh oh wasted den muz chiong sat n sun liao', 'jesus christ bitch trying give drugs answer fucking phone', 'please give pick tuesday evening ok', 'meeting darren', 'one best dialogue cute reltnship wen die dont come near body bcoz hands may come wipe ur tears time gud ni', 'solve case man found murdered lt decimal gt lt gt afternoon wife called police police questioned everyone wife sir sleeping murder took place cook cooking gardener picking vegetables house maid went post office children went play neighbour went marriage police arrested murderer immediately reply reason u r brilliant', 'dear reach', 'aww first time u said u missed without asking missed u first love', 'ok thanx gd nite', 'come right ahmad', 'know u u know send chat let find p msg rcvd hg suite lands row w j hl ldn years', 'lol please actually send pic right wan na see pose comb hair dryer something', 'fps', 'huh means computational science like dat one push n', 'could read love answered', 'oh lk tt den take e one tt ends cine lor dun wan yogasana oso', 'madam regret disturbance might receive reference check dlf premarica kindly informed rgds rakhesh kerala', 'sms services inclusive text credits pls gotto www comuk net login qxj unsubscribe stop extra charge help comuk cm ae', 'oic better quickly go bathe n settle', 'err cud going pm got way contact', 'bloo bloo bloo miss first bowl', 'lmao fun', 'oh k k big hitter anyway good', 'hey almost forgot happy b day babe love ya', 'valentines day special win quiz take partner trip lifetime send go p msg rcvd custcare', 'think move lt gt week', 'find sent offline message know anjola', 'guess first time created web page www asjesus com read wrote waiting opinions want friend', 'txting driving', 'good lets thank god please complete drug lots water beautiful day', 'really dun bluff leh u sleep early nite', 'indians r poor india poor country says one swiss bank directors says lt gt lac crore indian money deposited swiss banks used taxless budget lt gt yrs give lt gt crore jobs indians village delhi lane roads forever free power suply lt gt social projects every citizen get monthly lt gt lt gt yrs need world bank amp imf loan think money blocked rich politicians full rights corrupt politicians itna forward karo ki pura india padhe g', 'uncle boye need movies oh guide plus know torrents particularly legal system slowing gr day plus started cos dont meet online honey moon', 'oh ya ya remember da', 'btw regarding really try see anyone else th guy commit random dude', 'ur chance win cash every wk txt play c www music trivia net custcare x p wk', 'busy juz dun wan go early hee', 'rightio well arent bright early morning', 'great church holla get', 'back brum thanks putting us keeping us happy see soon', 'donno scorable', 'lt gt great loxahatchee xmas tree burning update totally see stars', 'yes dont care need bad princess', 'guy kadeem selling since break know one guy paranoid fuck like selling without til late tonight', 'sorry call later', 'tmr brin lar aiya later come n c lar mayb neva set properly got da help sheet wif', 'u knw dis lt gt', 'dun believe wat', 'k give back thanks', 'know complain num bettr directly go bsnl offc nd apply', 'okay seen pick friday', 'much payed suganya', 'left dessert u wan go suntec look u', 'abeg make profit start using get sponsors next event', 'onum ela pa normal', 'k k sister kids', 'cool text way', 'nope meanwhile talk say make greet', 'cant talk call dont keep calling', 'anything lar', 'rose needs water season needs change poet needs imagination phone needs ur sms need ur lovely frndship forever', 'good afternoon babe goes day job prospects yet miss love sighs', 'pick drop car problem', 'think waste rr', 'world famamus', 'coming friday leave pongal get news work place', 'lol well without could big sale together', 'way', 'eat old airport road oredi got lot pple', 'sry talk phone parents', 'final chance claim ur worth discount vouchers today text yes savamob member offers mobile cs savamob pobox uz subs', 'ok lor wat time finish', 'princess like make love lt gt times per night hope thats problem', 'mm way railway', 'dnt wnt tlk wid u', 'done sorry hope next space gives everything want remember furniture around move lock locks leave key jenne', 'yet like keep touch easiest way barcelona way ru house', 'sppok ur mob halloween collection nokia logo pic message plus free eerie tone txt card spook', 'urgent call landline complementary tenerife holiday cash await collection sae cs po box wa px ppm sender hol offer', 'k evening da urgent', 'pansy living jungle two years driving worried', 'mm kanji dont eat anything heavy ok', 'promise getting soon text morning let know made ok', 'lol different go trying find every real life photo ever took', 'dont thnk wrong calling us', 'k ill drink pa need srs model pls send mail id pa', 'aiyah e rain like quite big leh drizzling least run home', 'docs appointments next week tired shoving stuff ugh normal body', 'dun b sad dun thk abt already concentrate ur papers k', 'greetings consider excused', 'drama pls enough family struggling hot sun strange place reason ego going invited actually necessity go wait serious reppurcussions', 'released another italian one today cosign option', 'mu try figure much money everyone gas alcohol jay trying figure weed budget', 'winner valued network customer hvae selected receive reward collect call valid hours acl pm', 'hcl chennai requires freshers voice process excellent english needed salary upto lt gt call ms suman lt gt telephonic interview via indyarocks com', 'dai da send resume id', 'know lt gt around', 'yup finished c', 'remember ask alex pizza', 'da today also forgot', 'ola would get back maybe today told direct link us getting cars bids online arrange shipping get cut u partnership u invest money shipping takes care rest u wud b self reliant soon dnt worry', 'fwiw reason around time smoke gas afford around someone tells apparently happens somebody wants light', 'hello boytoy made home constant thought love hope nice visit wait till come home kiss', 'congrats kano whr treat maga', 'u talking', 'yup', 'ok', 'u wake already wat u u picking us later rite taking sq reaching ard smth like dat u check e arrival time c ya soon', 'yunny walking citylink faster come hungry', 'er yep sure props', 'hiya u paying money account thanks got pleasant surprise checked balance u c get statements acc', 'u nokia plus free digital camera u get u win free auction take part send nokia pobox tcr w', 'ok ill send lt decimal gt ok', 'bognor splendid time year', 'yes office da', 'sorry call later', 'joy father john john name joy father mandan', 'ok ask abt e movie u wan ktv oso', 'misplaced number sending texts old number wondering heard year best mcat got number atlanta friends', 'sorry call later', 'dunno lei might b eatin wif frens wan eat wait lar', 'sorry call later', 'free entry weekly comp send word win c www txttowin co uk', 'say slowly god love amp need clean heart blood send ten special people amp u c miracle tomorrow pls pls', 'u noe send files computers', 'mmmmm loved waking words morning miss love hope day goes well happy wait us together', 'jay says put lt gt', 'come sec somebody want see', 'sun anti sleep medicine', 'happening gotten job begun registration permanent residency', 'yup ok', 'glad went well come plenty time claire goes work', 'ok enjoy r u home', 'pls pls send mail know relatives coming deliver know costs risks benefits anything else thanks', 'like', 'haf combine n c lor', 'monthly amount terrible pay anything till months finishing school', 'hmmm many players selected', 'said gon na snow start around pm tonite predicting inch accumulation', 'dont send plus mode', 'aiyo please got time meh', 'package programs well', 'sister belongs family hope tomorrow pray fated shoranur train incident lets hold hands together amp fuelled love amp concern prior grief amp pain pls join dis chain amp pass stop violence women', 'guys asking get slippers gone last year', 'company good environment terrific food really nice', 'text get ringtones logos games www txt com questions info txt co uk', 'honestly made lovely cup tea promptly dropped keys burnt fingers getting', 'yup studying surfing lor e lazy mode today', 'please sen kind advice please come try', 'done c', 'oh fine tonight', 'give time walk', 'reach ard mins ok', 'freemsg awarded free mini digital camera reply snap collect prize quizclub opt stop p wk sp rwm ph', 'fuck babe happened come never came back', 'message brought gmw ltd connected', 'friends want drive em someplace probably take', 'also thk fast xy suggest one u dun wan ok going rain leh got gd', 'still getting goods', 'maybe pressies', 'yeah leave maybe ish', 'k k also fine complete course', 'sea lays rock rock envelope envelope paper paper words', 'told dr appt next week thinks gon na die told check nothing worried listen', 'room need', 'dont want hear anything', 'hey leave friday wait ask superior tell', 'ultimately tor motive tui achieve korli', 'work timing', 'worry finished march ish', 'house water dock boat rolled newscaster dabbles jazz flute behind wheel', 'congrats mobile g videophones r call videochat wid ur mates play java games dload polyph music noline rentl bx ip p', 'next amazing xxx picsfree video sent enjoy one vid enough day text back keyword picsfree get next video', 'thats going ruin thesis', 'sch neva mind u eat st lor', 'hey whats u sleeping morning', 'erm thought contract ran th october', 'dunno lets go learn pilates', 'u subscribed best mobile content service uk per ten days send stop helpline', 'yup elaborating safety aspects issues', 'free tarot texts find love life try free text chance free msgs', 'goodmorning today late hr', 'hi happy birthday hi hi hi hi hi hi hi', 'outside office take', 'respond imma assume still asleep imma start calling n shit', 'aight see bit', 'superior telling friday leave department except leave way call waheed fathima hr conform', 'join uk horniest dogging service u sex nite sign follow instructions txt entry nyt ec lp msg p', 'lol take member said aunt flow visit months cause developed ovarian cysts bc way shrink', 'still work going small house', 'friend got says upping order grams got lt gt get', 'tmr timin still da wat cos got lesson', 'thing apes u fight death keep something minute u let go thats', 'sunshine quiz wkly q win top sony dvd player u know country liverpool played mid week txt ansr sp tyrone', 'gon na able late notice home weeks anyway plans', 'got fujitsu ibm hp toshiba got lot model say', 'okie thanx', 'gosh pain spose better come', 'usual iam fine happy amp well', 'okie', 'gon na get rimac access', 'im arestaurant eating squid wan na dosomething late', 'call times job today ok umma ask speed', 'hello u call wen u finish wrk fancy meetin wiv u tonite need break dabooks hrs last nite today wrk', 'r u sam p eachother meet go house', 'yeah lol luckily starring role like', 'hello madam', 'awesome text restocked', 'usual iam fine happy amp well', 'knock knock txt whose enter r weekly draw gift voucher store yr choice cs www tkls com age stoptxtstop week', 'yes innocent fun', 'thanks sending mental ability question', 'sir hope day going smoothly really hoped wont bother bills settle month extra cash know challenging time also let know', 'marrow wed lt gt aha', 'went ur hon lab one', 'cant pick phone right pls send message', 'hey pple nights excellent location wif breakfast hamper', 'forwarded hi mailbox messaging sms alert matches please call back retrieve messages matches cc p min', 'come', 'lol nah bad thanks good b home quite reality check hows ur day u anything website', 'ok lor', 'coming home dinner', 'da al r lt gt', 'free ring tone text polys every week get new tone yrs wk', 'unni thank dear recharge rakhesh', 'know lacking particular dramastorm details part worried', 'haha cant tmr forfeit haha', 'hey glad u r better hear u treated urself digi cam good r pm fab new year c u coupla wks', 'way going back', 'urgent mobile xxx bonus caller prize nd attempt reach call asap box n qp ppm', 'cal sir meeting', 'love hear v see sundayish', 'sorry da thangam sorry held prasad', 'tiwary rcb battle bang kochi', 'thank god bed', 'cancer moms making big deal regular checkup aka pap smear', 'gobi arts college', 'wants talk', 'pandy joined w technologies today got job', 'guaranteed latest nokia phone gb ipod mp player prize txt word collect ibhltd ldnw h p mtmsgrcvd', 'try get lost fact tee hee', 'hi spoke maneesha v like know satisfied experience reply toll free yes', 'friends use call', 'sorry call later', 'em olowoyey usc edu great time argentina sad secretary everything blessing', 'taxt massage tie pos argh ok lool', 'hi please get lt gt dollar loan pay back mid february pls', 'might want pull case plan spending much confidence derek taylor money management', 'like shaking booty dance floor', 'text get call phones problems', 'need drug anymore', 'sorry da thought calling lot times lil busy call noon', 'sarcasm nt scarcasim', 'great run ttyl', 'feel like trying kadeem v', 'dai lt gt naal eruku', 'yet chikku wat abt u', 'ok', 'want finally lunch today', 'know dad back', 'hello darling today would love chat dont tell look like sexy', 'free st week nokia tone ur mob every week txt nokia get txting tell ur mates www getzed co uk pobox w wq norm p tone', 'remains bro amongst bros', 'r u meeting da ge nite tmr', 'nice day impressively sensible went home early feel fine boring remember', 'de looking good', 'wan na get laid nite want real dogging locations sent direct ur mobile join uk largest dogging network txt park nyt ec lp msg', 'tried contact response offer new nokia fone camcorder hit reply call delivery', 'yes replied mail going management office later plus bank later also wednesday', 'cool come like lt gt ish', 'super msg da nalla timing', 'good afternoon boytoy feeling today better hope good boy obedient slave please queen', 'ft good combination', 'sick needy want pouts stomps feet pouts stomps feet want slave want', 'train back northampton afraid', 'abj serving staying dad alone', 'playng doors game gt racing phone lol', 'new tones week include mcfly ab sara jorge shock smith switch order follow instructions next message', 'solve case man found murdered lt decimal gt lt gt afternoon wife called police police questioned everyone wife sir sleeping murder took place cook cooking gardener picking vegetables house maid went post office children went play neighbour went marriage police arrested murderer immediately reply reason u r brilliant', 'da bus going home', 'got call landline number asked come anna nagar go afternoon', 'okay chasing dream good next', 'yupz oredi booked slots weekends liao', 'urgent trying contact u todays draw shows prize guaranteed call land line claim c valid hrs', 'r many model sony ericson also der lt gt luks good bt forgot modl', 'okie', 'yes know cheesy songs frosty snowman', 'ya ok vikky vl c witin lt gt mins il reply u', 'sports fans get latest sports news str ur mobile wk free plus free tone txt sport www getzed co uk norm txt p', 'hey tmr meet bugis', 'urgent urgent free flights europe give away call b th sept take friend free call claim ba nnfwfly ppm', 'nice new shirts thing wear nudist themed mu', 'hey sexy buns day word morning ym think', 'whenever see still hook', 'nope going home go pump petrol lor like going rain soon', 'use foreign stamps whatever send', 'lost help', 'oh baby house come dont new pictures facebook', 'feb lt gt love u day send dis ur valued frnds evn comes back u gt married person u luv u ignore dis u lose ur luv evr', 'hiya sorry hav signal seen heard neither unusual put case get sort hugs snogs', 'omw back tampa west palm hear happened', 'yup already thanx printing n handing', 'freemsg fancy flirt reply date join uks fastest growing mobile dating service msgs rcvd p optout txt stop reply date', 'mean come chase stated watch many movies want', 'took tablets reaction morning', 'great new offer double mins double txt best orange tariffs get latest camera phones free call mobileupd free stoptxt cs', 'nah perpetual dd', 'sorry de went shop', 'hope enjoyed new content text stop unsubscribe help p provided tones co uk', 'wen ur lovable bcums angry wid u dnt take seriously coz angry childish n true way showing deep affection care n luv kettoda manda nice day da', 'hey still want go yogasana coz end cine go bathe hav steam bath', 'nope drivin neva develop da photos lei', 'thinking going reg pract lessons flung advance haha wat time u going', 'cool lt gt inches long hope like big', 'house maid murderer coz man murdered lt gt th january public holiday govt instituitions closed including post office understand', 'okie thanx', 'days euro kickoff u kept informed latest news results daily unsubscribe send get euro stop', 'go n buy juz buy get lar', 'ok lor', 'working technical support voice process', 'justbeen overa week since broke already brains going mush', 'tunde wishing great day abiola', 'nope c', 'medical missions nigeria', 'movies laptop', 'whatsup dont u want sleep', 'urgent please call landline cash luxury canary islands holiday await collection cs sae award aq ppm', 'urgent please call landline complimentary lux costa del sol holiday cash await collection ppm sae cs james eh rr', 'havent lei next mon', 'mm feeling sleepy today shall get dear', 'dare stupid wont tell anything hear wont talk', 'noe ben going', 'mag meeting avo point', 'meant middle left right', 'really crashed cuddled sofa', 'hi chachi tried calling u unable reach u pl give missed cal u c tiz msg kanagu', 'sent prices mean lt gt g', 'much buzy', 'nothing', 'know u u know send chat let find p msg rcvd hg suite lands row w j hl ldn years', 'working ringing u thing whole houseful screaming brats pulling hair loving u', 'family responding anything room went home diwali one called coming makes feel like died', 'tick tick tick babe', 'r going today meeting', 'k da many page want', 'ya onion roast', 'send number give reply tomorrow morning said like ok', 'said problem let know', 'ok tell half hr b u come need prepare', 'play w computer aiyah tok u lor', 'sat right okay thanks', 'derp worse dude always wants party dude files complaint three drug abusers lives', 'ok chinese food way get fat paying lipo', 'r outside already', 'good trip watch remember get back must decide easter', 'yo watching movie netflix', 'time prob', 'meh thgt clash really ah dun mind dun seen lost weight gee', 'dont thnk wrong calling us', 'sure night menu know noon menu', 'arr birthday today wish get oscar', 'say slowly god love amp need clean heart blood send ten special people amp u c miracle tomorrow pls pls', 'open rebtel firefox loads put plus sign user name place show two numbers lower number number pick number pin display okay', 'picking various points', 'married local women looking discreet action real matches instantly phone text match msg cost p stop txt stop bcmsfwc n xx', 'wow v v impressed funs shopping', 'way ur home', 'burger king wan na play footy top stadium get burger king st sept go large super coca cola walk winner', 'problem talk later', 'ur sis', 'still customer place', 'come takes little time child afraid dark become teenager wants stay night', 'dude u knw also telugu thts gud k gud nyt', 'confirm eating esplanade', 'send id password', 'kind took garage centre part exhaust needs replacing part ordered n taking fixed tomo morning', 'ur chance win cash every wk txt action c www movietrivia tv custcare x p wk', 'well might come', 'long quit get like minutes day', 'likely called mittelschmertz google dont paracetamol dont worry go', 'well right gon na get check today steam sales pee text want come get', 'arrived see couple days lt', 'k wat tht incident', 'yeah get unlimited', 'cthen thk shd b enuff still got conclusion n contents pg n references b da contents pg n cover pg', 'forgot takes years shower sorry phone dead yet', 'got wat buy tell us need come', 'big god bring success', 'u bin awarded play instant cash call claim every th player wins min optout', 'r stayin extra week back next wed rugby weekend hi c u soon', 'well still bit left guys want tonight', 'campus library', 'affidavit says lt gt e twiggs st division g courtroom lt gt lt time gt double check text tomorrow', 'creep', 'tell friends plan valentines day lt url gt', 'get ten billion calls texts help god', 'purity friendship two smiling reading forwarded message smiling seeing name gud evng musthu', 'told returned order', 'house maid murderer coz man murdered lt gt th january public holiday govt instituitions closed including post office', 'depends u going lor', 'smile right go world wonder smiling think crazy keep away grins', 'freemsg fav xmas tones reply real', 'lil fever fine', 'think still car', '', 'december mobile mths entitled update latest colour camera mobile free call mobile update co free', 'yes princess want catch big strong hands', 'oh yeah forgot u take shopping', 'mm asked call radio', 'thinkin someone good drugs', 'say slowly god love amp need clean heart blood send ten special people amp u c miracle tomorrow pls pls', 'enjoy showers possessiveness poured u ur loved ones bcoz world lies golden gift loved truly', 'alright sure let know leaving', 'lasting much hours might get lucky', 'genius brother pls send number skype', 'gr poly tones mobs direct u rply poly title eg poly breathe titles crazyin sleepingwith finest ymca getzed co uk pobox w wq p', 'thk em find wtc far weiyi goin e rest dunno yet r ur goin dinner den might b able join', 'forget owns private property good boy always passionate kiss', 'interflora late order interflora flowers christmas call place order midnight tomorrow', 'oh god taken teeth paining', 'romcapspam everyone around responding well presence since warm outgoing bringing real breath sunshine', 'u ask darren go n pick u lor oso sian tmr haf meet lect', 'need buy lunch eat maggi mee', 'congratulations thanks good friend u xmas prize claim easy call p per minute bt national rate', 'ok lor', 'oh right ok make sure loads work day got really nasty cough today dry n shot really help', 'wife knew time murder exactly', 'send logo ur lover names joined heart txt love name name mobno eg love adam eve yahoo pobox w wq txtno ads p', 'howz persons story', 'thanx sending home', 'normally hot mail com see', 'tkts euro cup final cash collect call b pobox ppm', 'u sick still go shopping', 'ya well fine bbd pooja full pimples even become quite black ur rite cold wearing sweatter', 'nice nice working', 'reach home call', 'trying find chinese food place around', 'easy mate guess quick drink bit ambitious', 'babe miiiiiiissssssssss need crave geeee sad without babe love', 'ok thanx', 'aathi dear', 'tunji queen wishing great day abiola', 'today iz yellow rose day u love frndship give misscall amp send ur frndz amp see many miss calls u get u get missed u marry ur lover', 'class hours sorry', 'wat time u finish ur lect today', 'free message jamster get crazy frog sound poly text mad real text mad crazy sounds gbp week c apply', 'sad story man last week b day wife nt wish parents forgot n kids went work even colleagues wish entered cabin pa said happy b day boss felt special askd lunch lunch invited apartment went said u mind go bedroom minute ok sed sexy mood came minuts latr wid cake n wife parents kidz friends n colleagues screaming surprise waiting sofa naked', 'chance reality fantasy show call p per min ntt ltd po box croydon cr wb national rate call', 'fine good hear dear happy new year oh', 'going wipro interview today', 'tall princess', 'doubt could handle times per night case', 'haha hope hear receipt sound gd luck', 'gon na death gon na leave note says robs fault avenge', 'japanese proverb one u none u must indian version one let none leave finally kerala version one stop none make strike', 'today workin free oso gee thgt u workin ur fren shop', 'life face choices toss coin becoz settle question coin air u know heart hoping gudni', 'know god created gap fingers one made comes amp fills gaps holding hand love', 'want kiss feel next', 'happy saying', 'adult content video shortly', 'ok would b lovely u r sure think wot u want drinkin dancin eatin cinema u wot', 'saying explicitly told nora know someone probably gon na bother', 'says hi get ass back south tampa preferably kegger', 'smith waste da wan na gayle', 'mum sent many many messages since got want know actually getting enjoy rest day', 'aight tomorrow around lt gt', 'house maid murderer coz man murdered lt gt th january public holiday govt instituitions closed including post office understand', 'chance reality fantasy show call p per min ntt ltd po box croydon cr wb national rate call', 'actually first time went bed long spoke woke night', 'see', 'dont understand message', 'crucify c told earlier', 'idk keep saying since moved keep butting heads freedom vs responsibility tired much shit deal barely keeping together gets added', 'fuck cedar key fuck come anyway tho', 'twenty past five said train durham already coz reserved seat', 'hey boys want hot xxx pics sent direct ur phone txt porn hrs free p per day stop text stopbcm sf wc n xx', 'u still painting ur wall', 'last chance claim ur worth discount vouchers today text shop savamob offers mobile cs savamob pobox uz sub', 'printer cool mean groovy wine groovying', 'hi harish rent transfred ur acnt', 'anything lor coming', 'cbe really good nowadays lot shop showrooms city shaping good', 'still attending da talks', 'probs hon u doinat mo', 'k take care', 'take phone callon friday assume year', 'battery low babe', 'shuhui bought ron present swatch watch', 'yeah quite bit left swing tomorrow get', 'babe said hours almost internet', 'k sure get noon see', 'k k yesterday cbe', 'went ganesh dress shop', 'pdate double mins txts orange tariffs latest motorola sonyericsson nokia bluetooth free call mobileupd call optout yhl', 'collecting ur laptop going configure da settings izzit', 'r home come within min', 'aight latest probably closer jay tyler two trips', 'come aftr lt decimal gt cleaning house', 'ur cash balance currently pounds maximize ur cash send cash p msg cc po box tcr w', 'bill letters expecting one orange bill may still say orange', 'tell pa pain de', 'hi darlin hope nice night wish come cant wait see love fran ps want dirty anal sex want man gang bang', 'ha know either clever simple thing pears day perfect christmas', 'helloooo wake sweet morning welcomes enjoy day full joy gud mrng', 'alrite', 'must sit around wait summer days celebrate magical sight worlds dressed white oooooh let snow', 'urgent mobile number awarded prize guaranteed call land line claim valid hrs', 'guys go see movies side', 'sorry meeting call later', 'tell thinking plus going stop runs', 'kindly send one flat lt decimal gt today', 'sorry u unsubscribe yet mob offer package min term weeks pls resubmit request expiry reply themob help info', 'nothing lor bit bored dun u go home early sleep today', 'time tell friend around', 'yes fine love safe', 'thanks chikku gud nyt', 'xy ur car u picking', 'thanx time spent geva bin mint ur baby want u xxxx', 'yo way could pick something tonight', 'sent send', 'fine simply sitting', 'thts god gift birds humans hav natural gift frm god', 'coming day class', 'im done studyn library', 'ok u enjoy ur shows', 'anything', 'wuld without baby thought alone mite break wan na go crazy everyboy needs lady xxxxxxxx', 'wat dear sleeping ah', 'hi test lt gt rd', 'students solved cat question xam lt gt lt gt lt gt tell answer u r brilliant thing got answr', 'yo know anyone lt gt otherwise able buy liquor guy flaked right get hold somebody loko night', 'yup n fren lor meeting fren', 'yeah got one lined us', 'stop wondering wow ever going stop tm ing tm whenever want mine laughs', 'lol yep yesterday already got fireplace another icon sitting', 'hey booked pilates yoga lesson already haha', 'ok happen behave like', 'new message please call', 'supervisor find one lor thk students havent ask yet tell u aft ask', 'hello news job making wait fifth week yeah im woozles weasels exeter still home', 'message responce happend', 'currently message awaiting collection collect message call', 'hey babe sorry get sooner gary come fix cause thinks knows go far ptbo says cost lt gt bucks know might cheaper find someone second hand machines right let know want babe', 'make fucks sake x', 'leave u always ignorant', 'nope b going sch fri quite early lor cos mys sis got paper da morn', 'bruce b downs amp fletcher', 'said would woke', 'hey free call', 'tell whos pls', 'urgent mobile awarded bonus caller prize final attempt contact u call', 'think might give miss teaching til twelve lecture two damn working thing', 'id check like bowls worth left', 'yes many sweets', 'would still cozy exhausted last night nobody went school work everything closed', 'u secret admirer reveal thinks u r special call opt reply reveal stop per msg recd cust care', 'buzzzz grins buzz ass buzz chest buzz cock keep phone vibrator feel shake', 'sir send group mail check', 'da intro covers energy trends n pros n cons brief description nuclear fusion n oso brief history iter n jet got abt n half pages', 'none nowhere ikno doesdiscount shitinnit', 'dont know jabo abi', 'ever notice driving anyone going slower idiot everyone driving faster maniac', 'yet ya sapna aunty manege day hogidhe chinnu full weak swalpa black agidhane', 'good baby', 'neft transaction reference number lt gt rs lt decimal gt credited beneficiary account lt gt lt time gt lt gt', 'mostly sports type lyk footbl crckt', 'head dey swell oh thanks making day', 'u make fb list', 'height confidence aeronautics professors wer calld amp wer askd sit aeroplane aftr sat wer told dat plane ws made students dey hurried plane bt didnt move said made students wont even start datz confidence', 'sary need tim bollox hurt lot tol', 'happy new year princess', 'text carlos let know hang', 'worry easy ingredients', 'love u little pocy bell sorry love u', 'ok omw castor', 'yar lor keep raining non stop u wan go elsewhere', 'xmas offer latest motorola sonyericsson nokia free bluetooth dvd double mins txt orange call mobileupd call optout qf', 'u mean u almost done done wif sleeping tot u going take nap yup send liao picking ard smth lor', 'wonders world th th ur style th ur smile th ur personality rd ur nature nd ur sms st ur lovely friendship good morning dear', 'tonight yeah', 'eat fo lunch senor', 'said right giggle saw u would possibly first person die nvq think much could', 'break time one come n get stuff fr', 'reply win weekly professional sport tiger woods play send stop end service', 'see see maybe reboot ym seen buzz', 'still grinder', 'polyphonic tone ur mob every week txt pt st tone free get txtin tell ur friends p tone reply hl info', 'love decision feeling could decide love life would much simpler less magical', 'hot live fantasies call p per min ntt ltd po box croydon cr wb national rate call', 'k see k', 'list buyers', 'idea guess work hour supposed leave since usual nobody interest figuring shit last second', 'mm entirely sure understood text hey ho weekend', 'released vday shirts u put makes bottom half naked instead white underwear', 'know watching film computer', 'b thursday', 'oh phone phoned disconnected', 'id onluy matters getting offcampus', 'message free welcome new improved sex dogging club unsubscribe service reply stop msgs p', 'excellent see riley plans', 'see half hour', 'tkts euro cup final cash collect call b pobox ppm', 'ew one', 'also hi wesley', 'ah see lingo let know wot earth finished making', 'loan purpose homeowners tenants welcome previously refused still help call free text back help', 'update mths half price orange line rental mins call mobileupd call optout j q', 'imagine life without see fast u searching worry l always disturb u goodnoon', 'hm good morning headache anyone', 'yeah probs last night obviously catching speak soon', 'free unlimited hardcore porn direct mobile txt porn get free access hrs chrgd p per day txt stop exit msg free', 'might go sch yar e salon v boring', 'lt gt mins stop somewhere first', 'lt gt fast approaching wish u happy new year happy sankranti happy republic day happy valentines day happy shivratri happy ugadi happy fools day happy may day happy independence day happy friendship mother father teachers childrens day amp happy birthday u happy ganesh festival happy dasara happy diwali happy christmas lt gt good mornings afternoons evenings nights rememberi first wishing u raj', 'one joys lifeis waking daywith thoughts somewheresomeone cares enough tosend warm morning greeting', 'get second half message', 'wat time u wan meet later', 'thank much selflessness love plenty', 'film ill call later', 'dare change ring', 'bad girl lady', 'love ya try budget money better babe gary would freak knew', 'part initiate understand', 'finished lunch already u wake already', 'still game', 'got tallent wasting', 'record one night', 'also sir sent email log usc payment portal send another message explain things back home great weekend', 'gon na let know cos comes bak holiday day coming get text number', 'jokin lar depends phone father get lor', 'aight lem know', 'get ready lt gt inches pleasure', 'raji pls favour pls convey birthday wishes nimya pls today birthday', 'ok feel like john lennon', 'cos darren say considering mah ask', 'bothering trust answers pls', 'wishing family merry x mas happy new year advance', 'one day crab running sea shore waves came n cleared footprints crab crab asked frnd r u clearing beautiful footprints waves replied fox following ur footprints catch thats cleared frndsship never lets u dwn gud nyt', 'aight time want come', 'slaaaaave must summon time wish come anymore', 'bill thats bad', 'let know changes next hrs even appendix age range however impossible chill let know hrs', 'hello yeah got bath need hair come done yeah', 'weather', 'ok much though h friday cant wait dunno wot hell im gon na another weeks become slob oh wait already done', 'die e toot fringe', 'lol know awesome phone could click delete right want', 'ok', 'awesome question cute answer someone asked boy ur life smiled amp answered fine gudnite', 'please leave topic sorry telling', 'pls send correct name da', 'happened yo date', 'eastenders tv quiz flower dot compare violet e tulip f lily txt e f chance win cash wkent p', 'webpage available', 'woke yeesh late fall asleep til lt gt', 'unsubscribed services get tons sexy babes hunks straight phone go http gotbabes co uk subscriptions', 'dear know lt gt th lt gt th birthday loving gopalettan planning give small gift day like participate welcome please contact admin team details', 'k k tomorrow onwards started ah', 'u talking bout early morning almost noon', 'fine remember', 'hi babe jordan r u im home abroad lonely text back u wan na chat xxsp visionsms com text stop stopcost p', 'ok many buy', 'sounds good keep posted', 'get brand new mobile phone agent mob plus loads goodies info text mat', 'ok april cant wait', 'boy best get yo ass quick', 'ay wana meet sat wkg sat', 'wait till bus pick', 'apart one told yesterday', 'ok lor buy wat', 'somebody go andros steal ice', 'know msg recently', 'take us shopping mark distract isaiah', 'mum hope great day hoping text meets well full life great day abiola', 'sense foot penis', 'okay thought expert', 'deep sigh miss really surprised gone net cafe yet get miss', 'thinl role like sachin standing others hit', 'great trip india bring light everyone project everyone lucky see smile bye abiola', 'importantly discuss u', 'k k training process', 'ok lor ned go toa payoh return smth u wan send wat', 'da car park', 'wish holding tightly making see important much mean much need life', 'asked anthony dad bf', 'wnevr wana fal luv vth books bed fals luv vth yen madodu nav pretsorginta nammanna pretsovru important alwa gud eveb', 'today sunday sunday holiday work', 'going take bath ill place key window', 'lord rings return king store reply lotr june chance win lotr soundtrack cds stdtxtrate reply stop end txts', 'dear take care reaching home love u lot', 'staff science nus edu sg phyhcmk teaching pc', 'emigrated something ok maybe bit hopeful', 'olol printed forum post guy exact prob fixed gpu replacement hopefully dont ignore', 'walked moms right stagwood pass right winterstone left victors hill address lt gt', 'yo jp hungry like mofo', 'creepy crazy', 'ok din get ur msg', 'tessy pls favor pls convey birthday wishes nimya pls dnt forget today birthday shijas', 'pathaya enketa maraikara pa', 'even friend priest call', 'u lousy run already come back half dead hee', 'said bad dat e gals know u wat u', 'remind hrs', 'hoping would send message rent due dont enough reserves completely gone loan need hoping could balance lt gt way could get till mid march hope pay back', 'hi happy new year dont mean intrude pls let know much tuition paid last semester much semester thanks', 'hello hun ru way im good dates guy met walkabout far meet soon hows everyone else', 'lol gon na last month cashed left lt gt case collecting week cause announced blog', 'good luck draw takes place th feb good luck removal send stop customer services', 'short cute good person dont try prove gud mrng', 'decided yet eh', 'wat time liao still got', 'yes watching footie worried going blow phil neville', 'wait inside da car park', 'uncle abbey happy new year abiola', 'free call pa', 'r u saying order slippers cos pay returning', 'stop knowing well', 'good evening roger', 'small problem auction punj asking tiwary', 'free entry weekly comp chance win ipod txt pod get entry std txt rate c apply details', 'telling tell one treat hi hi hi', 'uncles atlanta wish guys great semester', 'st wk free gr tones str u wk txt nokia classic nokia tones hit polys nokia p poly p', 'u coming pick', 'thats cool liked photos sexy', 'would u fuckin believe didnt know thurs pre booked cancelled needs b sacked', 'haha better late ever way could swing', 'ok finish', 'lookatme thanks purchase video clip lookatme charged p think better send video mmsto', 'barred b q stores life twat orange dungerees came asked wanted decking got first punch', 'messages food', 'ok going sleep hope meet', 'wat makes people dearer de happiness dat u feel u meet de pain u feel u miss dem', 'let know details fri u find cos tom fri mentionned chinese thanks', 'right think', 'wat r u', 'ur lecture', 'sexy sexy cum text im wet warm ready porn u fun msg free recd msgs p inc vat cancel text stop', 'customer place call', 'planned yet going join company jan know happen', 'boy love u grl hogolo boy gold chain kodstini grl agalla boy necklace madstini grl agalla boy hogli mutai eerulli kodthini grl love u kano', 'haha heard text around', 'get tomorrow send', 'shit babe thasa bit messed yeh shudvetold u urgran know neway illspeak u moro wen im asleep', 'oh thats late well good night give u call tomorrow iam going go sleep night night', 'cheers u tex mecause u werebored yeah okden hunny r uin wk sat sound likeyour havin gr fun j keep updat countinlots loveme xxxxx', 'sorry meeting call later', 'yo howz u girls never rang india l', 'yeah worse', 'hard live chat p min choose girl connect live call cheap chat uk biggest live service vu bcm wc n xx', 'tagged friends seemed count friends', 'heard u call rude chat private line cum wan c pics gettin shagged text pix end send stop sam xxx', 'ok', 'long time remember today', 'havent shopping lor juz arrive', 'thank u better work cause feel used otherwise', 'challenge know', 'much ur hdd casing cost', 'mystery solved opened email sent another batch sweetie', 'describe lucky actually awake noon', 'nd time tried contact u u prize claim call b cs stop sms ppm', 'today sorry day ever angry ever misbehaved hurt plz plz slap urself bcoz ur fault basically good', 'cheers card time year already', 'hot live fantasies call p per min ntt ltd po box croydon cr wb k', 'people see msgs think iam addicted msging wrong bcoz know iam addicted sweet friends bslvyl', 'ugh hopefully asus ppl dont randomly reformat', 'seen facebook huh lol', 'mah b pick tomorrow', 'still otside le u come morrow maga', 'u still plumbers tape wrench could borrow', 'dear voucher holder claim weeks offer pc please go http www e tlp co uk reward ts cs apply', 'vl bcum difficult', 'ur going bahamas callfreefone speak live operator claim either bahamas cruise cash opt txt x', 'havent still waitin usual come back sch oredi', 'meeting da call', 'k k watch films', 'cinema plus drink appeal tomo fr thriller director like mac', 'size elephant tablets u shove um ur ass', 'many people seems special first sight remain special till last sight maintain till life ends take cr da', 'parents kidz friends n colleagues screaming surprise waiting sofa naked', 'dunno juz askin cos got card got salon called hair sense tot da one cut ur hair', 'good morning pookie pie lol hope wake u', 'maybe woke fucking problem', 'happy birthday dear lots love rakhesh nri', 'howz persons story', 'nd time tried contact u u pound prize claim easy call p per min bt national rate', 'x lt gt going get', 'hi neva worry bout da truth coz truth lead ur heart least unique person like u deserve sleep tight morning', 'ur awarded city break could win summer shopping spree every wk txt store skilgme tscs winawk age perwksub', 'ur paper today e morn aft', 'lick every drop ready use mouth well', 'expect whenever text hope goes well tomo', 'great p diddy neighbor comes toothpaste every morning', 'av new number wil u use one ta', 'poking man everyday teach canada abi saying hi', 'lor change suntec wat time u coming', 'de seeing online shop asked', 'curious cuz asked', 'nice nice working', 'okay lor wah like def wont let us go haha say terms conditions', 'haha yup hopefully lose kg mon hip hop go orchard weigh', 'good r u working', 'oh yes little weather kind coccooning home', 'home also', 'phone weirdest auto correct', 'oops phone died even know yeah like better', 'havent mus ask u st wat meet lunch den u n meet already lor u wan go ask da ge st confirm w asap', 'said u mind go bedroom minute ok sed sexy mood came minuts latr wid cake n wife', 'oh yeah hav great time newquay send postcard look girls im gone u know im talkin bout xx', 'got divorce lol', 'ur pin', 'babe got enough money pick bread milk give back get home', 'want snow freezing windy', 'urgent trying contact u todays draw shows prize guaranteed call land line claim valid hrs', 'come mahal bus stop lt decimal gt', 'know week going tirunelvai da', 'baby promise treat well bet take good care', 'like hotel dusk game think solve puzzles area thing', 'thanks ringtone order reference number x mobile charged tone arrive please call customer services', 'hi love goes day fuck morning woke dropped cell way stairs seems alright phews miss', 'well must pain catch', 'sorry da thangam mistake', 'need coz never go', 'rose red red blood blood heart heart u u send tis ur friends including u like u get back u r poor relation u need support u r frnd many luvs u praying god marry u try', 'wife knew time murder exactly', 'six chances win cash pounds txt csh send cost p day days tsandcs apply reply hl info', 'ur cash balance currently pounds maximize ur cash send collect p msg cc po box tcr w', 'feel like dick keep sleeping texts facebook messages sup town', 'plm come da way', 'guess wants alone time could show watch', 'height recycling read twice people spend time earning money money spent spending time good morning keep smiling', 'yup comin', 'yes princess toledo', 'aight text back mu swing need somebody get door', 'ron say fri leh n said ding tai feng cant make reservations said wait lor', 'good swimsuit allowed', 'okay soon best', 'cute thought friendship necessary share every secret ur close frnd watever u shared true', 'ok sent u da latest version da project', 'good morning dear great amp successful day', 'pls accept one day begging change number', 'squeeeeeze christmas hug u lik frndshp den hug back u get u r cute u r luvd u r lucky none people hate u', 'ok anybody asks abt u tel p', 'funny fact nobody teaches volcanoes erupt tsunamis arise hurricanes sway aroundn teaches hw choose wife natural disasters happens', 'gon na ring weekend wot', 'also track lighters find', 'sorry help', 'babe need advice', 'leave around four ok', 'come medical college pm forward da', 'k k good going', 'make lasagna vodka', 'hi kate u give ring asap xxx', 'people tour thought sofa thing sent curious sugar', 'told going got drunk', 'fucking chickened messaged would late woould buzz hear word', 'congratulations thanks good friend u xmas prize claim easy call p per minute bt national rate', 'always looking excuse city', 'yup still coffee wif frens fren drove give lift', 'shore takin bus', 'u gon na get deus ex', 'send email mind lt gt times per night', 'want new nokia colour phone deliveredtomorrow free minutes mobile free texts free camcorder reply call', 'tap spile seven pub gas st broad st canal ok', 'ok come n pick u engin', 'never wanted tell short edge late', 'raviyog peripherals bhayandar east', 'k actually guys meet sunoco howard right way', 'new voicemail please call', 'moon come color dreams stars make musical sms give warm peaceful sleep good night', 'finished eating got u plate leftovers time', 'thanx lot', 'hurry home u big butt hang last caller u food done starving ask cooked', 'lol right diet everyday cheat anyway meant fatty', 'great day beautiful one', 'happened interview', 'solve case man found murdered lt decimal gt lt gt afternoon wife called police police questioned everyone wife sir sleeping murder took place cook cooking gardener picking vegetables house maid went post office children went play neighbour went marriage police arrested murderer immediately reply reason u r brilliant', 'badrith chennai surely pick us competition', 'tot group mate lucky havent reply wat time need leave', 'hey around got enough half ten owe', 'hey tmr maybe meet yck', 'alrite sam nic checkin ur number b', 'making easy pay back lt gt yrs say pay back earlier get', 'worry sure get', 'gas station like block away house drive right since armenia ends swann take howard', 'someone u know asked dating service contact cant guess call revealed pobox ls hb p', 'camera awarded sipix digital camera call fromm landline delivery within days', 'tuition hm go one mind', 'smoking people use wylie smokes much justify ruining shit', 'dear good morning feeling dear', 'little meds say take every hours pain back took another hope die', 'beautiful tomorrow never comes comes already today hunt beautiful tomorrow waste wonderful today goodmorning', 'dunno lei decide lor abt leona oops tot ben going n msg', 'hi moved pub would great c u u cud come', 'todays voda numbers ending selected receive award hava match please call quoting claim code standard rates app', 'message free welcome new improved sex dogging club unsubscribe service reply stop msgs p', 'honeybee said sweetest world god laughed amp said wait u havnt met person reading msg moral even god crack jokes gm gn ge gn', 'ever easier', 'rct thnq adrian u text rgds vatian', 'stop calling everyone saying might cancer throat hurts talk answering everyones calls get one call babysitting monday', 'tough', 'im gonnamissu much would say il send u postcard buttheres aboutas much chance merememberin asthere ofsi breakin contract luv yaxx', 'ee msg na poortiyagi odalebeku hanumanji name hanuman bajarangabali maruti pavanaputra sankatmochan ramaduth mahaveer ee name lt gt janarige ivatte kalisidare next saturday olage ondu good news keluviri maretare inde dodda problum nalli siguviri idu matra lt gt true neglet', 'hi darlin finish u pick meet text back number luv kate xxx', 'set place heart mind mind easily forgets heart always remember wish happy valentines day', 'surprised still guess right lor', 'okie wan meet bishan cos bishan driving today', 'oh ho first time u use type words', 'hi darlin work u get trouble ijust talked mum morning really good time last night im goin soon call u', 'know serving mean', 'huh hyde park mel ah opps got confused anyway tt e best choice den juz take', 'oh gei happend tron maybe ill dl', 'free message activate free text messages replying message word free terms conditions visit www com', 'know girls always safe selfish know got pa thank good night', 'worries hope photo shoot went well spiffing fun workage', 'freezing craving ice fml', 'kay since already', 'eh sorry leh din c ur msg sad already lar watching tv u still office', 'yo im right yo work', 'ok darlin supose ok worry much film stuff mate babysit call xx', 'said u mind go bedroom minute ok sed sexy mood came minuts latr wid cake n wife', 'wake since checked stuff saw true available spaces pls call embassy send mail', 'nope juz work', 'huh fast dat means u havent finished painting', 'number u live', 'put party days week study lightly think need draw custom checkboxes know hardcore', 'sac score big hundred set batsman', 'send yetty number pls', 'much cost approx per month', 'ok theory test going book think may coz thought wan na go jiayin isnt free', 'contacted dating service someone know find call land line pobox w tg p', 'fine give call knows wants questions', 'sorry got late start way', 'u go back urself lor', 'gas station go', 'k u bored come home', 'babe love covers face kisses', 'like made throw smoking friend car one time awesome', 'still checked da', 'go walmart stay', 'forgotten might couple bucks send tomorrow k love ya', 'oh great disturb talk', 'reverse cheating mathematics', 'u welcome caught u using broken english', 'problem baby good time talk called left message', 'sorry call later', 'oh brand', 'sorry cant take call right happens r waxsto wat want come ill get medical insurance able deliver basic care currently shopping right medical insurance give til friday morning thats see major person guide right insurance', 'time coming', 'call say coming today ok tell fool like ok', 'emailed yifeng part oredi get fr', 'r u sure understand wine good idea slurp', 'minimum walk miles day', 'ok problem get taxi c ing tomorrow tuesday tuesday think r going cinema', 'brainless baby doll vehicle sariyag drive madoke barolla', 'run away frm u walk slowly amp kills u care enough stop', 'sorry missed call let talk time', 'please attend phone', 'hate call didnt accept even single call mine even messaged', 'messages phone holding', 'free', 'yo trip got postponed still stocked', 'sorry call later', 'waiting call sir', 'hey reply pa', 'hey elaine today meeting still', 'sorry gone place tomorrow really sorry', 'tiime let hug break tears', 'tomorrow going theatre come wherever u call tell come tomorrow', 'electricity went fml', 'looks like found something smoke great job', 'also andros ice etc etc', '', 'good afternon love today hope good maybe interviews wake miss babe passionate kiss across sea', 'yup wun believe wat u really neva c e msg sent shuhui', 'hows watch resizing', 'dear umma called', 'finished missing plenty', 'complimentary star ibiza holiday cash needs urgent collection landline lose box sk wp ppm', 'well meant opposed drunken night', 'k must book huh going yoga basic sunday', 'free msg billed mobile number mistake shortcode please call charges refunded call free bt landline', 'ok', 'oops mum somerset bit far back tomo see soon x', 'u workin overtime nigpun', 'kallis dismissial nd test', 'guess got screwd', 'please call immediately urgent message waiting', 'meeting call later', 'r u cooking dinner', 'ok thanx', 'bull plan go floating ikea without care world live mess another day', 'buy', 'urgent mobile number awarded bonus caller prize call land line valid hrs', 'heehee funny tho', 'simple arithmetic percentages', 'yeah leave hour least sound', 'valued customer pleased advise following recent review mob awarded bonus prize call', 'thanks honey great day', 'amazing quote sometimes life difficult decide whats wrong lie brings smile truth brings tear', 'good night dear sleepwell amp take care', 'ask dad pick lar wan stay meh', 'jus chillaxin', 'hey das cool iknow wellda peril studentfinancial crisis spk u l r', 'beautiful truth gravity read carefully heart feels light someone feels heavy someone leaves goodmorning', 'want new nokia colour phone deliveredtomorrow free minutes mobile free texts free camcorder reply call', 'whats coming hill monster hope great day things r going fine busy though', 'joy father john john joy father u ans ths hav lt gt iq tis ias question try answer', 'ill obey', 'didnt search online let know', 'need go get', 'pic please send', 'remains bro amongst bros', 'uhhhhrmm isnt tb test bad youre sick', 'haf enuff space got like mb', 'life never much fun great came made truly special forget enjoy one gbp sms', 'want new video phone anytime network mins inclusive video calls downloads per week free deltomorrow call reply', 'valued customer pleased advise following recent review mob awarded bonus prize call', 'welcome please reply age gender begin e g', 'freemsg month unlimited free calls activate smartcall txt call subscriptn gbp wk unlimited calls help stop txt stop landlineonly', 'mobile mths update latest orange camera video phones free save free texts weekend calls text yes callback orno opt', 'new club dont fink met yet b gr c u please leave msg day wiv ur area reply promised carlie x calls minmobsmore lkpobox hp fl', 'true easier', 'sure since parents working tuesday really need cover story', 'haha okay today weekend leh', 'hi darlin youphone im athome youwanna chat', 'know jack shit anything say ask something helpful want pretend text whatever response hypotheticalhuagauahahuagahyuhagga', 'always brainy one', 'yeah get random dude need change info sheets party lt gt never study safe', 'camera awarded sipix digital camera call fromm landline delivery within days', 'christmas occasion celebrated reflection ur values desires affections amp traditions ideal christmas', 'sending greetings joy happiness gr evening', 'hi darlin cantdo anythingtomorrow myparents aretaking outfor meal u free katexxx', 'india win level series means record', 'plan', 'good hear', 'awesome deal gate charles told last night uh yeah', 'time thinkin goin', 'get free mobile video player free movie collect text go free extra films ordered c apply yrs', 'save money wedding lingerie www bridal petticoatdreams co uk choose superb selection national delivery brought weddingfriend', 'board working fine issue overheating also reslove still software inst pending come around clock', 'yes care cause know', 'wiskey brandy rum gin beer vodka scotch shampain wine kudi yarasu dhina vaazhthukkal', 'mon okie lor haha best cheap n gd food la ex oso okie depends whether wana eat western chinese food den u prefer', 'sitting ard nothing lor u leh busy w work', 'lt gt k oh send home sale', 'sorry mail', 'ya telling abt tht incident', 'yes outside like hours called whole family wake cause started', 'ugh got outta class', 'nowadays people notixiquating laxinorficated opportunity bambling entropication ever oblisingately opted ur books masteriastering amplikater fidalfication champlaxigating think atrocious wotz ur opinion junna', 'dont file bag work called tell find anything room', 'need lar jus testing e phone card dunno network gd thk waiting sis finish bathing bathe dun disturb u liao u cleaning ur room', 'ok right later', 'friendship poem dear dear u r near hear dont get fear live cheer tear u r always dear gud ni', 'lunch come quickly open door', 'heard u call night knickers make beg like u last time xx luv nikiyu net', 'back bit long cos accident divert via wadebridge brilliant weekend thanks speak soon lots love', 'k yan jiu liao sat go bugis vill one frm den hop parco nb sun go cine frm den hop orc mrt hip hop', 'bloomberg message center wait apply future http careers bloomberg com', 'seeking lady street freak sheets', 'phone', 'haha figures well found piece priscilla bowl', 'actually fuck whatever find excuse tampa point january though', 'urgent trying contact u todays draw shows prize guaranteed call land line claim valid hrs', 'yay finally lol missed cinema trip last week', 'day working day except saturday sunday', 'aathi dear', 'heart empty without love mind empty without wisdom eyes r empty without dreams amp life empty without frnds alwys touch good night amp sweet dreams', 'think waiting bus inform get ever get', 'getting back time soon', 'things quick question', 'night ended another day morning come special way may smile like sunny rays leaves worries blue blue bay gud mrng', 'probably come everybody done around lt gt right', 'got new year cos yetunde said wanted surprise didnt see money returned mid january lt gt day return period ended', 'ask around lot terms mids', 'sure check yahoo email sent photos yesterday', 'looking', 'wherre boytoy', 'want new video phone anytime network mins text five pounds per week call reply delivery tomorrow', 'hello love goes day wish well fine babe hope find job prospects miss boytoy teasing kiss', 'tell bad character u dnt lik try change lt gt add tat new year resolution waiting ur reply frank good morning', 'got rumour going buy apartment chennai', 'yeah probably earlier', 'change windows logoff sound', 'still checked da', 'also came room', 'huh got lesson lei n thinkin going sch earlier n tot parkin kent vale', 'ok', 'reach office around lt decimal gt amp mobile problem cann get voice call asa free', 'cool text head', 'contacted dating service someone know find call land line pobox w tg p', 'wan win meet greet westlife u currently tour unbreakable untamed unkempt text cost p std text', 'happy birthday may u find ur prince charming soon n dun work hard', 'oh grand bit party mention cover charge probably first come first served', 'said went back bed sleep anything', 'hope arnt pissed id would really like see tomorrow love xxxxxxxxxxxxxx', 'dorothy kiefer com bank granite issues strong buy explosive pick members nasdaq symbol cdgt per', 'says lt gt year old man money last lt gt still waiting check', 'come ur home', 'free day finish mon n thurs', 'food', 'life alle mone eppolum oru pole allalo', 'nite', 'two fundamentals cool life walk like king walk like dont care whoever king gud nyt', 'camera quite good mega pixels optical digital dooms lovely holiday safe hope hav good journey happy new year see couple weeks', 'hi petey noi ok wanted chat coz avent spoken u long time hope ur doin alrite good nit js love ya x', 'saw ron burgundy captaining party boat yeah', 'serious money base', 'already one guy loving', 'staff placement training amrita college', 'always chat fact need money raise', 'job profile seems like bpo', 'well give cos said one nighters persevered found one cheap apologise advance somewhere sleep isnt', 'think actually talk call boss morning went place last year told could go get car fixed cheaper kept telling today much hoped would come back always regretted getting number etc', 'willing go apps class', 'hanging brother family', 'reach telling dont know', 'hey going quit soon xuhui working till end month', 'im sorry bout last nite ur fault spouse pmt sumthin u give think u shldxxxx', 'try neva mate', 'yeah pretty much best case scenario', 'free today haf pick parents tonite', 'hey babe far spun spk da mo dead da wrld sleeping da sofa day cool nytho tx fonin hon call mwen im bk frmcloud j x', 'send naughty pix', 'winner guaranteed caller prize final attempt contact claim call ppmpobox bhamb xe', 'xmas new years eve tickets sale club day till pm thurs fri sat night week selling fast', 'tyler getting th leave long get like hour', 'prepare pounded every night', 'actually mobile full msg work online need send lt gt sent msg wil explain u later', 'sorry call later', 'good evening', 'home please call', 'oic cos n sis got lunch today dad went dunno whether eat sch wat', 'mmmmm sooooo good wake words morning love mmmm fuck love lion devouring kiss across sea', 'pleased inform application airtel broadband processed successfully installation happen within days', 'happen dear silent tensed', 'get unless guys want come time sooner', 'coughing nothing', 'come lt n pass lar', 'e person e sms survey', 'lol ok ill try send warned sprint dead slow prolly get tomorrow', 'thank meet monday', 'th gower mate r u man good wales ill b back morrow c u wk msg random', 'rock yr chik get filthy films xxx pics yr phone rply filth saristar ltd e yt p per days stop cancel', 'single line big meaning miss anything ur best life miss ur best life anything gud nyt', 'got like lt gt get later though get whatever feel like', 'dad wanted talk apartment got late start omw', 'love', 'lol u still feeling sick', 'din tell u jus', 'eyes philosophy', 'next month get upto calls ur standard network charge activate call c wire net st terms pobox uz cost min mobcudb', 'ok lor town lei', 'already sabarish asked go', 'da vijay going talk jaya tv', 'urgent trying contact u todays draw shows prize guaranteed call land line claim j po box c pm', 'lol know hey someone great inpersonation flea forums love', 'text banneduk see cost p textoperator g ga xxx', 'still chance search hard get let try', 'auction round highest bid next maximum bid bid send bids e g bid good luck', 'always celebrate ny family', 'know taj mahal symbol love lesser known facts mumtaz shahjahan th wife wifes shahjahan killed mumtaz husband marry mumtaz died lt gt th delivery married mumtaz sister question arises hell love great hari', 'ok come home vl nice meet v chat', 'collect valentine weekend paris inc flight hotel prize guaranteed text paris www rtf sphosting com', 'sent de webadres geting salary slip', 'fine sends greetings', 'customer loyalty offer new nokia mobile txtauction txt word start get ctxt tc p mtmsg', 'dint touch', 'yup leaving right back soon', 'believe true incredible txts reply g learn truly amazing things blow mind fwd p txt', 'yeah sure leave min', 'one teach ship cars', 'sign maturity start saying big things actually start understanding small things nice evening bslvyl', 'yeah confirmed staying weekend', 'said dun haf passport smth like dat juz send email account', 'multiply numbers independently count decimal points division push decimal places like showed', 'lovely night wake see message hope smile knowing great morning', 'ard lor', 'right meanwhile project twins comin', 'sent maga money yesterday oh', 'hi ibh customer loyalty offer new nokia mobile txtauction txt word start get', 'heart empty without love mind empty without wisdom eyes r empty without dreams amp life empty without frnds alwys touch good night amp sweet dreams', 'hot n horny willing live local text reply hear strt back p per msg netcollex ltdhelpdesk reply stop end', 'ride equally uneventful many pesky cyclists around time night', 'free give otherwise nalla adi entey nattil kittum', 'sent wife text buy tell relax go get wkend', 'escape theatre going watch kavalan minutes', 'much would cost hire hitman', 'anything lor', 'sorry call later', 'want new nokia colour phone delivered tomorrow free minutes mobile free text free camcorder reply call', 'huh cant go ur house empty handed right', 'good morning princess happy new year', 'congratulations winner august prize draw call prize code', 'aight head', 'wat r u busy wif work', 'know mood today', 'jay told already', 'cps causing outages conserve energy', 'sure checking happening around area', 'hey morning come ask pa', 'jordan got voted last nite', 'means got epi fine', 'idea', 'pls come quick cant bare', 'joy father john john joy father u ans ths hav lt gt iq tis ias question try answer', 'call unable cal lets meet bhaskar deep', 'meet library', 'k roommate also wants dubsack another friend may also want plan bringing extra tell know sure', 'depends individual lor e hair dresser say pretty parents say look gong u kaypoh also dunno wat collecting', 'ok c', 'enjoy watching playing football basketball anything outdoors', 'please ask macho price range want something new used plus interfued blackberry bold lt gt bb', 'sorry sent blank msg yup trying serious studying', 'hey check da listed da', 'p alfie moon children need song ur mob tell ur txt tone charity nokias poly charity polys zed profit charity', 'meant apology texting get drugs lt gt night', 'means february april getting place stay hustle back forth audition season since sister moved away harlem', 'goin workout lor muz lose e fats', 'damn poor zac stand chance', 'message responce happend', 'want tel u one thing u mistake k message sent', 'yeah right bring tape measure fri', 'still chance search hard get let try', 'meeting u work tel shall work tomorrow', 'head straight', 'get official england poly ringtone colour flag yer mobile tonights game text tone flag optout txt eng stop box w wx', 'thank princess sexy', 'oooh got plenty', 'hui xin da lib', 'big difference lt gt versus lt gt every lt gt hrs', 'make cry stuff happens top everything else pushes edge underdtand often cry sorry sorry life', 'babe feel lets get try cheer fit soo muchxxlove u locaxx', 'know hook means right', 'customer service announcement recently tried make delivery unable please call schedule ref', 'wat da model num ur phone', 'really skateboarding despite fact gets thrown winds bandages shit arms every five minutes', 'stop club tones replying stop mix see tone com enjoy html terms club tones cost gbp week mfl po box mk wt', 'house e sky quite dark liao raining got excuse run already rite hee', 'sorry left phone upstairs ok might hectic would birds one fell swoop date', 'thought see', 'wamma get laid want real doggin locations sent direct mobile join uks largest dogging network txt dogs nyt ec lp msg', 'carlos says pick later yeah set', 'hey babe friend cancel still visit', 'per request maangalyam alaipayuthe set callertune callers press copy friends callertune', 'hmm ill think ok forgiven', 'hoping get away langport still town tonight', 'want send virtual hug need one', 'probably still going stuff', 'issues right ill fix tomorrow', 'come people', 'senthil group company apnt pm', 'oh really make air talent', 'studying free next weekend', 'r u yet wearing blue shirt n black pants', 'wait come lt gt min', 'reach ur home lt gt minutes', 'well great weekend', 'langport sorry probably bed pm sucks ill xmas go sri lanka', 'frnd juz word merely relationship silent promise says wherevr whenevr forevr gudnyt dear', 'huh also many mistakes', 'ha u jus ate honey ar sweet', 'turning phone moms telling everyone cancer sister stop calling hurts talk put see u u get home love u', 'honey sweetheart darling sexy buns sugar plum loverboy miss boytoy smacks ass go gym', 'thanks loving rock', 'yeah imma come cause jay wants drugs', 'ok thanx take care', 'yup thk u oso boring wat', 'came look flat seems ok away alot wiv work got woman coming', 'moji informed saved lives thanks', 'nokia get win free auction take part send nokia hg suite lands row w jhl', 'whos class', 'hey r still online finished formatting', 'great attracts brothas', 'promotion number ur awarded city break could win summer shopping spree every wk txt store skilgme tscs winawk age perwksub', 'stupid possible', 'cant pick phone right pls send message', 'lol happens vegas stays vegas', 'hello hello hi lou sorry took long reply left mobile friends lancaster got bak neway im sorry make ur b day hun', 'use soc use home dunno type word ar', 'dad says hurry hell', 'wake lt gt morning', 'get class bsn like lt gt minutes know advising', 'great shoot big loads get ready', 'meet lobby', 'still coming tonight', 'happen dear tell', 'sir waiting call free please call', 'movies laptop', 'texted finished long time ago showered er ything', 'ok im sure time finish tomorrow wan na spend evening cos would vewy vewy lubly love xxx', 'hello per request lt gt rs transfered', 'tirupur call da', 'winner specially selected receive cash award speak live operator claim call pm cost p', 'luck catches put', 'noe specify da domain nusstu still sch', 'oh asked fun haha take care', 'shall get pouch', 'hey loverboy love tell look picture ache feel legs fuck want need crave', 'boy sweet words left morning sighs goes day love start studying', 'kent vale lor wait ar', 'ok good making money', 'reading gud habit nan bari hudgi yorge pataistha ertini kano', 'aight still want get money', 'free top ringtone sub weekly ringtone get st week free send subpoly per week stop sms', 'ok ok ok whats ur todays plan', 'town v important', 'sorry pa dont knw ru pa', 'wat u', 'meeting rite go home lor dun feel like comin ok', 'oh get paid outstanding one commercial hasbro august made us jump many hoops get paid still', 'late call tomorrow morning take care sweet dreams u ummifying bye', 'networking technical support associate', 'gon na rip uterus', 'cool like swimming pool jacuzzi house', 'thanks ringtone order reference number x mobile charged tone arrive please call customer services colour red text colour txtstar', 'yeah gang ready', 'blank blank wat blank lol', 'movie collect car oredi', 'left already orchard', 'hi nights ur lucky night uve invited xchat uks wildest chat txt chat p msgrcvdhg suite lands row w j hl ldn yrs', 'nothing spl wat abt u whr ru', 'chikku nt yet ya free', 'aldrine rakhesh ex rtm pls call urgent', 'search happiness main sources unhappiness accept life way comes u find happiness every moment u live', 'home please call', 'guess could good excuse lol', 'frnd necesity life imagine urself witout frnd hw u feel ur colleg wat u wth ur cell wat abt functions thnk abt events espe cared missed amp irritated u wrd dear loving frnds wthout u cant live jst takecare goodmorning', 'gud mrng dear hav nice day', 'old orchard near univ', 'tacos rajas burrito right', 'get ok', 'hows street end library walk', 'plz note anyone calling mobile co amp asks u type lt gt lt gt disconnect call coz iz attempt terrorist make use sim card itz confirmd nokia n motorola n verified cnn ibn', 'stopped get ice cream go back', 'stitch trouser', 'da vijay going talk jaya tv', 'tf p', 'hey bored thinking u wat r u', 'nah wednesday bring mini cheetos bag', 'nobody names penis girls name story add', 'aight let know gon na around usf', 'lip synced shangela', 'neva tell noe home da aft wat', 'bit ur smile hppnss drop ur tear sorrow part ur heart life heart like mine wil care u forevr goodfriend', 'dear voucher holder claim st class airport lounge passes using holiday voucher call booking quote st class x', 'buzz hey love think hope day goes well sleep miss babe long moment together loving smile', 'haha sounds crazy dunno tahan anot', 'u early', 'ya one slow poo', 'bloomberg message center wait apply future http careers bloomberg com', 'im gloucesterroad uup later', 'yes tv always available work place', 'yes place town meet exciting adult singles uk txt chat p msg', 'lol ouch wish stayed bit longer', 'god asked forgiveness little child gave lovely reply wonderful fruit tree gives hurt stone good night', 'join lt gt bus', 'ask keep one maybe get messages sent glo', 'free st week nokia tone ur mob every week txt nokia get txting tell ur mates www getzed co uk pobox w wq norm p tone', 'k send lt gt min', 'would smoking help us work difficult time', 'someone u know asked dating service contact cant guess call revealed pobox xy p', 'yes mum lookin strong', 'sir goodmorning free call', 'call', 'gr see message r u leaving congrats dear school wat r ur plans', 'love girls office may wonder smiling sore', 'hi wlcome back wonder got eaten lion something nothing much', 'uncle timi help clearing cars', 'came hostel going sleep plz call class hrishi', 'ok bag', 'hi spoke maneesha v like know satisfied experience reply toll free yes', 'ok lor msg b u call', 'mila age blonde new uk look sex uk guys u like fun text mtalk pp txt st free increments help', 'fishrman woke early mrng dark waited amp found sack ful stones strtd throwin thm sea pass time atlast jus stone sun rose amp found tht r nt stones diamonds moral dont wake early mrng good night', 'claim shopping spree call mobstorequiz ppm', 'ur physics get', 'dear friends sorry late information today birthday loving ar praveesh details log face book see number lt gt dont miss delicious treat', 'r going send', 'online transaction', 'dear got train seat mine lower seat', 'let know need anything else salad desert something many beers shall get', 'wat r u', 'whore unbelievable', 'want funk ur fone weekly new tone reply tones u text www ringtones co uk original n best tones gbp network operator rates apply', 'sure mean get made hold weed', 'love know feel make belly warm wish love shall meet dreams ahmad adoring kiss', 'twinks bears scallies skins jocks calling miss weekend fun call p min stop texts call nat rate', 'love want flood pretty pussy cum', 'hey angry reply dr', 'short cute good person dont try prove gud noon', 'also remember beads come ever', 'thread wishlist section forums ppl post nitro requests start last page collect bottom', 'first time history need comfort luxury sold price india onion rs lt gt petrol rs lt gt beer rs lt gt shesil lt gt', 'feb lt gt love u day send dis ur valued frnds evn comes back u gt married person u luv u ignore dis u lose ur luv evr', 'actually nvm got hella cash still lt gt ish', 'tried contact reply offer video handset anytime networks mins unlimited text camcorder reply call', 'ok least armand still around', 'da happy sit together na', 'yup song bro creative neva test quality said check review online', 'dude fake frnds got money thts reffering u u member wit mail link u vl credited lt gt rs il getiing lt gt rs draw acc wen lt gt rs', 'dude makin weirdy brownies sister made awesome cookies took pics', 'urgent trying contact last weekends draw shows prize guaranteed call claim code k valid hours', 'pls dont restrict eating anythin likes next two days', 'mm ask come enough', 'funeral home audrey dad', 'aight text address', 'excellent wish together right', 'yep fine ice age', 'pls wont belive god jesus', 'dunno wat get', 'yet chikku k wat abt tht guy stopped irritating msging u', 'long take get', 'number vivek', 'xmas iscoming ur awarded either cd gift vouchers free entry r weekly draw txt music tnc', 'sorry brah finished last exams', 'got arrested possession shit lt time gt pm', 'right though give space want need really starting become issue going suggest setting definite move still greece maybe ready', 'normal', 'please protect e threats sib never asks sensitive information like passwords atm sms pin thru email never share password anybody', 'miss much desparate recorded message left day listen hear sound voice love', 'hi always online yahoo would like chat someday', 'goodmorning grandfather expired leave today', 'congratulations u claim vip row tickets c blu concert november blu gift guaranteed call claim ts cs www smsco net cost max', 'yuou working getting pc mom find spot would work need', 'sure see come bit', 'agree stop thinkin ipad please ask macho question', 'let pool money together buy bunch lotto tickets win get lt gt u get lt gt deal', 'ok', 'askd u question hours answer', 'watching tv lor nice one like lor', 'thinking chennai forgot come auction', 'come n pick ar', 'early bird purchases yet', 'went pay rent go bank authorise payment', 'erm ill pick pm give enough time get park', 'hey mate hows u honey u ave good holiday gimmi de goss x', 'howz pain come today said ystrday ice medicine', 'chile please lt decimal gt hour drive come time subletting feb april audition season', 'yes ammae life takes lot turns sit try hold steering', 'yeah thought lem know anything goin later', 'mmmm cant wait lick', 'pls go today lt gt dont want excuses', 'fantasy football back tv go sky gamestar sky active play k dream team scoring starts saturday register sky opt', 'plz tell ans bslvyl sent via fullonsms com', 'u town alone', 'looking forward sex cuddling two sleeps', 'rounder required', 'true k u knw dis lt gt', 'dont worry day big lambu ji vl come til enjoy batchlor party', 'oh ya got hip hop open haha thinking go jazz zoom cine actually tonight free leh kb lesson tonight', 'free msg single find partner area real people waiting chat send chat cncl send stopcs per msg', 'ok part tomorrow', 'found diff farm shop buy cheese way back call', 'r u still working', 'win newest harry potter order phoenix book reply harry answer questions chance first among readers', 'yep like pink furniture tho', 'free msg ringtone http tms widelive com index wml id b ecef ff first true jul', 'customer place wil cal u sir', 'oh god found number glad text back xafter msgs cst std ntwk chg', 'pure hearted person wonderful smile makes even enemies feel guilty enemy catch world smile goodmorning amp smiley sunday', 'alrite girl u know gail neva wrong take care sweet worry c u l tr hun love yaxxx', 'theoretically yeah could able come', 'alright hooked guys', 'know people still town', 'let math good', 'oh ok wait lect havent finish', 'yeah usual guy town definitely people around know', 'joining today formally pls keep praying talk later', 'happy sad one thing past good morning', 'multimedia message e mail', 'okie scared u say fat u dun wan already', 'u get message', 'sorry sir call tomorrow senthil hsbc', 'need person give na', 'left vague said would inform person accounting delayed rent discuss housing agency renting another place checking online places around usc lt gt', 'hi juan im coming home fri hey course expect welcome party lots presents ill phone u get back loads love nicky x x x x x x x x x', 'plz tell ans bslvyl sent via fullonsms com', 'short cute good person dont try prove gud noon', 'gumby special lt gt cheese pizza know doin tonight', 'link picture sent also use http alto co uk wave wave asp', 'like personal sized', 'great aunts anniversary party tarpon springs', 'cab available pick drop door steps', 'ok take care umma', 'unlimited texts limited minutes', 'double mins txts orange tariffs latest motorola sonyericsson nokia bluetooth free call mobileupd call optout hf', 'problem spending lot quality time together', 'urgent nd attempt contact u prize yesterday still awaiting collection claim call acl pm', 'heard week', 'dear dave final notice collect tenerife holiday cash award call landline tcs sae box cw wx ppm', 'yes last practice', 'tells u call claim prize u enter ur mobile personal details prompts careful', 'thank wonderful', 'otherwise part time job na tuition', 'mean confirmed tot juz say oni ok', 'okie', 'depends would like treated', 'right brah see later', 'waiting e car mum lor u leh reach home already', 'account xxxxxxxxx shows unredeemed points claim call identifier code xxxxx expires', 'want new video handset anytime network mins half price line rental camcorder reply call delivery tomorrow', 'went fast asleep dear take care', 'means fat head', 'sounds like plan cardiff still still cold sitting radiator', 'serious like proper tongued', 'good wondering wont say hi smiling coping long distance', 'noe da car later c lar wearing shorts', 'important customer service announcement call freephone', 'yeah whatever lol', 'today accept day u accept brother sister lover dear best clos lvblefrnd jstfrnd cutefrnd lifpartnr belovd swtheart bstfrnd rply means enemy', 'ard lor ok message lor', 'ok c u', 'eh ur laptop got stock lei say mon muz come take look c got', 'need ke qi bored izzit suddenly thk', 'wish think gon na snow much flurries usually get melt hit ground eek snow since lt gt even born', 'free ringtone reply real poly eg real pushbutton dontcha babygoodbye golddigger webeburnin st tone free u join wk', 'thing change sentence want concentrate educational career im leaving', 'oh really perform write paper go movie home midnight huh', 'okay lor still let us go ah coz know later drop cards box right', 'izzit still raining', 'enough trouble sleeping', 'havent add yet right', 'lol really need remember eat drinking appreciate keeping company night babe smiles', 'babe lost try rebooting', 'yes nigh cant aha', 'thk got ta go home urself cos b going shopping frens present', 'nooooooo gon na bored death day cable internet outage', 'sos amount get pls', 'playin space poker u', 'come guoyang go n tell u told', 'need get', 'r giving second chance rahul dengra', 'yeah fact asked needed anything like hour ago much', 'first strike red one bird antelope begin toplay fieldof selfindependence believe flower contention grow random', 'wan go c doctor', 'daddy bb', 'free msg get gnarls barkleys crazy ringtone totally free reply go message right', 'borderline yeah whatever', 'got call landline number asked come anna nagar go afternoon', 'lor ya go dinner together', 'gentle princess make sweet gentle love', 'u doin baby girl hope u okay every time call ure phone miss u get touch', 'sorry went bed early nightnight', 'like think always possibility pub later', 'hmm yeah grooved im looking forward pound special', 'got video tape pple type message lor u free wan help hee cos noe u wan watch infernal affairs ask u along asking shuhui oso', 'hi dude hw r u da realy mising u today', 'hungry buy food good lei mum n yun dun wan juz buy little bit', 'refused loan secured unsecured get credit call free text back help', 'probably eat today think gon na pop weekend u miss', 'knew u slept v late yest wake late', 'haha dont angry take practice real thing', 'one day training', 'could kiss feel next', 'nice day dear', 'sent lanre fakeye eckankar details mail box', 'dad back ph', 'specially selected receive award call lines close cost ppm cs apply ag promo', 'ask say please message', 'e timing go w u lor', 'love aathi love u lot', 'callin say hi take care bruv', 'valued vodafone customer computer picked win prize collect easy call', 'u turn heater heater set lt gt degrees', 'thanks message really appreciate sacrifice sure process direct pay find way back test tomorrow class wonderful day', 'trouble classes go well due dodgey one expecting mine tomo see recovery time place', 'free video camera phones half price line rental mths cross ntwk mins txts call mobileupd call optout', 'wot u j', 'night night see tomorrow', 'roger probably going rem', 'u think girl propose u today seing ur bloody funky shit fucking face asssssholeeee', 'wish u feel alone', 'great new offer double mins double txt best orange tariffs get latest camera phones free call mobileupd free stoptxt cs', 'reason team budget available last buy unsold players base rate', 'ceri u rebel sweet dreamz little buddy c ya moro needs blokes', 'ringtoneking', 'huh cant thk oredi many pages', 'frens go lor alone wif mum n sis lor', 'nationwide auto centre something like newport road liked', 'hey missed tm last night phone charge smiles meeting friend shortly', 'whatever juliana whatever want', 'friendship game play word say start march ends may tomorrow yesterday today e', 'ringtone club gr new polys direct mobile every week', 'hello sort town already dont rush home eating nachos let know eta', 'ok lor anyway thk cant get tickets cos like quite late already u wan go look ur frens darren wif', 'bank granite issues strong buy explosive pick members nasdaq symbol cdgt per', 'way ur home', 'dizzamn aight ask suitemates get back', 'nimbomsons yep phone knows one obviously cos thats real word', 'love cuddle want hold strong arms right', 'r u continent', 'pay like lt gt yrs difficult', 'bored housewives chat n date bt national rate p min landlines', 'tried call reply sms video mobile mins unlimited text free camcorder reply call del thurs', 'k k give treat', 'nd time tried contact u u prize claim easy call p per minute bt national rate', 'gon na worry nothing give money use', 'get gift year didnt get anything bad', 'somewhere beneath pale moon light someone think u dreams come true goodnite amp sweet dreams', 'well pattern emerging friends telling drive come smoke telling weed fiend make smoke much impede things see hesitant', 'ow u dey paid thousad told u would call', 'im fine babes aint much tho saw scary movie yest quite funny want mrw afternoon town mall sumthin xx', 'reaching home min', 'forgot working today wan na chat things ok drop text free bored etc ring hope well nose essay xx', 'ha must walk everywhere take tram cousin said walk vic market hotel', 'wan win meet greet westlife u currently tour unbreakable untamed unkempt text cost p std text', 'please call customer service representative freephone pm guaranteed cash prize', 'discussed mother ah', 'ok', 'sorry text amp drive coherently see twenty', 'receiving week triple echo ringtone shortly enjoy', 'place get rooms cheap', 'eek lot time especially since american pie like minutes long stop singing', 'gran onlyfound afew days ago cusoon honi', 'u selected stay top british hotels nothing holiday valued dial claim national rate call bx sw ss', 'university southern california', 'pick rayan macleran', 'u gd lor go shopping got stuff u wan watch infernal affairs come lar', 'well balls time make calls', 'wat time wan today', 'lt gt mca conform', 'oh ok wat ur email', 'yes princess going make moan', 'lol ok remember til last nite', 'anyway many good evenings u', 'cool text', 'sorry vikky watching olave mandara movie kano trishul theatre wit frnds', 'happy babe woo hoo party dude', 'taking italian food pretty dress panties', 'wot u thout u gon na call txt bak luv k', 'chosen receive award pls call claim number collect award selected receive valued mobile customer', 'holding', 'dont flatter tell man mine two pints carlin ten minutes please', 'hope scared', 'cant pick phone right pls send message', 'home n ready', 'please call customer service representative freephone pm guaranteed cash prize', 'time u get', 'literally bed like lt gt hours', 'yes reg ciao', 'mean website yes', 'win cash prize prize worth', 'thanks ringtone order reference number x mobile charged tone arrive please call customer services', 'lol could starve lose pound end day', 'yeah impression got', 'ok ok take care understand', 'motivate behind every darkness shining light waiting find behind every best friend always trust love bslvyl', 'ya ok dinner', 'slept time', 'dont make ne plans nxt wknd coz wants us come ok', 'school starting stay weather like food social support system like friends school things important', 'ha ha nan yalrigu heltini iyo kothi chikku u shared many things wit far told body even uttered word abt u ur trusting much tell others plz nxt time dont use words ok chikku b', 'noice text', 'hi di yijue meeting pm esaplanade tonight', 'moby pub quiz win high street prize u know new duchess cornwall txt first name unsub stop sp', 'weeks savamob member offers accessible call details savamob pobox la wu week savamob offers mobile', 'aight set free think could text blake address occurs quite sure thought', 'hi dear saw dear happy battery low', 'ages abj', 'prof passed papers sem congrats student enna kalaachutaarama prof gud mrng', 'dont kick coco', 'fyi gon na call sporadically starting like lt gt bc doin shit', 'contacted dating service someone know find call mobile landline pobox ldns', 'tbs persolvo chasing us since sept definitely paying thanks information ignore kath manchester', 'hope much fun without see u tomorrow love jess x', 'ok wont call disturb one know avoiding burden', 'reached home n bathe liao u call', 'loans purpose even bad credit tenants welcome call noworriesloans com', 'actual exam harder nbme', 'lot sickness thing going round take easy hope u feel better soon lol', 'god picked flower dippeditinadew lovingly touched itwhichturnedinto u gifted tomeandsaid friend u', 'kick new season wks free goals news ur mobile txt ur club name eg villa', 'hey sathya till dint meet even single time saw situation sathya', 'gam gone outstanding innings', 'played smash bros lt gt religiously', 'sir good morning hope good weekend called let know able raise lt gt dad however said would make rest available mid feb amount still quite short hoping would help good day abiola', 'hurry home soup done', 'check rooms befor activities', 'good afternoon love good see words ym get tm smart move slave smiles drink coffee await', 'quite ok bit ex u better go eat smth else feel guilty', 'orange brings ringtones time chart heroes free hit week go ringtones pics wap stop receiving tips reply stop', 'lem know', 'private account statement shows un redeemed points call identifier code expires', 'needs stop going bed make fucking dealing', 'love brother time talk english grins say hey muhommad penny says hello across sea', 'tried call reply sms video mobile mins unlimited text free camcorder reply call', 'hey doc pls want get nice shirt hubby nice fiting ones budget lt gt k help pls load card abi hw keep posted luv mj', 'remain unconvinced elaborate test willpower', 'life nothing wen v get everything life everything wen v miss something real value people wil realized absence gud mrng', 'miss', 'answerin phone actually pretty reasonable hour sleepy', 'hey rite u put evey mnth', 'going bed prin', 'think thanks see tomo', 'u dun drive go sch', 'home lei', 'gsoh good spam ladies u could b male gigolo join uk fastest growing mens club reply oncall mjzgroup stop reply stop msg rcvd', 'ok come ur home half hour', 'u secret admirer looking make contact u find r reveal thinks ur special call', 'u hav frnd name ashwini ur college', 'jus finish lunch way home lor tot u dun wan stay sch today', 'k marrow coming class', 'hot live fantasies call p per min ntt ltd po box croydon cr wb national rate call', 'pls send address sir', 'want lick pussy', 'yo gon na still stock tomorrow today trying get dubsack', 'urgent mobile number awarded ukp prize guaranteed call landline claim valid hrs ppm', 'see prolly yeah', 'thought could go dinner treat seem ok', 'stand away heart ache without wonder crave', 'sorry never hear unless book one kinda joke thet really looking skinny white girls one line much camera something like casting look', '', 'sure thing big man hockey elections go longer hour though', 'watch lor saw swatch one thk quite ok ard need nd opinion leh', 'hiya u like hlday pics looked horrible took mo hows camp amrca thing speak soon serena', 'babe goes day miss already love loving kiss hope everything goes well', 'yunny goin late', 'doc prescribed morphine cause pain meds enough waiting mom bring med kick fast gon na try later', 'cool want go kappa meet outside mu', 'hey sexy buns told adore loverboy hope remember thank sister law meatballs grins love babe', 'may b approve panalam posts', 'spjanuary male sale hot gay chat cheaper call national rate p min cheap p min peak stop texts call p min', 'sorry call later', 'dont thnk wrong calling us', 'workin get job', 'done mean', 'ur luck love someone ur fortune love one loves u miracle love person love anyone except u gud nyt', 'hi baby ive got back work wanting see u allday hope didnt piss u phone today u give call xxx', 'freemsg today day ready horny live town love sex fun games netcollex ltd p per msg reply stop end', 'yahoo boys bring perf legal', 'need say anything know outsider', 'ever one foot', 'got lt gt', 'good need receipts well done yes please tell number could ring', 'ever green quote ever told jerry cartoon person irritates u always one loves u vry much fails express gud nyt', 'leave wif lar wan carry meh heavy da num familiar', 'beautiful truth expression face could seen everyone depression heart could understood loved ones gud ni', 'infact happy new year seeing', 'simpsons movie released july name band died start film green day b blue day c red day send b c', 'shame maybe cld meet hrs tomo', 'lol would despite cramps like girl', 'wait cornwall hope tonight bad well rock night shite anyway going kip good night speak soon', 'pls help tell sura expecting battery hont pls send message download movies thanks', 'please call amanda regard renewing upgrading current mobile handset free charge offer ends today tel subject c', 'found way get another app phone eh go net cafe take job geeee need babe crave see', 'work mon thurs sat cant leh booked liao day u free', 'comin fetch us oredi', 'nannys address', 'urgent costa del sol holiday await collection call toclaim sae tc pobox stockport sk xh cost pm max mins', 'haf u eaten wat time u wan come', 'want new video phone anytime network mins half price line rental free text months reply call free delivery', 'yo call get chance friend mine wanted ask big order', 'single single answers fighting plus said broke didnt reply', 'certainly puts things perspective something like happens', 'got tv watch meh u work today', 'felt conveying reason ese', 'mobile months u r entitled update latest colour mobiles camera free call mobile update co free', 'going got exciting karaoke type activities planned debating whether play football eve feeling lazy though', 'told coming wednesday', 'ok called mom instead fun', 'dear voucher holder claim weeks offer pc please go http www wtlp co uk text ts cs apply', 'well desperate call armand', 'work right', 'congrats nokia video camera phone call calls cost ppm ave call mins vary mobiles close post bcm ldn wc n xx', 'heard anything answering texts guessing flaked said jb fantastic', 'mmmmmm love much ahmad wait year begin every second takes closer side happy new year love', 'pls full name joke school cos fees university florida seem actually lt gt k pls holla back', 'sorry call later', 'ok said got wisdom teeth hidden inside n mayb need remove', 'pls pls drink plenty plenty water', 'queen going royal wedding', 'lag sad part keep touch thanks skype', 'ok lor go tog lor', 'two teams waiting players', 'send copy da report', 'swhrt u dey hope ur ok tot u day love n miss take care', 'ok da already planned wil pick', 'urgent please call abta complimentary spanish holiday cash await collection sae cs box po ez ppm', 'sorry call later meeting', 'really need shit tomorrow know awake like', 'good registered vote', 'hmm ok stay like hour cos eye really sore', 'dear got bus directly calicut', 'mm umma ask vava also come tell play later together', 'well general price lt gt oz let know much want', 'sorry call later', 'moment day value morning brings hope afternoon brings faith evening brings luv night brings rest wish u find today good morning', 'lt gt w jetton ave forgot', 'ok coming home', 'use foreign stamps country', 'double mins txts months free bluetooth orange available sony nokia motorola phones call mobileupd call optout n dx', 'sorry lot friend friend stuff talk actual guy wants buy', 'free st week nokia tone ur mob every week txt nokia get txting tell ur mates www getzed co uk pobox w wq norm p tone', 'want funk ur fone weekly new tone reply tones u text www ringtones co uk original n best tones gbp network operator rates apply', 'cmon babe make horny turn txt fantasy babe im hot sticky need replies cost cancel send stop', 'come tomorrow di', 'wylie update weed dealer carlos went freedom class lunsford', 'happy baby alright take job hope fine send kiss make smile across sea kiss kiss', 'c movie juz last minute decision mah juz watch lar tot interested', 'enjoying semester take care brother', 'important information orange user xxxxxx today ur lucky day find log onto http www urawinner com fantastic prizeawaiting', 'get door', 'lets use next week princess', 'go home first lar wait lor put stuff first', 'want kfc tuesday buy meals gravy mark', 'da stupid da always sending like believe message pandy mental', 'oi gon na ring', 'missed call alert numbers called left message', 'attended nothing', 'ard like dat lor juz meet mrt station dun haf come', 'dear sleeping p', 'er mw im filled tuth aight', 'office around pm going hospital', 'actually waiting weeks start putting ad', 'anything lor go go lor', 'u free sat rite u wan watch infernal affairs wif n darren n mayb xy', 'plz note anyone calling mobile co amp asks u type lt gt lt gt disconnect call coz iz attempt terrorist make use sim card itz confirmd nokia n motorola n verified cnn ibn', 'yo around friend mine lookin pick later tonight', 'stupid auto correct phone', 'double eviction week spiral michael good riddance', 'world suffers lot violence bad people silence good people gud night', 'ok thats cool either raglan rd edward rd behind cricket ground gim ring ur closeby see tuesday', 'buy one egg da please', 'started skye', 'bookedthe hut also time way', 'several sir', 'u really pig leh sleep much dad wake smth eat lunch today', 'home please call', 'love hope anything drastic dare sell pc phone', 'reached home tired come tomorro', 'freemsg records indicate may entitled pounds accident claim free reply yes msg opt text stop', 'u win music gift vouchers every week starting txt word draw tscs www idew com skillgame winaweek age ppermesssubscription', 'life style garments account please', 'lol wtf random btw lunch break', 'sez hows u de arab boy hope u r good give love evry love ya eshxxxxxxxxxxx', 'lay man let know missed thought great day send bimbo ugo numbers ill appreciate safe', 'detroit home snow enjoy', 'show ur colours euro offer get england flag lions tone ur phone click following service message info', 'okie', 'aight chillin friend room text way', 'toshiba portege gd', 'well welp sort semiobscure internet thing', 'text pass collect polyphonic ringtones normal gprs charges apply enjoy tones', 'accordingly repeat text word ok mobile phone send', 'loosu go hospital de dont let careless', 'much eighth', 'omg joanna freaking looked thru friends find photos asking stuff myspace even logged like year', 'send ur birthdate month year tel u ur life partner name method calculation reply must', 'juz havent woke bit blur blur dad went liao cant cum oso', 'clothes jewelry trips', 'block breaker comes deluxe format new features great graphics mobile buy replying get bbdeluxe take challenge', 'aah cuddle would lush need lots tea soup kind fumbling', 'important information orange user today lucky day find log onto http www urawinner com fantastic surprise awaiting', 'late', 'sad story man last week b day wife nt wish parents forgot n kids went work even colleagues wish', 'plans family set stone', 'pls dont forget study', 'never believe actually got taunton wow', 'den weekdays got special price haiz cant eat liao cut nails oso muz wait finish drivin wat lunch still muz eat wat', 'broke list reasons nobody town tell sarcastic faggy', 'lt decimal gt common car better buy china asia find less expensive holla', 'greatest test courage earth bear defeat without losing heart gn tc', 'sorry im stil fucked last nite went tobed got work', 'hey whats plan sat', 'beauty sleep help ur pimples', 'great hope using connections mode men also cos never know old friends lead today', 'natalja f inviting friend reply yes see www sms ac u nat stop send stop frnd', 'get', 'kind missed train cos asthma attack nxt one half hr driving sure park', 'ball moving lot spin last difficult bat', 'haiyoh maybe hamster jealous million', 'please send aunty number', 'glad following dreams', 'reached home finally', 'urgent important information user today lucky day find log onto http www urawinner com fantastic surprise awaiting', 'winner valued network customer selected receivea prize reward claim call claim code kl valid hours', 'wn u r hurt prsn close u fight wit dem coz somtimes dis fight saves relation bt quiet leaves nothin relation gud eveb', 'u call', 'science tells chocolate melt sunlight please walk sunlight bcoz want loss sweet friend', 'yes come nyc audiitions trying relocate', 'pocked', 'congrats great wanted tell tell score cos might make relax motivating thanks sharing', 'wud never mind u dont miss u dont need u wil really hurt wen u need amp u dont tell take care', 'hey mr whats name bill brison book one language words', 'okay good problem thanx', 'information ikea spelled caps yelling thought left sitting bed among mess came said going got home class please try bullshit makes want listen less', 'call u done', 'g w r', 'best watch say cause get drunk motherfucker', 'kit strip billed p netcollex ltd po box ig oja', 'hmv bonus special pounds genuine hmv vouchers answer easy questions play send hmv info www percent real com', 'please call immediately urgent message waiting', 'thesmszone com lets send free anonymous masked messages im sending message see potential abuse', 'well done costa del sol holiday await collection call toclaim sae tcs pobox stockport sk xh cost pm max mins', 'hurt tease make cry end life die plz keep one rose grave say stupid miss u nice day bslvyl', 'erm woodland avenue somewhere get parish magazine telephone number', 'ta jobs available let know please cos really need start working', 'aiyar hard type u later free tell call n scold n tell u', 'yup free', 'good good billy mates gone jogging enjoy concert', 'yo come carlos soon', 'awww dat sweet think something nice time tonight ill probably txt u later cos im lonely xxx', 'guess useless calling u something important', 'ha ha popped loo hello ed hello', 'dint tell anything angry told abi', 'someone u know asked dating service contact cant guess call revealed po box wu', 'happens r waxsto wat want come ill get medical insurance able deliver basic care currently shopping right medical insurance give til friday morning thats see major person guide right insurance', 'keep ten rs shelf buy two egg', 'well babe swollen glands throat end', 'ur changes da report big cos already made changes da previous report', 'captain room', 'speak bcaz mobile problem listen cann listen voice calls later', 'hiya stu wot u im much truble home moment evone hates even u wot hell av done wont u tell text bck please luv dan', 'take mokka players', 'still playing gautham', 'hey mr going sea view couple gays mean games give bell ya finish', 'k jason says gon na around around lt gt', 'sorry able get see morning', 'aight well keep informed', 'number sir', 'searching good dual sim mobile pa', 'seems unnecessarily hostile', 'dude got haircut breezy', 'congrats mobile g videophones r call videochat wid ur mates play java games dload polyh music noline rentl bx ip pm', 'apple day doctor tulsi leaf day cancer lemon day fat cup milk day bone problms litres watr day diseases snd ths u care', 'thought king hill thing', 'nope come online', 'also tell said happy birthday', 'bishan lei tot say lavender', 'boo time u get u supposed take shopping today', 'u sound like manky scouse boy steve like travelling da bus home wot u inmind recreation dis eve', 'fyi taking quick shower epsilon like lt gt min', 'tuesday night r u real', 'yes appt', 'got outta class gon na go gym', 'want sent lt gt mesages today thats sorry hurts', 'write wat', 'ha say read anything way u seemed like judgemental save fridays pub', 'valentine game send dis msg ur friends answers r someone really loves u ques colour suits best', 'hi asked waheeda fathima leave', 'enjoy urself tmr', 'still around could use half th', 'u secret admirer looking make contact u find r reveal thinks ur special call', 'give us back id proof lt gt rs wont allow work come home within days', 'bot notes oredi cos juz rem got', 'yes rent expensive way save', 'night ended another day morning come special way may smile like sunny rays leaves worries blue blue bay gud mrng', 'hows pain dear r u smiling', 'fun fact although would think armand would eventually build tolerance shit considering much smokes gets fucked like hits', 'important information orange user xxxxxxx today lucky day find log onto http www urawinner com fantastic surprise awaiting', 'sorry help', 'great send account number', 'hellogorgeous hows u fone charge lst nitw wen u texd hopeu ad nice wkend im sure u lookin ward c u mrw luv jaz', 'dating service asked contact u someone shy call revealed pobox uz p', 'send contents page', 'night sweet sleep well see exorcism emily rose may never sleep hugs snogs', 'think u got think use got good ni', 'right second got ta hit people first', 'evry emotion dsn hav words evry wish dsn hav prayrs u smile world wit u othrwise even drop tear dsn lik stay wit u b happy good morning keep smiling', 'remember', 'ujhhhhhhh computer shipped address sandiago parantella lane wtf poop', 'mm yes dear look hugging p', 'like dis sweater fr mango size already irritating', 'number gon na massive pain ass rather get involved possible', 'anytime lor', 'want new video handset time network mins unlimited text camcorder reply call del sat', 'purity friendship two smiling reading forwarded message smiling seeing name gud evng', 'ur balance next question complete landmark big bob b barry c ben text b c good luck', 'fine absolutly fine', 'k sure consent forms v', 'ur tonexs subscription renewed charged choose polys month www clubzed co uk billing msg', 'prize go another customer c www c biz p min polo ltd suite london w j hl please call back busy', 'much torch ja', 'nothing u dinner w us', 'checking', 'done internet connection v slow send try later first thing tomo', 'mathews tait edwards anderson', 'yeah sure thing mate haunt got stuff sorted im going sound anyway promoting hex way dont know number joke', 'need lar go engin cos sis arts today', 'thanks honey still heard anything leave bit longer crowd try later great advice thanks hope cardiff still', 'want new nokia colour phone delivered tomorrow free minutes mobile free text free camcorder reply call', 'im snowboarding trip wondering planning get everyone together befor go meet greet kind affair cheers', 'watching live', 'see christmassy', 'k ready lt gt', 'know god created gap fingers one made comes amp fills gaps holding hand love', 'greatest test courage earth bear defeat without losing heart gn tc', 'new years plans', 'recpt ordered ringtone order processed', 'baaaaaaaabe wake miss crave need', 'got message ignoring yes shopping', 'dear mood cant drive brother drive', 'dad get back', 'tell shola please go college medicine visit academic department tell academic secretary current situation ask transfer ask someone check sagamu thing lautech vital completes medical education nigeria less expensive much less expensive unless getting citizen rates new zealand', 'yes finished watching days lives love', 'juz go google n search qet', 'many times lose best ones bcoz', 'good friends care close friends understand true friends stay forever beyond words beyond time gud ni', 'getting back home', 'sorry call later lt gt mins', 'dun need use dial juz open da browser n surf', 'one registered subscribers u enter draw g b gift voucher replying enter unsubscribe text stop', 'awesome plan get time like lt gt text details wee bit', 'take care sleep well need learn change life need get convinced wait conversations us get convinced time family many senses respect overemphasise u role life', 'chance win free bluetooth headset simply reply back adp', 'also didnt get na hi hi hi hi hi', 'ya cant display internal subs got ta extract', 'said anything wrong sorry de', 'sad story man last week b day wife nt wish parents forgot n kids went work even colleagues wish', 'stupid say challenge god dont think write instead respond immed', 'yeah able text ready meet', 'v skint fancied bevies waz gona go meet othrs spoon jst bin watchng planet earth sofa v comfey dont make hav gd night', 'says quitting least times day wudn take much notice nah mind gon na see want come taunton tonight u tell', 'get free call', 'little darlings far week need coffee run tomo believe time week already', 'ok msg u b leave house', 'still west coast haiz take forever come back', 'mmm fuck merry christmas', 'alright thanks advice enjoy night try get sleep', 'update face book status frequently', 'saw message k da', 'something u ate', 'bank say money', 'aiyar dun disturb u liao thk u lots aft ur cupboard come', 'hey r watching movie tonight prob b home early', 'yar lor u noe u used dat route', 'mro coming gym machan goodnight', 'dont think need yellow card uk travel ask someone gone lt gt bucks', 'u look da lib got stuff havent finish yet', 'sounds great im going sleep good night', 'b floppy b snappy happy gay chat service photo upload call p min stop texts call', 'house maid murderer coz man murdered lt gt th january public holiday govt instituitions closed including post office understand', 'come u got nothing', 'nothing ever easy looking reason take risk life love', 'want grasp pretty booty', 'got tea sure flavour', 'going orchard laready reaching soon u reaching', 'dear denying words please', 'know old dom told yesterday name roger got touch last night wants meet today pm', 'come back tampa ffffuuuuuuu', 'celebrate b day else', 'merry christmas u annie', 'please tell special stock talking', 'sent like', 'urgent ur awarded complimentary trip eurodisinc trav aco entry claim txt dis morefrmmob shracomorsglsuplt ls aj', 'awesome minute', 'problem walk around julianaland oblivious going around say things constantly go one ear go whatever want know upset listen tell going upset want surprised mad', 'told everything stop dont let get dehydrated', 'guess lt gt min', 'home ard wat time u reach', 'storming msg wen u lift phne u say hello u knw wt real meaning hello name girl yes u knw dat girl margaret hello girlfrnd f grahmbell invnted telphone moral one get name person bt girlfrnd g n g h', 'want mapquest something look usf dogwood drive tiny street parking lot', 'aight plan come later tonight', 'die accidentally deleted e msg suppose put e sim archive haiz sad', 'welcome uk mobile date msg free giving free calling future mgs billed p daily cancel send go stop', 'wishing great day moji told offer always speechless offer easily go great lengths behalf stunning exam next friday keep touch sorry', 'thanks reply today ur visa coming r u still buying gucci bags sister things easy uncle john also bills really need think make money later sha', 'sorry flaked last night shit seriously goin roommate tonight', 'said look pretty wif long hair wat thk cutting quite short leh', 'ranjith cal drpd deeraj deepak min hold', 'cheers callin babe sozi culdnt talkbut wannatell u details later wenwecan chat properly x', 'hey u still gym', 'said u mind go bedroom minute ok sed sexy mood came minuts latr wid cake n wife', 'much better thanks lol', 'nothing smsing u n xy lor sorry lor da guys neva c u person sort know u lor u wan meet xy ask bring u along next meeting', 'lem know swing pick free basically time semester', 'wa u efficient gee thanx', 'received mobile content enjoy', 'able sleep', 'want explicit sex secs ring costs p min', 'meet soon princess ttyl', 'pick pm go taunton still want come', 'oh outside players allowed play know', 'anything lor', 'erutupalam thandiyachu', 'cant u try new invention fly joking', 'ful song lyrics', 'u reckon need arrange transport u thanks', 'true lov n care wil nevr go unrecognized though somone often makes mistakes valuing definitly undrstnd start missing', 'shopping eh ger toking abt syd leh haha', 'standing', 'good weekend', 'miss call miss call khelate kintu opponenter miss call dhorte lage thats rule one great phone receiving quality wins', 'call get chance plz lt', 'new deus ex game comin early next yr', 'computer fried essential part keep spares fucking idiot roommates looovvve leaving thing running full lt gt', 'friend studying warwick planned go shopping concert tmw may canceled havn seen ages yeah get together sometime', 'probably couple hours tops', 'lol grins babe thanks thinking', 'man bus slow think gon na get', 'hope text meets smiling let text give reason smile beautiful day', 'case wake wondering forgot take care something grandma today done parade', 'ok', 'latest nokia mobile ipod mp player proze guaranteed reply win norcorp ltd mtmsgrcvd', 'sms services inclusive text credits pls goto www comuk net login qxj unsubscribe stop extra charge help comuk cm ae', 'nvm take ur time', 'wat da decision', 'wot u bitch', 'stupid possible', 'told hr want posting chennai working', 'mobile club choose top quality items mobile cfca', 'guys leaving', 'neva grumble sad lor hee buy tmr lor aft lunch still meetin lunch tmr neva hear fr lei got lot work ar', 'able anything', 'takin linear algebra today', 'weekend fine excuse much decorating', 'sorry missed babe late slept hope enjoy driving lesson boytoy miss teasing kiss', 'project pa come', 'money wining number wot next', 'sure whenever show fuck gt', 'random saw old roomate campus graduated', 'congrats mobile g videophones r call videochat wid ur mates play java games dload polyh music noline rentl bx ip pm', 'men always needs beautiful intelligent caring loving adjustable cooperative wife law allows one wife', 'sucks got planned yo valentine yo valentine', 'got part nottingham hrs miles good thing love man much mph hey ho', 'think one saying clearly ok leave need ask go come', 'hi good mornin thanku wish u', 'u want meet morro', 'actually decided hungry left yet v', 'sent part', 'cos shopping wif darren jus n called ask wat present wan lor started guessing wif n finally guessed darren lor', 'want cock hubby away need real man satisfy txt wife strings action txt stop end txt rec ea otbox la ws', 'understand loss gain work school', 'u missed u havent much bit bored holiday want go bak college sad isnt xx', 'hiya probably coming home weekend next', 'forget though love walk beside watching keeping heart warm', 'wish things different wonder able show much value pls continue brisk walks drugs without askin please find things laugh love dearly', 'ok days making dinner tonite invited', 'gr new service live sex video chat mob see sexiest dirtiest girls live ur phone details text horny cancel send stop', 'money steve mate', 'im late tellmiss im way', 'never blame day ur life good days give u happiness bad days give u experience essential life gods blessings good morning', 'normally use drink water daily', 'dare ask luck sorting car', 'party place usf charge contribute way greatly appreciated yeah got room one', 'urgh coach hot smells chip fat thanks especially duvet predictive text word', 'hiya last night naughty bought clothes little ready shopping tho kind time wan na meet', 'freemsg hi baby wow got new cam moby wan na c hot pic fancy chat im w utxt rply chat hlp msg p rcv', 'trying reach without success', 'derek done class', 'never lei v lazy got wat dat day send da url cant work one', 'never try alone take weight tear comes ur heart falls ur eyes always remember stupid friend share bslvyl', 'hey mate spoke mag people deliver end month deliver th sept talk later', 'hope good week checking', 'haha friend tyler literally asked could get dubsack', 'hey u fancy meetin cha hav lil beverage txt ring meet l r quite tired got v pist love pete x x x', 'great safe trip dont panic surrender', 'symptoms u love u like listening songs u get stopped u see name beloved u get angry', 'sun ah thk mayb dun anythin thk book e lesson e pilates orchard mrt u noe hor', 'try something dear read something exams', 'wonders world th th ur style th ur smile th ur personality rd ur nature nd ur sms st ur lovely friendship good morning dear', 'gettin rdy ship comp', 'hospital da return home evening', 'piss talking someone realise u point read backwards', 'think da wil', 'awake oh', 'good afternoon boytoy goes walking day get police abstract still wake miss babe', 'much u trying get', 'come around lt decimal gt pm vikky otside nw il come tht time', 'tell address', 'honeybee said sweetest world god laughed amp said wait u havnt met person reading msg moral even god crack jokes gm gn ge gn', 'buy blackberry bold torch buy new used let know plus saying buy lt gt g wifi ipad saying lt gt g', 'together thinkin', 'hiya hows going sunny africa hope u r avin good time give big old silver back big kiss', 'time come tomorrow', 'wan na laugh try chit chat mobile logon txting word chat send cm po box london w zf p msg rcvd', 'cha quiteamuzing scool babe probpop cu satthen hunny brekkie love jen xxx psxtra lrg portions please', 'omg u know ate', 'urgent nd attempt contact u u call b csbcm wc n xx callcost ppmmobilesvary max', '', 'directly behind abt rows behind', 'congratulations ur awarded cd vouchers gift guaranteed free entry wkly draw txt music', 'contract mobile mnths latest motorola nokia etc free double mins text orange tariffs text yes callback remove records', 'urgent call landline complimentary ibiza holiday cash await collection sae cs po box sk wp ppm', 'plans yet', 'hi engagement fixd lt gt th next month know really shocking bt hmm njan vilikkam ws al sudn', 'course maths one day one chapter one month finish', 'wow think common take back ur freak unless u chop', 'ur chance win wkly shopping spree txt shop c www txt shop com custcare x p wk', 'noooooooo please last thing need stress life fair', 'u secret admirer looking make contact u find r reveal thinks ur special call stopsms ppm', 'mila age blonde new uk look sex uk guys u like fun text mtalk pp txt st free increments help', 'see swing bit got things take care firsg', 'wanted wish happy new year wanted talk legal advice gary split person make trip ptbo hope everything good babe love ya', 'finished work yet something', 'tomorrow going theatre come wherever u call tell come tomorrow', 'well done england get official poly ringtone colour flag yer mobile text tone flag opt txt eng stop box w wx', 'right wasnt phoned someone number like', 'ok wun b angry msg u aft come home tonight', 'good time nice something bit different weekends change see ya soon', 'yo sorry shower sup', 'carlos pick swing usf little bit', 'full heat pa applyed oil pa', 'stuck da middle da row da right hand side da lt', 'laid airtel line rest', 'hi u decide wot get bday ill prob jus get voucher frm virgin sumfing', 'freemsg txt call claim reward hours talk time use phone subscribe gbp mnth inc hrs stop txtstop', 'hey j r u feeling better hopeso hunny amnow feelin ill ithink may tonsolitusaswell damn iam layin bedreal bored lotsof luv xxxx', 'plan staying night prolly back til late', 'thanx puttin da fone', 'need th campus atm could pick hour two', 'oh haha den shld went today gee nvm la kaiez dun mind goin jazz oso scared hiphop open cant catch', 'running managed minutes needed oxygen might resort roller option', 'live next lt gt mins', 'de asking like', 'glad talking', 'wat time finish', 'sorry da gone mad many pending works', 'much got cleaning', 'hows favourite person today r u workin hard sleep last nite nearly rang u', 'sunshine quiz win super sony dvd recorder canname capital australia text mquiz b', 'called dad oredi', 'good think could send pix would love see top bottom', 'nvm going wear sport shoes anyway going late leh', 'sorry call later meeting', 'long fuckin showr', 'received understood n acted upon', 'finally came fix ceiling', 'u need presnts always bcz u cant mis love jeevithathile irulinae neekunna prakasamanu sneham prakasam ennal prabha mns prabha love got dont mis', 'jus finish blowing hair u finish dinner already', 'bus love', 'lol knew saw dollar store', 'please call customer service representative pm guaranteed cash prize', 'todays voda numbers ending selected receive reward match please call quoting claim code standard rates apply', 'saturday sunday holiday difficult', 'everybody fun evening miss', 'got hella gas money want go grand nature adventure galileo little bit', 'meeting call later', 'oh wow thats gay firmware update help', 'move morphine', 'come din c yup cut hair', 'k k pa lunch aha', 'oh ho first time u use type words', 'captain vijaykanth comedy captain tv drunken', 'course guess god got hold right', 'hide anythiing keeping distance', 'havent', 'ripped get mobile content www clubmoby com call poly true pix ringtones games six downloads', 'sorry din lock keypad', 'u got persons story', 'planning come chennai', 'tried contact reply offer video phone anytime network mins half price line rental camcorder reply call', 'god created gap btwn ur fingers dat sum vry special fill gaps holding ur hands plz dont ask created much gap legs', 'okay going sleep later', 'please protect e threats sib never asks sensitive information like passwords atm sms pin thru email never share password anybody', 'finally happened aftr decades beer cheaper petrol goverment expects us drink drive', 'xmas reward waiting computer randomly picked loyal mobile customers receive reward call', 'r e meeting tmr', 'lol yes add spice day', 'hope great day', 'prasanth ettans mother passed away last night pray family', 'k work something', 'private account statement shows un redeemed points call identifier code expires', 'message great doctor india drink appy fizz contains cancer causing age', 'cant pick phone right pls send message', 'call tell infront call', 'ok prob', 'ladies first genus second k', 'yes please swimming', 'mum going robinson already', 'ok set let u noe e details later', 'tel software name', 'send print outs da', 'im realy soz imat mums nite moro', 'born god said oh another idiot born god said oh competition knew one day two become freinds forever', 'didnt get ur full msg sometext missing send', 'probably almost gas get cash tomorrow', 'customer service announcement recently tried make delivery unable please call schedule ref', 'forgot ask smth card da present lei want write smth sign', 'leaving house', 'hi babe chloe r u smashed saturday night great weekend u missing sp visionsms com text stop stop p text', 'ready call', 'wewa iriver mb', 'good thing getting connection bw', 'sry da jst nw came home', 'cool night lem know around', 'staying town', 'haha yeah oz kind shitload', 'ok u take shopping u get paid', 'life means lot love life love people life world calls friends call world ge', 'alright bring see like lt gt mins', 'pls dont play others life', 'eatin lunch', 'hmmm give one day', 'try g decided head', 'ok prob', 'surly ill give coming review', 'march ending ready call sure problem capital never complete far work ladies', 'tessy pls favor pls convey birthday wishes nimya pls dnt forget today birthday shijas', 'pls give food preferably pap slowly loads sugar take hour give water slowly', 'urgent mobile awarded bonus caller prize nd attempt contact call box qu', 'guy gets used dumb realize', 'okey dokey bit sorting stuff', 'da whats plan', 'yes fine', 'win winner mr foley ipod exciting prizes soon keep eye ur mobile visit www win co uk', 'liked new mobile', 'anytime', 'mmmmmmm snuggles deep contented sigh whispers fucking love much barely stand', 'yar say got error', 'hey anyway', 'wow healthy old airport rd lor cant thk anything else b bathing dog later', 'wif family booking tour package', 'say bold torch later one torch bold', 'haha awesome might need take doin tonight', 'ya knw u vl giv ok thanks kano anyway enjoy wit ur family wit st salary', 'huh slow tot u reach long ago liao u days leh', 'thats cool princess cover face hot sticky cum', 'big brother really scraped barrel shower social misfits', 'oops thk dun haf enuff go check tell', 'min go lunch', 'hey happened u switch ur cell whole day isnt good u care give call tomorrow', 'k addie amp art get home', 'uncles atlanta wish guys great semester', 'aiyo lesson early still sleepin haha okie u go home liao den confirm w lor', 'forgot tell smth like number sections clearer', 'yup anything lor u dun wan ok', 'home love still awake loving kiss', 'hello peach cake tasts lush', 'free game get rayman golf free games arcade st get ur games settings reply post save activ press key arcade termsapply', 'minor shindig place later tonight interested', 'jason says cool pick place like hour', 'mobile mths update latest camera video phones free keep ur number get extra free mins texts text yes call', 'career tel added u contact indyarocks com send free sms remove phonebook sms lt gt', 'reached already', 'dont know ask brother nothing problem thing told', 'k eng rocking ashes', 'wat time r going xin hostel', 'good morning dear shijutta great amp successful day', 'buy space invaders chance win orig arcade game console press games arcade std wap charge see co uk games terms settings purchase', 'oh k placement ah', 'possession especially first offense', 'nt driving even many reasons called bbd thts chikku hw abt dvg cold heard tht vinobanagar violence hw condition hw ru problem', 'bought test yesterday something lets know exact day u ovulate get u wks pls pls dont fret know u r worried pls relax also anything ur past history u need tell', 'pizza u want', 'keep seeing weird shit bein woah realising actually reasonable oh', 'many happy returns day wish happy birthday', 'ya nice ready thursday', 'hospital da return home evening', 'thinking u x', 'camera awarded sipix digital camera call fromm landline delivery within days', 'orh tot u say still dun believe', 'put sign choose number pin show right', 'beauty life next second hides thousands secrets wish every second wonderful ur life gud n', 'thanx u darlin im cool thanx bday drinks nite morrow take care c u soon xxx', 'still maybe leave credit card get gas get back like told', 'weekly cool mob tones ready download weeks new tones include crazy frog axel f akon lonely black eyed dont p info n', 'well boy glad g wasted night applebees nothing', 'cashbin co uk get lots cash weekend www cashbin co uk dear welcome weekend got biggest best ever cash give away', 'ok lor u wan go look u', 'u wan haf lunch da canteen', 'make life stressfull always find time laugh may add years life surely adds life ur years gud ni swt dreams', 'hey looks like wrong one kappa guys numbers still phone want text see around', 'urgent mobile number awarded prize guaranteed call land line claim valid hrs ppm', 'thanks continued support question week enter u draw cash name new us president txt ans', 'home doc gave pain meds says everything fine', 'ard rest ard least price bedrm', 'lovely night xxx', 'prepare pleasured', 'hi technical support providing assistance us customer call email', 'text way cup stop work bus', 'whens radio show', 'unique user id removal send stop customer services', 'sure still available though', 'watever relation u built dis world thing remains atlast iz lonlines lotz n lot memories feeling', 'cheers lou yeah goodnite shame u neva came c ya gailxx', 'hi got money da', 'hi mobile lt gt added contact list www fullonsms com great place send free sms people visit fullonsms com', 'ok u tell wat time u coming later lor', 'u repeat e instructions wat e road name ur house', 'many people seems special first sight remain special till last sight maintain till life ends sh jas', 'quite lor dun tell wait get complacent', 'sorry completely forgot pop em round week still', 'u r beautiful girl ive ever seen u r baby come c common room', 'cant see join denis mina denis want alone time', 'sen told going join uncle finance cbe', 'yup hey one day fri ask miwa jiayin take leave go karaoke', 'call senthil hsbc', 'especially since talk boston personal statement lol woulda changed realized said nyc says boston', 'indeed way either', 'urgent call landline complimentary ibiza holiday cash await collection sae cs po box sk wp ppm', 'holy living christ taking long', 'thk wat eat tonight', 'thanx yup coming back sun finish dinner going back hotel time flies tog exactly mth today hope haf many mths come', 'opposite side dropped', 'yup izzit still raining heavily cos e mrt c outside', 'send resume', 'gd luck ur exams', 'u ask next sat make ok lor', 'sorry uncle keep touch', 'saw guys dolls last night patrick swayze great', 'urgent nd attempt contact u prize yesterday still awaiting collection claim call', 'santa calling would little ones like call santa xmas eve call book time calls ppm last mins c www santacalling com', 'come home want u miserable', 'dont know getting messages', 'cool tyler take gon na buy drop place later tonight total order quarter got enough', 'guy car shop flirting got phone number paperwork called texted nervous course may address call boss tell knowing may get fired', 'reverse cheating mathematics', 'plan manage', 'er hello things quite go plan limping slowly home followed aa exhaust hanging', 'sorry delay yes masters', 'call u finish come n pick u', 'private account statement shows unredeemed bonus points claim call identifier code expires', 'oga left phone home saw ur messages hope good great weekend', 'worry though understand important put place poorly thought punishment face worst thing ever happened brb gon na go kill', 'honey pls find much sell predicte nigeria many times used important reply monday', 'e admin building might b slightly earlier call u reaching', 'fyi usf swing room whenever', 'call lt gt min thats ok', 'ummmmmaah many many happy returns day dear sweet heart happy birthday dear', 'home work meh', 'anything valuable situations first getting second loosing', 'mark taking forever pick prescription pain coming back', 'ur paper', 'got smaller capacity one quite ex', 'check choose babe videos sms shsex netun fgkslpopw fgkslpo', 'im good thinking', 'u r winner u ave specially selected receive cash holiday flights inc speak live operator claim p min', '', 'thought bout drink tap spile seven pub gas st broad st canal ok', 'going sleep tired travel', 'haha thinkin', 'yup giving problems mayb jus leave', 'lol trying make day little interesting', 'long get reply defer admission til next semester', 'word checkmate chess comes persian phrase shah maat means king dead goodmorning good day', 'po de need job aha', 'rats hey u ever vote next themes', 'new mobiles must go txt nokia collect today www tc biz optout gbp mtmsg txtauction', 'hope pee burns tonite', 'oh rite well im best mate pete went week geva longer week', 'yay wait party together', 'photoshop makes computer shut', 'boys made fun today ok problem sent one message fun', 'one issues california okay snow manageable', 'private account statement shows un redeemed points call identifier code expires', 'hmmm mayb try e shoppin area one forgot e name hotel', 'awesome gon na soon later tonight', 'need details online job', 'valued vodafone customer computer picked win prize collect easy call', 'missing pray inshah allah', 'pls help tell ashley cant find number oh', 'escape theatre going watch kavalan minutes', 'increase chance winning', 'either way works lt gt years old hope doesnt bother', 'maybe find something else instead', 'gain rights wife dont demand trying husband lets see', 'liked new house', 'fine hope also', 'also north carolina texas atm would go gre site pay test results sent', 'u', 'yes baby need stretch open pussy', 'thanks bomb date phone wanted say', 'ok', 'hey guy know breathing neck get bud anyway able get half track usf tonight', 'response one powerful weapon occupy place others heart always give response cares u gud night swt dreams take care', 'nokia phone lovly', 'free message thanks using auction subscription service p msgrcvd skip auction txt unsubscribe txt stop customercare', 'bored housewives chat n date bt national rate p min landlines', 'sorry da today wont come play driving clas', 'really sorry lit hair fire', 'oh shit thought trip loooooool makes much sense grins sofa reference sleep couch link sent went trip oh babe go celebration rents', 'okey dokey swashbuckling stuff oh', 'watching cartoon listening music amp eve go temple amp church u', 'tension face smiling face waste face innocent face terror face cruel face romantic face lovable face decent face lt gt joker face', 'dip cell dead coming u better respond else shall come back', 'well know mean texting', 'hi dis yijue would happy work wif gek', 'lol oops sorry fun', 'wat happened cruise thing', 'know dat feelin pete wuld get em nuther place nuther time mayb', 'lyricalladie f inviting friend reply yes see www sms ac u hmmross stop send stop frnd', 'world happiest frnds never characters dey best understanding differences', 'polyphonic tone ur mob every week txt pt st tone free get txtin tell ur friends p tone reply hl info', 'yeah open chat click friend lists make list easy pie', 'alright tyler got minor crisis home sooner thought asap', 'pick', 'usual u call ard smth', 'new theory argument wins situation loses person dont argue ur friends kick amp say always correct', 'many things antibiotic used chest abdomen gynae infections even bone infections', 'poor girl go one day lmao', 'times', 'todays vodafone numbers ending selected receive award number matches call receive award', 'pls make note exposed also find school anyone else vomiting dog cat house let know later', 'japanese proverb one u none u must indian version one let none leave finally kerala version one stop none make strike', 'sounds like could lot time spent chastity device boy grins take beatings like good dog going lounge nice long bath', 'worse uses half way stops better complete', 'miserable tell u side effects birth control massive gut wrenching cramps first months sleep last night', 'send new number', 'convey regards', 'want latest video handset anytime network mins half price line rental reply call delivery tomorrow', 'half years missed friendship', 'cant pick phone right pls send message', 'oh fuck sake like tallahassee', 'haha first person gon na ask', 'ou guaranteed latest nokia phone gb ipod mp player prize txt word collect ibhltd ldnw h p mtmsgrcvd', 'taka lor wat time u wan come n look us', 'free polyphonic ringtone text super get free poly tone week sn pobox nr zs subscription pw', 'reaching another stops', 'mean post wrote like many times ritten stuff let sit feeling time angry left hit send stop checked phone got car said sleep bored time clean fold laundry etc least make bed', 'warner village c colin farrell swat wkend warner village get free med popcorn show msg ticket kiosk valid c c kiosk reply sony mre film offers', 'come online today night', 'anything special', 'solihull want anything', 'good day', 'regret inform u nhs made mistake u never actually born please report yor local hospital b terminated r sorry inconvenience', 'love holiday monday feeling even go dentists hour', 'way tirupur', 'goal arsenal henry v liverpool henry scores simple shot yards pass bergkamp give arsenal goal margin mins', 'already got flaky parent snot supposed child job support parent ride age anyway supposed support hurt unintentional hurt nonetheless', 'took hooch walk toaday fell splat grazed knees everything stayed home see tomorrow', 'dropped em omw back', 'nd time tried contact u u pound prize claim easy call p per min bt national rate', 'sitting mu waiting everyone get suite take shower', 'call see facebook huh', 'g says never answer texts confirm deny', 'common hearin r u wat r u ur day let ask u something different u smile today gud evng', 'hi dear call urgnt know whats problem want work problem least tell wating reply', 'oh yah never cancel leh haha', 'go e normal pilates intro', 'ok let u noe leave house', 'oh yes like torture watching england', 'wan na art', 'hopeing pissed remember gone sisters something', 'got takes take part wrc rally oz u lucozade energy text rally le p see packs lucozade co uk wrc itcould u', 'hi sexychat girls waiting text text great night chatting send stop stop service', 'good morning boytoy yummy lips sexy buns think crave need', 'match started india lt gt', 'free call sir', 'hey want anything buy', 'hey babe going ever figure going new years', 'k k congratulation', 'g wants know fuck', 'cancelled yeah baby well sounds important understand darlin give ring later fone love kate x', 'tomarrow want got court lt decimal gt come bus stand', 'go home liao ask dad pick', 'omg make wedding chapel frontierville get good stuff', 'eatin lor goin back work soon e mountain deer show huh watch b liao nice', 'check mail mailed varma kept copy regarding membership take care insha allah', 'wrong phone phone answer one assume people well', 'anyway think secure anything lem know want drive south chill', 'already back home probably', 'great news call freefone claim guaranteed cash gift speak live operator', 'hi amy sending free phone number couple days give access adult parties', 'bus way calicut', 'hi probably much fun get message thought id txt u cos im bored james farting night', 'hi baby im sat bloody bus mo wont home wan na somethin later call later ortxt back jess xx', 'welcome select service added benefits call specially trained advisors free mobile dialling', 'lost pounds since doc visit last week woot woot gon na celebrate stuffing face', 'u coming back dinner rite dad ask confirm wif u', 'masters buy bb cos sale bf', 'ahhhh woken bad dream u tho dont like u right didnt know anything comedy night guess im', 'vivek got call number', 'u call lunch', 'mean left early check cos working', 'want lt gt rs da', 'bit ur smile hppnss drop ur tear sorrow part ur heart life heart like mine wil care u forevr goodfriend', 'yup ok', 'want see pretty pussy', 'dear voucher holder next meal us use following link pc enjoy dining experiencehttp www vouch com etlp dining asp', 'people game mall iouri kaila', 'urgent trying contact u todays draw shows prize guaranteed call land line claim valid hrs', 'donate unicef asian tsunami disaster support fund texting donate added next bill', 'future planned tomorrow result today best present enjoy future', 'cme want go hos morow wil cme got dear didnt say time', 'supposed meet discuss abt trip thought xuhui told afternoon thought go lesson', 'hey come online use msn', 'fine hope good take care', 'oops shower u called hey parking garage collapsed university hospital see crazy stuff like happen', 'aiyo u poor thing u dun wan eat u bathe already', 'yar tot u knew dis would happen long ago already', 'gorgeous keep pix cumming thank', 'boy late home father power frndship', 'jade paul u txt u remember barmed want talk u txt', 'spending new years brother family lets plan meet next week ready spoiled', 'u today', 'said okay sorry', 'slept thinkthis time lt gt pm dangerous', 'networking job', 'goldviking inviting friend reply yes see www sms ac u goldviking stop send stop frnd', 'dont let studying stress l r', 'u haf keep busy', 'rushing working school rush go hungry', 'channel', 'telling coulda real valentine u never pick nothing', 'phony award todays voda numbers ending xxxx selected receive award match please call quoting claim code standard rates app', 'made eta taunton planned hope still okday good see xx', 'hungry buy smth home', 'hey kate hope ur ok give u buz wedlunch go outsomewhere adrink town cud go watershd bit ppl fromwrk bthere love petexxx', 'drive read need write', 'looked addie goes back monday sucks', 'happy new year hope good semester', 'esplanade lor else', 'talk', 'hmph go head big baller', 'well like actually called someone punto woulda worse', 'nope since ayo travelled forgotten guy', 'still around looking pick later', 'cds u congratulations ur awarded cd gift vouchers gift guaranteed freeentry wkly draw xt music tncs www ldew com win ppmx age', 'someone year lt gt toyota camry like mr olayiwola mileage lt gt k clean need know much sell raise dough soon landing sell holla back', 'guess pub im im happy pig clover whatever saying', 'ill b soon', 'oh k come tomorrow', 'go fool dont cheat others ok', 'mobile number pls sms ur mail id convey regards achan amma rakhesh qatar', 'way rencontre meet mountains dont', 'guaranteed cash prize claim yr prize call customer service representative pm cost p', 'u attend ur driving lesson many times wk n day', 'uncle g checking rewarding month', 'hello boytoy geeee missing today like send tm remind thinking loved loving kiss', 'think two still need get cash def ready', 'hey gals u wan na meet dinner n te', 'dear xxxxxxx u invited xchat final attempt contact u txt chat p msgrcvdhg suite lands row w j hl ldn yrs', 'babe talking think good boy missing love', 'great office today', 'cool last little getting time soon', 'sad puppy noise', 'yes possible dint try pls dont tell one k', 'anyway holla whenever around need excuse go creep people sarasota', 'happen', 'gon na ask lol think', 'ur cash balance currently pounds maximize ur cash send go p meg cc hg suite lands row w j hl', 'private account statement shows un redeemed points call identifier code xx expires', 'go chase run crossing street', 'like tell deepest darkest fantasies call p min stop texts call nat rate', 'coming friday leave pongal get news work place', 'hey inconvenient sis huh', 'ok vl u know got adsense approved', 'really good see day dudette missing', 'want go perumbavoor', 'many times told stage use laugh listen aha', 'believe true incredible txts reply g learn truly amazing things blow mind fwd p txt', 'hear', 'thanks talk saturday dear cherish brother role model', 'pls clarify back open return ticket preponed go back kerala', 'natalie f inviting friend reply yes see www sms ac u natalie k stop send stop frnd', 'ran younger man make pretty babies together', 'jamster get free wallpaper text heart c apply need help call', 'ic lol play doors sometime yo', 'dunno dad said coming home bring us lunch yup go w u lor call u reach school lor', 'sent jd customer service cum accounts executive ur mail id details contact us', 'desires u going doctor liver get bit stylish get ur hair managed thats', 'hmmm still dont opener', 'yeah basically time next week get away mom amp get', 'edison rightly said fool ask questions wise man answer know us speechless viva gm gn ge gnt', 'vote wherever heart guides', 'sis lor juz watched italian job', 'tick tick tick could die loneliness know pouts stomps feet need', 'lmao know well', 'double mins double txt price linerental latest orange bluetooth mobiles call mobileupd latest offers call optout lf', 'train back northampton afraid staying skyving today ho ho around wednesday though fancy comedy club week way', 'goodnight da thangam really miss u dear', 'hey next sun basic yoga course bugis go pilates intro next sat tell time r free', 'geeeee internet really bad today eh', 'free video camera phones half price line rental mths cross ntwk mins txts call mobileupd call optout', 'think disturbing da', 'sorry call later meeting sir', 'havent stuck orchard dad car going dinner u leh r free tonight', 'ok also wan watch e pm show', 'dunno lei like dun haf', 'brother transfered lt gt lt gt pa', 'calls later afternoon onwords mtnl service get problem south mumbai hear cann listen', 'uk break accommodationvouchers terms conditions apply claim mustprovide claim number', 'talk g x', 'hai dear friends new amp present number rajitha raj ranju', 'p alfie moon children need song ur mob tell ur txt tone charity nokias poly charity polys zed profit charity', 'different styles', 'win shopping spree every week starting play text store skilgme tscs winawk age perweeksub', 'gud ni dear slp well take care swt dreams muah', 'want sent lt gt mesages today thats sorry hurts', 'nd attempt contract u weeks top prize either cash prize call', 'well glad find totally disagreeable lol', 'guy flash go call call madam take care oh', 'want new nokia colour phone deliveredtomorrow free minutes mobile free texts free camcorder reply call', 'mark works tomorrow gets work house meet u afterwards', 'keep ur problems ur heart b coz nobody fight u u amp u fight ur self amp win battle vivekanand g sd', 'yeah give call got minute', 'hi babe uawake feellikw shit justfound via aletter thatmum gotmarried thnov behind ourbacks fuckinnice selfish deviousbitch anyway l call u', 'amazing rearrange letters gives meaning dormitory dirty room astronomer moon starer eyes see election results lies lets recount mother law woman hitler eleven plus two twelve plus one amazing', 'aiya discuss later lar pick', 'hey happy birthday', 'sorry missed call please call back', 'omg one thing another cat worms bad day end', 'good morning im suffering fever dysentry able come office today', 'wont anything de', 'type stuff sing', 'st andre virgil cream', 'check rooms befor activities', 'fri ah okie lor goin drivin den go shoppin tt', 'gokila talking aha', 'hi shanil rakhesh thanks exchanged uncut diamond stuff leaving back excellent service dino prem', 'k k month kotees birthday know', 'really really broke oh amount small even lt gt', 'sorry mates phone didnt write love kate', 'themob hit link get premium pink panther game new sugababes crazy zebra animation badass hoody wallpaper free', 'ah well confuses things doesnt thought friends maybe wrong thing already sort invited tho may come cos money', 'aight call close', 'nope thats fine might nap tho', 'msg mobile content order resent previous attempt failed due network error queries customersqueries netvision uk com', 'news hassling get weed week andres money haughaighgtujhyguj', 'boy loved gal propsd bt didnt mind gv lv lttrs bt frnds threw thm boy decided aproach gal dt time truck speeding towards gal wn hit girl boy ran like hell n saved asked hw cn u run fast boy replied boost secret energy n instantly girl shouted energy n thy lived happily gthr drinking boost evrydy moral story hv free msgs gud ni', 'wnt buy bmw car urgently vry urgent hv shortage lt gt lacs source arng dis amt lt gt lacs thats prob', 'ding ya break fassyole blacko londn', 'really need kiss u miss u baby ur baby eva', 'sign maturity start saying big things actually start understanding small things nice evening bslvyl', 'oh got many responsibilities', 'new message please call', 'reached sch already', 'december mobile mths entitled update latest colour camera mobile free call mobile update vco free', 'u definitely need module e humanities dis sem izzit u wan take modules st', 'argh fuck nobody town', 'get lions england tone reply lionm mono lionp poly go www ringtones co uk original n best tones gbp network operator rates apply', 'thanks fills complete calm reassurance', 'aslamalaikkum insha allah tohar beeen muht albi mufti mahfuuz meaning', 'driving training', 'lol real told dad cancer', 'private account statement', 'oops lt gt', 'enufcredeit tocall shall ileave uni get bus yor house', 'hi chikku send nice msgs', 'impossible argue always treats like sub like never released remind necessary', 'work ah den plus lor u workin oso rite den go orchard lor place go liao', 'wonderful okors great month cherish guys wish well day mojibiola', 'cuz ibored wan na study', 'wot wed nite til', 'rose red red blood blood heart heart u u send tis ur friends including u like u get back u r poor relation u need support u r frnd many luvs u praying god marry u try', 'way', 'sucks go u hair free right', 'still working time also tried adding zeros savings checking lt gt', 'hmm dunno leh mayb bag goigng dat small jus anything except perfume smth dat keep', 'sday joined training started today', 'sorry grocers', 'nice pubs near frankie n bennys near warner cinema', 'costa del sol holiday await collection call toclaim sae tc pobox stockport sk xh cost pm max mins', 'yup havent want go yoga call book', 'oh shut omg yesterday dream kids boys pissed kids boys even told mark dream changing diapers cause getting owed face', 'yeah imagine would really gentle unlike docs treat patients like turkeys', 'free st week nokia tone ur mobile every week txt nokia get txting tell ur mates www getzed co uk pobox w wq norm p tone', 'started dont stop pray good ideas anything see help guys forward link', 'hi darlin im helens fone im gon na b princes nite please come tb love kate', 'office da', 'aiyar u poor thing give u support k jia think u', 'oh unintentionally bad timing great fingers trains play along give fifteen min warning', 'get garden ready summer free selection summer bulbs seeds worth scotsman saturday stop go notxt co uk', 'k come wenever u lik come also tel vikky come getting free time', 'pls call da happen', 'happy new year u ur family may new year bring happiness stability tranquility ur vibrant colourful life', 'problem renewal right away dont know details', 'idk sitting stop shop parking lot right bawling eyes feel like failure everything nobody wants feel like failing', 'left yet probably gon na til dinner', 'like lt gt question', 'new years eve ok went party boyfriend si hey', 'sir need velusamy sir date birth company bank facilities details', 'k k sms chat', 'come karnan car please wait till pm directly goto doctor', 'bluray player', 'ok r meeting later', 'lol need cash nitros hurry come crash', 'send text skype later', 'ok leave need ask', 'congrats mobile g videophones r call videochat wid ur mates play java games dload polyph music noline rentl bx ip p', 'still got lessons sch', 'dun believe leh tot told true already thk muz c us tog believe', 'oh charge camera', 'got salt rub open wounds like', 'going lunch', 'school n da lab stuff give call r done', 'oh k come tomorrow', 'aight text tonight see', 'u', 'water logging desert geoenvironmental implications', 'raji pls favour pls convey birthday wishes nimya pls today birthday', 'company good environment terrific food really nice', 'strange watching nd one bed sweet dreams miss u', 'sms auction brand new nokia auction today auction free join take part txt nokia', 'hi hope u r ok said would text u seen let gently please', 'babe fucking love know fuck good hear voice need crave get enough adore ahmad kisses', 'k sure relatives home sms de pls', 'sent like', 'fuuuuck need stop sleepin sup', 'town jus take mrt later', 'cooked rather nice salmon la', 'uploaded mine facebook', 'time u wrkin', 'okie', 'ree entry weekly comp chance win ipod txt pod get entry std txt rate c apply details', 'records indicate u maybe entitled pounds compensation accident claim free reply claim msg stop txt stop', 'sorry call later', 'oh oh den muz change plan liao go back yan jiu', 'wylie tampa sarasota', 'ok take ur time n enjoy ur dinner', 'darren saying dat u meeting da ge den dun meet dinner cos later u leave xy feel awkward den u meet lunch lor', 'spook mob halloween collection logo pic message plus free eerie tone txt card spook zed p per logo pic', 'like cheap happy splash wine makes feel better', 'fine difficulties phone works mine pls send another friend request', 'ugh leg hurts musta overdid mon', 'call germany pence per minute call fixed line via access number prepayment direct access www telediscount co uk', 'costa del sol holiday await collection call toclaim sae tc pobox stockport sk xh cost pm max mins', 'wot student discount u get books', 'fine absolutly fine', 'come get b quite diff guess rite', 'mobile mths update free oranges latest colour camera mobiles unlimited weekend calls call mobile upd freefone stoptxt', 'reach ur home lt gt minutes', 'babe answering see maybe better reboot ym got photo great', 'hi think match', 'know thinkin malaria relax children cant handle malaria would worse gastroenteritis takes enough replace loss temp reduce give malaria meds vomit self limiting illness means days completely stop', 'dai downloaded exe file run exe installing', 'yesterday true true', 'k k business', 'pa selected', 'natalja f inviting friend reply yes see www sms ac u nat stop send stop frnd', 'keep ten rs shelf buy two egg', 'late', 'well thats nice bad cant eat', 'accidentally brought em home box', 'pls needs dat slowly vomit', 'take exam march', 'jane babes goin wrk feel ill lst nite foned already cover chuck', 'nights nt staying port step liao ex', 'die want u stuffs', 'oh fuck juswoke bed boatin docks slept wid year old spinout giv u da gossip l r xxx', 'smile pleasure smile pain smile trouble pours like rain smile sum hurts u smile becoz someone still loves see u smiling', 'prabha soryda realy frm heart sory', 'met alex nichols middle school turns dealing', 'private account statement fone shows un redeemed points call identifier code expires', 'means u could keep ur words', 'nope still market', 'realise busy guy trying bother get exams outta way try cars gr day', 'chosen receive award pls call claim number collect award selected receive valued mobile customer', 'hey project started aha da', 'ok cool see ya', 'uworld site buying qbank buying self assessment also', 'opinion jada kusruthi lovable silent spl character matured stylish simple pls reply', 'someonone know trying contact via dating service find could call mobile landline box sk ch', 'yeah still give ride', 'jay wants work first sound', 'gud gud k chikku tke care sleep well gud nyt', 'part checking iq', 'hmm thinking lor', 'course tease know simply must see grins keep posted prey loving smile devouring kiss', 'thanks temales wonderful thank great week', 'thank princess want see nice juicy booty', 'eaten day sitting staring juicy pizza eat meds ruining life', 'gud ni dear slp well take care swt dreams muah', 'u come n search tat vid finishd', 'k leaving soon little', 'urgent please call landline cash holiday await collection cs sae po box xy', 'yeah work fine started last week stuff dull easy guys fun', 'studies alone without anyones help cant need study', 'please tell car keys purse', 'didnt get anything da', 'ok sweet dreams', 'well big surprise', 'usual iam fine happy amp well', 'cbe chennai', 'help u swoop picking u wherever ur birds r meeting u want', 'anyone calls treadmill say buy make sure working found ad craigslist selling lt gt', 'absolutely love south park recently started watching office', 'see film', 'pls speak wont ask anything friendship', 'storming msg wen u lift phne u say hello u knw wt real meaning hello name girl yes u knw dat girl margaret hello girlfrnd f grahmbell invnted telphone moral one get name person bt girlfrnd g n g h', 'gud ni swt drms take care', 'hi darlin kate u doin somethin tonight im going pub called swan something parents one drink phone u', 'anything lar going home dinner', 'er enjoyin indians mo yep sall good hehe hows bout u shexy pete xx', 'prize go another customer c www c biz p min polo ltd suite london w j hl please call back busy', 'u fix teeth asap ok take care', 'u wan come dinner tonight', 'hello u u u b moving flat cos need arrange pick lamp etc take care hello caroline', 'late k wish', 'hi hope ur day good back walk table booked half eight let know ur coming', 'oh yeah clearly fault', 'dunno leh cant remember mayb lor wat time r meeting tmr', 'best msg hard person u know one step foward make u fall love amp one step back ruin ur friendship good night', 'urgent mobile number awarded prize guaranteed call land line claim valid hrs ppm', 'helloooo wake sweet morning welcomes enjoy day full joy gud mrng', 'vikky come around lt time gt', 'princess', 'gone get info bt dont know', 'yeah probably', 'sent ur email id soon', 'urgent week free membership prize jackpot txt word claim c www dbuk net lccltd pobox ldnw rw', 'still pretty weak today bad day', 'hey forget mine possession property mmm childish smile', 'excellent thought misundrstud frnd knw u hate bt day wen u knw truth u hate urself gn', 'hey congrats u id luv ive go home', 'dear call', 'xy trying smth u eat already havent', 'urgent please call landline cash luxury canary islands holiday await collection cs sae po box xy ppm', 'donno genes something', 'xmas iscoming ur awarded either cd gift vouchers free entry r weekly draw txt music tnc www ldew com win ppmx age subscription', 'alex says ok ok', 'u coming funeral home', 'darling sister school resuming minimum wait period reapply take care', 'hand phone chat wit u', 'well good morning mr hows london treatin ya treacle', 'make tonight', 'time come tomorrow', 'lt gt bucks banks fees fixed better call bank find', 'tell quite long cos finish film yet', 'pls ask macho much budget bb bold cos saw new one lt gt dollars', 'hi missed call mumhas beendropping red wine theplace adress', 'ill mins look', 'leave', 'coming back thursday yay gon na ok get money cheers oh yeah everything alright hows school call work', 'jolly good way give u tickets sat eve speak x', 'yeah thinking', 'k k going tirunelvali week see uncle already spend amount taking dress want money give feb', 'got ur favorite oyster n got favorite sashimi ok lar dun say already wait ur stomach start rumbling', 'sister going earn da', 'get official england poly ringtone colour flag yer mobile tonights game text tone flag optout txt eng stop box w wx', 'hahaha use brain dear', 'jus finish watching tv u', 'k fyi back parents place south tampa might need deal somewhere else', 'good morning love go sleep wish great day full feeling better opportunity last thought babe love kiss', 'kothi print marandratha', 'havent got da topic yet rite', 'ok problem yup going sch rem correctly', 'thanks keep mind', 'aah bless arm', 'dear sir salam alaikkum pride pleasure meeting today tea shop pleased send contact number qatar rakhesh indian pls save number respectful regards', 'gal n boy walking park gal hold ur hand boy u think would run away gal jst wana c feels walking heaven prince gn', 'makes happy', 'wishing wonderful week', 'sweet heart', 'sir waiting letter', 'dude im longer pisces im aquarius', 'x course yrs messages messenger lik r sending', 'think steyn surely get one wicket', 'neither sterm voice studying fine sure thing resolved tho anyway fab hols', 'garbage bags eggs jam bread hannaford wheat chex', 'pride almost lt gt years old takin money kid supposed deal stuff grownup stuff tell', 'sounds better evening im costume im sure time finish tomorrow txt end', 'birthday feb lt gt da', 'wan na gym', 'like jerk', 'u awake snow', 'course make stink', 'u r subscribed textcomp wkly comp st wk free question follows subsequent wks charged p msg unsubscribe txt stop custcare', 'go openings room til thanksgiving without upcharge', 'guys planning coming', 'wat', 'parents kidz friends n colleagues screaming surprise waiting sofa naked', 'sir hr trip bus last week another audition next wednesday think might drive time', 'thought put back box', 'home', 'one interested may business plan', 'yup paragon havent decided whether cut yet hee', 'good morning princess great day', 'guai shd haf seen naughty free today go jogging', 'aiyo cos sms neva reply wait reply lar tot havent finish ur lab wat', 'living simple loving also simple laughing simple winning tooo simple simple difficult', 'tell something thats okay', 'ok', 'hmm shall bring bottle wine keep us amused joking still bring bottle red white see tomorrow', 'ur face test lt gt select number tell ur face astrology waiting quick reply', 'hey iouri gave number wylie ryan friend', 'yep get program slacking', 'inside office still filling forms know leave', 'think mentor percent sure', 'call send girls erotic ecstacy p min stop texts call nat rate', 'camera awarded sipix digital camera call fromm landline delivery within days', 'xmas reward waiting computer randomly picked loyal mobile customers receive reward call', 'trying figure suppose see couple different people week said get together set dates', 'important message final contact attempt important messages waiting customer claims dept expires call', 'hi mom might back later lt gt', 'dating two started sent text talk sport radio last week connection think coincidence', 'lol oh got friend dog', 'ok problem u frm wats matter', 'k head mins see', 'u konw waht rael friendship im gving yuo exmpel jsut ese tihs msg evrey splleing tihs msg wrnog bt sitll yuo raed wihtuot ayn mitsake goodnight amp nice sleep sweet dreams', 'cant pick phone right pls send message', 'want leave barely stay sane fighting constantly helping', 'current leading bid pause auction send customer care', 'free entry gr prizes wkly comp chance win latest nokia psp cash every wk txt great http www gr prizes com', 'somebody set website play hold em using eve online spacebucks', 'sunny california weather cool', 'new message call', 'make squeezed lt gt bucks dad', 'good day pray remove teeth painful maintaining stuff', 'babes hope ok shit nights sleep fell asleep knackered dreading work tonight thou upto tonight x', 'friends help us problems give stupid suggestion lands us another problem helps us forgt previous problem', 'work please call', 'gentle baby soon taking lt gt inches deep inside tight pussy', 'much fights good nite', 'ok ok ok whats ur todays plan', 'nt joking seriously told', 'watching ajith film ah', 'ooooooh forgot tell u get yoville phone', 'done handed know mega shop asda counts celebration thats', 'dont know exactly could ask chechi', 'dunno lei shd b driving lor cos go sch hr oni', 'want custom officer discount oh', 'necessarily respectful', 'hi hope good day better night', 'apparently bffs carly quick', 'hard true much show amp express love someone much hurt leave get seperated ud evening', 'babes think got ur brolly left english wil bring mrw u luv franxx', 'hi babe thanks coming even though didnt go well wanted bed hope see soon love kisses xxx', 'gd got free ice cream oso wan', 'pls give prometazine syrup mls lt gt mins later feed', 'many days since', 'dear angry busy dear', 'yup msg tat yijue tot group mate cos meeting today mah askin leaving earlier wat mah cos mayb haf walk v far', 'pub', 'first time everything', 'daddy shu shu looking u u wan tell u singapore wat', 'ask u meeting da ge tmr nite', 'gr handle victoria island traffic plus album due', 'nite nite pocay wocay luv u n e thing eva promise ring u morrowxxxx', 'east coast', 'get chicken broth want ramen unless know', 'slave want take pictures today bright light cell phone bright light', 'nope forgot show next week', 'really masters', 'bruce amp fowler mom car park long story', 'dont know oh hopefully month', 'hi elaine today meeting confirmed', 'ok k sry knw siva tats askd', 'sorry call later', 'u horrible gal u knew dat going wif yest n u still come n ask', 'otherwise part time job na tuition', 'oh yeah diet flew window', 'santa calling would little ones like call santa xmas eve call book time', 'didnt complete gist oh', 'er yeah b sorry tell pub cafe sit come wen u', 'make time tonight whenever cool text whenever around', 'paying attention', 'thanx lot ur help', 'gon na way specific', 'jesus armand really trying tell everybody find', 'wif buying tix lar', 'mode men left', 'slow using biola fne', 'youdoing later sar xxx', 'hey booked lessons sun liao', 'thank generally date brothas', 'way make sure u get train worc foregate street shrub hill fun night x', 'thought get watch cos thats kind thing u get th loves much', 'guaranteed award maybe even cash claim ur award call free legitimat efreefone number wat u think', 'good morning repair shop reason hour', 'fine got enough bud last night least', 'back good journey let know need receipts shall tell like pendent', 'takes away money worries', 'aight pick open tonight', 'latest news police station toilet stolen cops nothing go', 'sac needs carry', 'sing hu think also important find someone female know place well preferably citizen also smart help navigate even things like choosing phone plan require guidance doubt ask especially girls', 'hello wats talks email address', 'except theres chick huge boobs', 'im wondering right', 'wishing beautiful day moment revealing even things keep smiling enjoy', 'sparkling shopping breaks per person call visit www shortbreaks org uk', 'arun u transfr amt', 'sorry call later', 'hear loud scream lt gt minutes cause gyno shoving things belong', 'december mobile mths entitled update latest colour camera mobile free call mobile update co free', 'ok thk got u wan come wat', 'txt call claim reward hours talk time use phone subscribe gbp mnth inc hrs stop txtstop www gamb tv', 'u goin nite', 'treasure every moment spend together', 'shall bring us bottle wine keep us amused joking bring one anyway', 'http tms widelive com index wml id ad first true c c ringtone', 'get garden ready summer free selection summer bulbs seeds worth scotsman saturday stop go notxt co uk', 'urgent last weekend draw shows cash spanish holiday call claim c rstm sw ss ppm', 'ok lor', 'thought slide enough', 'yup', 'well obviously people cool college life went home', 'ok lor reaching message', 'mummy boy good bad positive negative mummy made wait hmmmm', 'dhoni luck win big title win', 'yes princess want please every night wish command', 'today sunday sunday holiday work', 'probably lt gt', 'really hope work doesnt get stressful gr day', 'seen back holby', 'shall call dear food', 'urgent trying contact last weekends draw shows u prize guaranteed call claim code k valid hrs p pm', 'li hai bored da lecturer repeating last weeks stuff waste time', 'picking various points going yeovil motor project hours u take home max easy', 'also fuck family going rhode island wherever fuck leaving alone week new bong gt', 'ofcourse also upload songs', 'p per min call germany bt line p per min check planettalkinstant com info c text stop opt', 'k sent', 'oh thanks lot already bought eggs', 'k sent', 'u studying sch going home anyway b going sch later', 'marvel mobile play official ultimate spider man game ur mobile right text spider game send u free ball wallpaper', 'think rule tamilnadu tough people', 'cool shall go see go tip anyway home got something drop later lets go town tonight maybe mum take us', 'good afternoon love goes day sleep hope well boytoy think', 'yes trust u buy new stuff asap try', 'sms services inclusive text credits pls goto www comuk net login qxj unsubscribe stop extra charge help comuk cm ae', 'wake gt', 'get step outta way congrats', 'love one law make happy person love way friendship one law never make ur friend feel alone alive gud night', 'private account statement shows un redeemed points call identifier code expires', 'apo mokka players', 'perhaps much easy give account identification tomorrow uni', 'wait msg lt gt min', 'told tell stupid hear wont tell anything dad called brother spoken', 'god love limit god grace measure god power boundaries may u god endless blessings always ur life gud ni', 'want inside every night', 'machan go gym tomorrow wil come late goodnight', 'lol mad first woke gave', 'went project centre', 'reassuring crazy world', 'making dinner', 'yes please leave lt gt lt gt leave', 'oh okie lor go sat', 'great role model giving much really wish day miracle god reason everything must say wish knew dont looked since young still great day', 'ya referin mei ex wat ah waitin u treat somebody shld b rich liao gd den u dun work frm tmr onwards', 'miles smiles r made frm letters u know difference smile ur face keeps happy even though miles away u keep smiling good nyt', 'way put skip right outside front house see house pull', 'pls send company name saibaba colany', 'dont want hear anything', 'big chic common declare', 'thats cool want please', 'going join tomorrow', 'awarded sipix digital camera call landline delivery within days cs box bp yr warranty ppm p p', 'want tell bad feel basically times text lately need drugs', 'private account statement shows un redeemed points call identifier code expires', 'total disappointment texted craziest shit got', 'effect irritation ignore', 'one', 'think tantrum finished yeah point', 'compliments away system side', 'happened adventuring', 'hey chief give bell get need talk royal visit st june', 'ok another number', 'know thinkin malaria relax children cant handle malaria would worse gastroenteritis takes enough replace loss temp reduce give malaria meds vomit self limiting illness means days completely stop', 'aiyah ok wat long got improve already wat', 'want explicit sex secs ring costs p min gsex pobox wc n xx', 'believe attached seeing every day know best get babe go teach class midnight', 'sleeping surfing', 'asked mobile chatlines inclu free mins india cust servs sed yes l er got mega bill dont giv shit bailiff due days want', 'yeah jus rite', 'armand says get ass epsilon', 'u still havent got urself jacket ah', 'taking derek amp taylor walmart back time done leave mouse desk text priscilla ready', 'hi durban still number', 'ic lotta childporn cars', 'contract mobile mnths latest motorola nokia etc free double mins text orange tariffs text yes callback remove records', 'trying weekend v', 'know wot people wear shirts jumpers hat belt know r cribbs', 'cool time think get', 'wen get spiritual deep great', 'safe trip nigeria wish happiness soon company share moments', 'hahaha use brain dear', 'well keep mind got enough gas one round trip barring sudden influx cash', 'yeh indians nice tho kane bit shud go drink sometime soon mite hav go da works laugh soon love pete x x', 'yes u texted pshew missing much', 'meant calculation lt gt units lt gt school really expensive started practicing accent important decided years dental school nmde exam', 'sorry call later', 'next lt gt hours imma flip shit', 'anything lor juz us lor', 'get dump heap mom decided come lowes boring', 'ok lor sony ericsson salesman ask shuhui say quite gd use considering', 'ard like dat lor', 'wait til least wednesday see get', 'huh lei', 'reminder get pounds free call credit details great offers pls reply text valid name house postcode', 'nd time tried contact u u pound prize claim easy call p per minute bt national rate', 'b going esplanade fr home', 'pity mood suggestions', 'guy bitching acted like interested buying something else next week gave us free', 'rofl true name']\n"
          ]
        }
      ],
      "source": [
        "def predobrabotka(data):\n",
        "  corpus = []\n",
        "  if isinstance(data, str): # для string object\n",
        "    data = [data]\n",
        "\n",
        "  for i in range(len(data)):\n",
        "    data_sms = re.sub('[^a-zA-Z]', ' ', data[i]).lower()\n",
        "    # print(data_sms)\n",
        "    tokens = nltk.word_tokenize(data_sms)\n",
        "    stop = stopwords.words('english')\n",
        "    cleaned_tokens = [word for word in tokens if not word in stop]\n",
        "    tags = ' '.join(cleaned_tokens)\n",
        "    # print(tags)\n",
        "    corpus.append(tags)\n",
        "  return corpus\n",
        "corpus = predobrabotka(dfa['sms'])\n",
        "print(corpus)\n",
        "dfa = dfa.assign(tokenized=corpus)"
      ]
    },
    {
      "cell_type": "code",
      "source": [
        "dfa.head()"
      ],
      "metadata": {
        "colab": {
          "base_uri": "https://localhost:8080/",
          "height": 206
        },
        "id": "3kv7PLoz7DOO",
        "outputId": "fe6528eb-573a-4b8a-c12d-0b3febfc3492"
      },
      "execution_count": 22,
      "outputs": [
        {
          "output_type": "execute_result",
          "data": {
            "text/plain": [
              "   label                                                sms  \\\n",
              "0      1  Free entry in 2 a wkly comprehensive to win FA...   \n",
              "1      1  FreeMsg Hey there darling it ' s been 3 workwe...   \n",
              "2      1  WINNER! ! As a respect network customer you ha...   \n",
              "3      1  Had your mobile xi calendar month surgery more...   \n",
              "4      1  SIX chances to advance CASH! From 100 to 20, 0...   \n",
              "\n",
              "                                           tokenized  \n",
              "0  free entry wkly comprehensive win fa loving cu...  \n",
              "1  freemsg hey darling workweek word back vitamin...  \n",
              "2  winner respect network customer selected recei...  \n",
              "3  mobile xi calendar month surgery uracil r enti...  \n",
              "4  six chances advance cash pounds txt csh post p...  "
            ],
            "text/html": [
              "\n",
              "  <div id=\"df-93c4a198-97e6-4ec7-8f95-1403b084009b\" class=\"colab-df-container\">\n",
              "    <div>\n",
              "<style scoped>\n",
              "    .dataframe tbody tr th:only-of-type {\n",
              "        vertical-align: middle;\n",
              "    }\n",
              "\n",
              "    .dataframe tbody tr th {\n",
              "        vertical-align: top;\n",
              "    }\n",
              "\n",
              "    .dataframe thead th {\n",
              "        text-align: right;\n",
              "    }\n",
              "</style>\n",
              "<table border=\"1\" class=\"dataframe\">\n",
              "  <thead>\n",
              "    <tr style=\"text-align: right;\">\n",
              "      <th></th>\n",
              "      <th>label</th>\n",
              "      <th>sms</th>\n",
              "      <th>tokenized</th>\n",
              "    </tr>\n",
              "  </thead>\n",
              "  <tbody>\n",
              "    <tr>\n",
              "      <th>0</th>\n",
              "      <td>1</td>\n",
              "      <td>Free entry in 2 a wkly comprehensive to win FA...</td>\n",
              "      <td>free entry wkly comprehensive win fa loving cu...</td>\n",
              "    </tr>\n",
              "    <tr>\n",
              "      <th>1</th>\n",
              "      <td>1</td>\n",
              "      <td>FreeMsg Hey there darling it ' s been 3 workwe...</td>\n",
              "      <td>freemsg hey darling workweek word back vitamin...</td>\n",
              "    </tr>\n",
              "    <tr>\n",
              "      <th>2</th>\n",
              "      <td>1</td>\n",
              "      <td>WINNER! ! As a respect network customer you ha...</td>\n",
              "      <td>winner respect network customer selected recei...</td>\n",
              "    </tr>\n",
              "    <tr>\n",
              "      <th>3</th>\n",
              "      <td>1</td>\n",
              "      <td>Had your mobile xi calendar month surgery more...</td>\n",
              "      <td>mobile xi calendar month surgery uracil r enti...</td>\n",
              "    </tr>\n",
              "    <tr>\n",
              "      <th>4</th>\n",
              "      <td>1</td>\n",
              "      <td>SIX chances to advance CASH! From 100 to 20, 0...</td>\n",
              "      <td>six chances advance cash pounds txt csh post p...</td>\n",
              "    </tr>\n",
              "  </tbody>\n",
              "</table>\n",
              "</div>\n",
              "    <div class=\"colab-df-buttons\">\n",
              "\n",
              "  <div class=\"colab-df-container\">\n",
              "    <button class=\"colab-df-convert\" onclick=\"convertToInteractive('df-93c4a198-97e6-4ec7-8f95-1403b084009b')\"\n",
              "            title=\"Convert this dataframe to an interactive table.\"\n",
              "            style=\"display:none;\">\n",
              "\n",
              "  <svg xmlns=\"http://www.w3.org/2000/svg\" height=\"24px\" viewBox=\"0 -960 960 960\">\n",
              "    <path d=\"M120-120v-720h720v720H120Zm60-500h600v-160H180v160Zm220 220h160v-160H400v160Zm0 220h160v-160H400v160ZM180-400h160v-160H180v160Zm440 0h160v-160H620v160ZM180-180h160v-160H180v160Zm440 0h160v-160H620v160Z\"/>\n",
              "  </svg>\n",
              "    </button>\n",
              "\n",
              "  <style>\n",
              "    .colab-df-container {\n",
              "      display:flex;\n",
              "      gap: 12px;\n",
              "    }\n",
              "\n",
              "    .colab-df-convert {\n",
              "      background-color: #E8F0FE;\n",
              "      border: none;\n",
              "      border-radius: 50%;\n",
              "      cursor: pointer;\n",
              "      display: none;\n",
              "      fill: #1967D2;\n",
              "      height: 32px;\n",
              "      padding: 0 0 0 0;\n",
              "      width: 32px;\n",
              "    }\n",
              "\n",
              "    .colab-df-convert:hover {\n",
              "      background-color: #E2EBFA;\n",
              "      box-shadow: 0px 1px 2px rgba(60, 64, 67, 0.3), 0px 1px 3px 1px rgba(60, 64, 67, 0.15);\n",
              "      fill: #174EA6;\n",
              "    }\n",
              "\n",
              "    .colab-df-buttons div {\n",
              "      margin-bottom: 4px;\n",
              "    }\n",
              "\n",
              "    [theme=dark] .colab-df-convert {\n",
              "      background-color: #3B4455;\n",
              "      fill: #D2E3FC;\n",
              "    }\n",
              "\n",
              "    [theme=dark] .colab-df-convert:hover {\n",
              "      background-color: #434B5C;\n",
              "      box-shadow: 0px 1px 3px 1px rgba(0, 0, 0, 0.15);\n",
              "      filter: drop-shadow(0px 1px 2px rgba(0, 0, 0, 0.3));\n",
              "      fill: #FFFFFF;\n",
              "    }\n",
              "  </style>\n",
              "\n",
              "    <script>\n",
              "      const buttonEl =\n",
              "        document.querySelector('#df-93c4a198-97e6-4ec7-8f95-1403b084009b button.colab-df-convert');\n",
              "      buttonEl.style.display =\n",
              "        google.colab.kernel.accessAllowed ? 'block' : 'none';\n",
              "\n",
              "      async function convertToInteractive(key) {\n",
              "        const element = document.querySelector('#df-93c4a198-97e6-4ec7-8f95-1403b084009b');\n",
              "        const dataTable =\n",
              "          await google.colab.kernel.invokeFunction('convertToInteractive',\n",
              "                                                    [key], {});\n",
              "        if (!dataTable) return;\n",
              "\n",
              "        const docLinkHtml = 'Like what you see? Visit the ' +\n",
              "          '<a target=\"_blank\" href=https://colab.research.google.com/notebooks/data_table.ipynb>data table notebook</a>'\n",
              "          + ' to learn more about interactive tables.';\n",
              "        element.innerHTML = '';\n",
              "        dataTable['output_type'] = 'display_data';\n",
              "        await google.colab.output.renderOutput(dataTable, element);\n",
              "        const docLink = document.createElement('div');\n",
              "        docLink.innerHTML = docLinkHtml;\n",
              "        element.appendChild(docLink);\n",
              "      }\n",
              "    </script>\n",
              "  </div>\n",
              "\n",
              "\n",
              "<div id=\"df-642a5ae9-ce5c-4f31-98cf-317ca4b824e0\">\n",
              "  <button class=\"colab-df-quickchart\" onclick=\"quickchart('df-642a5ae9-ce5c-4f31-98cf-317ca4b824e0')\"\n",
              "            title=\"Suggest charts\"\n",
              "            style=\"display:none;\">\n",
              "\n",
              "<svg xmlns=\"http://www.w3.org/2000/svg\" height=\"24px\"viewBox=\"0 0 24 24\"\n",
              "     width=\"24px\">\n",
              "    <g>\n",
              "        <path d=\"M19 3H5c-1.1 0-2 .9-2 2v14c0 1.1.9 2 2 2h14c1.1 0 2-.9 2-2V5c0-1.1-.9-2-2-2zM9 17H7v-7h2v7zm4 0h-2V7h2v10zm4 0h-2v-4h2v4z\"/>\n",
              "    </g>\n",
              "</svg>\n",
              "  </button>\n",
              "\n",
              "<style>\n",
              "  .colab-df-quickchart {\n",
              "      --bg-color: #E8F0FE;\n",
              "      --fill-color: #1967D2;\n",
              "      --hover-bg-color: #E2EBFA;\n",
              "      --hover-fill-color: #174EA6;\n",
              "      --disabled-fill-color: #AAA;\n",
              "      --disabled-bg-color: #DDD;\n",
              "  }\n",
              "\n",
              "  [theme=dark] .colab-df-quickchart {\n",
              "      --bg-color: #3B4455;\n",
              "      --fill-color: #D2E3FC;\n",
              "      --hover-bg-color: #434B5C;\n",
              "      --hover-fill-color: #FFFFFF;\n",
              "      --disabled-bg-color: #3B4455;\n",
              "      --disabled-fill-color: #666;\n",
              "  }\n",
              "\n",
              "  .colab-df-quickchart {\n",
              "    background-color: var(--bg-color);\n",
              "    border: none;\n",
              "    border-radius: 50%;\n",
              "    cursor: pointer;\n",
              "    display: none;\n",
              "    fill: var(--fill-color);\n",
              "    height: 32px;\n",
              "    padding: 0;\n",
              "    width: 32px;\n",
              "  }\n",
              "\n",
              "  .colab-df-quickchart:hover {\n",
              "    background-color: var(--hover-bg-color);\n",
              "    box-shadow: 0 1px 2px rgba(60, 64, 67, 0.3), 0 1px 3px 1px rgba(60, 64, 67, 0.15);\n",
              "    fill: var(--button-hover-fill-color);\n",
              "  }\n",
              "\n",
              "  .colab-df-quickchart-complete:disabled,\n",
              "  .colab-df-quickchart-complete:disabled:hover {\n",
              "    background-color: var(--disabled-bg-color);\n",
              "    fill: var(--disabled-fill-color);\n",
              "    box-shadow: none;\n",
              "  }\n",
              "\n",
              "  .colab-df-spinner {\n",
              "    border: 2px solid var(--fill-color);\n",
              "    border-color: transparent;\n",
              "    border-bottom-color: var(--fill-color);\n",
              "    animation:\n",
              "      spin 1s steps(1) infinite;\n",
              "  }\n",
              "\n",
              "  @keyframes spin {\n",
              "    0% {\n",
              "      border-color: transparent;\n",
              "      border-bottom-color: var(--fill-color);\n",
              "      border-left-color: var(--fill-color);\n",
              "    }\n",
              "    20% {\n",
              "      border-color: transparent;\n",
              "      border-left-color: var(--fill-color);\n",
              "      border-top-color: var(--fill-color);\n",
              "    }\n",
              "    30% {\n",
              "      border-color: transparent;\n",
              "      border-left-color: var(--fill-color);\n",
              "      border-top-color: var(--fill-color);\n",
              "      border-right-color: var(--fill-color);\n",
              "    }\n",
              "    40% {\n",
              "      border-color: transparent;\n",
              "      border-right-color: var(--fill-color);\n",
              "      border-top-color: var(--fill-color);\n",
              "    }\n",
              "    60% {\n",
              "      border-color: transparent;\n",
              "      border-right-color: var(--fill-color);\n",
              "    }\n",
              "    80% {\n",
              "      border-color: transparent;\n",
              "      border-right-color: var(--fill-color);\n",
              "      border-bottom-color: var(--fill-color);\n",
              "    }\n",
              "    90% {\n",
              "      border-color: transparent;\n",
              "      border-bottom-color: var(--fill-color);\n",
              "    }\n",
              "  }\n",
              "</style>\n",
              "\n",
              "  <script>\n",
              "    async function quickchart(key) {\n",
              "      const quickchartButtonEl =\n",
              "        document.querySelector('#' + key + ' button');\n",
              "      quickchartButtonEl.disabled = true;  // To prevent multiple clicks.\n",
              "      quickchartButtonEl.classList.add('colab-df-spinner');\n",
              "      try {\n",
              "        const charts = await google.colab.kernel.invokeFunction(\n",
              "            'suggestCharts', [key], {});\n",
              "      } catch (error) {\n",
              "        console.error('Error during call to suggestCharts:', error);\n",
              "      }\n",
              "      quickchartButtonEl.classList.remove('colab-df-spinner');\n",
              "      quickchartButtonEl.classList.add('colab-df-quickchart-complete');\n",
              "    }\n",
              "    (() => {\n",
              "      let quickchartButtonEl =\n",
              "        document.querySelector('#df-642a5ae9-ce5c-4f31-98cf-317ca4b824e0 button');\n",
              "      quickchartButtonEl.style.display =\n",
              "        google.colab.kernel.accessAllowed ? 'block' : 'none';\n",
              "    })();\n",
              "  </script>\n",
              "</div>\n",
              "    </div>\n",
              "  </div>\n"
            ]
          },
          "metadata": {},
          "execution_count": 22
        }
      ]
    },
    {
      "cell_type": "code",
      "source": [
        "X = dfa['tokenized']\n",
        "Y = dfa['label']"
      ],
      "metadata": {
        "id": "IKzKmUs679y2"
      },
      "execution_count": 23,
      "outputs": []
    },
    {
      "cell_type": "markdown",
      "metadata": {
        "id": "4g3AZzHF5NaA"
      },
      "source": [
        "Эмбэдинг"
      ]
    },
    {
      "cell_type": "code",
      "execution_count": 24,
      "metadata": {
        "colab": {
          "base_uri": "https://localhost:8080/"
        },
        "id": "jbZDSxEGpdbG",
        "outputId": "d4c77e43-c8f2-44ca-eca2-419b7c5e8c1f"
      },
      "outputs": [
        {
          "output_type": "stream",
          "name": "stdout",
          "text": [
            "0    2450\n",
            "1    1064\n",
            "Name: label, dtype: int64\n"
          ]
        }
      ],
      "source": [
        "X_train,X_test,y_train,y_test = train_test_split (X, Y, test_size=0.3,random_state=32)\n",
        "print(y_train.value_counts())"
      ]
    },
    {
      "cell_type": "code",
      "execution_count": 25,
      "metadata": {
        "id": "Djq7MFSMzdy4"
      },
      "outputs": [],
      "source": [
        "vector = CountVectorizer()\n",
        "tfidf_transformer = TfidfTransformer()\n",
        "X_train = vector.fit_transform(X_train)\n",
        "X_train = tfidf_transformer.fit_transform(X_train)\n",
        "X_test = vector.transform(X_test)\n",
        "X_test = tfidf_transformer.transform(X_test)"
      ]
    },
    {
      "cell_type": "code",
      "execution_count": 26,
      "metadata": {
        "colab": {
          "base_uri": "https://localhost:8080/"
        },
        "id": "zggxoCT5dIZu",
        "outputId": "4f04841b-e183-4169-fd00-8ae559249746"
      },
      "outputs": [
        {
          "output_type": "stream",
          "name": "stdout",
          "text": [
            "0    1077\n",
            "1     430\n",
            "Name: label, dtype: int64\n"
          ]
        }
      ],
      "source": [
        "print(y_test.value_counts())"
      ]
    },
    {
      "cell_type": "markdown",
      "metadata": {
        "id": "6QdusUTZM7_P"
      },
      "source": [
        "## Выбор классической модели"
      ]
    },
    {
      "cell_type": "code",
      "execution_count": 27,
      "metadata": {
        "id": "kMo6lt3EJABa"
      },
      "outputs": [],
      "source": [
        "from sklearn.svm import SVC\n",
        "from sklearn.naive_bayes import MultinomialNB\n",
        "from sklearn.tree import DecisionTreeClassifier\n",
        "from sklearn.neighbors import KNeighborsClassifier\n",
        "from sklearn.ensemble import RandomForestClassifier\n",
        "from sklearn.metrics import accuracy_score\n",
        "from sklearn.metrics import classification_report"
      ]
    },
    {
      "cell_type": "code",
      "execution_count": 28,
      "metadata": {
        "id": "9vQngDmEJB2t"
      },
      "outputs": [],
      "source": [
        "svc = SVC(probability=True)\n",
        "neighbors = KNeighborsClassifier()\n",
        "multinomial = MultinomialNB()\n",
        "decisiontree = DecisionTreeClassifier()\n",
        "randomforest = RandomForestClassifier()\n",
        "regression = LogisticRegression()"
      ]
    },
    {
      "cell_type": "code",
      "execution_count": 29,
      "metadata": {
        "id": "iqORw7IvJwGf"
      },
      "outputs": [],
      "source": [
        "dict_of_classic_models = {'SVC' : svc,'KNeighborsClassifier' : neighbors, 'MultinomialNB': multinomial, 'DecisionTreeClassifier': decisiontree, 'LogisticRegression': regression, 'RandomForestClassifier': randomforest}"
      ]
    },
    {
      "cell_type": "code",
      "source": [
        "for k,c in dict_of_classic_models.items():\n",
        "  c.fit(X_train, y_train)"
      ],
      "metadata": {
        "id": "B5KmZDs48rlU"
      },
      "execution_count": 30,
      "outputs": []
    },
    {
      "cell_type": "code",
      "source": [
        "def train(clf, train_inputs, train_outputs):\n",
        "    clf.fit(train_inputs, train_outputs)"
      ],
      "metadata": {
        "id": "u3lTpBuOqOzK"
      },
      "execution_count": 31,
      "outputs": []
    },
    {
      "cell_type": "code",
      "execution_count": 32,
      "metadata": {
        "colab": {
          "base_uri": "https://localhost:8080/"
        },
        "id": "xNmt9f9FLVYk",
        "outputId": "cba000e3-129a-4e8b-ca13-0a8f0a0779df"
      },
      "outputs": [
        {
          "output_type": "stream",
          "name": "stdout",
          "text": [
            "SVC:\n",
            "Истинно-положительных предсказаний: 1074\n",
            " Истинно-отрицательные прогнозы: 3\n",
            " Ложно-положительные прогнозы: 19\n",
            " Ложно-отрицательные прогнозы: 411\n",
            "KNeighborsClassifier:\n",
            "Истинно-положительных предсказаний: 1076\n",
            " Истинно-отрицательные прогнозы: 1\n",
            " Ложно-положительные прогнозы: 249\n",
            " Ложно-отрицательные прогнозы: 181\n",
            "MultinomialNB:\n",
            "Истинно-положительных предсказаний: 1070\n",
            " Истинно-отрицательные прогнозы: 7\n",
            " Ложно-положительные прогнозы: 25\n",
            " Ложно-отрицательные прогнозы: 405\n",
            "DecisionTreeClassifier:\n",
            "Истинно-положительных предсказаний: 1049\n",
            " Истинно-отрицательные прогнозы: 28\n",
            " Ложно-положительные прогнозы: 38\n",
            " Ложно-отрицательные прогнозы: 392\n",
            "LogisticRegression:\n",
            "Истинно-положительных предсказаний: 1070\n",
            " Истинно-отрицательные прогнозы: 7\n",
            " Ложно-положительные прогнозы: 48\n",
            " Ложно-отрицательные прогнозы: 382\n",
            "RandomForestClassifier:\n",
            "Истинно-положительных предсказаний: 1073\n",
            " Истинно-отрицательные прогнозы: 4\n",
            " Ложно-положительные прогнозы: 24\n",
            " Ложно-отрицательные прогнозы: 406\n",
            "('SVC', [0.9854014598540146])\n",
            "('KNeighborsClassifier', [0.834107498341075])\n",
            "('MultinomialNB', [0.9787657597876576])\n",
            "('DecisionTreeClassifier', [0.9562043795620438])\n",
            "('LogisticRegression', [0.9635036496350365])\n",
            "('RandomForestClassifier', [0.9814200398142005])\n"
          ]
        }
      ],
      "source": [
        "pred_scores = []\n",
        "conf_matrix = []\n",
        "report = []\n",
        "for k,c in dict_of_classic_models.items():\n",
        "    train(c, X_train, y_train)\n",
        "    pred = c.predict(X_test)\n",
        "    pred_scores.append((k, [accuracy_score(y_test , pred)]))\n",
        "    conf_matrix.append((k, metrics.confusion_matrix(y_test, pred)))\n",
        "    report.append((k, classification_report(y_test, pred)))\n",
        "\n",
        "for k, matrix in conf_matrix:\n",
        "  # print(matrix)\n",
        "  print(f'{k}:\\n'\n",
        "        f'Истинно-положительных предсказаний: {matrix[0][0]}\\n',\n",
        "        f'Истинно-отрицательные прогнозы: {matrix[0][1]}\\n',\n",
        "        f'Ложно-положительные прогнозы: {matrix[1][0]}\\n',\n",
        "        f'Ложно-отрицательные прогнозы: {matrix[1][1]}')\n",
        "\n",
        "for score in pred_scores:\n",
        "  print(score)\n"
      ]
    },
    {
      "cell_type": "code",
      "execution_count": 33,
      "metadata": {
        "colab": {
          "base_uri": "https://localhost:8080/"
        },
        "id": "yeQ8rOwAmLSJ",
        "outputId": "6fca1d2c-dc90-4bda-8f66-4618b8677429"
      },
      "outputs": [
        {
          "output_type": "stream",
          "name": "stdout",
          "text": [
            "SVC\n",
            "               precision    recall  f1-score   support\n",
            "\n",
            "           0       0.98      1.00      0.99      1077\n",
            "           1       0.99      0.96      0.97       430\n",
            "\n",
            "    accuracy                           0.99      1507\n",
            "   macro avg       0.99      0.98      0.98      1507\n",
            "weighted avg       0.99      0.99      0.99      1507\n",
            "\n",
            "KNeighborsClassifier\n",
            "               precision    recall  f1-score   support\n",
            "\n",
            "           0       0.81      1.00      0.90      1077\n",
            "           1       0.99      0.42      0.59       430\n",
            "\n",
            "    accuracy                           0.83      1507\n",
            "   macro avg       0.90      0.71      0.74      1507\n",
            "weighted avg       0.86      0.83      0.81      1507\n",
            "\n",
            "MultinomialNB\n",
            "               precision    recall  f1-score   support\n",
            "\n",
            "           0       0.98      0.99      0.99      1077\n",
            "           1       0.98      0.94      0.96       430\n",
            "\n",
            "    accuracy                           0.98      1507\n",
            "   macro avg       0.98      0.97      0.97      1507\n",
            "weighted avg       0.98      0.98      0.98      1507\n",
            "\n",
            "DecisionTreeClassifier\n",
            "               precision    recall  f1-score   support\n",
            "\n",
            "           0       0.97      0.97      0.97      1077\n",
            "           1       0.93      0.91      0.92       430\n",
            "\n",
            "    accuracy                           0.96      1507\n",
            "   macro avg       0.95      0.94      0.95      1507\n",
            "weighted avg       0.96      0.96      0.96      1507\n",
            "\n",
            "LogisticRegression\n",
            "               precision    recall  f1-score   support\n",
            "\n",
            "           0       0.96      0.99      0.97      1077\n",
            "           1       0.98      0.89      0.93       430\n",
            "\n",
            "    accuracy                           0.96      1507\n",
            "   macro avg       0.97      0.94      0.95      1507\n",
            "weighted avg       0.96      0.96      0.96      1507\n",
            "\n",
            "RandomForestClassifier\n",
            "               precision    recall  f1-score   support\n",
            "\n",
            "           0       0.98      1.00      0.99      1077\n",
            "           1       0.99      0.94      0.97       430\n",
            "\n",
            "    accuracy                           0.98      1507\n",
            "   macro avg       0.98      0.97      0.98      1507\n",
            "weighted avg       0.98      0.98      0.98      1507\n",
            "\n"
          ]
        }
      ],
      "source": [
        "for k, rep in report:\n",
        "   print(f'{k}\\n',\n",
        "         f'{rep}')"
      ]
    },
    {
      "cell_type": "code",
      "execution_count": 34,
      "metadata": {
        "colab": {
          "base_uri": "https://localhost:8080/",
          "height": 449
        },
        "id": "WMw5_CJ2lF5b",
        "outputId": "87eb8f73-a25b-4032-c064-be496ec88f20"
      },
      "outputs": [
        {
          "output_type": "display_data",
          "data": {
            "text/plain": [
              "<Figure size 640x480 with 1 Axes>"
            ],
            "image/png": "[encoded data removed]"
          },
          "metadata": {}
        }
      ],
      "source": [
        "plt.figure()\n",
        "for model_name, model in dict_of_classic_models.items():\n",
        "  y_pred_proba = model.predict_proba(X_test)[::,1]\n",
        "  fpr, tpr, _ = metrics.roc_curve(y_test, y_pred_proba)\n",
        "  auc = metrics.roc_auc_score(y_test, y_pred_proba)\n",
        "  plt.plot (fpr,tpr,label= f\" AUC '{model_name}' = \"+str(auc))\n",
        "  plt.legend(loc=4)\n",
        "  plt.xlabel(\"Ложно-положительный оценка\")\n",
        "  plt.ylabel(\"Истинно-положительные оценка\")\n",
        "plt.show()"
      ]
    },
    {
      "cell_type": "code",
      "source": [
        "# sample = \"thanks for all your answers guys i know i should have checked the rsync manual but i would rather ge...\"\n",
        "# sample = 'You’ve been selected to receive a free gift!'\n",
        "# sample = \"Congratulations! You've been selected for a free vacation. Click here to claim your prize and enjoy a luxury getaway to a tropical paradise. Don't miss out!\"\n",
        "sample = \"Hello [Your Name], we're excited to inform you that you've won a complimentary vacation package to a beautiful destination. Click the link to redeem your prize and start planning your dream getaway. We can't wait for you to experience the luxury and relaxation of this amazing trip!\"\n",
        "tokenized_sample = predobrabotka(sample)\n",
        "X = vector.transform(tokenized_sample)\n",
        "X = tfidf_transformer.transform(X)\n",
        "X_test\n",
        "for k,c in dict_of_classic_models.items():\n",
        "  pred = c.predict(X)\n",
        "  print(k, pred)\n"
      ],
      "metadata": {
        "colab": {
          "base_uri": "https://localhost:8080/"
        },
        "id": "mhAgpii2nZVh",
        "outputId": "40c58507-fc49-4e99-e485-d2fcc6757de8"
      },
      "execution_count": 45,
      "outputs": [
        {
          "output_type": "stream",
          "name": "stdout",
          "text": [
            "SVC [0]\n",
            "KNeighborsClassifier [0]\n",
            "MultinomialNB [1]\n",
            "DecisionTreeClassifier [0]\n",
            "LogisticRegression [0]\n",
            "RandomForestClassifier [1]\n"
          ]
        }
      ]
    },
    {
      "cell_type": "markdown",
      "metadata": {
        "id": "xLKsVQ2N6TMt"
      },
      "source": [
        "Я протестила несколько примеров. Первый был не спамом и модель определила правильно, а затем я стала давать спамовые сообщения, но всё менее очевидные, и как можно видеть по выводам, только MultinomialNB и RandomForestClassifier правильно определили label.\n",
        " Хотя цифры показывали, что наиболее точными моедли - это SVC и RandomForestClassifier.\n",
        "Таким образом самая точная модель-  RandomForestClassifier."
      ]
    },
    {
      "cell_type": "markdown",
      "metadata": {
        "id": "GkORHvMJfYMh"
      },
      "source": [
        "## Нейронная сеть"
      ]
    },
    {
      "cell_type": "code",
      "execution_count": 35,
      "metadata": {
        "id": "-Amn4zc9fX6m"
      },
      "outputs": [],
      "source": [
        "import torch\n",
        "import torch.nn as nn\n",
        "import torch.optim as optim\n",
        "import torch.nn.functional as F\n",
        "from torch.autograd import Variable"
      ]
    },
    {
      "cell_type": "code",
      "execution_count": 104,
      "metadata": {
        "id": "1ZhbvmLDXk0q"
      },
      "outputs": [],
      "source": [
        "X = dfa.sms.values\n",
        "Y = dfa.label.values"
      ]
    },
    {
      "cell_type": "code",
      "execution_count": 105,
      "metadata": {
        "id": "x5F4wMcYX_pe"
      },
      "outputs": [],
      "source": [
        "from keras.preprocessing.text import Tokenizer\n",
        "t = Tokenizer(num_words=1000)\n",
        "t.fit_on_texts(X)\n",
        "X = t.texts_to_matrix(X, mode='tfidf')"
      ]
    },
    {
      "cell_type": "code",
      "source": [
        "print(X)"
      ],
      "metadata": {
        "colab": {
          "base_uri": "https://localhost:8080/"
        },
        "id": "4gX_fO-4y5zd",
        "outputId": "214e9393-63cf-4979-8587-2fbccbdacc75"
      },
      "execution_count": 106,
      "outputs": [
        {
          "output_type": "stream",
          "name": "stdout",
          "text": [
            "[[0.         2.78555652 0.         ... 0.         0.         0.        ]\n",
            " [0.         2.24736946 1.51920367 ... 0.         0.         0.        ]\n",
            " [0.         2.24736946 1.51920367 ... 0.         0.         0.        ]\n",
            " ...\n",
            " [0.         0.         0.         ... 0.         0.         0.        ]\n",
            " [0.         1.32733261 0.         ... 0.         0.         0.        ]\n",
            " [0.         1.32733261 0.         ... 0.         0.         0.        ]]\n"
          ]
        }
      ]
    },
    {
      "cell_type": "code",
      "execution_count": 38,
      "metadata": {
        "colab": {
          "base_uri": "https://localhost:8080/"
        },
        "id": "hutC4zWN6hKm",
        "outputId": "ae82c15a-6518-4565-9fa1-d812786ac043"
      },
      "outputs": [
        {
          "output_type": "execute_result",
          "data": {
            "text/plain": [
              "(5021, 1000)"
            ]
          },
          "metadata": {},
          "execution_count": 38
        }
      ],
      "source": [
        "X.shape"
      ]
    },
    {
      "cell_type": "code",
      "execution_count": 39,
      "metadata": {
        "id": "MQVgQWbOfWPy"
      },
      "outputs": [],
      "source": [
        "class Model(nn.Module):\n",
        "    def __init__(self, input_size, hidden_size, output_size):\n",
        "        super(Model, self).__init__()\n",
        "        self.l1 = nn.Linear(input_size, hidden_size)\n",
        "        self.l2 = nn.Linear(hidden_size , hidden_size)\n",
        "        self.l3 = nn.Linear(hidden_size, 2)\n",
        "\n",
        "    def forward(self, x):\n",
        "        out = F.relu(self.l1(x))\n",
        "        out = F.relu(self.l2(out))\n",
        "        out = self.l3(out)\n",
        "        return out\n"
      ]
    },
    {
      "cell_type": "code",
      "execution_count": 40,
      "metadata": {
        "id": "dhD4MFQEkcRm"
      },
      "outputs": [],
      "source": [
        "input_size = 1000\n",
        "hidden_size = 128\n",
        "output_size = 2\n",
        "model = Model(input_size, hidden_size, output_size)\n",
        "# print(model)"
      ]
    },
    {
      "cell_type": "code",
      "execution_count": 41,
      "metadata": {
        "id": "bPomz0F2aPvV"
      },
      "outputs": [],
      "source": [
        "X_train,X_test,Y_train,Y_test = train_test_split(X, Y, shuffle=True, random_state=34)"
      ]
    },
    {
      "cell_type": "code",
      "execution_count": 42,
      "metadata": {
        "colab": {
          "base_uri": "https://localhost:8080/"
        },
        "id": "GZdOHnGCzAv5",
        "outputId": "086bee2f-0a9d-4fd5-a89a-5d0cf4832c31"
      },
      "outputs": [
        {
          "output_type": "execute_result",
          "data": {
            "text/plain": [
              "array([1, 0, 0, ..., 0, 0, 0])"
            ]
          },
          "metadata": {},
          "execution_count": 42
        }
      ],
      "source": [
        "Y_test"
      ]
    },
    {
      "cell_type": "code",
      "execution_count": 43,
      "metadata": {
        "id": "K4WaCqElrrbi"
      },
      "outputs": [],
      "source": [
        "criterion = nn.CrossEntropyLoss()\n",
        "optimizer = optim.SGD(model.parameters(), lr=0.01)"
      ]
    },
    {
      "cell_type": "markdown",
      "metadata": {
        "id": "xgQvvbmb8I6Z"
      },
      "source": [
        "Тренировка модели\n",
        "\n",
        "\n",
        "\n",
        "\n",
        "\n",
        "\n",
        "\n",
        "\n",
        "\n",
        "\n",
        "\n",
        "\n"
      ]
    },
    {
      "cell_type": "code",
      "execution_count": 44,
      "metadata": {
        "colab": {
          "base_uri": "https://localhost:8080/"
        },
        "id": "iobMvPi4w82i",
        "outputId": "5d8f1001-8ab4-4e4c-90ac-d404808bf7e5"
      },
      "outputs": [
        {
          "output_type": "stream",
          "name": "stdout",
          "text": [
            "Эпоха [100/2000], Потери: 0.6091427803039551, Accuracy: 0.7033200531208499\n",
            "Эпоха [200/2000], Потери: 0.569009006023407, Accuracy: 0.7033200531208499\n",
            "Эпоха [300/2000], Потери: 0.49652695655822754, Accuracy: 0.7264276228419655\n",
            "Эпоха [400/2000], Потери: 0.35641369223594666, Accuracy: 0.9248339973439575\n",
            "Эпоха [500/2000], Потери: 0.2177056223154068, Accuracy: 0.9628154050464808\n",
            "Эпоха [600/2000], Потери: 0.14212463796138763, Accuracy: 0.9752988047808765\n",
            "Эпоха [700/2000], Потери: 0.10344074666500092, Accuracy: 0.9811420982735723\n",
            "Эпоха [800/2000], Потери: 0.08092547953128815, Accuracy: 0.9851261620185923\n",
            "Эпоха [900/2000], Потери: 0.06617611646652222, Accuracy: 0.9877822045152722\n",
            "Эпоха [1000/2000], Потери: 0.0556652806699276, Accuracy: 0.9888446215139443\n",
            "Эпоха [1100/2000], Потери: 0.04772264137864113, Accuracy: 0.9904382470119522\n",
            "Эпоха [1200/2000], Потери: 0.04150513932108879, Accuracy: 0.9915006640106242\n",
            "Эпоха [1300/2000], Потери: 0.036502305418252945, Accuracy: 0.9928286852589642\n",
            "Эпоха [1400/2000], Потери: 0.03240557387471199, Accuracy: 0.9936254980079682\n",
            "Эпоха [1500/2000], Потери: 0.028984874486923218, Accuracy: 0.9941567065073041\n",
            "Эпоха [1600/2000], Потери: 0.026097415015101433, Accuracy: 0.9944223107569721\n",
            "Эпоха [1700/2000], Потери: 0.0236416757106781, Accuracy: 0.9949535192563081\n",
            "Эпоха [1800/2000], Потери: 0.021534251049160957, Accuracy: 0.9954847277556441\n",
            "Эпоха [1900/2000], Потери: 0.019716674461960793, Accuracy: 0.9960159362549801\n",
            "Эпоха [2000/2000], Потери: 0.018137982115149498, Accuracy: 0.9968127490039841\n",
            "Итоговая точность 0.9968127490039841\n"
          ]
        }
      ],
      "source": [
        "epochs = 2000\n",
        "x_train = Variable(torch.from_numpy(X_train)).float()\n",
        "y_train = Variable(torch.from_numpy(Y_train)).long()\n",
        "model.train()\n",
        "for epoch in range(epochs):\n",
        "    optimizer.zero_grad()\n",
        "    y_pred = model(x_train)\n",
        "    loss = criterion(y_pred, y_train)\n",
        "    pred = torch.max(y_pred, 1)[1]\n",
        "    predict = pred.data.numpy()\n",
        "    accuracy = accuracy_score(Y_train, predict)\n",
        "    loss.backward()\n",
        "    optimizer.step()\n",
        "    if (epoch + 1) % 100 == 0:\n",
        "      print(f'Эпоха [{epoch + 1}/{epochs}], Потери: {loss}, Accuracy: {accuracy}')\n",
        "print('Итоговая точность', accuracy)\n"
      ]
    },
    {
      "cell_type": "code",
      "execution_count": 46,
      "metadata": {
        "colab": {
          "base_uri": "https://localhost:8080/"
        },
        "id": "6UVSeTOnxCws",
        "outputId": "15bb3abb-13e1-40a8-f2bf-ac51de0dea26"
      },
      "outputs": [
        {
          "output_type": "stream",
          "name": "stdout",
          "text": [
            "[1 0 0 ... 0 0 0]\n",
            "[1 0 0 ... 0 0 0]\n",
            " Потери: 0.06061660125851631, Accuracy: 0.981687898089172\n"
          ]
        }
      ],
      "source": [
        "epochs = 200\n",
        "model.eval()\n",
        "x_test = Variable(torch.from_numpy(X_test)).float()\n",
        "y_test = Variable(torch.from_numpy(Y_test)).long()\n",
        "net_out = model(x_test)\n",
        "for epoch in range(epochs):\n",
        "    with torch.no_grad():\n",
        "        y_pred = model(x_test)\n",
        "        loss = criterion(y_pred, y_test)\n",
        "        pred = torch.max(y_pred, 1)[1]\n",
        "        prediction = pred.data.numpy()\n",
        "        accuracy = accuracy_score(Y_test, prediction)\n",
        "print(prediction)\n",
        "print(Y_test)\n",
        "print(f' Потери: {loss}, Accuracy: {accuracy}')\n"
      ]
    },
    {
      "cell_type": "code",
      "source": [
        "# a = [\"thanks for all your answers guys i know i should have checked the rsync manual but i would rather ge...\"]\n",
        "# b = [\"You’ve been selected to receive a free gift!\"]\n",
        "# c = [ \"Congratulations! You've been selected for a free vacation. Click here to claim your prize and enjoy a luxury getaway to a tropical paradise. Don't miss out!\"]\n",
        "# d = [\"Hello [Your Name], we're excited to inform you that you've won a complimentary vacation package to a beautiful destination. Click the link to redeem your prize and start planning your dream getaway. We can't wait for you to experience the luxury and relaxation of this amazing trip!\"]\n",
        "docs = [\"thanks for all your answers guys i know i should have checked the rsync manual but i would rather ge...\",\n",
        "\t\t\"You’ve been selected to receive a free gift!\",\n",
        "\t\t\"Congratulations! You've been selected for a free vacation. Click here to claim your prize and enjoy a luxury getaway to a tropical paradise. Don't miss out!\",\n",
        "\t\t\"Hello [Your Name], we're excited to inform you that you've won a complimentary vacation package to a beautiful destination. Click the link to redeem your prize and start planning your dream getaway. We can't wait for you to experience the luxury and relaxation of this amazing trip!\"]\n",
        "# create the tokenizer\n",
        "t = Tokenizer()\n",
        "\n",
        "t.fit_on_texts(docs)\n",
        "\n",
        "encoded_docs = t.texts_to_matrix(docs, mode='binary')\n",
        "print(encoded_docs)\n",
        "pred = model(torch.tensor(encoded_docs, dtype=torch.double))\n",
        "print(pred)"
      ],
      "metadata": {
        "colab": {
          "base_uri": "https://localhost:8080/",
          "height": 581
        },
        "id": "_36yTM-6CTQh",
        "outputId": "4610355f-80c6-44ae-8ca0-467376a42b83"
      },
      "execution_count": 114,
      "outputs": [
        {
          "output_type": "stream",
          "name": "stdout",
          "text": [
            "[[0. 0. 0. 1. 1. 1. 1. 0. 0. 0. 0. 0. 0. 0. 0. 0. 0. 0. 1. 1. 1. 1. 1. 1.\n",
            "  1. 1. 1. 1. 1. 1. 1. 1. 0. 0. 0. 0. 0. 0. 0. 0. 0. 0. 0. 0. 0. 0. 0. 0.\n",
            "  0. 0. 0. 0. 0. 0. 0. 0. 0. 0. 0. 0. 0. 0. 0. 0. 0. 0. 0. 0. 0.]\n",
            " [0. 1. 1. 0. 0. 0. 0. 0. 1. 1. 1. 0. 0. 0. 0. 0. 0. 0. 0. 0. 0. 0. 0. 0.\n",
            "  0. 0. 0. 0. 0. 0. 0. 0. 1. 1. 1. 0. 0. 0. 0. 0. 0. 0. 0. 0. 0. 0. 0. 0.\n",
            "  0. 0. 0. 0. 0. 0. 0. 0. 0. 0. 0. 0. 0. 0. 0. 0. 0. 0. 0. 0. 0.]\n",
            " [0. 1. 1. 1. 1. 0. 0. 1. 1. 1. 1. 1. 1. 1. 1. 1. 1. 0. 0. 0. 0. 0. 0. 0.\n",
            "  0. 0. 0. 0. 0. 0. 0. 0. 0. 0. 0. 1. 1. 1. 1. 1. 1. 1. 1. 1. 0. 0. 0. 0.\n",
            "  0. 0. 0. 0. 0. 0. 0. 0. 0. 0. 0. 0. 0. 0. 0. 0. 0. 0. 0. 0. 0.]\n",
            " [0. 1. 1. 1. 1. 0. 1. 1. 0. 0. 0. 1. 1. 1. 1. 1. 1. 1. 0. 0. 0. 0. 0. 0.\n",
            "  0. 0. 0. 0. 0. 0. 0. 0. 0. 0. 0. 0. 0. 0. 0. 0. 0. 0. 0. 0. 1. 1. 1. 1.\n",
            "  1. 1. 1. 1. 1. 1. 1. 1. 1. 1. 1. 1. 1. 1. 1. 1. 1. 1. 1. 1. 1.]]\n"
          ]
        },
        {
          "output_type": "error",
          "ename": "RuntimeError",
          "evalue": "ignored",
          "traceback": [
            "\u001b[0;31m---------------------------------------------------------------------------\u001b[0m",
            "\u001b[0;31mRuntimeError\u001b[0m                              Traceback (most recent call last)",
            "\u001b[0;32m<ipython-input-114-568ca82465c9>\u001b[0m in \u001b[0;36m<cell line: 16>\u001b[0;34m()\u001b[0m\n\u001b[1;32m     14\u001b[0m \u001b[0mencoded_docs\u001b[0m \u001b[0;34m=\u001b[0m \u001b[0mt\u001b[0m\u001b[0;34m.\u001b[0m\u001b[0mtexts_to_matrix\u001b[0m\u001b[0;34m(\u001b[0m\u001b[0mdocs\u001b[0m\u001b[0;34m,\u001b[0m \u001b[0mmode\u001b[0m\u001b[0;34m=\u001b[0m\u001b[0;34m'binary'\u001b[0m\u001b[0;34m)\u001b[0m\u001b[0;34m\u001b[0m\u001b[0;34m\u001b[0m\u001b[0m\n\u001b[1;32m     15\u001b[0m \u001b[0mprint\u001b[0m\u001b[0;34m(\u001b[0m\u001b[0mencoded_docs\u001b[0m\u001b[0;34m)\u001b[0m\u001b[0;34m\u001b[0m\u001b[0;34m\u001b[0m\u001b[0m\n\u001b[0;32m---> 16\u001b[0;31m \u001b[0mpred\u001b[0m \u001b[0;34m=\u001b[0m \u001b[0mmodel\u001b[0m\u001b[0;34m(\u001b[0m\u001b[0mtorch\u001b[0m\u001b[0;34m.\u001b[0m\u001b[0mtensor\u001b[0m\u001b[0;34m(\u001b[0m\u001b[0mencoded_docs\u001b[0m\u001b[0;34m,\u001b[0m \u001b[0mdtype\u001b[0m\u001b[0;34m=\u001b[0m\u001b[0mtorch\u001b[0m\u001b[0;34m.\u001b[0m\u001b[0mdouble\u001b[0m\u001b[0;34m)\u001b[0m\u001b[0;34m)\u001b[0m\u001b[0;34m\u001b[0m\u001b[0;34m\u001b[0m\u001b[0m\n\u001b[0m\u001b[1;32m     17\u001b[0m \u001b[0mprint\u001b[0m\u001b[0;34m(\u001b[0m\u001b[0mpred\u001b[0m\u001b[0;34m)\u001b[0m\u001b[0;34m\u001b[0m\u001b[0;34m\u001b[0m\u001b[0m\n",
            "\u001b[0;32m/usr/local/lib/python3.10/dist-packages/torch/nn/modules/module.py\u001b[0m in \u001b[0;36m_wrapped_call_impl\u001b[0;34m(self, *args, **kwargs)\u001b[0m\n\u001b[1;32m   1516\u001b[0m             \u001b[0;32mreturn\u001b[0m \u001b[0mself\u001b[0m\u001b[0;34m.\u001b[0m\u001b[0m_compiled_call_impl\u001b[0m\u001b[0;34m(\u001b[0m\u001b[0;34m*\u001b[0m\u001b[0margs\u001b[0m\u001b[0;34m,\u001b[0m \u001b[0;34m**\u001b[0m\u001b[0mkwargs\u001b[0m\u001b[0;34m)\u001b[0m  \u001b[0;31m# type: ignore[misc]\u001b[0m\u001b[0;34m\u001b[0m\u001b[0;34m\u001b[0m\u001b[0m\n\u001b[1;32m   1517\u001b[0m         \u001b[0;32melse\u001b[0m\u001b[0;34m:\u001b[0m\u001b[0;34m\u001b[0m\u001b[0;34m\u001b[0m\u001b[0m\n\u001b[0;32m-> 1518\u001b[0;31m             \u001b[0;32mreturn\u001b[0m \u001b[0mself\u001b[0m\u001b[0;34m.\u001b[0m\u001b[0m_call_impl\u001b[0m\u001b[0;34m(\u001b[0m\u001b[0;34m*\u001b[0m\u001b[0margs\u001b[0m\u001b[0;34m,\u001b[0m \u001b[0;34m**\u001b[0m\u001b[0mkwargs\u001b[0m\u001b[0;34m)\u001b[0m\u001b[0;34m\u001b[0m\u001b[0;34m\u001b[0m\u001b[0m\n\u001b[0m\u001b[1;32m   1519\u001b[0m \u001b[0;34m\u001b[0m\u001b[0m\n\u001b[1;32m   1520\u001b[0m     \u001b[0;32mdef\u001b[0m \u001b[0m_call_impl\u001b[0m\u001b[0;34m(\u001b[0m\u001b[0mself\u001b[0m\u001b[0;34m,\u001b[0m \u001b[0;34m*\u001b[0m\u001b[0margs\u001b[0m\u001b[0;34m,\u001b[0m \u001b[0;34m**\u001b[0m\u001b[0mkwargs\u001b[0m\u001b[0;34m)\u001b[0m\u001b[0;34m:\u001b[0m\u001b[0;34m\u001b[0m\u001b[0;34m\u001b[0m\u001b[0m\n",
            "\u001b[0;32m/usr/local/lib/python3.10/dist-packages/torch/nn/modules/module.py\u001b[0m in \u001b[0;36m_call_impl\u001b[0;34m(self, *args, **kwargs)\u001b[0m\n\u001b[1;32m   1525\u001b[0m                 \u001b[0;32mor\u001b[0m \u001b[0m_global_backward_pre_hooks\u001b[0m \u001b[0;32mor\u001b[0m \u001b[0m_global_backward_hooks\u001b[0m\u001b[0;34m\u001b[0m\u001b[0;34m\u001b[0m\u001b[0m\n\u001b[1;32m   1526\u001b[0m                 or _global_forward_hooks or _global_forward_pre_hooks):\n\u001b[0;32m-> 1527\u001b[0;31m             \u001b[0;32mreturn\u001b[0m \u001b[0mforward_call\u001b[0m\u001b[0;34m(\u001b[0m\u001b[0;34m*\u001b[0m\u001b[0margs\u001b[0m\u001b[0;34m,\u001b[0m \u001b[0;34m**\u001b[0m\u001b[0mkwargs\u001b[0m\u001b[0;34m)\u001b[0m\u001b[0;34m\u001b[0m\u001b[0;34m\u001b[0m\u001b[0m\n\u001b[0m\u001b[1;32m   1528\u001b[0m \u001b[0;34m\u001b[0m\u001b[0m\n\u001b[1;32m   1529\u001b[0m         \u001b[0;32mtry\u001b[0m\u001b[0;34m:\u001b[0m\u001b[0;34m\u001b[0m\u001b[0;34m\u001b[0m\u001b[0m\n",
            "\u001b[0;32m<ipython-input-39-b3c3972f6f77>\u001b[0m in \u001b[0;36mforward\u001b[0;34m(self, x)\u001b[0m\n\u001b[1;32m      7\u001b[0m \u001b[0;34m\u001b[0m\u001b[0m\n\u001b[1;32m      8\u001b[0m     \u001b[0;32mdef\u001b[0m \u001b[0mforward\u001b[0m\u001b[0;34m(\u001b[0m\u001b[0mself\u001b[0m\u001b[0;34m,\u001b[0m \u001b[0mx\u001b[0m\u001b[0;34m)\u001b[0m\u001b[0;34m:\u001b[0m\u001b[0;34m\u001b[0m\u001b[0;34m\u001b[0m\u001b[0m\n\u001b[0;32m----> 9\u001b[0;31m         \u001b[0mout\u001b[0m \u001b[0;34m=\u001b[0m \u001b[0mF\u001b[0m\u001b[0;34m.\u001b[0m\u001b[0mrelu\u001b[0m\u001b[0;34m(\u001b[0m\u001b[0mself\u001b[0m\u001b[0;34m.\u001b[0m\u001b[0ml1\u001b[0m\u001b[0;34m(\u001b[0m\u001b[0mx\u001b[0m\u001b[0;34m)\u001b[0m\u001b[0;34m)\u001b[0m\u001b[0;34m\u001b[0m\u001b[0;34m\u001b[0m\u001b[0m\n\u001b[0m\u001b[1;32m     10\u001b[0m         \u001b[0mout\u001b[0m \u001b[0;34m=\u001b[0m \u001b[0mF\u001b[0m\u001b[0;34m.\u001b[0m\u001b[0mrelu\u001b[0m\u001b[0;34m(\u001b[0m\u001b[0mself\u001b[0m\u001b[0;34m.\u001b[0m\u001b[0ml2\u001b[0m\u001b[0;34m(\u001b[0m\u001b[0mout\u001b[0m\u001b[0;34m)\u001b[0m\u001b[0;34m)\u001b[0m\u001b[0;34m\u001b[0m\u001b[0;34m\u001b[0m\u001b[0m\n\u001b[1;32m     11\u001b[0m         \u001b[0mout\u001b[0m \u001b[0;34m=\u001b[0m \u001b[0mself\u001b[0m\u001b[0;34m.\u001b[0m\u001b[0ml3\u001b[0m\u001b[0;34m(\u001b[0m\u001b[0mout\u001b[0m\u001b[0;34m)\u001b[0m\u001b[0;34m\u001b[0m\u001b[0;34m\u001b[0m\u001b[0m\n",
            "\u001b[0;32m/usr/local/lib/python3.10/dist-packages/torch/nn/modules/module.py\u001b[0m in \u001b[0;36m_wrapped_call_impl\u001b[0;34m(self, *args, **kwargs)\u001b[0m\n\u001b[1;32m   1516\u001b[0m             \u001b[0;32mreturn\u001b[0m \u001b[0mself\u001b[0m\u001b[0;34m.\u001b[0m\u001b[0m_compiled_call_impl\u001b[0m\u001b[0;34m(\u001b[0m\u001b[0;34m*\u001b[0m\u001b[0margs\u001b[0m\u001b[0;34m,\u001b[0m \u001b[0;34m**\u001b[0m\u001b[0mkwargs\u001b[0m\u001b[0;34m)\u001b[0m  \u001b[0;31m# type: ignore[misc]\u001b[0m\u001b[0;34m\u001b[0m\u001b[0;34m\u001b[0m\u001b[0m\n\u001b[1;32m   1517\u001b[0m         \u001b[0;32melse\u001b[0m\u001b[0;34m:\u001b[0m\u001b[0;34m\u001b[0m\u001b[0;34m\u001b[0m\u001b[0m\n\u001b[0;32m-> 1518\u001b[0;31m             \u001b[0;32mreturn\u001b[0m \u001b[0mself\u001b[0m\u001b[0;34m.\u001b[0m\u001b[0m_call_impl\u001b[0m\u001b[0;34m(\u001b[0m\u001b[0;34m*\u001b[0m\u001b[0margs\u001b[0m\u001b[0;34m,\u001b[0m \u001b[0;34m**\u001b[0m\u001b[0mkwargs\u001b[0m\u001b[0;34m)\u001b[0m\u001b[0;34m\u001b[0m\u001b[0;34m\u001b[0m\u001b[0m\n\u001b[0m\u001b[1;32m   1519\u001b[0m \u001b[0;34m\u001b[0m\u001b[0m\n\u001b[1;32m   1520\u001b[0m     \u001b[0;32mdef\u001b[0m \u001b[0m_call_impl\u001b[0m\u001b[0;34m(\u001b[0m\u001b[0mself\u001b[0m\u001b[0;34m,\u001b[0m \u001b[0;34m*\u001b[0m\u001b[0margs\u001b[0m\u001b[0;34m,\u001b[0m \u001b[0;34m**\u001b[0m\u001b[0mkwargs\u001b[0m\u001b[0;34m)\u001b[0m\u001b[0;34m:\u001b[0m\u001b[0;34m\u001b[0m\u001b[0;34m\u001b[0m\u001b[0m\n",
            "\u001b[0;32m/usr/local/lib/python3.10/dist-packages/torch/nn/modules/module.py\u001b[0m in \u001b[0;36m_call_impl\u001b[0;34m(self, *args, **kwargs)\u001b[0m\n\u001b[1;32m   1525\u001b[0m                 \u001b[0;32mor\u001b[0m \u001b[0m_global_backward_pre_hooks\u001b[0m \u001b[0;32mor\u001b[0m \u001b[0m_global_backward_hooks\u001b[0m\u001b[0;34m\u001b[0m\u001b[0;34m\u001b[0m\u001b[0m\n\u001b[1;32m   1526\u001b[0m                 or _global_forward_hooks or _global_forward_pre_hooks):\n\u001b[0;32m-> 1527\u001b[0;31m             \u001b[0;32mreturn\u001b[0m \u001b[0mforward_call\u001b[0m\u001b[0;34m(\u001b[0m\u001b[0;34m*\u001b[0m\u001b[0margs\u001b[0m\u001b[0;34m,\u001b[0m \u001b[0;34m**\u001b[0m\u001b[0mkwargs\u001b[0m\u001b[0;34m)\u001b[0m\u001b[0;34m\u001b[0m\u001b[0;34m\u001b[0m\u001b[0m\n\u001b[0m\u001b[1;32m   1528\u001b[0m \u001b[0;34m\u001b[0m\u001b[0m\n\u001b[1;32m   1529\u001b[0m         \u001b[0;32mtry\u001b[0m\u001b[0;34m:\u001b[0m\u001b[0;34m\u001b[0m\u001b[0;34m\u001b[0m\u001b[0m\n",
            "\u001b[0;32m/usr/local/lib/python3.10/dist-packages/torch/nn/modules/linear.py\u001b[0m in \u001b[0;36mforward\u001b[0;34m(self, input)\u001b[0m\n\u001b[1;32m    112\u001b[0m \u001b[0;34m\u001b[0m\u001b[0m\n\u001b[1;32m    113\u001b[0m     \u001b[0;32mdef\u001b[0m \u001b[0mforward\u001b[0m\u001b[0;34m(\u001b[0m\u001b[0mself\u001b[0m\u001b[0;34m,\u001b[0m \u001b[0minput\u001b[0m\u001b[0;34m:\u001b[0m \u001b[0mTensor\u001b[0m\u001b[0;34m)\u001b[0m \u001b[0;34m->\u001b[0m \u001b[0mTensor\u001b[0m\u001b[0;34m:\u001b[0m\u001b[0;34m\u001b[0m\u001b[0;34m\u001b[0m\u001b[0m\n\u001b[0;32m--> 114\u001b[0;31m         \u001b[0;32mreturn\u001b[0m \u001b[0mF\u001b[0m\u001b[0;34m.\u001b[0m\u001b[0mlinear\u001b[0m\u001b[0;34m(\u001b[0m\u001b[0minput\u001b[0m\u001b[0;34m,\u001b[0m \u001b[0mself\u001b[0m\u001b[0;34m.\u001b[0m\u001b[0mweight\u001b[0m\u001b[0;34m,\u001b[0m \u001b[0mself\u001b[0m\u001b[0;34m.\u001b[0m\u001b[0mbias\u001b[0m\u001b[0;34m)\u001b[0m\u001b[0;34m\u001b[0m\u001b[0;34m\u001b[0m\u001b[0m\n\u001b[0m\u001b[1;32m    115\u001b[0m \u001b[0;34m\u001b[0m\u001b[0m\n\u001b[1;32m    116\u001b[0m     \u001b[0;32mdef\u001b[0m \u001b[0mextra_repr\u001b[0m\u001b[0;34m(\u001b[0m\u001b[0mself\u001b[0m\u001b[0;34m)\u001b[0m \u001b[0;34m->\u001b[0m \u001b[0mstr\u001b[0m\u001b[0;34m:\u001b[0m\u001b[0;34m\u001b[0m\u001b[0;34m\u001b[0m\u001b[0m\n",
            "\u001b[0;31mRuntimeError\u001b[0m: mat1 and mat2 must have the same dtype, but got Double and Float"
          ]
        }
      ]
    },
    {
      "cell_type": "code",
      "execution_count": null,
      "metadata": {
        "id": "PlvYANzF9vBe"
      },
      "outputs": [],
      "source": [
        "from sklearn.metrics import roc_curve, roc_auc_score"
      ]
    },
    {
      "cell_type": "code",
      "execution_count": null,
      "metadata": {
        "colab": {
          "base_uri": "https://localhost:8080/",
          "height": 449
        },
        "id": "3Xj02Yr7yxaB",
        "outputId": "6f937ca8-c4fc-4e71-f38f-1ccbba5b65fb"
      },
      "outputs": [
        {
          "data": {
            "image/png": "[encoded data removed]",
            "text/plain": [
              "<Figure size 640x480 with 1 Axes>"
            ]
          },
          "metadata": {},
          "output_type": "display_data"
        }
      ],
      "source": [
        "softmax = F.softmax(net_out, dim=1)\n",
        "probabilities = softmax.detach().cpu().numpy()\n",
        "auc_score = roc_auc_score(Y_test, probabilities[:, 1])\n",
        "fpr, tpr, _ = roc_curve(Y_test, probabilities[:, 1])\n",
        "plt.plot (fpr,tpr,label= f\" AUC = \"+str(auc))\n",
        "plt.xlabel(\"Ложно-положительный оценка\")\n",
        "plt.ylabel(\"Истинно-положительные оценка\")\n",
        "plt.legend(loc=4)\n",
        "plt.show()"
      ]
    },
    {
      "cell_type": "markdown",
      "metadata": {
        "id": "LrmZMpby_ZK1"
      },
      "source": [
        "## Трансформер"
      ]
    },
    {
      "cell_type": "code",
      "execution_count": 1,
      "metadata": {
        "id": "GvKIOIPp_ewr"
      },
      "outputs": [],
      "source": [
        "%pip install -q accelerate"
      ]
    },
    {
      "cell_type": "code",
      "execution_count": 2,
      "metadata": {
        "id": "Z5K0y4kjSGwp"
      },
      "outputs": [],
      "source": [
        "import accelerate"
      ]
    },
    {
      "cell_type": "code",
      "execution_count": 14,
      "metadata": {
        "colab": {
          "base_uri": "https://localhost:8080/",
          "height": 36
        },
        "id": "w164AFA5SLEA",
        "outputId": "2df85131-4225-4318-f913-c49db213b476"
      },
      "outputs": [
        {
          "output_type": "execute_result",
          "data": {
            "text/plain": [
              "'0.25.0'"
            ],
            "application/vnd.google.colaboratory.intrinsic+json": {
              "type": "string"
            }
          },
          "metadata": {},
          "execution_count": 14
        }
      ],
      "source": [
        "accelerate.__version__"
      ]
    },
    {
      "cell_type": "code",
      "execution_count": 15,
      "metadata": {
        "colab": {
          "base_uri": "https://localhost:8080/"
        },
        "id": "6b1XcBZeEbMu",
        "outputId": "54715348-356d-4399-ccac-f5ce17db25ea"
      },
      "outputs": [
        {
          "output_type": "stream",
          "name": "stdout",
          "text": [
            "Requirement already satisfied: transformers in /usr/local/lib/python3.10/dist-packages (4.35.2)\n",
            "Requirement already satisfied: filelock in /usr/local/lib/python3.10/dist-packages (from transformers) (3.13.1)\n",
            "Requirement already satisfied: huggingface-hub<1.0,>=0.16.4 in /usr/local/lib/python3.10/dist-packages (from transformers) (0.19.4)\n",
            "Requirement already satisfied: numpy>=1.17 in /usr/local/lib/python3.10/dist-packages (from transformers) (1.23.5)\n",
            "Requirement already satisfied: packaging>=20.0 in /usr/local/lib/python3.10/dist-packages (from transformers) (23.2)\n",
            "Requirement already satisfied: pyyaml>=5.1 in /usr/local/lib/python3.10/dist-packages (from transformers) (6.0.1)\n",
            "Requirement already satisfied: regex!=2019.12.17 in /usr/local/lib/python3.10/dist-packages (from transformers) (2023.6.3)\n",
            "Requirement already satisfied: requests in /usr/local/lib/python3.10/dist-packages (from transformers) (2.31.0)\n",
            "Requirement already satisfied: tokenizers<0.19,>=0.14 in /usr/local/lib/python3.10/dist-packages (from transformers) (0.15.0)\n",
            "Requirement already satisfied: safetensors>=0.3.1 in /usr/local/lib/python3.10/dist-packages (from transformers) (0.4.1)\n",
            "Requirement already satisfied: tqdm>=4.27 in /usr/local/lib/python3.10/dist-packages (from transformers) (4.66.1)\n",
            "Requirement already satisfied: fsspec>=2023.5.0 in /usr/local/lib/python3.10/dist-packages (from huggingface-hub<1.0,>=0.16.4->transformers) (2023.6.0)\n",
            "Requirement already satisfied: typing-extensions>=3.7.4.3 in /usr/local/lib/python3.10/dist-packages (from huggingface-hub<1.0,>=0.16.4->transformers) (4.5.0)\n",
            "Requirement already satisfied: charset-normalizer<4,>=2 in /usr/local/lib/python3.10/dist-packages (from requests->transformers) (3.3.2)\n",
            "Requirement already satisfied: idna<4,>=2.5 in /usr/local/lib/python3.10/dist-packages (from requests->transformers) (3.6)\n",
            "Requirement already satisfied: urllib3<3,>=1.21.1 in /usr/local/lib/python3.10/dist-packages (from requests->transformers) (2.0.7)\n",
            "Requirement already satisfied: certifi>=2017.4.17 in /usr/local/lib/python3.10/dist-packages (from requests->transformers) (2023.11.17)\n"
          ]
        }
      ],
      "source": [
        "%pip install transformers"
      ]
    },
    {
      "cell_type": "code",
      "execution_count": 16,
      "metadata": {
        "id": "fmLnpOPtFefK"
      },
      "outputs": [],
      "source": [
        "import transformers as trfm"
      ]
    },
    {
      "cell_type": "code",
      "execution_count": 17,
      "metadata": {
        "id": "VjgtWdlZGz1a"
      },
      "outputs": [],
      "source": [
        "from transformers import AutoModelForSequenceClassification, AutoTokenizer"
      ]
    },
    {
      "cell_type": "code",
      "execution_count": 18,
      "metadata": {
        "id": "LJ_MQwK2JsCR"
      },
      "outputs": [],
      "source": [
        "from transformers import Trainer, TrainingArguments"
      ]
    },
    {
      "cell_type": "code",
      "execution_count": 57,
      "metadata": {
        "id": "GHv_wD38PPAi"
      },
      "outputs": [],
      "source": [
        "from torch.utils.data import Dataset, DataLoader"
      ]
    },
    {
      "cell_type": "code",
      "execution_count": 19,
      "metadata": {
        "colab": {
          "base_uri": "https://localhost:8080/"
        },
        "id": "eFWnvdyHCDfo",
        "outputId": "b8c88f4a-2da6-413a-ea8c-4c1192127c42"
      },
      "outputs": [
        {
          "output_type": "stream",
          "name": "stderr",
          "text": [
            "Some weights of RobertaForSequenceClassification were not initialized from the model checkpoint at distilroberta-base and are newly initialized: ['classifier.dense.weight', 'classifier.dense.bias', 'classifier.out_proj.bias', 'classifier.out_proj.weight']\n",
            "You should probably TRAIN this model on a down-stream task to be able to use it for predictions and inference.\n"
          ]
        }
      ],
      "source": [
        "tokenizer = AutoTokenizer.from_pretrained('distilroberta-base')\n",
        "model = AutoModelForSequenceClassification.from_pretrained('distilroberta-base')"
      ]
    },
    {
      "cell_type": "code",
      "source": [
        "from datasets import Dataset"
      ],
      "metadata": {
        "id": "J_4RfH_BYHM0"
      },
      "execution_count": 140,
      "outputs": []
    },
    {
      "cell_type": "code",
      "source": [
        "train, test = train_test_split(dfa, shuffle=True,  random_state=34)"
      ],
      "metadata": {
        "id": "p0n3Q0y6TJys"
      },
      "execution_count": 192,
      "outputs": []
    },
    {
      "cell_type": "code",
      "source": [
        "data_dict = train.to_dict(orient='list')"
      ],
      "metadata": {
        "id": "wfi8eoO2Ycfx"
      },
      "execution_count": 193,
      "outputs": []
    },
    {
      "cell_type": "code",
      "source": [
        "datatrain = Dataset.from_dict(data_dict)"
      ],
      "metadata": {
        "id": "Zq_8AAUiYzoF"
      },
      "execution_count": 194,
      "outputs": []
    },
    {
      "cell_type": "code",
      "source": [
        "d_dict = test.to_dict(orient='list')"
      ],
      "metadata": {
        "id": "ntgs-NTyY8IX"
      },
      "execution_count": 195,
      "outputs": []
    },
    {
      "cell_type": "code",
      "source": [
        "datatest = Dataset.from_dict(d_dict)\n",
        "print(datatest[:10])"
      ],
      "metadata": {
        "colab": {
          "base_uri": "https://localhost:8080/"
        },
        "id": "07LmyO7OZot2",
        "outputId": "5e857c10-5885-428a-b406-9a7f01a79224"
      },
      "execution_count": 196,
      "outputs": [
        {
          "output_type": "stream",
          "name": "stdout",
          "text": [
            "{'label': [1, 0, 0, 0, 0, 1, 0, 0, 0, 0], 'sms': ['Bored housewives! Chat n day of the month now! 0871750. 77. 11! BT - national rate 10p / minute exclusively from landlines!', 'Moji i love you more than words. Have a rich day\\n', \"Sorry, I'll call later In meeting.\\n\", 'Oh... Lk tt den we take e one tt ends at cine lor... Dun wan yogasana oso can... \\n', 'Gettin rdy to ship comp\\n', 'URGENT! We are trying to contact U. Todays draw shows that you have won a £2000 prize GUARANTEED. Call 09066358361 from land line. Claim Y87. Valid 12hrs only\\n', 'I am in bus on the way to calicut\\n', 'S da..al r above  &lt;#&gt;\\n', \"I'll text carlos and let you know, hang on\\n\", 'Only just got this message, not ignoring you. Yes, i was. Shopping that is\\n']}\n"
          ]
        }
      ]
    },
    {
      "cell_type": "code",
      "execution_count": 197,
      "metadata": {
        "colab": {
          "base_uri": "https://localhost:8080/",
          "height": 150,
          "referenced_widgets": [
            "2132c01131164cf7bdcb41a24b675deb",
            "3998736d86ff49559094dc1637c4cfd3",
            "84994f54444d4c3889f7c0697942b5a7",
            "3cc0c9ebfd0945ddb8d8d6e35389edad",
            "10d076ffc76d4189a7c10aaab5c5cae4",
            "73f537d5bb51479b817174a8bc116c6f",
            "dec40cb1fce94af4997cc0d632c67c9d",
            "a29ed40566d7431e8f14696e1671afce",
            "d12d51170d354d78b4978389baa8f36c",
            "d4569ca845904831ad1ed61d03ebd060",
            "cdf5e7ccc3354cfa80dbd5090e2a218f",
            "23cb4d38d3494d4485ef7c422506db99",
            "2472869d826948e48235c17bf54e099c",
            "e1cd05c459044fffb67a76d4c4eb00a2",
            "05dabc82ab3a4ca5b56c3266c08941a3",
            "5f2c3cf621d44bb185e7e5c53e72282c",
            "9b2176b6dac4489580adde2e05c3deea",
            "3ac3181991b24f47b05227b4f1db471f",
            "695933891c0549d3be30cf9ca00775cd",
            "124be8286f20428288dd52a13f67c318",
            "296467c3094742ff943b419260e41de2",
            "f652a4ad15f34a8cb7174b77ce6e454d"
          ]
        },
        "id": "HYQZcQa0KXpx",
        "outputId": "0d979611-76fb-4c7d-9e88-e7cf1510cc65"
      },
      "outputs": [
        {
          "output_type": "display_data",
          "data": {
            "text/plain": [
              "Map:   0%|          | 0/3765 [00:00<?, ? examples/s]"
            ],
            "application/vnd.jupyter.widget-view+json": {
              "version_major": 2,
              "version_minor": 0,
              "model_id": "2132c01131164cf7bdcb41a24b675deb"
            }
          },
          "metadata": {}
        },
        {
          "output_type": "display_data",
          "data": {
            "text/plain": [
              "Map:   0%|          | 0/1256 [00:00<?, ? examples/s]"
            ],
            "application/vnd.jupyter.widget-view+json": {
              "version_major": 2,
              "version_minor": 0,
              "model_id": "23cb4d38d3494d4485ef7c422506db99"
            }
          },
          "metadata": {}
        },
        {
          "output_type": "execute_result",
          "data": {
            "text/plain": [
              "Dataset({\n",
              "    features: ['label', 'sms', 'input_ids', 'attention_mask'],\n",
              "    num_rows: 1256\n",
              "})"
            ]
          },
          "metadata": {},
          "execution_count": 197
        }
      ],
      "source": [
        "def tokenize_function(examples):\n",
        "    return tokenizer(examples['sms'], padding='max_length', truncation=True, max_length = 512)\n",
        "train = datatrain.map(tokenize_function, batched=True)\n",
        "train\n",
        "test = datatest.map(tokenize_function, batched=True)\n",
        "test\n",
        "# inputs_train = tokenize_function(X_train)\n",
        "# inputs_train['labels'] = y_train\n",
        "# inputs_test = tokenize_function(X_test)\n",
        "# inputs_test['labels'] = y_test\n",
        "# tokenizer(X_train[:1])\n",
        "\n",
        "# print(tokenized)\n",
        "# print(inputs_train.keys())"
      ]
    },
    {
      "cell_type": "code",
      "source": [
        "train = train.rename_column('label', 'labels')"
      ],
      "metadata": {
        "id": "_U10s7Y2att5"
      },
      "execution_count": 198,
      "outputs": []
    },
    {
      "cell_type": "code",
      "source": [
        "torch.tensor(train['labels'])"
      ],
      "metadata": {
        "colab": {
          "base_uri": "https://localhost:8080/"
        },
        "id": "IUrzBk1pjpdr",
        "outputId": "3165a8cd-d03a-4f33-9032-405398e74c41"
      },
      "execution_count": 222,
      "outputs": [
        {
          "output_type": "execute_result",
          "data": {
            "text/plain": [
              "tensor([0, 1, 0,  ..., 0, 0, 1])"
            ]
          },
          "metadata": {},
          "execution_count": 222
        }
      ]
    },
    {
      "cell_type": "code",
      "source": [
        "train"
      ],
      "metadata": {
        "colab": {
          "base_uri": "https://localhost:8080/"
        },
        "id": "4uOKLqTLkJvT",
        "outputId": "7c2a20c6-5da8-406f-efe7-bedfa9c148fd"
      },
      "execution_count": 228,
      "outputs": [
        {
          "output_type": "execute_result",
          "data": {
            "text/plain": [
              "Dataset({\n",
              "    features: ['labels', 'sms', 'input_ids', 'attention_mask'],\n",
              "    num_rows: 3765\n",
              "})"
            ]
          },
          "metadata": {},
          "execution_count": 228
        }
      ]
    },
    {
      "cell_type": "code",
      "source": [
        "class_weights = torch.tensor(1 - (dfa[\"label\"].value_counts().sort_index() / len(dfa))).float()\n",
        "class_weights"
      ],
      "metadata": {
        "colab": {
          "base_uri": "https://localhost:8080/"
        },
        "id": "4NRYfi6DT9vq",
        "outputId": "03017d10-3884-4a1a-8229-4aba869acdd7"
      },
      "execution_count": 210,
      "outputs": [
        {
          "output_type": "execute_result",
          "data": {
            "text/plain": [
              "tensor([0.2976, 0.7024])"
            ]
          },
          "metadata": {},
          "execution_count": 210
        }
      ]
    },
    {
      "cell_type": "code",
      "execution_count": 229,
      "metadata": {
        "id": "P4gi6d_sbFXH"
      },
      "outputs": [],
      "source": [
        "class Trainer(Trainer):\n",
        "  def compute_loss(self, model, inputs, return_outputs=False):\n",
        "    outputs = model(**inputs)\n",
        "    logits = outputs.get(\"logits\")\n",
        "    labels = inputs.get (\"labels\")\n",
        "    loss_func = nn.CrossEntropyLoss(class_weights)\n",
        "    loss = loss_func(logits, labels)\n",
        "    return (loss, outputs) if return_outputs else loss"
      ]
    },
    {
      "cell_type": "code",
      "execution_count": 26,
      "metadata": {
        "id": "CUqLpGqrbxJD"
      },
      "outputs": [],
      "source": [
        "%pip install -q evaluate"
      ]
    },
    {
      "cell_type": "code",
      "execution_count": 200,
      "metadata": {
        "id": "YxIRMy46bvG7"
      },
      "outputs": [],
      "source": [
        "import evaluate\n",
        "import numpy as np\n",
        "metric = evaluate.load(\"f1\")\n",
        "\n",
        "def compute_metrics(Trainer):\n",
        "    predictions, labels = eval_pred\n",
        "    predictions = np.argmax(predictions, axis=1)\n",
        "    return metric.compute(predictions=predictions, references=labels, average=\"weighted\")"
      ]
    },
    {
      "cell_type": "code",
      "execution_count": 217,
      "metadata": {
        "id": "3zooANzyeIq9"
      },
      "outputs": [],
      "source": [
        "# batch_size = 64\n",
        "output_dir = \"outputs\"\n",
        "training_args = TrainingArguments(output_dir=output_dir,\n",
        "                                  num_train_epochs=2\n",
        "                                  # num_train_epochs=5,\n",
        "                                  # per_device_train_batch_size=batch_size,\n",
        "                                  # weight_decay=0.01,\n",
        "                                  # evaluation_strategy=\"epoch\"\n",
        ")\n",
        "# training_args = TrainingArguments(\n",
        "#     output_dir='results',\n",
        "# )"
      ]
    },
    {
      "cell_type": "code",
      "execution_count": 230,
      "metadata": {
        "id": "F2ihxZ5lKPGi"
      },
      "outputs": [],
      "source": [
        "trainer = Trainer(\n",
        "    model=model,\n",
        "    args=training_args,\n",
        "    train_dataset=train,\n",
        "    # eval_dataset=test\n",
        ")\n"
      ]
    },
    {
      "cell_type": "code",
      "source": [
        "trainer.train()"
      ],
      "metadata": {
        "colab": {
          "base_uri": "https://localhost:8080/",
          "height": 75
        },
        "id": "NdAmfqdZeo8g",
        "outputId": "2a3394f3-8b26-47e0-b784-85a0b82974af"
      },
      "execution_count": null,
      "outputs": [
        {
          "output_type": "display_data",
          "data": {
            "text/plain": [
              "<IPython.core.display.HTML object>"
            ],
            "text/html": [
              "\n",
              "    <div>\n",
              "      \n",
              "      <progress value='4' max='1413' style='width:300px; height:20px; vertical-align: middle;'></progress>\n",
              "      [   4/1413 00:57 < 11:10:24, 0.04 it/s, Epoch 0.01/3]\n",
              "    </div>\n",
              "    <table border=\"1\" class=\"dataframe\">\n",
              "  <thead>\n",
              " <tr style=\"text-align: left;\">\n",
              "      <th>Step</th>\n",
              "      <th>Training Loss</th>\n",
              "    </tr>\n",
              "  </thead>\n",
              "  <tbody>\n",
              "  </tbody>\n",
              "</table><p>"
            ]
          },
          "metadata": {}
        }
      ]
    },
    {
      "cell_type": "code",
      "execution_count": null,
      "metadata": {
        "id": "f6v_MZSQ3FDH"
      },
      "outputs": [],
      "source": []
    },
    {
      "cell_type": "code",
      "execution_count": null,
      "metadata": {
        "colab": {
          "base_uri": "https://localhost:8080/",
          "height": 210
        },
        "id": "cVOZq0gqkEFT",
        "outputId": "83db3407-34e2-4de5-9f90-b7c2d473f233"
      },
      "outputs": [
        {
          "ename": "NameError",
          "evalue": "ignored",
          "output_type": "error",
          "traceback": [
            "\u001b[0;31m---------------------------------------------------------------------------\u001b[0m",
            "\u001b[0;31mNameError\u001b[0m                                 Traceback (most recent call last)",
            "\u001b[0;32m<ipython-input-81-41877f5594ad>\u001b[0m in \u001b[0;36m<cell line: 15>\u001b[0;34m()\u001b[0m\n\u001b[1;32m     13\u001b[0m     \u001b[0;32mreturn\u001b[0m \u001b[0mloss\u001b[0m\u001b[0;34m\u001b[0m\u001b[0;34m\u001b[0m\u001b[0m\n\u001b[1;32m     14\u001b[0m \u001b[0;34m\u001b[0m\u001b[0m\n\u001b[0;32m---> 15\u001b[0;31m \u001b[0mloss\u001b[0m \u001b[0;34m=\u001b[0m \u001b[0mtrain_model\u001b[0m\u001b[0;34m(\u001b[0m\u001b[0mmodel\u001b[0m\u001b[0;34m,\u001b[0m \u001b[0minput_ids_train\u001b[0m\u001b[0;34m,\u001b[0m \u001b[0mattention_mask_train\u001b[0m\u001b[0;34m,\u001b[0m \u001b[0mlabels_train\u001b[0m\u001b[0;34m)\u001b[0m\u001b[0;34m\u001b[0m\u001b[0;34m\u001b[0m\u001b[0m\n\u001b[0m",
            "\u001b[0;31mNameError\u001b[0m: name 'input_ids_train' is not defined"
          ]
        }
      ],
      "source": [
        "# def train_model(model, input_ids_train, attention_mask_train, labels_train):\n",
        "#     model.train()\n",
        "#     batch_size = 32\n",
        "#     for i in range(0, len(input_ids_train), batch_size):\n",
        "#         input_ids_batch = input_ids_train[i:i+batch_size]\n",
        "#         attention_mask_batch = attention_mask_train[i:i+batch_size]\n",
        "#         labels_batch = labels_train[i:i+batch_size]\n",
        "#         outputs = model(input_ids_batch, attention_mask_batch, labels_batch)\n",
        "#         loss = outputs.loss\n",
        "#         optimizer.zero_grad()\n",
        "#         loss.backward()\n",
        "#         optimizer.step()\n",
        "#     return loss\n",
        "\n",
        "# loss = train_model(model, input_ids_train, attention_mask_train, labels_train)"
      ]
    },
    {
      "cell_type": "code",
      "execution_count": null,
      "metadata": {
        "id": "4bocptGh2_SX"
      },
      "outputs": [],
      "source": [
        "class Dataset(torch.utils.data.Dataset):\n",
        "    def __init__(self, encodings, labels):\n",
        "        self.encodings = encodings\n",
        "        self.labels = labels\n",
        "\n",
        "    def __getitem__(self, idx):\n",
        "        item = {k: torch.tensor(v[idx]) for k, v in self.encodings.items()}\n",
        "        item[\"labels\"] = torch.tensor([self.labels[idx]])\n",
        "        return item\n",
        "\n",
        "    def __len__(self):\n",
        "        return len(self.labels)"
      ]
    },
    {
      "cell_type": "code",
      "execution_count": null,
      "metadata": {
        "id": "6ofW-hwueaMx"
      },
      "outputs": [],
      "source": [
        "model.eval()\n",
        "\n",
        "# Evaluate loss and accuracy on the test set\n",
        "with torch.no_grad():\n",
        "    test_outputs = model(input_ids=input_ids_test, attention_mask=attention_mask_test, labels=labels_test)\n",
        "    test_loss = test_outputs.loss\n",
        "    predicted_labels = torch.argmax(test_outputs.logits, dim=1)\n",
        "    accuracy = (predicted_labels == labels_test).sum().item() / len(labels_test)\n",
        "\n",
        "print(f\"Потери: {test_loss:.4f}, Accuracy: {accuracy * 100:.2f}%\")"
      ]
    }
  ],
  "metadata": {
    "colab": {
      "provenance": [],
      "authorship_tag": "ABX9TyOaVv5LIDjQTs/wGQViwwKB",
      "include_colab_link": true
    },
    "kernelspec": {
      "display_name": "Python 3",
      "name": "python3"
    },
    "language_info": {
      "name": "python"
    },
    "widgets": {
      "application/vnd.jupyter.widget-state+json": {
        "2132c01131164cf7bdcb41a24b675deb": {
          "model_module": "@jupyter-widgets/controls",
          "model_name": "HBoxModel",
          "model_module_version": "1.5.0",
          "state": {
            "_dom_classes": [],
            "_model_module": "@jupyter-widgets/controls",
            "_model_module_version": "1.5.0",
            "_model_name": "HBoxModel",
            "_view_count": null,
            "_view_module": "@jupyter-widgets/controls",
            "_view_module_version": "1.5.0",
            "_view_name": "HBoxView",
            "box_style": "",
            "children": [
              "IPY_MODEL_3998736d86ff49559094dc1637c4cfd3",
              "IPY_MODEL_84994f54444d4c3889f7c0697942b5a7",
              "IPY_MODEL_3cc0c9ebfd0945ddb8d8d6e35389edad"
            ],
            "layout": "IPY_MODEL_10d076ffc76d4189a7c10aaab5c5cae4"
          }
        },
        "3998736d86ff49559094dc1637c4cfd3": {
          "model_module": "@jupyter-widgets/controls",
          "model_name": "HTMLModel",
          "model_module_version": "1.5.0",
          "state": {
            "_dom_classes": [],
            "_model_module": "@jupyter-widgets/controls",
            "_model_module_version": "1.5.0",
            "_model_name": "HTMLModel",
            "_view_count": null,
            "_view_module": "@jupyter-widgets/controls",
            "_view_module_version": "1.5.0",
            "_view_name": "HTMLView",
            "description": "",
            "description_tooltip": null,
            "layout": "IPY_MODEL_73f537d5bb51479b817174a8bc116c6f",
            "placeholder": "​",
            "style": "IPY_MODEL_dec40cb1fce94af4997cc0d632c67c9d",
            "value": "Map: 100%"
          }
        },
        "84994f54444d4c3889f7c0697942b5a7": {
          "model_module": "@jupyter-widgets/controls",
          "model_name": "FloatProgressModel",
          "model_module_version": "1.5.0",
          "state": {
            "_dom_classes": [],
            "_model_module": "@jupyter-widgets/controls",
            "_model_module_version": "1.5.0",
            "_model_name": "FloatProgressModel",
            "_view_count": null,
            "_view_module": "@jupyter-widgets/controls",
            "_view_module_version": "1.5.0",
            "_view_name": "ProgressView",
            "bar_style": "success",
            "description": "",
            "description_tooltip": null,
            "layout": "IPY_MODEL_a29ed40566d7431e8f14696e1671afce",
            "max": 3765,
            "min": 0,
            "orientation": "horizontal",
            "style": "IPY_MODEL_d12d51170d354d78b4978389baa8f36c",
            "value": 3765
          }
        },
        "3cc0c9ebfd0945ddb8d8d6e35389edad": {
          "model_module": "@jupyter-widgets/controls",
          "model_name": "HTMLModel",
          "model_module_version": "1.5.0",
          "state": {
            "_dom_classes": [],
            "_model_module": "@jupyter-widgets/controls",
            "_model_module_version": "1.5.0",
            "_model_name": "HTMLModel",
            "_view_count": null,
            "_view_module": "@jupyter-widgets/controls",
            "_view_module_version": "1.5.0",
            "_view_name": "HTMLView",
            "description": "",
            "description_tooltip": null,
            "layout": "IPY_MODEL_d4569ca845904831ad1ed61d03ebd060",
            "placeholder": "​",
            "style": "IPY_MODEL_cdf5e7ccc3354cfa80dbd5090e2a218f",
            "value": " 3765/3765 [00:01&lt;00:00, 2289.58 examples/s]"
          }
        },
        "10d076ffc76d4189a7c10aaab5c5cae4": {
          "model_module": "@jupyter-widgets/base",
          "model_name": "LayoutModel",
          "model_module_version": "1.2.0",
          "state": {
            "_model_module": "@jupyter-widgets/base",
            "_model_module_version": "1.2.0",
            "_model_name": "LayoutModel",
            "_view_count": null,
            "_view_module": "@jupyter-widgets/base",
            "_view_module_version": "1.2.0",
            "_view_name": "LayoutView",
            "align_content": null,
            "align_items": null,
            "align_self": null,
            "border": null,
            "bottom": null,
            "display": null,
            "flex": null,
            "flex_flow": null,
            "grid_area": null,
            "grid_auto_columns": null,
            "grid_auto_flow": null,
            "grid_auto_rows": null,
            "grid_column": null,
            "grid_gap": null,
            "grid_row": null,
            "grid_template_areas": null,
            "grid_template_columns": null,
            "grid_template_rows": null,
            "height": null,
            "justify_content": null,
            "justify_items": null,
            "left": null,
            "margin": null,
            "max_height": null,
            "max_width": null,
            "min_height": null,
            "min_width": null,
            "object_fit": null,
            "object_position": null,
            "order": null,
            "overflow": null,
            "overflow_x": null,
            "overflow_y": null,
            "padding": null,
            "right": null,
            "top": null,
            "visibility": null,
            "width": null
          }
        },
        "73f537d5bb51479b817174a8bc116c6f": {
          "model_module": "@jupyter-widgets/base",
          "model_name": "LayoutModel",
          "model_module_version": "1.2.0",
          "state": {
            "_model_module": "@jupyter-widgets/base",
            "_model_module_version": "1.2.0",
            "_model_name": "LayoutModel",
            "_view_count": null,
            "_view_module": "@jupyter-widgets/base",
            "_view_module_version": "1.2.0",
            "_view_name": "LayoutView",
            "align_content": null,
            "align_items": null,
            "align_self": null,
            "border": null,
            "bottom": null,
            "display": null,
            "flex": null,
            "flex_flow": null,
            "grid_area": null,
            "grid_auto_columns": null,
            "grid_auto_flow": null,
            "grid_auto_rows": null,
            "grid_column": null,
            "grid_gap": null,
            "grid_row": null,
            "grid_template_areas": null,
            "grid_template_columns": null,
            "grid_template_rows": null,
            "height": null,
            "justify_content": null,
            "justify_items": null,
            "left": null,
            "margin": null,
            "max_height": null,
            "max_width": null,
            "min_height": null,
            "min_width": null,
            "object_fit": null,
            "object_position": null,
            "order": null,
            "overflow": null,
            "overflow_x": null,
            "overflow_y": null,
            "padding": null,
            "right": null,
            "top": null,
            "visibility": null,
            "width": null
          }
        },
        "dec40cb1fce94af4997cc0d632c67c9d": {
          "model_module": "@jupyter-widgets/controls",
          "model_name": "DescriptionStyleModel",
          "model_module_version": "1.5.0",
          "state": {
            "_model_module": "@jupyter-widgets/controls",
            "_model_module_version": "1.5.0",
            "_model_name": "DescriptionStyleModel",
            "_view_count": null,
            "_view_module": "@jupyter-widgets/base",
            "_view_module_version": "1.2.0",
            "_view_name": "StyleView",
            "description_width": ""
          }
        },
        "a29ed40566d7431e8f14696e1671afce": {
          "model_module": "@jupyter-widgets/base",
          "model_name": "LayoutModel",
          "model_module_version": "1.2.0",
          "state": {
            "_model_module": "@jupyter-widgets/base",
            "_model_module_version": "1.2.0",
            "_model_name": "LayoutModel",
            "_view_count": null,
            "_view_module": "@jupyter-widgets/base",
            "_view_module_version": "1.2.0",
            "_view_name": "LayoutView",
            "align_content": null,
            "align_items": null,
            "align_self": null,
            "border": null,
            "bottom": null,
            "display": null,
            "flex": null,
            "flex_flow": null,
            "grid_area": null,
            "grid_auto_columns": null,
            "grid_auto_flow": null,
            "grid_auto_rows": null,
            "grid_column": null,
            "grid_gap": null,
            "grid_row": null,
            "grid_template_areas": null,
            "grid_template_columns": null,
            "grid_template_rows": null,
            "height": null,
            "justify_content": null,
            "justify_items": null,
            "left": null,
            "margin": null,
            "max_height": null,
            "max_width": null,
            "min_height": null,
            "min_width": null,
            "object_fit": null,
            "object_position": null,
            "order": null,
            "overflow": null,
            "overflow_x": null,
            "overflow_y": null,
            "padding": null,
            "right": null,
            "top": null,
            "visibility": null,
            "width": null
          }
        },
        "d12d51170d354d78b4978389baa8f36c": {
          "model_module": "@jupyter-widgets/controls",
          "model_name": "ProgressStyleModel",
          "model_module_version": "1.5.0",
          "state": {
            "_model_module": "@jupyter-widgets/controls",
            "_model_module_version": "1.5.0",
            "_model_name": "ProgressStyleModel",
            "_view_count": null,
            "_view_module": "@jupyter-widgets/base",
            "_view_module_version": "1.2.0",
            "_view_name": "StyleView",
            "bar_color": null,
            "description_width": ""
          }
        },
        "d4569ca845904831ad1ed61d03ebd060": {
          "model_module": "@jupyter-widgets/base",
          "model_name": "LayoutModel",
          "model_module_version": "1.2.0",
          "state": {
            "_model_module": "@jupyter-widgets/base",
            "_model_module_version": "1.2.0",
            "_model_name": "LayoutModel",
            "_view_count": null,
            "_view_module": "@jupyter-widgets/base",
            "_view_module_version": "1.2.0",
            "_view_name": "LayoutView",
            "align_content": null,
            "align_items": null,
            "align_self": null,
            "border": null,
            "bottom": null,
            "display": null,
            "flex": null,
            "flex_flow": null,
            "grid_area": null,
            "grid_auto_columns": null,
            "grid_auto_flow": null,
            "grid_auto_rows": null,
            "grid_column": null,
            "grid_gap": null,
            "grid_row": null,
            "grid_template_areas": null,
            "grid_template_columns": null,
            "grid_template_rows": null,
            "height": null,
            "justify_content": null,
            "justify_items": null,
            "left": null,
            "margin": null,
            "max_height": null,
            "max_width": null,
            "min_height": null,
            "min_width": null,
            "object_fit": null,
            "object_position": null,
            "order": null,
            "overflow": null,
            "overflow_x": null,
            "overflow_y": null,
            "padding": null,
            "right": null,
            "top": null,
            "visibility": null,
            "width": null
          }
        },
        "cdf5e7ccc3354cfa80dbd5090e2a218f": {
          "model_module": "@jupyter-widgets/controls",
          "model_name": "DescriptionStyleModel",
          "model_module_version": "1.5.0",
          "state": {
            "_model_module": "@jupyter-widgets/controls",
            "_model_module_version": "1.5.0",
            "_model_name": "DescriptionStyleModel",
            "_view_count": null,
            "_view_module": "@jupyter-widgets/base",
            "_view_module_version": "1.2.0",
            "_view_name": "StyleView",
            "description_width": ""
          }
        },
        "23cb4d38d3494d4485ef7c422506db99": {
          "model_module": "@jupyter-widgets/controls",
          "model_name": "HBoxModel",
          "model_module_version": "1.5.0",
          "state": {
            "_dom_classes": [],
            "_model_module": "@jupyter-widgets/controls",
            "_model_module_version": "1.5.0",
            "_model_name": "HBoxModel",
            "_view_count": null,
            "_view_module": "@jupyter-widgets/controls",
            "_view_module_version": "1.5.0",
            "_view_name": "HBoxView",
            "box_style": "",
            "children": [
              "IPY_MODEL_2472869d826948e48235c17bf54e099c",
              "IPY_MODEL_e1cd05c459044fffb67a76d4c4eb00a2",
              "IPY_MODEL_05dabc82ab3a4ca5b56c3266c08941a3"
            ],
            "layout": "IPY_MODEL_5f2c3cf621d44bb185e7e5c53e72282c"
          }
        },
        "2472869d826948e48235c17bf54e099c": {
          "model_module": "@jupyter-widgets/controls",
          "model_name": "HTMLModel",
          "model_module_version": "1.5.0",
          "state": {
            "_dom_classes": [],
            "_model_module": "@jupyter-widgets/controls",
            "_model_module_version": "1.5.0",
            "_model_name": "HTMLModel",
            "_view_count": null,
            "_view_module": "@jupyter-widgets/controls",
            "_view_module_version": "1.5.0",
            "_view_name": "HTMLView",
            "description": "",
            "description_tooltip": null,
            "layout": "IPY_MODEL_9b2176b6dac4489580adde2e05c3deea",
            "placeholder": "​",
            "style": "IPY_MODEL_3ac3181991b24f47b05227b4f1db471f",
            "value": "Map: 100%"
          }
        },
        "e1cd05c459044fffb67a76d4c4eb00a2": {
          "model_module": "@jupyter-widgets/controls",
          "model_name": "FloatProgressModel",
          "model_module_version": "1.5.0",
          "state": {
            "_dom_classes": [],
            "_model_module": "@jupyter-widgets/controls",
            "_model_module_version": "1.5.0",
            "_model_name": "FloatProgressModel",
            "_view_count": null,
            "_view_module": "@jupyter-widgets/controls",
            "_view_module_version": "1.5.0",
            "_view_name": "ProgressView",
            "bar_style": "success",
            "description": "",
            "description_tooltip": null,
            "layout": "IPY_MODEL_695933891c0549d3be30cf9ca00775cd",
            "max": 1256,
            "min": 0,
            "orientation": "horizontal",
            "style": "IPY_MODEL_124be8286f20428288dd52a13f67c318",
            "value": 1256
          }
        },
        "05dabc82ab3a4ca5b56c3266c08941a3": {
          "model_module": "@jupyter-widgets/controls",
          "model_name": "HTMLModel",
          "model_module_version": "1.5.0",
          "state": {
            "_dom_classes": [],
            "_model_module": "@jupyter-widgets/controls",
            "_model_module_version": "1.5.0",
            "_model_name": "HTMLModel",
            "_view_count": null,
            "_view_module": "@jupyter-widgets/controls",
            "_view_module_version": "1.5.0",
            "_view_name": "HTMLView",
            "description": "",
            "description_tooltip": null,
            "layout": "IPY_MODEL_296467c3094742ff943b419260e41de2",
            "placeholder": "​",
            "style": "IPY_MODEL_f652a4ad15f34a8cb7174b77ce6e454d",
            "value": " 1256/1256 [00:00&lt;00:00, 3135.23 examples/s]"
          }
        },
        "5f2c3cf621d44bb185e7e5c53e72282c": {
          "model_module": "@jupyter-widgets/base",
          "model_name": "LayoutModel",
          "model_module_version": "1.2.0",
          "state": {
            "_model_module": "@jupyter-widgets/base",
            "_model_module_version": "1.2.0",
            "_model_name": "LayoutModel",
            "_view_count": null,
            "_view_module": "@jupyter-widgets/base",
            "_view_module_version": "1.2.0",
            "_view_name": "LayoutView",
            "align_content": null,
            "align_items": null,
            "align_self": null,
            "border": null,
            "bottom": null,
            "display": null,
            "flex": null,
            "flex_flow": null,
            "grid_area": null,
            "grid_auto_columns": null,
            "grid_auto_flow": null,
            "grid_auto_rows": null,
            "grid_column": null,
            "grid_gap": null,
            "grid_row": null,
            "grid_template_areas": null,
            "grid_template_columns": null,
            "grid_template_rows": null,
            "height": null,
            "justify_content": null,
            "justify_items": null,
            "left": null,
            "margin": null,
            "max_height": null,
            "max_width": null,
            "min_height": null,
            "min_width": null,
            "object_fit": null,
            "object_position": null,
            "order": null,
            "overflow": null,
            "overflow_x": null,
            "overflow_y": null,
            "padding": null,
            "right": null,
            "top": null,
            "visibility": null,
            "width": null
          }
        },
        "9b2176b6dac4489580adde2e05c3deea": {
          "model_module": "@jupyter-widgets/base",
          "model_name": "LayoutModel",
          "model_module_version": "1.2.0",
          "state": {
            "_model_module": "@jupyter-widgets/base",
            "_model_module_version": "1.2.0",
            "_model_name": "LayoutModel",
            "_view_count": null,
            "_view_module": "@jupyter-widgets/base",
            "_view_module_version": "1.2.0",
            "_view_name": "LayoutView",
            "align_content": null,
            "align_items": null,
            "align_self": null,
            "border": null,
            "bottom": null,
            "display": null,
            "flex": null,
            "flex_flow": null,
            "grid_area": null,
            "grid_auto_columns": null,
            "grid_auto_flow": null,
            "grid_auto_rows": null,
            "grid_column": null,
            "grid_gap": null,
            "grid_row": null,
            "grid_template_areas": null,
            "grid_template_columns": null,
            "grid_template_rows": null,
            "height": null,
            "justify_content": null,
            "justify_items": null,
            "left": null,
            "margin": null,
            "max_height": null,
            "max_width": null,
            "min_height": null,
            "min_width": null,
            "object_fit": null,
            "object_position": null,
            "order": null,
            "overflow": null,
            "overflow_x": null,
            "overflow_y": null,
            "padding": null,
            "right": null,
            "top": null,
            "visibility": null,
            "width": null
          }
        },
        "3ac3181991b24f47b05227b4f1db471f": {
          "model_module": "@jupyter-widgets/controls",
          "model_name": "DescriptionStyleModel",
          "model_module_version": "1.5.0",
          "state": {
            "_model_module": "@jupyter-widgets/controls",
            "_model_module_version": "1.5.0",
            "_model_name": "DescriptionStyleModel",
            "_view_count": null,
            "_view_module": "@jupyter-widgets/base",
            "_view_module_version": "1.2.0",
            "_view_name": "StyleView",
            "description_width": ""
          }
        },
        "695933891c0549d3be30cf9ca00775cd": {
          "model_module": "@jupyter-widgets/base",
          "model_name": "LayoutModel",
          "model_module_version": "1.2.0",
          "state": {
            "_model_module": "@jupyter-widgets/base",
            "_model_module_version": "1.2.0",
            "_model_name": "LayoutModel",
            "_view_count": null,
            "_view_module": "@jupyter-widgets/base",
            "_view_module_version": "1.2.0",
            "_view_name": "LayoutView",
            "align_content": null,
            "align_items": null,
            "align_self": null,
            "border": null,
            "bottom": null,
            "display": null,
            "flex": null,
            "flex_flow": null,
            "grid_area": null,
            "grid_auto_columns": null,
            "grid_auto_flow": null,
            "grid_auto_rows": null,
            "grid_column": null,
            "grid_gap": null,
            "grid_row": null,
            "grid_template_areas": null,
            "grid_template_columns": null,
            "grid_template_rows": null,
            "height": null,
            "justify_content": null,
            "justify_items": null,
            "left": null,
            "margin": null,
            "max_height": null,
            "max_width": null,
            "min_height": null,
            "min_width": null,
            "object_fit": null,
            "object_position": null,
            "order": null,
            "overflow": null,
            "overflow_x": null,
            "overflow_y": null,
            "padding": null,
            "right": null,
            "top": null,
            "visibility": null,
            "width": null
          }
        },
        "124be8286f20428288dd52a13f67c318": {
          "model_module": "@jupyter-widgets/controls",
          "model_name": "ProgressStyleModel",
          "model_module_version": "1.5.0",
          "state": {
            "_model_module": "@jupyter-widgets/controls",
            "_model_module_version": "1.5.0",
            "_model_name": "ProgressStyleModel",
            "_view_count": null,
            "_view_module": "@jupyter-widgets/base",
            "_view_module_version": "1.2.0",
            "_view_name": "StyleView",
            "bar_color": null,
            "description_width": ""
          }
        },
        "296467c3094742ff943b419260e41de2": {
          "model_module": "@jupyter-widgets/base",
          "model_name": "LayoutModel",
          "model_module_version": "1.2.0",
          "state": {
            "_model_module": "@jupyter-widgets/base",
            "_model_module_version": "1.2.0",
            "_model_name": "LayoutModel",
            "_view_count": null,
            "_view_module": "@jupyter-widgets/base",
            "_view_module_version": "1.2.0",
            "_view_name": "LayoutView",
            "align_content": null,
            "align_items": null,
            "align_self": null,
            "border": null,
            "bottom": null,
            "display": null,
            "flex": null,
            "flex_flow": null,
            "grid_area": null,
            "grid_auto_columns": null,
            "grid_auto_flow": null,
            "grid_auto_rows": null,
            "grid_column": null,
            "grid_gap": null,
            "grid_row": null,
            "grid_template_areas": null,
            "grid_template_columns": null,
            "grid_template_rows": null,
            "height": null,
            "justify_content": null,
            "justify_items": null,
            "left": null,
            "margin": null,
            "max_height": null,
            "max_width": null,
            "min_height": null,
            "min_width": null,
            "object_fit": null,
            "object_position": null,
            "order": null,
            "overflow": null,
            "overflow_x": null,
            "overflow_y": null,
            "padding": null,
            "right": null,
            "top": null,
            "visibility": null,
            "width": null
          }
        },
        "f652a4ad15f34a8cb7174b77ce6e454d": {
          "model_module": "@jupyter-widgets/controls",
          "model_name": "DescriptionStyleModel",
          "model_module_version": "1.5.0",
          "state": {
            "_model_module": "@jupyter-widgets/controls",
            "_model_module_version": "1.5.0",
            "_model_name": "DescriptionStyleModel",
            "_view_count": null,
            "_view_module": "@jupyter-widgets/base",
            "_view_module_version": "1.2.0",
            "_view_name": "StyleView",
            "description_width": ""
          }
        }
      }
    }
  },
  "nbformat": 4,
  "nbformat_minor": 0
}