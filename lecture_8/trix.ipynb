{
 "cells": [
  {
   "cell_type": "code",
   "execution_count": 6,
   "metadata": {},
   "outputs": [
    {
     "name": "stdout",
     "output_type": "stream",
     "text": [
      "Note: you may need to restart the kernel to use updated packages.\n"
     ]
    }
   ],
   "source": [
    "%pip install -Uq numpy"
   ]
  },
  {
   "cell_type": "code",
   "execution_count": 7,
   "metadata": {},
   "outputs": [],
   "source": [
    "import numpy as np"
   ]
  },
  {
   "cell_type": "code",
   "execution_count": 8,
   "metadata": {},
   "outputs": [],
   "source": [
    "class Matrix:\n",
    "    def __init__(\n",
    "    self,\n",
    "    matrix,\n",
    "):\n",
    "        self.matrix = matrix\n",
    "\n",
    "\n",
    "    def T(self, other = None):\n",
    "        new_matrix = [[self.matrix[j][i] for j in range(len(self.matrix))] for i in range(len(self.matrix[0]))]\n",
    "        if other != None:\n",
    "            new_matrix = [[other.matrix[j][i] for j in range(len(other.matrix))] for i in range(len(other.matrix[0]))]\n",
    "            return new_matrix\n",
    "        else:\n",
    "            new_matrix = [[self.matrix[j][i] for j in range(len(self.matrix))] for i in range(len(self.matrix[0]))]\n",
    "            return Matrix(new_matrix)\n",
    "        \n",
    "    def Trans(self, other = None):\n",
    "        new_matrix = [[self.matrix[j][i] for j in range(len(self.matrix))] for i in range(len(self.matrix[0]))]\n",
    "        if other != None:\n",
    "            new_matrix = [[other.matrix[j][i] for j in range(len(other.matrix))] for i in range(len(other.matrix[0]))]\n",
    "            return new_matrix\n",
    "        else:\n",
    "            new_matrix = [[self.matrix[j][i] for j in range(len(self.matrix))] for i in range(len(self.matrix[0]))]\n",
    "            return new_matrix\n",
    "\n",
    "\n",
    "    def __add__(self: list, other: list | float | int) -> list | float | int:\n",
    "        \n",
    "        if type(other) == float or type(other) == int:\n",
    "            num_cols = len(self.matrix)\n",
    "            num_rows = len(self.matrix[0])\n",
    "            sum_N = []\n",
    "            sum_N = [[0 for row in range(num_rows)] for col in range(num_cols)]\n",
    "\n",
    "            for i in range(num_cols):\n",
    "                for j in range(num_rows):\n",
    "                    sum_N[i][j] = self.matrix[i][j] + other\n",
    "            return sum_N\n",
    "    \n",
    "        else:\n",
    "            sum = []\n",
    "            num_cols = len(self.matrix)\n",
    "            num_rows = len(other.matrix[0])\n",
    "            sum = [[0 for row in range(num_rows)] for col in range(num_cols)]\n",
    "\n",
    "            if len(self.matrix) == len(other.matrix) and len(self.matrix[0]) == len(other.matrix[0]):    \n",
    "                for i in range(num_cols):\n",
    "                    for j in range(num_rows):\n",
    "                        sum[i][j] = self.matrix[i][j] + other.matrix[i][j]\n",
    "                return sum\n",
    "            else:\n",
    "                raise ValueError('Матрицы должны иметь одинаковое колличество строк и колонок, чтобы их можно было слкадывать')\n",
    "\n",
    "\n",
    "    def __sub__(self: list, other: list | float | int) -> list | float | int:\n",
    "        if type(other) == float or type(other) == int:\n",
    "            num_cols = len(self.matrix)\n",
    "            num_rows = len(self.matrix[0])\n",
    "            sum_N = []\n",
    "            sum_N = [[0 for row in range(num_rows)] for col in range(num_cols)]\n",
    "\n",
    "            for i in range(num_cols):\n",
    "                for j in range(num_rows):\n",
    "                    sum_N[i][j] = self.matrix[i][j] - other\n",
    "            return sum_N\n",
    "        else:\n",
    "            if len(self.matrix) == len(other.matrix) and len(self.matrix[0]) == len(other.matrix[0]):   \n",
    "                minus = []\n",
    "                num_cols = len(self.matrix)\n",
    "                num_rows = len(other.matrix[0])\n",
    "                minus = [[0 for row in range(num_rows)] for col in range(num_cols)]    \n",
    "                for i in range(num_cols):\n",
    "                    for j in range(num_rows):\n",
    "                        minus[i][j] = self.matrix[i][j] - other.matrix[i][j]\n",
    "                return minus\n",
    "            else:\n",
    "                raise ValueError('Матрицы должны иметь одинаковое колличество строк и колонок, чтобы значения одной можно было вычесть из другой')\n",
    "    \n",
    "\n",
    "    def __mul__(self: list, other: list | float | int) -> list | float | int:\n",
    "\n",
    "        if type(other) == float or type(other) == int:\n",
    "            num_cols = len(self.matrix)\n",
    "            num_rows = len(self.matrix[0])\n",
    "            sum_N = []\n",
    "            sum_N = [[0 for row in range(num_rows)] for col in range(num_cols)]\n",
    "\n",
    "            for i in range(num_cols):\n",
    "                for j in range(num_rows):\n",
    "                    sum_N[i][j] = self.matrix[i][j] * other\n",
    "            return sum_N\n",
    "        \n",
    "        else:\n",
    "            if len(self.matrix) == len(other.matrix) and len(self.matrix[0]) == len(other.matrix[0]):\n",
    "                mult = []  \n",
    "                num_cols = len(self.matrix)\n",
    "                num_rows = len(other.matrix[0]) \n",
    "                mult = [[0 for row in range(num_rows)] for col in range(num_cols)]\n",
    "                for i in range(num_cols):\n",
    "                    for j in range(num_rows):\n",
    "                        mult[i][j] = self.matrix[i][j] * other.matrix[i][j]\n",
    "                return mult\n",
    "            else:\n",
    "                raise ValueError('Матрицы должны иметь одинаковое колличество строк и колонок, чтобы их значения можно было умножить')\n",
    "\n",
    "\n",
    "    def __truediv__(self: list, other: list | float | int) -> list | float | int:\n",
    "\n",
    "        if type(other) == float or type(other) == int:\n",
    "            num_cols = len(self.matrix)\n",
    "            num_rows = len(self.matrix[0])\n",
    "            sum_N = []\n",
    "            sum_N = [[0 for row in range(num_rows)] for col in range(num_cols)]\n",
    "\n",
    "            for i in range(num_cols):\n",
    "                for j in range(num_rows):\n",
    "                    sum_N[i][j] = self.matrix[i][j] / other\n",
    "            return sum_N\n",
    "        \n",
    "        else:\n",
    "            if len(self.matrix) == len(other.matrix) and len(self.matrix[0]) == len(other.matrix[0]):\n",
    "                div = []\n",
    "                num_cols = len(self.matrix)\n",
    "                num_rows = len(other.matrix[0])  \n",
    "                div = [[0 for row in range(num_rows)] for col in range(num_cols)]  \n",
    "                for i in range(num_cols):\n",
    "                    for j in range(num_rows):\n",
    "                        div[i][j] = self.matrix[i][j] / other.matrix[i][j]\n",
    "                return div\n",
    "            else: \n",
    "                raise ValueError('Матрицы должны иметь одинаковое колличество строк и колонок, чтобы их значения можно было разделить друг на друга')\n",
    "\n",
    "\n",
    "    def __matmul__(self: list, other: list) -> list:\n",
    "        if len(other.matrix) > len(self.matrix):\n",
    "            other.matrix = self.T(other)\n",
    "        # rows1 = len(self.matrix)\n",
    "        # cols1= len(self.matrix[0]) \n",
    "        # rows2 = len(other.matrix)\n",
    "        # cols2 = len(other.matrix[0]) \n",
    "        result = []\n",
    "        for i in range(len(self.matrix)):\n",
    "            row = []\n",
    "            for j in range(len(other.matrix[0])):\n",
    "                val = 0\n",
    "                for k in range(len(other.matrix)):\n",
    "                    val += self.matrix[i][k] * other.matrix[k][j]\n",
    "                row.append(val)\n",
    "            result.append(row)\n",
    "        return (result)\n",
    "    "
   ]
  },
  {
   "cell_type": "code",
   "execution_count": 9,
   "metadata": {},
   "outputs": [
    {
     "data": {
      "text/plain": [
       "<__main__.Matrix at 0x15df8aee090>"
      ]
     },
     "execution_count": 9,
     "metadata": {},
     "output_type": "execute_result"
    }
   ],
   "source": [
    "matrix1 = Matrix([\n",
    "    [1, 1, 1],\n",
    "    [1, 2, 3],\n",
    "    [11, 12, 13],\n",
    "    [11, 22, 33],\n",
    "])\n",
    "\n",
    "matrix1.T()"
   ]
  },
  {
   "cell_type": "code",
   "execution_count": 10,
   "metadata": {},
   "outputs": [
    {
     "data": {
      "text/plain": [
       "False"
      ]
     },
     "execution_count": 10,
     "metadata": {},
     "output_type": "execute_result"
    }
   ],
   "source": [
    "matrix1 = Matrix([\n",
    "    [1, 1, 1],\n",
    "    [1, 2, 3],\n",
    "    [11, 12, 13],\n",
    "    [11, 22, 33],\n",
    "])\n",
    "\n",
    "matrix2 = Matrix([\n",
    "    [4, 5, 6],\n",
    "    [7, 8, 9],\n",
    "    [77, 12, 12],\n",
    "    [2, 1, 45],\n",
    "])\n",
    "\n",
    "matrix1 == matrix2"
   ]
  },
  {
   "cell_type": "code",
   "execution_count": 11,
   "metadata": {},
   "outputs": [
    {
     "data": {
      "text/plain": [
       "[[5, 6, 7], [8, 10, 12], [88, 24, 25], [13, 23, 78]]"
      ]
     },
     "execution_count": 11,
     "metadata": {},
     "output_type": "execute_result"
    }
   ],
   "source": [
    "matrix1 = Matrix([\n",
    "    [1, 1, 1],\n",
    "    [1, 2, 3],\n",
    "    [11, 12, 13],\n",
    "    [11, 22, 33],\n",
    "])\n",
    "\n",
    "matrix2 = Matrix([\n",
    "    [4, 5, 6],\n",
    "    [7, 8, 9],\n",
    "    [77, 12, 12],\n",
    "    [2, 1, 45],\n",
    "])\n",
    "\n",
    "matrix1 + matrix2\n",
    "\n",
    "# для проверки +, -, / просто меняю знак "
   ]
  },
  {
   "cell_type": "code",
   "execution_count": 12,
   "metadata": {},
   "outputs": [
    {
     "data": {
      "text/plain": [
       "array([[ 5,  6,  7],\n",
       "       [ 8, 10, 12],\n",
       "       [88, 24, 25],\n",
       "       [13, 23, 78]])"
      ]
     },
     "execution_count": 12,
     "metadata": {},
     "output_type": "execute_result"
    }
   ],
   "source": [
    "npmatrix1 = np.array([\n",
    "    [1, 1, 1],\n",
    "    [1, 2, 3],\n",
    "    [11, 12, 13],\n",
    "    [11, 22, 33],\n",
    "])\n",
    "\n",
    "npmatrix2 = np.array([\n",
    "    [4, 5, 6],\n",
    "    [7, 8, 9],\n",
    "    [77, 12, 12],\n",
    "    [2, 1, 45],\n",
    "])\n",
    "\n",
    "npmatrix1 + npmatrix2"
   ]
  },
  {
   "cell_type": "code",
   "execution_count": 13,
   "metadata": {},
   "outputs": [
    {
     "data": {
      "text/plain": [
       "[[3, 3, 3], [3, 4, 5], [13, 14, 15], [13, 24, 35]]"
      ]
     },
     "execution_count": 13,
     "metadata": {},
     "output_type": "execute_result"
    }
   ],
   "source": [
    "matrix1 = Matrix([\n",
    "    [1, 1, 1],\n",
    "    [1, 2, 3],\n",
    "    [11, 12, 13],\n",
    "    [11, 22, 33],\n",
    "])\n",
    "\n",
    "matrix1 + 2\n",
    "\n",
    "# для проверки +, -, / просто меняю знак  и число"
   ]
  },
  {
   "cell_type": "code",
   "execution_count": 14,
   "metadata": {},
   "outputs": [
    {
     "data": {
      "text/plain": [
       "array([[ 3,  3,  3],\n",
       "       [ 3,  4,  5],\n",
       "       [13, 14, 15],\n",
       "       [13, 24, 35]])"
      ]
     },
     "execution_count": 14,
     "metadata": {},
     "output_type": "execute_result"
    }
   ],
   "source": [
    "npmatrix1 = np.array([\n",
    "    [1, 1, 1],\n",
    "    [1, 2, 3],\n",
    "    [11, 12, 13],\n",
    "    [11, 22, 33],\n",
    "])\n",
    "\n",
    "npmatrix1 + 2"
   ]
  },
  {
   "cell_type": "code",
   "execution_count": 15,
   "metadata": {},
   "outputs": [
    {
     "data": {
      "text/plain": [
       "[[75, 86, 97, 8],\n",
       " [114, 131, 148, 14],\n",
       " [221, 245, 269, 154],\n",
       " [498, 544, 590, 4]]"
      ]
     },
     "execution_count": 15,
     "metadata": {},
     "output_type": "execute_result"
    }
   ],
   "source": [
    "matrix1 = Matrix([\n",
    "    [4, 5, 6],\n",
    "    [7, 8, 9],\n",
    "    [77, 12, 12],\n",
    "    [2, 1, 45],\n",
    "])\n",
    "\n",
    "matrix2 = Matrix([\n",
    "    [1, 1, 1, 2],\n",
    "    [1, 2, 3, 0],\n",
    "    [11, 12, 13, 0],\n",
    "])\n",
    "\n",
    "matrix1 @ matrix2"
   ]
  },
  {
   "cell_type": "code",
   "execution_count": 16,
   "metadata": {},
   "outputs": [
    {
     "data": {
      "text/plain": [
       "array([[ 75,  86,  97,   8],\n",
       "       [114, 131, 148,  14],\n",
       "       [221, 245, 269, 154],\n",
       "       [498, 544, 590,   4]])"
      ]
     },
     "execution_count": 16,
     "metadata": {},
     "output_type": "execute_result"
    }
   ],
   "source": [
    "npmatrix1 = np.array([\n",
    "    [4, 5, 6],\n",
    "    [7, 8, 9],\n",
    "    [77, 12, 12],\n",
    "    [2, 1, 45],\n",
    "])\n",
    "\n",
    "npmatrix2 = np.array([\n",
    "    [1, 1, 1, 2],\n",
    "    [1, 2, 3, 0],\n",
    "    [11, 12, 13, 0],\n",
    "])\n",
    "\n",
    "npmatrix1 @ npmatrix2\n"
   ]
  },
  {
   "cell_type": "code",
   "execution_count": 17,
   "metadata": {},
   "outputs": [
    {
     "name": "stdout",
     "output_type": "stream",
     "text": [
      "Note: you may need to restart the kernel to use updated packages.\n"
     ]
    }
   ],
   "source": [
    "%pip install -q ipytest pytest\n",
    "\n",
    "import ipytest\n",
    "import pytest\n",
    "ipytest.autoconfig()"
   ]
  },
  {
   "cell_type": "code",
   "execution_count": 18,
   "metadata": {},
   "outputs": [
    {
     "name": "stdout",
     "output_type": "stream",
     "text": [
      "\u001b[32m.\u001b[0m\u001b[32m.\u001b[0m\u001b[32m.\u001b[0m\u001b[32m.\u001b[0m\u001b[32m.\u001b[0m\u001b[32m.\u001b[0m\u001b[32m.\u001b[0m\u001b[32m.\u001b[0m\u001b[32m.\u001b[0m\u001b[32m.\u001b[0m\u001b[32m                                                                                   [100%]\u001b[0m\n",
      "\u001b[32m\u001b[32m\u001b[1m10 passed\u001b[0m\u001b[32m in 0.04s\u001b[0m\u001b[0m\n"
     ]
    }
   ],
   "source": [
    "%%ipytest\n",
    "\n",
    "matrix1 = Matrix([\n",
    "    [1, 1, 1],\n",
    "    [1, 2, 3],\n",
    "    [11, 12, 13],\n",
    "])\n",
    "\n",
    "matrix2 = Matrix([\n",
    "    [4, 5, 6,],\n",
    "    [7, 8, 9],\n",
    "    [77, 12, 12],\n",
    "])\n",
    "\n",
    "@pytest.mark.parametrize(\"matrix1,matrix2\", [[matrix1, matrix2]])\n",
    "def test_matrix_add_matrix(matrix1: Matrix, matrix2: Matrix):\n",
    "    assert (\n",
    "        (matrix1 + matrix2 == (np.array(matrix1.matrix) + np.array(matrix2.matrix))).all()\n",
    "    ), 'add section with matrices is not working right'\n",
    "\n",
    "@pytest.mark.parametrize(\"matrix1,number\", [[matrix1, 13.2]])\n",
    "def test_matrix_add_number(matrix1: Matrix, number: int | float):\n",
    "    assert (\n",
    "        (matrix1 + number == np.array(matrix1.matrix) + number).all()\n",
    "    ), 'add section with matrix and number is not working right'\n",
    "\n",
    "@pytest.mark.parametrize(\"matrix1,matrix2\", [[matrix1, matrix2]])\n",
    "def test_matrix_sub_matrix(matrix1: Matrix, matrix2: Matrix):\n",
    "    assert (\n",
    "        (matrix1 - matrix2 == np.array(matrix1.matrix) - np.array(matrix2.matrix)).all()\n",
    "    ), 'sub section with matrices is not working right'\n",
    "\n",
    "@pytest.mark.parametrize(\"matrix1,number\", [[matrix1, 12.2]])    \n",
    "def test_matrix_sub_number(matrix1: Matrix, number: int | float):\n",
    "    assert (\n",
    "        (matrix1 - number == np.array(matrix1.matrix) - number).all()\n",
    "    ), 'sub section with matrix and number is not working right'\n",
    "\n",
    "@pytest.mark.parametrize(\"matrix1\", [matrix1])    \n",
    "def test_matrix_transpose(matrix1: Matrix):\n",
    "    assert (\n",
    "        (matrix1.Trans() == np.array(matrix1.matrix).T).all()\n",
    "    ), 'transpose section is not working right'\n",
    "    \n",
    "# -----------------------------------------\n",
    "\n",
    "@pytest.mark.parametrize(\"matrix1,matrix2\", [[matrix1, matrix2]])\n",
    "def test_matrix_mul_matrix(matrix1: Matrix, matrix2: Matrix):\n",
    "    assert (\n",
    "        (matrix1 * matrix2 == np.array(matrix1.matrix) * np.array(matrix2.matrix)).all()\n",
    "    ), 'mul section with matrices is not working right'\n",
    "\n",
    "@pytest.mark.parametrize(\"matrix1,number\", [[matrix1, 13]])\n",
    "def test_matrix_mul_number(matrix1: Matrix, number: int | float):\n",
    "    assert (\n",
    "        (matrix1 * number == np.array(matrix1.matrix) * number).all()\n",
    "    ), 'mul section with matrix and number is not working right'\n",
    "\n",
    "@pytest.mark.parametrize(\"matrix1,matrix2\", [[matrix1, matrix2]])    \n",
    "def test_matrix_div_matrix(matrix1: Matrix, matrix2: Matrix):\n",
    "    assert (\n",
    "        (matrix1 / matrix2 == np.array(matrix1.matrix) / np.array(matrix2.matrix)).all()\n",
    "    ), 'div section with matrices is not working right'\n",
    "\n",
    "@pytest.mark.parametrize(\"matrix1,number\", [[matrix1, 2]])    \n",
    "def test_matrix_div_number(matrix1: Matrix, number: int | float):\n",
    "    assert (\n",
    "        (matrix1 / number == np.array(matrix1.matrix) / number).all()\n",
    "    ), 'div section with matrix and number is not working right'\n",
    "\n",
    "@pytest.mark.parametrize(\"matrix1,matrix2\", [[matrix1, matrix2.T()]])    \n",
    "def test_matrix_matmul_matrix(matrix1: Matrix, matrix2: Matrix):\n",
    "    assert(\n",
    "        (matrix1 @ matrix2 == np.array(matrix1.matrix) @ np.array(matrix2.matrix)).all()\n",
    "    ), 'matmul section is not working right, and don\\'t forget about T() if needed'\n",
    "    \n",
    "    \n"
   ]
  },
  {
   "cell_type": "code",
   "execution_count": null,
   "metadata": {},
   "outputs": [],
   "source": []
  }
 ],
 "metadata": {
  "kernelspec": {
   "display_name": "Python 3",
   "language": "python",
   "name": "python3"
  },
  "language_info": {
   "codemirror_mode": {
    "name": "ipython",
    "version": 3
   },
   "file_extension": ".py",
   "mimetype": "text/x-python",
   "name": "python",
   "nbconvert_exporter": "python",
   "pygments_lexer": "ipython3",
   "version": "3.11.5"
  },
  "orig_nbformat": 4
 },
 "nbformat": 4,
 "nbformat_minor": 2
}
