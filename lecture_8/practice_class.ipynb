{
 "cells": [
  {
   "cell_type": "code",
   "execution_count": 21,
   "metadata": {},
   "outputs": [],
   "source": [
    "class Matrix:\n",
    "\n",
    "    def __init__(\n",
    "        self,\n",
    "        matrix1: list = [ [1, 1, 1],\n",
    "                        [1, 4, 3],\n",
    "                        [11, 12, 13],\n",
    "                        [11, 22, 23]],\n",
    "        matrix2: list = [[4, 5, 6],\n",
    "                        [7, 8, 9],\n",
    "                        [77, 12, 12],\n",
    "                        [2, 1, 45]]   \n",
    "                ):\n",
    "        if matrix1 and matrix2 is not None:\n",
    "            self.matrix1 = matrix1\n",
    "            self.matrix2 = matrix2\n",
    "        else:\n",
    "            raise ValueError('Please provide correct variables')\n",
    "\n",
    "    def __add__(self: 'Matrix', other: 'Matrix') -> 'Matrix':\n",
    "        new_matrix = Matrix(\n",
    "        a = self.matrix1 + other.matrix2\n",
    "        )\n",
    "        return new_matrix"
   ]
  },
  {
   "cell_type": "code",
   "execution_count": 22,
   "metadata": {},
   "outputs": [],
   "source": [
    "matrix1 =  Matrix()\n",
    "matrix2 =  Matrix()"
   ]
  },
  {
   "cell_type": "code",
   "execution_count": 23,
   "metadata": {},
   "outputs": [
    {
     "ename": "TypeError",
     "evalue": "Matrix.__init__() got an unexpected keyword argument 'a'",
     "output_type": "error",
     "traceback": [
      "\u001b[1;31m---------------------------------------------------------------------------\u001b[0m",
      "\u001b[1;31mTypeError\u001b[0m                                 Traceback (most recent call last)",
      "\u001b[1;32mc:\\Users\\linax\\Desktop\\IT\\Новая папка\\lecture_8\\practice.ipynb Cell 3\u001b[0m line \u001b[0;36m1\n\u001b[1;32m----> <a href='vscode-notebook-cell:/c%3A/Users/linax/Desktop/IT/%D0%9D%D0%BE%D0%B2%D0%B0%D1%8F%20%D0%BF%D0%B0%D0%BF%D0%BA%D0%B0/lecture_8/practice.ipynb#W2sZmlsZQ%3D%3D?line=0'>1</a>\u001b[0m matrix3 \u001b[39m=\u001b[39m matrix1 \u001b[39m+\u001b[39;49m matrix2\n\u001b[0;32m      <a href='vscode-notebook-cell:/c%3A/Users/linax/Desktop/IT/%D0%9D%D0%BE%D0%B2%D0%B0%D1%8F%20%D0%BF%D0%B0%D0%BF%D0%BA%D0%B0/lecture_8/practice.ipynb#W2sZmlsZQ%3D%3D?line=1'>2</a>\u001b[0m matrix3, matrix3\u001b[39m.\u001b[39mnew_matrix\n",
      "\u001b[1;32mc:\\Users\\linax\\Desktop\\IT\\Новая папка\\lecture_8\\practice.ipynb Cell 3\u001b[0m line \u001b[0;36m2\n\u001b[0;32m     <a href='vscode-notebook-cell:/c%3A/Users/linax/Desktop/IT/%D0%9D%D0%BE%D0%B2%D0%B0%D1%8F%20%D0%BF%D0%B0%D0%BF%D0%BA%D0%B0/lecture_8/practice.ipynb#W2sZmlsZQ%3D%3D?line=19'>20</a>\u001b[0m \u001b[39mdef\u001b[39;00m \u001b[39m__add__\u001b[39m(\u001b[39mself\u001b[39m: \u001b[39m'\u001b[39m\u001b[39mMatrix\u001b[39m\u001b[39m'\u001b[39m, other: \u001b[39m'\u001b[39m\u001b[39mMatrix\u001b[39m\u001b[39m'\u001b[39m) \u001b[39m-\u001b[39m\u001b[39m>\u001b[39m \u001b[39m'\u001b[39m\u001b[39mMatrix\u001b[39m\u001b[39m'\u001b[39m:\n\u001b[1;32m---> <a href='vscode-notebook-cell:/c%3A/Users/linax/Desktop/IT/%D0%9D%D0%BE%D0%B2%D0%B0%D1%8F%20%D0%BF%D0%B0%D0%BF%D0%BA%D0%B0/lecture_8/practice.ipynb#W2sZmlsZQ%3D%3D?line=20'>21</a>\u001b[0m     new_matrix \u001b[39m=\u001b[39m Matrix(\n\u001b[0;32m     <a href='vscode-notebook-cell:/c%3A/Users/linax/Desktop/IT/%D0%9D%D0%BE%D0%B2%D0%B0%D1%8F%20%D0%BF%D0%B0%D0%BF%D0%BA%D0%B0/lecture_8/practice.ipynb#W2sZmlsZQ%3D%3D?line=21'>22</a>\u001b[0m     a \u001b[39m=\u001b[39;49m \u001b[39mself\u001b[39;49m\u001b[39m.\u001b[39;49mmatrix1 \u001b[39m+\u001b[39;49m other\u001b[39m.\u001b[39;49mmatrix2\n\u001b[0;32m     <a href='vscode-notebook-cell:/c%3A/Users/linax/Desktop/IT/%D0%9D%D0%BE%D0%B2%D0%B0%D1%8F%20%D0%BF%D0%B0%D0%BF%D0%BA%D0%B0/lecture_8/practice.ipynb#W2sZmlsZQ%3D%3D?line=22'>23</a>\u001b[0m     )\n\u001b[0;32m     <a href='vscode-notebook-cell:/c%3A/Users/linax/Desktop/IT/%D0%9D%D0%BE%D0%B2%D0%B0%D1%8F%20%D0%BF%D0%B0%D0%BF%D0%BA%D0%B0/lecture_8/practice.ipynb#W2sZmlsZQ%3D%3D?line=23'>24</a>\u001b[0m     \u001b[39mreturn\u001b[39;00m new_matrix\n",
      "\u001b[1;31mTypeError\u001b[0m: Matrix.__init__() got an unexpected keyword argument 'a'"
     ]
    }
   ],
   "source": [
    "matrix3 = matrix1 + matrix2\n",
    "matrix3, matrix3.new_matrix"
   ]
  }
 ],
 "metadata": {
  "kernelspec": {
   "display_name": "Python 3",
   "language": "python",
   "name": "python3"
  },
  "language_info": {
   "codemirror_mode": {
    "name": "ipython",
    "version": 3
   },
   "file_extension": ".py",
   "mimetype": "text/x-python",
   "name": "python",
   "nbconvert_exporter": "python",
   "pygments_lexer": "ipython3",
   "version": "3.11.5"
  },
  "orig_nbformat": 4
 },
 "nbformat": 4,
 "nbformat_minor": 2
}
