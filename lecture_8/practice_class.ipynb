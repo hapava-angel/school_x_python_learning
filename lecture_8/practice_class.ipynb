{
 "cells": [
  {
   "cell_type": "code",
   "execution_count": 9,
   "metadata": {},
   "outputs": [],
   "source": [
    "class Matrix:\n",
    "    def __init__(\n",
    "            self,\n",
    "            # list_of_lists,\n",
    "            rows,\n",
    "            columns,\n",
    "            matrix1: list,\n",
    "            matrix2: list\n",
    "    ):  \n",
    "        # self.list = list_of_lists\n",
    "        self.rows = rows\n",
    "        self.columns = columns\n",
    "        # self.matrix1 = [[0 for i in range(columns)] for k in range(rows)]  \n",
    "        # self.matrix2 = [[0 for i in range(columns)] for k in range(rows)]  \n",
    "        self.matrix1 = matrix1\n",
    "        self.matrix2 = matrix2\n",
    "\n",
    "    def t()\n",
    "\n",
    "    def add(self: 'Matrix', other: 'Matrix') -> 'Matrix':\n",
    "        if self.rows != other.rows and self.columns != other.columns:\n",
    "             raise ValueError('Матрицы должны иметь одинаковое колличество столбцов и строк, чтобы их можно было сложить')\n",
    "        \n",
    "        new_matrix = Matrix()\n",
    "        L = []\n",
    "        for i in range(len(self.matrix1)):\n",
    "            l = []\n",
    "            for k in range(len(self.matrix1[i])):\n",
    "                new_matrix = self.matrix1[i][k] + other.matrix2[i][k]\n",
    "                l.append(new_matrix)\n",
    "            L.append(l)\n",
    "        return new_matrix\n",
    "    \n",
    "    def matrixmult (self: 'Matrix', other: 'Matrix', matrix1, matrix2) -> 'Matrix':\n",
    "        \n",
    "        mult = [[0 for rows in range(len(other.matrix2))] for columns in range(len(self.matrix1))]\n",
    "        print(mult)\n",
    "        if matrix1[i] != matrix2[i[0]]:\n",
    "            raise ValueError('Для умножения матриц количесвто столбцов первой должно совпадать с колличеством строк второй')\n",
    "        \n",
    "        for i in range(len(self.matrix1)):\n",
    "            for j in range(len(other.matrix2[0])):\n",
    "                for k in range(len(self.matrix2)):\n",
    "                    mult[i][j] += self.matrix1[i][k] * other.matrix2[k][j]\n",
    "        return mult"
   ]
  },
  {
   "cell_type": "code",
   "execution_count": 10,
   "metadata": {},
   "outputs": [
    {
     "ename": "TypeError",
     "evalue": "Matrix.__init__() missing 3 required positional arguments: 'columns', 'matrix1', and 'matrix2'",
     "output_type": "error",
     "traceback": [
      "\u001b[1;31m---------------------------------------------------------------------------\u001b[0m",
      "\u001b[1;31mTypeError\u001b[0m                                 Traceback (most recent call last)",
      "\u001b[1;32mc:\\Users\\linax\\Desktop\\IT\\Новая папка\\lecture\\lecture_8\\practice_class.ipynb Cell 2\u001b[0m line \u001b[0;36m1\n\u001b[1;32m----> <a href='vscode-notebook-cell:/c%3A/Users/linax/Desktop/IT/%D0%9D%D0%BE%D0%B2%D0%B0%D1%8F%20%D0%BF%D0%B0%D0%BF%D0%BA%D0%B0/lecture/lecture_8/practice_class.ipynb#W4sZmlsZQ%3D%3D?line=0'>1</a>\u001b[0m matrix1 \u001b[39m=\u001b[39m Matrix([\n\u001b[0;32m      <a href='vscode-notebook-cell:/c%3A/Users/linax/Desktop/IT/%D0%9D%D0%BE%D0%B2%D0%B0%D1%8F%20%D0%BF%D0%B0%D0%BF%D0%BA%D0%B0/lecture/lecture_8/practice_class.ipynb#W4sZmlsZQ%3D%3D?line=1'>2</a>\u001b[0m     [\u001b[39m1\u001b[39;49m, \u001b[39m1\u001b[39;49m, \u001b[39m1\u001b[39;49m],\n\u001b[0;32m      <a href='vscode-notebook-cell:/c%3A/Users/linax/Desktop/IT/%D0%9D%D0%BE%D0%B2%D0%B0%D1%8F%20%D0%BF%D0%B0%D0%BF%D0%BA%D0%B0/lecture/lecture_8/practice_class.ipynb#W4sZmlsZQ%3D%3D?line=2'>3</a>\u001b[0m     [\u001b[39m1\u001b[39;49m, \u001b[39m2\u001b[39;49m, \u001b[39m3\u001b[39;49m],\n\u001b[0;32m      <a href='vscode-notebook-cell:/c%3A/Users/linax/Desktop/IT/%D0%9D%D0%BE%D0%B2%D0%B0%D1%8F%20%D0%BF%D0%B0%D0%BF%D0%BA%D0%B0/lecture/lecture_8/practice_class.ipynb#W4sZmlsZQ%3D%3D?line=3'>4</a>\u001b[0m     [\u001b[39m11\u001b[39;49m, \u001b[39m12\u001b[39;49m, \u001b[39m13\u001b[39;49m],\n\u001b[0;32m      <a href='vscode-notebook-cell:/c%3A/Users/linax/Desktop/IT/%D0%9D%D0%BE%D0%B2%D0%B0%D1%8F%20%D0%BF%D0%B0%D0%BF%D0%BA%D0%B0/lecture/lecture_8/practice_class.ipynb#W4sZmlsZQ%3D%3D?line=4'>5</a>\u001b[0m     [\u001b[39m11\u001b[39;49m, \u001b[39m22\u001b[39;49m, \u001b[39m33\u001b[39;49m],\n\u001b[0;32m      <a href='vscode-notebook-cell:/c%3A/Users/linax/Desktop/IT/%D0%9D%D0%BE%D0%B2%D0%B0%D1%8F%20%D0%BF%D0%B0%D0%BF%D0%BA%D0%B0/lecture/lecture_8/practice_class.ipynb#W4sZmlsZQ%3D%3D?line=5'>6</a>\u001b[0m ])\n\u001b[0;32m      <a href='vscode-notebook-cell:/c%3A/Users/linax/Desktop/IT/%D0%9D%D0%BE%D0%B2%D0%B0%D1%8F%20%D0%BF%D0%B0%D0%BF%D0%BA%D0%B0/lecture/lecture_8/practice_class.ipynb#W4sZmlsZQ%3D%3D?line=7'>8</a>\u001b[0m matrix2 \u001b[39m=\u001b[39m Matrix([\n\u001b[0;32m      <a href='vscode-notebook-cell:/c%3A/Users/linax/Desktop/IT/%D0%9D%D0%BE%D0%B2%D0%B0%D1%8F%20%D0%BF%D0%B0%D0%BF%D0%BA%D0%B0/lecture/lecture_8/practice_class.ipynb#W4sZmlsZQ%3D%3D?line=8'>9</a>\u001b[0m     [\u001b[39m4\u001b[39m, \u001b[39m5\u001b[39m, \u001b[39m6\u001b[39m],\n\u001b[0;32m     <a href='vscode-notebook-cell:/c%3A/Users/linax/Desktop/IT/%D0%9D%D0%BE%D0%B2%D0%B0%D1%8F%20%D0%BF%D0%B0%D0%BF%D0%BA%D0%B0/lecture/lecture_8/practice_class.ipynb#W4sZmlsZQ%3D%3D?line=9'>10</a>\u001b[0m     [\u001b[39m7\u001b[39m, \u001b[39m8\u001b[39m, \u001b[39m9\u001b[39m],\n\u001b[0;32m     <a href='vscode-notebook-cell:/c%3A/Users/linax/Desktop/IT/%D0%9D%D0%BE%D0%B2%D0%B0%D1%8F%20%D0%BF%D0%B0%D0%BF%D0%BA%D0%B0/lecture/lecture_8/practice_class.ipynb#W4sZmlsZQ%3D%3D?line=10'>11</a>\u001b[0m     [\u001b[39m77\u001b[39m, \u001b[39m12\u001b[39m, \u001b[39m12\u001b[39m],\n\u001b[0;32m     <a href='vscode-notebook-cell:/c%3A/Users/linax/Desktop/IT/%D0%9D%D0%BE%D0%B2%D0%B0%D1%8F%20%D0%BF%D0%B0%D0%BF%D0%BA%D0%B0/lecture/lecture_8/practice_class.ipynb#W4sZmlsZQ%3D%3D?line=11'>12</a>\u001b[0m     [\u001b[39m2\u001b[39m, \u001b[39m1\u001b[39m, \u001b[39m45\u001b[39m],\n\u001b[0;32m     <a href='vscode-notebook-cell:/c%3A/Users/linax/Desktop/IT/%D0%9D%D0%BE%D0%B2%D0%B0%D1%8F%20%D0%BF%D0%B0%D0%BF%D0%BA%D0%B0/lecture/lecture_8/practice_class.ipynb#W4sZmlsZQ%3D%3D?line=12'>13</a>\u001b[0m ])\n",
      "\u001b[1;31mTypeError\u001b[0m: Matrix.__init__() missing 3 required positional arguments: 'columns', 'matrix1', and 'matrix2'"
     ]
    }
   ],
   "source": [
    "matrix1 = Matrix([\n",
    "    [1, 1, 1],\n",
    "    [1, 2, 3],\n",
    "    [11, 12, 13],\n",
    "    [11, 22, 33],\n",
    "])\n",
    "\n",
    "matrix2 = Matrix([\n",
    "    [4, 5, 6],\n",
    "    [7, 8, 9],\n",
    "    [77, 12, 12],\n",
    "    [2, 1, 45],\n",
    "])"
   ]
  },
  {
   "cell_type": "code",
   "execution_count": null,
   "metadata": {},
   "outputs": [],
   "source": [
    "matrix3 = matrix1 + matrix2\n",
    "matrix3.add"
   ]
  }
 ],
 "metadata": {
  "kernelspec": {
   "display_name": "Python 3",
   "language": "python",
   "name": "python3"
  },
  "language_info": {
   "codemirror_mode": {
    "name": "ipython",
    "version": 3
   },
   "file_extension": ".py",
   "mimetype": "text/x-python",
   "name": "python",
   "nbconvert_exporter": "python",
   "pygments_lexer": "ipython3",
   "version": "3.11.5"
  },
  "orig_nbformat": 4
 },
 "nbformat": 4,
 "nbformat_minor": 2
}
