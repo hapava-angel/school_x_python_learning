{
 "cells": [
  {
   "cell_type": "code",
   "execution_count": 1,
   "metadata": {
    "notebookRunGroups": {
     "groupValue": ""
    }
   },
   "outputs": [],
   "source": [
    "class MosquitoesCloud:\n",
    "    # damage_per_mosquito: float = 1.7\n",
    "    # mosquitoes_in_cloud: int = 5\n",
    "\n",
    "    # damage = damage_per_mosquito * mosquitoes_in_cloud\n",
    "\n",
    "    def __init__(\n",
    "            self,\n",
    "            damage_per_mosquito: float = 1.7,\n",
    "            mosquitoes_in_cloud: int = 5\n",
    "    ):\n",
    "        if damage_per_mosquito and mosquitoes_in_cloud is not None:\n",
    "            self.damage_per_mosquito = damage_per_mosquito\n",
    "            self.mosquitoes_in_cloud = mosquitoes_in_cloud\n",
    "            self.damage = damage_per_mosquito * mosquitoes_in_cloud\n",
    "        else:\n",
    "            raise ValueError('Please provide correct variables')\n",
    "        \n",
    "    def __add__(self: 'MosquitoesCloud', other: 'MosquitoesCloud') -> 'MosquitoesCloud':\n",
    "        new_mosquitoes_cloud = MosquitoesCloud(\n",
    "            damage_per_mosquito=(self.damage_per_mosquito + other.damage_per_mosquito) / 2, \n",
    "            mosquitoes_in_cloud=self.mosquitoes_in_cloud + other.mosquitoes_in_cloud, \n",
    "        )\n",
    "        return new_mosquitoes_cloud\n",
    "       \n",
    "\n",
    "    def __it__(self, other):\n",
    "        return self.mosquitoes_in_cloud < other.mosquitoes_in_cloud\n",
    "    \n",
    "\n",
    "    def __le__(self, other):\n",
    "        return self.mosquitoes_in_cloud <= other.mosquitoes_in_cloud\n",
    "    \n",
    "\n",
    "\n",
    "\n",
    "\n"
   ]
  },
  {
   "cell_type": "code",
   "execution_count": null,
   "metadata": {},
   "outputs": [],
   "source": []
  },
  {
   "cell_type": "code",
   "execution_count": 2,
   "metadata": {},
   "outputs": [
    {
     "data": {
      "text/plain": [
       "8.5"
      ]
     },
     "execution_count": 2,
     "metadata": {},
     "output_type": "execute_result"
    }
   ],
   "source": [
    "mcloud1 = MosquitoesCloud()\n",
    "mcloud1.damage"
   ]
  },
  {
   "cell_type": "code",
   "execution_count": 3,
   "metadata": {},
   "outputs": [
    {
     "data": {
      "text/plain": [
       "17.0"
      ]
     },
     "execution_count": 3,
     "metadata": {},
     "output_type": "execute_result"
    }
   ],
   "source": [
    "mcloud2 = MosquitoesCloud(\n",
    "    mosquitoes_in_cloud = 10\n",
    ")\n",
    "mcloud2.damage"
   ]
  },
  {
   "cell_type": "code",
   "execution_count": 4,
   "metadata": {},
   "outputs": [],
   "source": [
    "mcloud3 = mcloud1 + mcloud2\n",
    "# mcloud3.damage, mcloud3.damage_per_mosquito, mcloud3.mosquitoes_in_cloud\n",
    "\n"
   ]
  },
  {
   "cell_type": "code",
   "execution_count": 5,
   "metadata": {},
   "outputs": [],
   "source": [
    "# mcloud1.mosquitoes_in_cloud = 10\n",
    "# mcloud1.mosquitoes_in_cloud, mcloud2.mosquitoes_in_cloud"
   ]
  },
  {
   "cell_type": "code",
   "execution_count": 6,
   "metadata": {},
   "outputs": [
    {
     "data": {
      "text/plain": [
       "True"
      ]
     },
     "execution_count": 6,
     "metadata": {},
     "output_type": "execute_result"
    }
   ],
   "source": [
    "mcloud1.mosquitoes_in_cloud < mcloud2.mosquitoes_in_cloud"
   ]
  },
  {
   "cell_type": "code",
   "execution_count": 7,
   "metadata": {},
   "outputs": [
    {
     "name": "stdout",
     "output_type": "stream",
     "text": [
      "Note: you may need to restart the kernel to use updated packages.\n"
     ]
    }
   ],
   "source": [
    "%pip install -Uq numpy\n"
   ]
  },
  {
   "cell_type": "code",
   "execution_count": 8,
   "metadata": {},
   "outputs": [],
   "source": [
    "import numpy as np"
   ]
  },
  {
   "cell_type": "code",
   "execution_count": 9,
   "metadata": {},
   "outputs": [],
   "source": [
    "matrix1 = np.array([\n",
    "    [1, 1, 1],\n",
    "    [1, 4, 3],\n",
    "    [11, 12, 13],\n",
    "    [11, 22, 23]\n",
    "]\n",
    ")"
   ]
  },
  {
   "cell_type": "code",
   "execution_count": 10,
   "metadata": {},
   "outputs": [],
   "source": [
    "matrix2 = np.array([\n",
    "    [4, 5, 6],\n",
    "    [7, 8, 9],\n",
    "    [77, 12, 12],\n",
    "    [2, 1, 45]\n",
    "])"
   ]
  },
  {
   "cell_type": "code",
   "execution_count": 11,
   "metadata": {},
   "outputs": [
    {
     "data": {
      "text/plain": [
       "array([[ 2,  2,  2],\n",
       "       [ 2,  8,  6],\n",
       "       [22, 24, 26],\n",
       "       [22, 44, 46]])"
      ]
     },
     "execution_count": 11,
     "metadata": {},
     "output_type": "execute_result"
    }
   ],
   "source": [
    "matrix1 * 2"
   ]
  },
  {
   "cell_type": "code",
   "execution_count": 12,
   "metadata": {},
   "outputs": [
    {
     "data": {
      "text/plain": [
       "array([[ 5,  6,  7],\n",
       "       [ 8, 12, 12],\n",
       "       [88, 24, 25],\n",
       "       [13, 23, 68]])"
      ]
     },
     "execution_count": 12,
     "metadata": {},
     "output_type": "execute_result"
    }
   ],
   "source": [
    "matrix1 + matrix2"
   ]
  },
  {
   "cell_type": "code",
   "execution_count": 13,
   "metadata": {},
   "outputs": [
    {
     "data": {
      "text/plain": [
       "array([[   4,    5,    6],\n",
       "       [   7,   32,   27],\n",
       "       [ 847,  144,  156],\n",
       "       [  22,   22, 1035]])"
      ]
     },
     "execution_count": 13,
     "metadata": {},
     "output_type": "execute_result"
    }
   ],
   "source": [
    "matrix1 * matrix2"
   ]
  },
  {
   "cell_type": "code",
   "execution_count": 14,
   "metadata": {},
   "outputs": [],
   "source": [
    "class Matrix:\n",
    "        matrix = []\n",
    "\n",
    "def test_all(matrix1: Matrix, matrix2: Matrix):\n",
    "        assert (\n",
    "        [[1, 1, 1],\n",
    "        [1, 4, 3],\n",
    "        [11, 12, 13],\n",
    "        [11, 22, 23],]\n",
    "        +\n",
    "        [[4, 5, 6],\n",
    "        [7, 8, 9],\n",
    "        [77, 12, 12],\n",
    "        [2, 1, 45],]\n",
    "        ==\n",
    "        [[ 5,  6,  7],\n",
    "        [ 8, 12, 12],\n",
    "        [88, 24, 25],\n",
    "        [13, 23, 68],]\n",
    "\n",
    "                \n",
    "        )\n"
   ]
  }
 ],
 "metadata": {
  "kernelspec": {
   "display_name": "Python 3",
   "language": "python",
   "name": "python3"
  },
  "language_info": {
   "codemirror_mode": {
    "name": "ipython",
    "version": 3
   },
   "file_extension": ".py",
   "mimetype": "text/x-python",
   "name": "python",
   "nbconvert_exporter": "python",
   "pygments_lexer": "ipython3",
   "version": "3.11.5"
  },
  "orig_nbformat": 4
 },
 "nbformat": 4,
 "nbformat_minor": 2
}
