{
 "cells": [
  {
   "cell_type": "code",
   "execution_count": 290,
   "metadata": {},
   "outputs": [],
   "source": [
    "import nltk\n",
    "import sklearn\n",
    "import string\n",
    "from nltk.corpus import stopwords\n",
    "from pymorphy3 import MorphAnalyzer\n",
    "from sklearn.feature_extraction.text import TfidfVectorizer\n",
    "from sklearn.metrics.pairwise import cosine_similarity"
   ]
  },
  {
   "cell_type": "code",
   "execution_count": 302,
   "metadata": {},
   "outputs": [],
   "source": [
    "def read_file(file_name):\n",
    "    file = open(file_name, 'r').read().lower()\n",
    "    return file\n",
    "\n",
    "def pred(file):\n",
    "    word = nltk.tokenize.RegexpTokenizer('\\w+')\n",
    "    a = word.tokenize(file)\n",
    "    morph = MorphAnalyzer()\n",
    "    token = [morph.normal_forms(el)[0] for el in a]                        #лемматизация - приведение к начальной форме   \n",
    "    stop = stopwords.words('russian')\n",
    "    cleaned_tokens = [word for word in token if not  word in stop]\n",
    "    return cleaned_tokens\n",
    "\n",
    "def cos_sim(cleaned_tokens):\n",
    "    filtered_texts = [\" \".join(tokens) for tokens in cleaned_tokens]\n",
    "    vectorizer = TfidfVectorizer()\n",
    "    tfidf_matrix = vectorizer.fit_transform(filtered_texts)\n",
    "    cosine_sim = cosine_similarity(tfidf_matrix) \n",
    "    for i in range(len(filtered_texts)):\n",
    "        for j in range(len(filtered_texts)):\n",
    "            if j != i:\n",
    "                print(f\"Косинусное сходство текста {i + 1} с текстом {j + 1}: {cosine_sim[i][j]}\") \n",
    "        print('-'*61)                    \n",
    "\n"
   ]
  },
  {
   "cell_type": "code",
   "execution_count": 295,
   "metadata": {},
   "outputs": [],
   "source": [
    "d = read_file(\"Dvoynik.txt\")\n",
    "p = read_file(\"na_pervoe.txt\")\n",
    "pre = read_file(\"prestuplenie-i-nakazanie.txt\")\n",
    "b = read_file(\"besy.txt\")\n",
    "pod = read_file(\"podrostok.txt\")\n",
    "push = read_file(\"pushkin.txt\")"
   ]
  },
  {
   "cell_type": "code",
   "execution_count": 296,
   "metadata": {},
   "outputs": [],
   "source": [
    "text1 = pred(d)\n",
    "text2 = pred(p)\n",
    "text3 = pred(pre)\n",
    "text4 = pred(b)\n",
    "text5 = pred(pod)\n",
    "text6 = pred(push)"
   ]
  },
  {
   "cell_type": "code",
   "execution_count": 303,
   "metadata": {},
   "outputs": [
    {
     "name": "stdout",
     "output_type": "stream",
     "text": [
      "Косинусное сходство текста 1 с текстом 2: 0.11361891547468314\n",
      "Косинусное сходство текста 1 с текстом 3: 0.387068387075788\n",
      "Косинусное сходство текста 1 с текстом 4: 0.37474587513310553\n",
      "Косинусное сходство текста 1 с текстом 5: 0.37405305681045437\n",
      "Косинусное сходство текста 1 с текстом 6: 0.24794591723836135\n",
      "-------------------------------------------------------------\n",
      "Косинусное сходство текста 2 с текстом 1: 0.11361891547468314\n",
      "Косинусное сходство текста 2 с текстом 3: 0.21101406332035605\n",
      "Косинусное сходство текста 2 с текстом 4: 0.21479867966781094\n",
      "Косинусное сходство текста 2 с текстом 5: 0.21210862678008863\n",
      "Косинусное сходство текста 2 с текстом 6: 0.13669370614724696\n",
      "-------------------------------------------------------------\n",
      "Косинусное сходство текста 3 с текстом 1: 0.387068387075788\n",
      "Косинусное сходство текста 3 с текстом 2: 0.21101406332035605\n",
      "Косинусное сходство текста 3 с текстом 4: 0.752571542527397\n",
      "Косинусное сходство текста 3 с текстом 5: 0.811771015147301\n",
      "Косинусное сходство текста 3 с текстом 6: 0.4225986348361851\n",
      "-------------------------------------------------------------\n",
      "Косинусное сходство текста 4 с текстом 1: 0.37474587513310553\n",
      "Косинусное сходство текста 4 с текстом 2: 0.21479867966781094\n",
      "Косинусное сходство текста 4 с текстом 3: 0.752571542527397\n",
      "Косинусное сходство текста 4 с текстом 5: 0.7863477566430344\n",
      "Косинусное сходство текста 4 с текстом 6: 0.45295924556572154\n",
      "-------------------------------------------------------------\n",
      "Косинусное сходство текста 5 с текстом 1: 0.37405305681045437\n",
      "Косинусное сходство текста 5 с текстом 2: 0.21210862678008863\n",
      "Косинусное сходство текста 5 с текстом 3: 0.811771015147301\n",
      "Косинусное сходство текста 5 с текстом 4: 0.7863477566430344\n",
      "Косинусное сходство текста 5 с текстом 6: 0.4311848449381716\n",
      "-------------------------------------------------------------\n",
      "Косинусное сходство текста 6 с текстом 1: 0.24794591723836135\n",
      "Косинусное сходство текста 6 с текстом 2: 0.13669370614724696\n",
      "Косинусное сходство текста 6 с текстом 3: 0.4225986348361851\n",
      "Косинусное сходство текста 6 с текстом 4: 0.45295924556572154\n",
      "Косинусное сходство текста 6 с текстом 5: 0.4311848449381716\n",
      "-------------------------------------------------------------\n"
     ]
    }
   ],
   "source": [
    "books = [text1, text2, text3, text4, text5, text6]\n",
    "cos_sim(books)"
   ]
  }
 ],
 "metadata": {
  "kernelspec": {
   "display_name": "Python 3",
   "language": "python",
   "name": "python3"
  },
  "language_info": {
   "codemirror_mode": {
    "name": "ipython",
    "version": 3
   },
   "file_extension": ".py",
   "mimetype": "text/x-python",
   "name": "python",
   "nbconvert_exporter": "python",
   "pygments_lexer": "ipython3",
   "version": "3.11.6"
  }
 },
 "nbformat": 4,
 "nbformat_minor": 2
}
